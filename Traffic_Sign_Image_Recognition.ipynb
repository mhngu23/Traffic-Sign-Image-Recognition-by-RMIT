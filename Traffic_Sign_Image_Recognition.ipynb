{
  "cells": [
    {
      "cell_type": "code",
      "execution_count": 1,
      "metadata": {
        "id": "JkLYNmW6A3PV"
      },
      "outputs": [],
      "source": [
        "!pip install -q -U keras-tuner"
      ]
    },
    {
      "cell_type": "code",
      "execution_count": 2,
      "metadata": {
        "id": "i2HCtApQz2te"
      },
      "outputs": [],
      "source": [
        "import matplotlib.pyplot as plt\n",
        "import numpy as np\n",
        "import pandas as pd\n",
        "import random\n",
        "import tensorflow as tf\n",
        "\n",
        "from tensorflow import keras\n",
        "from tensorflow.keras.preprocessing.image import ImageDataGenerator\n",
        "\n",
        "from keras import layers, Input\n",
        "from keras.layers import InputLayer\n",
        "from keras.layers.core import Dense, Flatten\n",
        "from keras.models import Sequential, Model\n",
        "import keras_tuner as kt\n",
        "\n",
        "import matplotlib.image as mpimg\n",
        "\n",
        "from PIL import Image\n",
        "import os\n",
        "import glob\n",
        "\n",
        "\n",
        "from sklearn.preprocessing import LabelEncoder\n",
        "from sklearn.model_selection import train_test_split\n",
        "from sklearn.utils import class_weight\n",
        "\n",
        "tf.__version__\n",
        "\n",
        "AUTOTUNE = tf.data.experimental.AUTOTUNE"
      ]
    },
    {
      "cell_type": "code",
      "execution_count": 3,
      "metadata": {
        "colab": {
          "base_uri": "https://localhost:8080/"
        },
        "id": "uIvUi4F2gHLB",
        "outputId": "f99dd72d-eebe-458a-c671-ce8640e80afc"
      },
      "outputs": [
        {
          "output_type": "stream",
          "name": "stdout",
          "text": [
            "Done\n"
          ]
        }
      ],
      "source": [
        "# Before using the data need to upload on to drive\n",
        "# This file will be deleted at the end of the session\n",
        "# Go to file on left hand side of the screen then upload file (Can upload the file to root easier access)\n",
        "# File extracted will be saved in content\n",
        "from zipfile import ZipFile\n",
        "file_name = '/trafficsigns_dataset.zip'\n",
        "\n",
        "with ZipFile(file_name, 'r') as zip:\n",
        "  zip.extractall()\n",
        "  print('Done')"
      ]
    },
    {
      "cell_type": "code",
      "execution_count": 4,
      "metadata": {
        "colab": {
          "base_uri": "https://localhost:8080/",
          "height": 148
        },
        "id": "YzK32-P6gHNq",
        "outputId": "f35e7d93-eae3-4820-f749-d7173308ad5b"
      },
      "outputs": [
        {
          "output_type": "display_data",
          "data": {
            "text/plain": [
              "<Figure size 1440x1440 with 5 Axes>"
            ],
            "image/png": "[encoded data removed]"
          },
          "metadata": {
            "needs_background": "light"
          }
        }
      ],
      "source": [
        "# This is just to test if image is loaded correctly\n",
        "\n",
        "\n",
        "plt.figure(figsize=(20,20))\n",
        "test_folder=r'/content/trafficsigns_dataset/diamond/rightofway'\n",
        "for i in range(5):                                                    # Randomly loaded 5 images\n",
        "    file = random.choice(os.listdir(test_folder))\n",
        "    image_path= os.path.join(test_folder, file)\n",
        "    img=mpimg.imread(image_path)\n",
        "    ax=plt.subplot(1,5,i+1)\n",
        "    ax.title.set_text(file)\n",
        "    plt.imshow(img, cmap = 'gray')"
      ]
    },
    {
      "cell_type": "markdown",
      "metadata": {
        "id": "L7s7dIgSUv6B"
      },
      "source": [
        "# **1. Data Preparation**\n",
        "**Importing data into dataframe**\n",
        "\n",
        "Data will be stored in a dataframe which has image path, shape and type as columns."
      ]
    },
    {
      "cell_type": "code",
      "execution_count": 5,
      "metadata": {
        "colab": {
          "base_uri": "https://localhost:8080/",
          "height": 206
        },
        "id": "TDedbPXcVIDN",
        "outputId": "d01ee381-04d9-4d3e-a66b-a94fcb33b27e"
      },
      "outputs": [
        {
          "output_type": "execute_result",
          "data": {
            "text/plain": [
              "                                          image_path sign_shape sign_type\n",
              "0  ./trafficsigns_dataset/triangle/giveway/01204_...   triangle   giveway\n",
              "1  ./trafficsigns_dataset/triangle/giveway/00963_...   triangle   giveway\n",
              "2  ./trafficsigns_dataset/triangle/giveway/01513_...   triangle   giveway\n",
              "3  ./trafficsigns_dataset/triangle/giveway/01207_...   triangle   giveway\n",
              "4  ./trafficsigns_dataset/triangle/giveway/00982_...   triangle   giveway"
            ],
            "text/html": [
              "\n",
              "  <div id=\"df-566ccc72-cacc-46f6-9094-ef9b28b8baf5\">\n",
              "    <div class=\"colab-df-container\">\n",
              "      <div>\n",
              "<style scoped>\n",
              "    .dataframe tbody tr th:only-of-type {\n",
              "        vertical-align: middle;\n",
              "    }\n",
              "\n",
              "    .dataframe tbody tr th {\n",
              "        vertical-align: top;\n",
              "    }\n",
              "\n",
              "    .dataframe thead th {\n",
              "        text-align: right;\n",
              "    }\n",
              "</style>\n",
              "<table border=\"1\" class=\"dataframe\">\n",
              "  <thead>\n",
              "    <tr style=\"text-align: right;\">\n",
              "      <th></th>\n",
              "      <th>image_path</th>\n",
              "      <th>sign_shape</th>\n",
              "      <th>sign_type</th>\n",
              "    </tr>\n",
              "  </thead>\n",
              "  <tbody>\n",
              "    <tr>\n",
              "      <th>0</th>\n",
              "      <td>./trafficsigns_dataset/triangle/giveway/01204_...</td>\n",
              "      <td>triangle</td>\n",
              "      <td>giveway</td>\n",
              "    </tr>\n",
              "    <tr>\n",
              "      <th>1</th>\n",
              "      <td>./trafficsigns_dataset/triangle/giveway/00963_...</td>\n",
              "      <td>triangle</td>\n",
              "      <td>giveway</td>\n",
              "    </tr>\n",
              "    <tr>\n",
              "      <th>2</th>\n",
              "      <td>./trafficsigns_dataset/triangle/giveway/01513_...</td>\n",
              "      <td>triangle</td>\n",
              "      <td>giveway</td>\n",
              "    </tr>\n",
              "    <tr>\n",
              "      <th>3</th>\n",
              "      <td>./trafficsigns_dataset/triangle/giveway/01207_...</td>\n",
              "      <td>triangle</td>\n",
              "      <td>giveway</td>\n",
              "    </tr>\n",
              "    <tr>\n",
              "      <th>4</th>\n",
              "      <td>./trafficsigns_dataset/triangle/giveway/00982_...</td>\n",
              "      <td>triangle</td>\n",
              "      <td>giveway</td>\n",
              "    </tr>\n",
              "  </tbody>\n",
              "</table>\n",
              "</div>\n",
              "      <button class=\"colab-df-convert\" onclick=\"convertToInteractive('df-566ccc72-cacc-46f6-9094-ef9b28b8baf5')\"\n",
              "              title=\"Convert this dataframe to an interactive table.\"\n",
              "              style=\"display:none;\">\n",
              "        \n",
              "  <svg xmlns=\"http://www.w3.org/2000/svg\" height=\"24px\"viewBox=\"0 0 24 24\"\n",
              "       width=\"24px\">\n",
              "    <path d=\"M0 0h24v24H0V0z\" fill=\"none\"/>\n",
              "    <path d=\"M18.56 5.44l.94 2.06.94-2.06 2.06-.94-2.06-.94-.94-2.06-.94 2.06-2.06.94zm-11 1L8.5 8.5l.94-2.06 2.06-.94-2.06-.94L8.5 2.5l-.94 2.06-2.06.94zm10 10l.94 2.06.94-2.06 2.06-.94-2.06-.94-.94-2.06-.94 2.06-2.06.94z\"/><path d=\"M17.41 7.96l-1.37-1.37c-.4-.4-.92-.59-1.43-.59-.52 0-1.04.2-1.43.59L10.3 9.45l-7.72 7.72c-.78.78-.78 2.05 0 2.83L4 21.41c.39.39.9.59 1.41.59.51 0 1.02-.2 1.41-.59l7.78-7.78 2.81-2.81c.8-.78.8-2.07 0-2.86zM5.41 20L4 18.59l7.72-7.72 1.47 1.35L5.41 20z\"/>\n",
              "  </svg>\n",
              "      </button>\n",
              "      \n",
              "  <style>\n",
              "    .colab-df-container {\n",
              "      display:flex;\n",
              "      flex-wrap:wrap;\n",
              "      gap: 12px;\n",
              "    }\n",
              "\n",
              "    .colab-df-convert {\n",
              "      background-color: #E8F0FE;\n",
              "      border: none;\n",
              "      border-radius: 50%;\n",
              "      cursor: pointer;\n",
              "      display: none;\n",
              "      fill: #1967D2;\n",
              "      height: 32px;\n",
              "      padding: 0 0 0 0;\n",
              "      width: 32px;\n",
              "    }\n",
              "\n",
              "    .colab-df-convert:hover {\n",
              "      background-color: #E2EBFA;\n",
              "      box-shadow: 0px 1px 2px rgba(60, 64, 67, 0.3), 0px 1px 3px 1px rgba(60, 64, 67, 0.15);\n",
              "      fill: #174EA6;\n",
              "    }\n",
              "\n",
              "    [theme=dark] .colab-df-convert {\n",
              "      background-color: #3B4455;\n",
              "      fill: #D2E3FC;\n",
              "    }\n",
              "\n",
              "    [theme=dark] .colab-df-convert:hover {\n",
              "      background-color: #434B5C;\n",
              "      box-shadow: 0px 1px 3px 1px rgba(0, 0, 0, 0.15);\n",
              "      filter: drop-shadow(0px 1px 2px rgba(0, 0, 0, 0.3));\n",
              "      fill: #FFFFFF;\n",
              "    }\n",
              "  </style>\n",
              "\n",
              "      <script>\n",
              "        const buttonEl =\n",
              "          document.querySelector('#df-566ccc72-cacc-46f6-9094-ef9b28b8baf5 button.colab-df-convert');\n",
              "        buttonEl.style.display =\n",
              "          google.colab.kernel.accessAllowed ? 'block' : 'none';\n",
              "\n",
              "        async function convertToInteractive(key) {\n",
              "          const element = document.querySelector('#df-566ccc72-cacc-46f6-9094-ef9b28b8baf5');\n",
              "          const dataTable =\n",
              "            await google.colab.kernel.invokeFunction('convertToInteractive',\n",
              "                                                     [key], {});\n",
              "          if (!dataTable) return;\n",
              "\n",
              "          const docLinkHtml = 'Like what you see? Visit the ' +\n",
              "            '<a target=\"_blank\" href=https://colab.research.google.com/notebooks/data_table.ipynb>data table notebook</a>'\n",
              "            + ' to learn more about interactive tables.';\n",
              "          element.innerHTML = '';\n",
              "          dataTable['output_type'] = 'display_data';\n",
              "          await google.colab.output.renderOutput(dataTable, element);\n",
              "          const docLink = document.createElement('div');\n",
              "          docLink.innerHTML = docLinkHtml;\n",
              "          element.appendChild(docLink);\n",
              "        }\n",
              "      </script>\n",
              "    </div>\n",
              "  </div>\n",
              "  "
            ]
          },
          "metadata": {},
          "execution_count": 5
        }
      ],
      "source": [
        "image_list = []\n",
        "\n",
        "for filepath in glob.glob('./trafficsigns_dataset/*/*/*.png', recursive=True):\n",
        "    sign_shape = filepath.split('/')[2]\n",
        "    sign_type = filepath.split('/')[3]\n",
        "    image_list.append((filepath, sign_shape, sign_type ))\n",
        "    \n",
        "    \n",
        "# create a dataframe\n",
        "data = pd.DataFrame(data= image_list, columns=[\"image_path\", 'sign_shape','sign_type'])\n",
        "# inspecting the dataframe\n",
        "data.head()   "
      ]
    },
    {
      "cell_type": "code",
      "execution_count": 6,
      "metadata": {
        "colab": {
          "base_uri": "https://localhost:8080/"
        },
        "id": "B_wAoGZrVNro",
        "outputId": "7bb9ee58-6a8c-4607-959a-de25818ea839"
      },
      "outputs": [
        {
          "output_type": "execute_result",
          "data": {
            "text/plain": [
              "(3699, 3)"
            ]
          },
          "metadata": {},
          "execution_count": 6
        }
      ],
      "source": [
        "# data shape\n",
        "data.shape"
      ]
    },
    {
      "cell_type": "code",
      "execution_count": 7,
      "metadata": {
        "colab": {
          "base_uri": "https://localhost:8080/"
        },
        "id": "AHeGow_iVeKu",
        "outputId": "1fd9c8aa-e431-4d34-d50f-7f9e63458ae0"
      },
      "outputs": [
        {
          "output_type": "stream",
          "name": "stdout",
          "text": [
            "numbers of shape: 5\n"
          ]
        },
        {
          "output_type": "execute_result",
          "data": {
            "text/plain": [
              "array(['triangle', 'diamond', 'round', 'hex', 'square'], dtype=object)"
            ]
          },
          "metadata": {},
          "execution_count": 7
        }
      ],
      "source": [
        "print(\"numbers of shape:\", len(data.sign_shape.unique()))\n",
        "data.sign_shape.unique()"
      ]
    },
    {
      "cell_type": "code",
      "execution_count": 8,
      "metadata": {
        "colab": {
          "base_uri": "https://localhost:8080/"
        },
        "id": "oF-b3K3SVgMx",
        "outputId": "54c6dbdb-3052-4b02-eeb9-011b91534fbd"
      },
      "outputs": [
        {
          "output_type": "stream",
          "name": "stdout",
          "text": [
            "numbers of type: 16\n"
          ]
        },
        {
          "output_type": "execute_result",
          "data": {
            "text/plain": [
              "array(['giveway', 'warning', 'rightofway', 'traveldirection', 'noentry',\n",
              "       'speed', 'noparking', 'roundabout', 'bicycle', 'trafficdirective',\n",
              "       'limitedtraffic', 'stop', 'parking', 'laneend', 'continue',\n",
              "       'crossing'], dtype=object)"
            ]
          },
          "metadata": {},
          "execution_count": 8
        }
      ],
      "source": [
        "print(\"numbers of type:\", len(data.sign_type.unique()))\n",
        "data.sign_type.unique()"
      ]
    },
    {
      "cell_type": "markdown",
      "metadata": {
        "id": "2tXLw9i-Vlnn"
      },
      "source": [
        "**Labels encoding**\n",
        "\n",
        "Using label encoder from sklearn to transform label into integer."
      ]
    },
    {
      "cell_type": "code",
      "execution_count": 9,
      "metadata": {
        "colab": {
          "base_uri": "https://localhost:8080/",
          "height": 206
        },
        "id": "sPs2Cyn6Vv72",
        "outputId": "2d436500-677f-435a-caf0-942bc8aecb98"
      },
      "outputs": [
        {
          "output_type": "execute_result",
          "data": {
            "text/plain": [
              "                                          image_path  sign_shape  sign_type\n",
              "0  ./trafficsigns_dataset/triangle/giveway/01204_...           4          3\n",
              "1  ./trafficsigns_dataset/triangle/giveway/00963_...           4          3\n",
              "2  ./trafficsigns_dataset/triangle/giveway/01513_...           4          3\n",
              "3  ./trafficsigns_dataset/triangle/giveway/01207_...           4          3\n",
              "4  ./trafficsigns_dataset/triangle/giveway/00982_...           4          3"
            ],
            "text/html": [
              "\n",
              "  <div id=\"df-e1f0a58d-b3dc-4472-bd8d-1b527d161cc1\">\n",
              "    <div class=\"colab-df-container\">\n",
              "      <div>\n",
              "<style scoped>\n",
              "    .dataframe tbody tr th:only-of-type {\n",
              "        vertical-align: middle;\n",
              "    }\n",
              "\n",
              "    .dataframe tbody tr th {\n",
              "        vertical-align: top;\n",
              "    }\n",
              "\n",
              "    .dataframe thead th {\n",
              "        text-align: right;\n",
              "    }\n",
              "</style>\n",
              "<table border=\"1\" class=\"dataframe\">\n",
              "  <thead>\n",
              "    <tr style=\"text-align: right;\">\n",
              "      <th></th>\n",
              "      <th>image_path</th>\n",
              "      <th>sign_shape</th>\n",
              "      <th>sign_type</th>\n",
              "    </tr>\n",
              "  </thead>\n",
              "  <tbody>\n",
              "    <tr>\n",
              "      <th>0</th>\n",
              "      <td>./trafficsigns_dataset/triangle/giveway/01204_...</td>\n",
              "      <td>4</td>\n",
              "      <td>3</td>\n",
              "    </tr>\n",
              "    <tr>\n",
              "      <th>1</th>\n",
              "      <td>./trafficsigns_dataset/triangle/giveway/00963_...</td>\n",
              "      <td>4</td>\n",
              "      <td>3</td>\n",
              "    </tr>\n",
              "    <tr>\n",
              "      <th>2</th>\n",
              "      <td>./trafficsigns_dataset/triangle/giveway/01513_...</td>\n",
              "      <td>4</td>\n",
              "      <td>3</td>\n",
              "    </tr>\n",
              "    <tr>\n",
              "      <th>3</th>\n",
              "      <td>./trafficsigns_dataset/triangle/giveway/01207_...</td>\n",
              "      <td>4</td>\n",
              "      <td>3</td>\n",
              "    </tr>\n",
              "    <tr>\n",
              "      <th>4</th>\n",
              "      <td>./trafficsigns_dataset/triangle/giveway/00982_...</td>\n",
              "      <td>4</td>\n",
              "      <td>3</td>\n",
              "    </tr>\n",
              "  </tbody>\n",
              "</table>\n",
              "</div>\n",
              "      <button class=\"colab-df-convert\" onclick=\"convertToInteractive('df-e1f0a58d-b3dc-4472-bd8d-1b527d161cc1')\"\n",
              "              title=\"Convert this dataframe to an interactive table.\"\n",
              "              style=\"display:none;\">\n",
              "        \n",
              "  <svg xmlns=\"http://www.w3.org/2000/svg\" height=\"24px\"viewBox=\"0 0 24 24\"\n",
              "       width=\"24px\">\n",
              "    <path d=\"M0 0h24v24H0V0z\" fill=\"none\"/>\n",
              "    <path d=\"M18.56 5.44l.94 2.06.94-2.06 2.06-.94-2.06-.94-.94-2.06-.94 2.06-2.06.94zm-11 1L8.5 8.5l.94-2.06 2.06-.94-2.06-.94L8.5 2.5l-.94 2.06-2.06.94zm10 10l.94 2.06.94-2.06 2.06-.94-2.06-.94-.94-2.06-.94 2.06-2.06.94z\"/><path d=\"M17.41 7.96l-1.37-1.37c-.4-.4-.92-.59-1.43-.59-.52 0-1.04.2-1.43.59L10.3 9.45l-7.72 7.72c-.78.78-.78 2.05 0 2.83L4 21.41c.39.39.9.59 1.41.59.51 0 1.02-.2 1.41-.59l7.78-7.78 2.81-2.81c.8-.78.8-2.07 0-2.86zM5.41 20L4 18.59l7.72-7.72 1.47 1.35L5.41 20z\"/>\n",
              "  </svg>\n",
              "      </button>\n",
              "      \n",
              "  <style>\n",
              "    .colab-df-container {\n",
              "      display:flex;\n",
              "      flex-wrap:wrap;\n",
              "      gap: 12px;\n",
              "    }\n",
              "\n",
              "    .colab-df-convert {\n",
              "      background-color: #E8F0FE;\n",
              "      border: none;\n",
              "      border-radius: 50%;\n",
              "      cursor: pointer;\n",
              "      display: none;\n",
              "      fill: #1967D2;\n",
              "      height: 32px;\n",
              "      padding: 0 0 0 0;\n",
              "      width: 32px;\n",
              "    }\n",
              "\n",
              "    .colab-df-convert:hover {\n",
              "      background-color: #E2EBFA;\n",
              "      box-shadow: 0px 1px 2px rgba(60, 64, 67, 0.3), 0px 1px 3px 1px rgba(60, 64, 67, 0.15);\n",
              "      fill: #174EA6;\n",
              "    }\n",
              "\n",
              "    [theme=dark] .colab-df-convert {\n",
              "      background-color: #3B4455;\n",
              "      fill: #D2E3FC;\n",
              "    }\n",
              "\n",
              "    [theme=dark] .colab-df-convert:hover {\n",
              "      background-color: #434B5C;\n",
              "      box-shadow: 0px 1px 3px 1px rgba(0, 0, 0, 0.15);\n",
              "      filter: drop-shadow(0px 1px 2px rgba(0, 0, 0, 0.3));\n",
              "      fill: #FFFFFF;\n",
              "    }\n",
              "  </style>\n",
              "\n",
              "      <script>\n",
              "        const buttonEl =\n",
              "          document.querySelector('#df-e1f0a58d-b3dc-4472-bd8d-1b527d161cc1 button.colab-df-convert');\n",
              "        buttonEl.style.display =\n",
              "          google.colab.kernel.accessAllowed ? 'block' : 'none';\n",
              "\n",
              "        async function convertToInteractive(key) {\n",
              "          const element = document.querySelector('#df-e1f0a58d-b3dc-4472-bd8d-1b527d161cc1');\n",
              "          const dataTable =\n",
              "            await google.colab.kernel.invokeFunction('convertToInteractive',\n",
              "                                                     [key], {});\n",
              "          if (!dataTable) return;\n",
              "\n",
              "          const docLinkHtml = 'Like what you see? Visit the ' +\n",
              "            '<a target=\"_blank\" href=https://colab.research.google.com/notebooks/data_table.ipynb>data table notebook</a>'\n",
              "            + ' to learn more about interactive tables.';\n",
              "          element.innerHTML = '';\n",
              "          dataTable['output_type'] = 'display_data';\n",
              "          await google.colab.output.renderOutput(dataTable, element);\n",
              "          const docLink = document.createElement('div');\n",
              "          docLink.innerHTML = docLinkHtml;\n",
              "          element.appendChild(docLink);\n",
              "        }\n",
              "      </script>\n",
              "    </div>\n",
              "  </div>\n",
              "  "
            ]
          },
          "metadata": {},
          "execution_count": 9
        }
      ],
      "source": [
        "labelEncoder = LabelEncoder()\n",
        "data.sign_shape = labelEncoder.fit_transform(data.sign_shape)\n",
        "data.sign_type = labelEncoder.fit_transform(data.sign_type)\n",
        "# inspecting the changes\n",
        "data.head()"
      ]
    },
    {
      "cell_type": "markdown",
      "metadata": {
        "id": "Ny6FEkNtV-An"
      },
      "source": [
        "**Data Distribution**"
      ]
    },
    {
      "cell_type": "code",
      "execution_count": 10,
      "metadata": {
        "colab": {
          "base_uri": "https://localhost:8080/",
          "height": 553
        },
        "id": "IlXhzk-dWF-k",
        "outputId": "f8fe3943-3bf4-4aa3-9682-370e4f5048c6"
      },
      "outputs": [
        {
          "output_type": "display_data",
          "data": {
            "text/plain": [
              "<Figure size 648x648 with 2 Axes>"
            ],
            "image/png": "[encoded data removed]"
          },
          "metadata": {
            "needs_background": "light"
          }
        }
      ],
      "source": [
        "plt.figure(figsize=(9,9))\n",
        "for i in range(1,3):\n",
        "    plt.subplot(2,1,i)\n",
        "    data.iloc[:, i].sort_values().astype(str).hist()\n",
        "    txt = \"distribution of \" + data.columns[i]\n",
        "    plt.title(txt)"
      ]
    },
    {
      "cell_type": "markdown",
      "metadata": {
        "id": "NQtSoCQlWI-E"
      },
      "source": [
        "**<u>Observation</u>:**\n",
        "\n",
        " * Data has multiple classes for shape and type of the traffic sign\n",
        " * Class imbalance problem in both shape and type data <br>\n",
        " * performance measure : F1, log_loss and average accuracy(micro-average)<br>\n",
        "\n",
        "What is the realistic result for performance measure?"
      ]
    },
    {
      "cell_type": "markdown",
      "metadata": {
        "id": "FqEJMlMIkS5-"
      },
      "source": [
        "# **2. Model Development**\n",
        "* Goal:\n",
        "* Setup the experiment:\n",
        "* Baseline Model:\n",
        "* incremental changes:"
      ]
    },
    {
      "cell_type": "markdown",
      "metadata": {
        "id": "lDA5OviDkv6c"
      },
      "source": [
        "## **2.1 Image Data Generator**"
      ]
    },
    {
      "cell_type": "markdown",
      "metadata": {
        "id": "jCPmkOqGCvxZ"
      },
      "source": [
        "### **2.1.1 Function to generate data**"
      ]
    },
    {
      "cell_type": "code",
      "execution_count": 11,
      "metadata": {
        "id": "0hkkv01mCvAg"
      },
      "outputs": [],
      "source": [
        "class dataGenerator:\n",
        "  def __init__(self, data, target_column_name):\n",
        "    self.data = data\n",
        "    self.target_column_name = target_column_name\n",
        "    # Splitting input data into train, validation set\n",
        "    self.path_train, self.path_validation = self.split_train_validation()\n",
        "    print(f\"Train data {target_column_name} : {self.path_train.shape[0]}\\nVal Data {target_column_name}: {self.path_validation.shape[0]}\")\n",
        "    # Convert the target column into string array\n",
        "    self.convert_target_column_to_String(self.path_train, self.path_validation)\n",
        "    # Generating actual data from filepath\n",
        "    self.train, self.validation = self.__generating_data_from_dataframe__()\n",
        "   \n",
        "\n",
        "  def split_train_validation(self):\n",
        "    \"\"\"\n",
        "    Function to split input data into train, validation set\n",
        "    \"\"\"\n",
        "    return train_test_split(self.data, random_state = random.randint(0, 100), test_size=0.2)\n",
        "\n",
        "  def convert_target_column_to_String(self, train, validation):\n",
        "    \"\"\"\n",
        "    Function to convert the refering target_column_name into string array\n",
        "    \"\"\"\n",
        "    train.loc[:,self.target_column_name] = train.loc[:,self.target_column_name].astype('str')\n",
        "    validation.loc[:, self.target_column_name] = validation.loc[:,self.target_column_name].astype('str')\n",
        "    \n",
        "  def __generating_data_from_dataframe__(self):\n",
        "    \"\"\"\n",
        "    Function to generate actual data from file path\n",
        "    \"\"\"\n",
        "    train_datagen = ImageDataGenerator(rescale = 1./255, data_format = 'channels_last')\n",
        "    val_datagen = ImageDataGenerator(rescale = 1./255, data_format = 'channels_last')\n",
        "    batch_size = 32\n",
        "    train = train_datagen.flow_from_dataframe(\n",
        "        dataframe = self.path_train,\n",
        "        directory = './',\n",
        "        x_col = \"image_path\",\n",
        "        y_col = self.target_column_name,\n",
        "        target_size = (28, 28),\n",
        "        batch_size = batch_size,\n",
        "        class_mode = 'categorical')\n",
        "\n",
        "    validation = val_datagen.flow_from_dataframe(\n",
        "        dataframe = self.path_validation,\n",
        "        directory = './',\n",
        "        x_col = \"image_path\",\n",
        "        y_col = self.target_column_name,\n",
        "        target_size = (28, 28),\n",
        "        batch_size = batch_size,\n",
        "        class_mode = 'categorical')\n",
        "    return train, validation\n"
      ]
    },
    {
      "cell_type": "markdown",
      "metadata": {
        "id": "JobQaCaKwAzR"
      },
      "source": [
        "### **2.1.2 Shape Data**"
      ]
    },
    {
      "cell_type": "markdown",
      "metadata": {
        "id": "nYgpyxJfjlJd"
      },
      "source": [
        "Split data into train and validation set"
      ]
    },
    {
      "cell_type": "code",
      "execution_count": 12,
      "metadata": {
        "colab": {
          "base_uri": "https://localhost:8080/"
        },
        "id": "5OpuDU1pEkmD",
        "outputId": "f8942b93-7518-47d3-8b2e-d50cd51868aa"
      },
      "outputs": [
        {
          "output_type": "stream",
          "name": "stdout",
          "text": [
            "Train data sign_shape : 2959\n",
            "Val Data sign_shape: 740\n",
            "Found 2959 validated image filenames belonging to 5 classes.\n",
            "Found 740 validated image filenames belonging to 5 classes.\n"
          ]
        }
      ],
      "source": [
        "dataShape = dataGenerator(data, \"sign_shape\")"
      ]
    },
    {
      "cell_type": "markdown",
      "metadata": {
        "id": "xkmxfgE-wNVz"
      },
      "source": [
        "### **2.1.2 Type Data**"
      ]
    },
    {
      "cell_type": "code",
      "execution_count": 13,
      "metadata": {
        "colab": {
          "base_uri": "https://localhost:8080/"
        },
        "id": "DDL6pvYgKR7J",
        "outputId": "fe5f3f6a-6e55-4dd5-9000-439dbd5755dc"
      },
      "outputs": [
        {
          "output_type": "stream",
          "name": "stdout",
          "text": [
            "Train data sign_type : 2959\n",
            "Val Data sign_type: 740\n",
            "Found 2959 validated image filenames belonging to 16 classes.\n",
            "Found 740 validated image filenames belonging to 16 classes.\n"
          ]
        }
      ],
      "source": [
        "dataType = dataGenerator(data, \"sign_type\")"
      ]
    },
    {
      "cell_type": "markdown",
      "metadata": {
        "id": "jxWwUgtQyzeO"
      },
      "source": [
        "## **2.2 Build Model**"
      ]
    },
    {
      "cell_type": "code",
      "execution_count": 14,
      "metadata": {
        "id": "RSQ7NHEW2SLh"
      },
      "outputs": [],
      "source": [
        "def plot_learning_curve(train_loss, val_loss, train_metric, val_metric, metric_name='Accuracy'):\n",
        "    plt.figure(figsize=(10,5))\n",
        "    \n",
        "    plt.subplot(1,2,1)\n",
        "    plt.plot(train_loss, 'r--')\n",
        "    plt.plot(val_loss, 'b--')\n",
        "    plt.xlabel(\"epochs\")\n",
        "    plt.ylabel(\"Loss\")\n",
        "    plt.legend(['train', 'val'], loc='upper left')\n",
        "\n",
        "    plt.subplot(1,2,2)\n",
        "    plt.plot(train_metric, 'r--')\n",
        "    plt.plot(val_metric, 'b--')\n",
        "    plt.xlabel(\"epochs\")\n",
        "    plt.ylabel(metric_name)\n",
        "    plt.legend(['train', 'val'], loc='upper left')\n",
        "\n",
        "    plt.show()"
      ]
    },
    {
      "cell_type": "code",
      "source": [
        "def model_compiling_and_fit(model):\n",
        "  model.compile(\n",
        "              # Use sgd over adam as our dataset is not very large so we care more about generalized\n",
        "              # adam would be better in case we need the data to be able to converge faster\n",
        "              optimizer = 'sgd',\n",
        "              # Use categorical_crossentropy instead of sparse as we use one hot label encoder\n",
        "              loss = \"categorical_crossentropy\",     \n",
        "              metrics = ['categorical_accuracy'])\n",
        "  \n",
        "  early_stopping_cb = keras.callbacks.EarlyStopping(patience = 10, restore_best_weights = True)\n",
        "  \n",
        "  history = model.fit_generator(dataShape.train, validation_data = dataShape.validation, epochs=100, verbose=0, callbacks = [early_stopping_cb])"
      ],
      "metadata": {
        "id": "zpWK3TrHr556"
      },
      "execution_count": 24,
      "outputs": []
    },
    {
      "cell_type": "code",
      "execution_count": 16,
      "metadata": {
        "id": "YdHF3EbqhrmV"
      },
      "outputs": [],
      "source": [
        "input_dimension = (28,28,3)\n",
        "numbers_of_shape = len(data.sign_shape.unique())\n",
        "numbers_of_sign = len(data.sign_type.unique())"
      ]
    },
    {
      "cell_type": "markdown",
      "metadata": {
        "id": "q4iQEmsE0x0G"
      },
      "source": [
        "### **2.2.1 Multilayer Perceptron Neural Network**"
      ]
    },
    {
      "cell_type": "markdown",
      "metadata": {
        "id": "I2GBQDv51HiU"
      },
      "source": [
        "#### 2.2.1.1 Shape"
      ]
    },
    {
      "cell_type": "markdown",
      "metadata": {
        "id": "n_27qSDKzFQY"
      },
      "source": [
        "#### A. Baseline Model"
      ]
    },
    {
      "cell_type": "code",
      "execution_count": null,
      "metadata": {
        "colab": {
          "background_save": true
        },
        "id": "iejNu1SSzIEA"
      },
      "outputs": [],
      "source": [
        "model = tf.keras.Sequential([\n",
        "    tf.keras.layers.Flatten(input_shape=input_dimension),\n",
        "    tf.keras.layers.Dense(320, activation='sigmoid'),\n",
        "    tf.keras.layers.Dense(5, 'softmax')\n",
        "])"
      ]
    },
    {
      "cell_type": "markdown",
      "metadata": {
        "id": "0UT-6i7csPlm"
      },
      "source": [
        "**Compile model**"
      ]
    },
    {
      "cell_type": "code",
      "execution_count": null,
      "metadata": {
        "colab": {
          "background_save": true
        },
        "id": "IJObJ7znzPj_"
      },
      "outputs": [],
      "source": [
        "model.compile(optimizer = 'sgd',\n",
        "              # use categorical_crossentropy instead of sparse as we use one hot label encoder\n",
        "              loss = \"categorical_crossentropy\",     \n",
        "              metrics = ['categorical_accuracy'])"
      ]
    },
    {
      "cell_type": "markdown",
      "metadata": {
        "id": "TovDWF4wzUzD"
      },
      "source": [
        "**Train model**"
      ]
    },
    {
      "cell_type": "code",
      "execution_count": null,
      "metadata": {
        "colab": {
          "background_save": true
        },
        "id": "lkOm-W3Uztc3",
        "outputId": "38139835-0130-47a9-ced7-5682141d7b97"
      },
      "outputs": [
        {
          "name": "stderr",
          "output_type": "stream",
          "text": [
            "/usr/local/lib/python3.7/dist-packages/ipykernel_launcher.py:1: UserWarning: `Model.fit_generator` is deprecated and will be removed in a future version. Please use `Model.fit`, which supports generators.\n",
            "  \"\"\"Entry point for launching an IPython kernel.\n"
          ]
        }
      ],
      "source": [
        "history = model.fit_generator(dataShape.train, validation_data = dataShape.validation, epochs=100, verbose=0)"
      ]
    },
    {
      "cell_type": "code",
      "execution_count": null,
      "metadata": {
        "colab": {
          "background_save": true
        },
        "id": "QZZYm-bf2rXn",
        "outputId": "b2d48e68-42ae-4528-ebd3-c1de5013de81"
      },
      "outputs": [
        {
          "data": {
            "image/png": "[encoded data removed]",
            "text/plain": [
              "<Figure size 720x360 with 2 Axes>"
            ]
          },
          "metadata": {},
          "output_type": "display_data"
        }
      ],
      "source": [
        "plot_learning_curve(history.history['loss'], history.history['val_loss'], \n",
        "                    history.history['categorical_accuracy'], history.history['val_categorical_accuracy'], \n",
        "                    metric_name = 'Accuracy')"
      ]
    },
    {
      "cell_type": "markdown",
      "metadata": {
        "id": "KlTDDshZg4yS"
      },
      "source": [
        "#### B. Hyperparameter Tuning Model"
      ]
    },
    {
      "cell_type": "code",
      "execution_count": null,
      "metadata": {
        "colab": {
          "background_save": true
        },
        "id": "2cuS4K2Mg-c8",
        "outputId": "c0672d07-435e-4d86-ea16-4ebc03dff138"
      },
      "outputs": [
        {
          "data": {
            "text/plain": [
              "<keras.engine.sequential.Sequential at 0x7fda41ada390>"
            ]
          },
          "execution_count": null,
          "metadata": {},
          "output_type": "execute_result"
        }
      ],
      "source": [
        "def parameters( layer, units, activation, dropout, lr,  numbers_of_label,  momentum):\n",
        "    model = keras.Sequential([tf.keras.layers.Flatten(input_shape = input_dimension)])\n",
        "    # Tune the number of layers\n",
        "    for i in range(layer):\n",
        "        model.add(layers.Dense(units=units, activation = activation))\n",
        "    # tune dropout  \n",
        "    if dropout:\n",
        "        model.add(layers.Dropout(rate = 0.3))\n",
        "    # output layer\n",
        "    model.add(layers.Dense(numbers_of_label, activation = 'softmax'))\n",
        "    \n",
        "    # loss function\n",
        "    model.compile(optimizer=keras.optimizers.SGD(learning_rate = lr,  \n",
        "                                                momentum = momentum, nesterov = True),\n",
        "                                                loss = 'CategoricalCrossentropy',\n",
        "                                                metrics = ['categorical_accuracy'])\n",
        "    return model\n",
        "\n",
        "\n",
        "def build_model(hp):\n",
        "    # Declaring the number of layers to be tuned\n",
        "    layer = hp.Int(\"num_layers\", 1, 3)\n",
        "    # Declaring the number of units per layer to be tuned\n",
        "    units = hp.Int(\"units\", min_value = 16, max_value = 512, step = 16)\n",
        "    # Declaring the activaiton functionto be tuned\n",
        "    activation = hp.Choice('activation', ['relu', 'tanh', 'elu'])\n",
        "    dropout = hp.Boolean('dropout')\n",
        "    # Declaring the learning rate range to be tuned\n",
        "    lr = hp.Float('lr', min_value = 1e-4, max_value = 1e-2, sampling = 'log')\n",
        "    momentum = hp.Float('momentum', min_value = 0.1, max_value = 0.9, sampling = 'log' )\n",
        "    model = parameters( layer = layer, units = units, activation = activation, dropout = dropout,\n",
        "                    momentum = momentum, lr = lr, numbers_of_label = numbers_of_shape)    \n",
        "    return model\n",
        "\n",
        "\n",
        "build_model(kt.HyperParameters())"
      ]
    },
    {
      "cell_type": "code",
      "execution_count": null,
      "metadata": {
        "colab": {
          "background_save": true
        },
        "id": "ouUUJb_AhEHh"
      },
      "outputs": [],
      "source": [
        "tuner = kt.BayesianOptimization(\n",
        "    hypermodel = build_model,\n",
        "    objective = \"val_categorical_accuracy\", \n",
        "    max_trials = 3,\n",
        "    executions_per_trial = 2,\n",
        "    overwrite = True,\n",
        "    directory = \"my_dir\",\n",
        "    project_name = \"helloworld\",\n",
        ")"
      ]
    },
    {
      "cell_type": "code",
      "execution_count": null,
      "metadata": {
        "colab": {
          "background_save": true
        },
        "id": "ikhwaPm8hEwx",
        "outputId": "29544948-e7ca-4e8c-aba9-16e88066490a"
      },
      "outputs": [
        {
          "name": "stdout",
          "output_type": "stream",
          "text": [
            "Search space summary\n",
            "Default search space size: 6\n",
            "num_layers (Int)\n",
            "{'default': None, 'conditions': [], 'min_value': 1, 'max_value': 3, 'step': 1, 'sampling': None}\n",
            "units (Int)\n",
            "{'default': None, 'conditions': [], 'min_value': 16, 'max_value': 512, 'step': 16, 'sampling': None}\n",
            "activation (Choice)\n",
            "{'default': 'relu', 'conditions': [], 'values': ['relu', 'tanh', 'elu'], 'ordered': False}\n",
            "dropout (Boolean)\n",
            "{'default': False, 'conditions': []}\n",
            "lr (Float)\n",
            "{'default': 0.0001, 'conditions': [], 'min_value': 0.0001, 'max_value': 0.01, 'step': None, 'sampling': 'log'}\n",
            "momentum (Float)\n",
            "{'default': 0.1, 'conditions': [], 'min_value': 0.1, 'max_value': 0.9, 'step': None, 'sampling': 'log'}\n"
          ]
        }
      ],
      "source": [
        "tuner.search_space_summary()"
      ]
    },
    {
      "cell_type": "code",
      "execution_count": null,
      "metadata": {
        "colab": {
          "background_save": true
        },
        "id": "FHZq97M6lIFq"
      },
      "outputs": [],
      "source": [
        "# create weight for imbalance class\n",
        "class_weights = class_weight.compute_class_weight(class_weight = 'balanced',\n",
        "                                                 classes = data.sign_shape.unique(),\n",
        "                                                 y = data.sign_shape.to_numpy())\n",
        "\n",
        "# convert class_weights to dictionary\n",
        "class_weight_dict = dict()\n",
        "i = 0\n",
        "for w in class_weights:\n",
        "    class_weight_dict[i] = w\n",
        "    i= i+1"
      ]
    },
    {
      "cell_type": "code",
      "execution_count": null,
      "metadata": {
        "colab": {
          "background_save": true
        },
        "id": "nmIRxbTZhNkD",
        "outputId": "e21c60b5-9562-42a8-b81c-1490c3571556"
      },
      "outputs": [
        {
          "name": "stdout",
          "output_type": "stream",
          "text": [
            "Trial 3 Complete [00h 07m 50s]\n",
            "val_categorical_accuracy: 0.9277027249336243\n",
            "\n",
            "Best val_categorical_accuracy So Far: 0.9662162065505981\n",
            "Total elapsed time: 00h 25m 22s\n",
            "INFO:tensorflow:Oracle triggered exit\n"
          ]
        }
      ],
      "source": [
        "tuner.search(dataShape.train, epochs=100, validation_data=dataShape.validation,class_weight=class_weight_dict , callbacks=[keras.callbacks.TensorBoard(\"/tmp/tb_logs\")])"
      ]
    },
    {
      "cell_type": "code",
      "execution_count": null,
      "metadata": {
        "colab": {
          "background_save": true
        },
        "id": "-9fgv5-ChObp"
      },
      "outputs": [],
      "source": [
        "# get best model and best hyper parameter\n",
        "best_model = tuner.get_best_models()[0]\n",
        "best_hp = tuner.get_best_hyperparameters()[0]"
      ]
    },
    {
      "cell_type": "code",
      "execution_count": null,
      "metadata": {
        "colab": {
          "background_save": true
        },
        "id": "V_bQ-KP7hRnv",
        "outputId": "a8559c27-e241-40f9-93d1-63eca5a68ece"
      },
      "outputs": [
        {
          "name": "stdout",
          "output_type": "stream",
          "text": [
            "Model: \"sequential\"\n",
            "_________________________________________________________________\n",
            " Layer (type)                Output Shape              Param #   \n",
            "=================================================================\n",
            " flatten (Flatten)           (None, 2352)              0         \n",
            "                                                                 \n",
            " dense (Dense)               (None, 416)               978848    \n",
            "                                                                 \n",
            " dense_1 (Dense)             (None, 416)               173472    \n",
            "                                                                 \n",
            " dense_2 (Dense)             (None, 416)               173472    \n",
            "                                                                 \n",
            " dropout (Dropout)           (None, 416)               0         \n",
            "                                                                 \n",
            " dense_3 (Dense)             (None, 5)                 2085      \n",
            "                                                                 \n",
            "=================================================================\n",
            "Total params: 1,327,877\n",
            "Trainable params: 1,327,877\n",
            "Non-trainable params: 0\n",
            "_________________________________________________________________\n"
          ]
        }
      ],
      "source": [
        "#best_model.build()\n",
        "best_model.summary()"
      ]
    },
    {
      "cell_type": "code",
      "execution_count": null,
      "metadata": {
        "colab": {
          "background_save": true
        },
        "id": "fvIa1PFusg1J",
        "outputId": "9aa460c3-ae6f-4241-f2e0-f5e8da043636"
      },
      "outputs": [
        {
          "name": "stdout",
          "output_type": "stream",
          "text": [
            "The tensorboard extension is already loaded. To reload it, use:\n",
            "  %reload_ext tensorboard\n"
          ]
        },
        {
          "data": {
            "text/plain": [
              "Reusing TensorBoard on port 6006 (pid 2600), started 1:16:12 ago. (Use '!kill 2600' to kill it.)"
            ]
          },
          "metadata": {},
          "output_type": "display_data"
        },
        {
          "data": {
            "application/javascript": [
              "\n",
              "        (async () => {\n",
              "            const url = new URL(await google.colab.kernel.proxyPort(6006, {'cache': true}));\n",
              "            url.searchParams.set('tensorboardColab', 'true');\n",
              "            const iframe = document.createElement('iframe');\n",
              "            iframe.src = url;\n",
              "            iframe.setAttribute('width', '100%');\n",
              "            iframe.setAttribute('height', '800');\n",
              "            iframe.setAttribute('frameborder', 0);\n",
              "            document.body.appendChild(iframe);\n",
              "        })();\n",
              "    "
            ],
            "text/plain": [
              "<IPython.core.display.Javascript object>"
            ]
          },
          "metadata": {},
          "output_type": "display_data"
        }
      ],
      "source": [
        "%load_ext tensorboard\n",
        "%tensorboard --logdir /tmp/tb_logs"
      ]
    },
    {
      "cell_type": "code",
      "execution_count": null,
      "metadata": {
        "colab": {
          "background_save": true
        },
        "id": "CO5omXV0ASrW",
        "outputId": "1be5aca2-9279-43cb-f663-6818808a96a1"
      },
      "outputs": [
        {
          "name": "stdout",
          "output_type": "stream",
          "text": [
            "WARNING:tensorflow:Detecting that an object or model or tf.train.Checkpoint is being deleted with unrestored values. See the following logs for the specific values in question. To silence these warnings, use `status.expect_partial()`. See https://www.tensorflow.org/api_docs/python/tf/train/Checkpoint#restorefor details about the status object returned by the restore function.\n",
            "WARNING:tensorflow:Value in checkpoint could not be found in the restored object: (root).optimizer.iter\n",
            "WARNING:tensorflow:Value in checkpoint could not be found in the restored object: (root).optimizer.decay\n",
            "WARNING:tensorflow:Value in checkpoint could not be found in the restored object: (root).optimizer.learning_rate\n",
            "WARNING:tensorflow:Value in checkpoint could not be found in the restored object: (root).optimizer.momentum\n"
          ]
        },
        {
          "name": "stderr",
          "output_type": "stream",
          "text": [
            "/usr/local/lib/python3.7/dist-packages/ipykernel_launcher.py:2: UserWarning: `Model.fit_generator` is deprecated and will be removed in a future version. Please use `Model.fit`, which supports generators.\n",
            "  \n"
          ]
        }
      ],
      "source": [
        "model = tuner.hypermodel.build(best_hp)\n",
        "history = model.fit_generator(dataShape.train, validation_data = dataShape.validation, epochs=100, verbose=0)"
      ]
    },
    {
      "cell_type": "code",
      "execution_count": null,
      "metadata": {
        "colab": {
          "background_save": true
        },
        "id": "1lJEFTgOAlKW",
        "outputId": "99534ea8-6979-4f55-88bc-26697b4a3d50"
      },
      "outputs": [
        {
          "data": {
            "image/png": "[encoded data removed]",
            "text/plain": [
              "<Figure size 720x360 with 2 Axes>"
            ]
          },
          "metadata": {},
          "output_type": "display_data"
        }
      ],
      "source": [
        "plot_learning_curve(history.history['loss'], history.history['val_loss'], \n",
        "                    history.history['categorical_accuracy'], history.history['val_categorical_accuracy'], \n",
        "                    metric_name = 'Accuracy')"
      ]
    },
    {
      "cell_type": "code",
      "execution_count": null,
      "metadata": {
        "colab": {
          "background_save": true
        },
        "id": "d6FHFkkXAmEJ",
        "outputId": "0b516cad-3bd4-4be5-e416-ce8b8ae58bce"
      },
      "outputs": [
        {
          "name": "stdout",
          "output_type": "stream",
          "text": [
            "Best epoch: 93\n"
          ]
        }
      ],
      "source": [
        "# get the best epoch\n",
        "val_acc_per_epoch = history.history['val_categorical_accuracy']\n",
        "best_epoch = val_acc_per_epoch.index(max(val_acc_per_epoch)) + 1\n",
        "print('Best epoch: %d' % (best_epoch,))"
      ]
    },
    {
      "cell_type": "code",
      "execution_count": null,
      "metadata": {
        "colab": {
          "background_save": true
        },
        "id": "RfdcGex_Aou-",
        "outputId": "7ee794b9-eb80-4abc-865d-298152d8ed8d"
      },
      "outputs": [
        {
          "name": "stderr",
          "output_type": "stream",
          "text": [
            "/usr/local/lib/python3.7/dist-packages/ipykernel_launcher.py:4: UserWarning: `Model.fit_generator` is deprecated and will be removed in a future version. Please use `Model.fit`, which supports generators.\n",
            "  after removing the cwd from sys.path.\n"
          ]
        },
        {
          "data": {
            "text/plain": [
              "<keras.callbacks.History at 0x7fda4260f8d0>"
            ]
          },
          "execution_count": null,
          "metadata": {},
          "output_type": "execute_result"
        }
      ],
      "source": [
        "# Retrain the model with the best epoch\n",
        "finale_model = tuner.hypermodel.build(best_hp)\n",
        "\n",
        "finale_model.fit_generator(dataShape.train, validation_data = dataShape.validation, epochs=best_epoch, verbose=0)"
      ]
    },
    {
      "cell_type": "markdown",
      "metadata": {
        "id": "RuPkVPMS3A8_"
      },
      "source": [
        "#### 2.2.1.2 Type"
      ]
    },
    {
      "cell_type": "markdown",
      "metadata": {
        "id": "6TLIHGSnl1m9"
      },
      "source": [
        "### **2.2.2 Convolution Neural Network**"
      ]
    },
    {
      "cell_type": "markdown",
      "source": [
        "In this section, we will implement two popular CNN architectural namely VGG and LeNet as our baseline model. Depending on the result, we will configure the architecture so as to be able to figure out the best solution for this image classification problem."
      ],
      "metadata": {
        "id": "LdTloq2logYv"
      }
    },
    {
      "cell_type": "markdown",
      "metadata": {
        "id": "wSRumg1Ospx9"
      },
      "source": [
        "#### A. VGG CNN Model"
      ]
    },
    {
      "cell_type": "markdown",
      "source": [
        "The VGG architecture that was used as the baseline model for this project is the modified architecture that was provided in the lecture (**link**). \n",
        "\n",
        "This modified architecture was chosen over the original VGG architecture as the original one contains many VGG - block (convolution + activation + pooling) and it is more suitable for larger image, however, our image is only of 28 * 28, which makes the modified version preferable. "
      ],
      "metadata": {
        "id": "3nnC9zAcplnP"
      }
    },
    {
      "cell_type": "code",
      "execution_count": 22,
      "metadata": {
        "colab": {
          "base_uri": "https://localhost:8080/"
        },
        "id": "ZI-pZ73ol0TQ",
        "outputId": "d33054a1-63e1-43c0-b3ed-64e1df7820bd"
      },
      "outputs": [
        {
          "output_type": "stream",
          "name": "stdout",
          "text": [
            "Model: \"sequential_1\"\n",
            "_________________________________________________________________\n",
            " Layer (type)                Output Shape              Param #   \n",
            "=================================================================\n",
            " conv2d_6 (Conv2D)           (None, 28, 28, 28)        784       \n",
            "                                                                 \n",
            " conv2d_7 (Conv2D)           (None, 28, 28, 28)        7084      \n",
            "                                                                 \n",
            " max_pooling2d_3 (MaxPooling  (None, 14, 14, 28)       0         \n",
            " 2D)                                                             \n",
            "                                                                 \n",
            " conv2d_8 (Conv2D)           (None, 14, 14, 64)        16192     \n",
            "                                                                 \n",
            " conv2d_9 (Conv2D)           (None, 14, 14, 64)        36928     \n",
            "                                                                 \n",
            " max_pooling2d_4 (MaxPooling  (None, 7, 7, 64)         0         \n",
            " 2D)                                                             \n",
            "                                                                 \n",
            " conv2d_10 (Conv2D)          (None, 7, 7, 128)         73856     \n",
            "                                                                 \n",
            " conv2d_11 (Conv2D)          (None, 7, 7, 128)         147584    \n",
            "                                                                 \n",
            " max_pooling2d_5 (MaxPooling  (None, 3, 3, 128)        0         \n",
            " 2D)                                                             \n",
            "                                                                 \n",
            " flatten_1 (Flatten)         (None, 1152)              0         \n",
            "                                                                 \n",
            " dense_2 (Dense)             (None, 128)               147584    \n",
            "                                                                 \n",
            " dense_3 (Dense)             (None, 5)                 645       \n",
            "                                                                 \n",
            "=================================================================\n",
            "Total params: 430,657\n",
            "Trainable params: 430,657\n",
            "Non-trainable params: 0\n",
            "_________________________________________________________________\n"
          ]
        }
      ],
      "source": [
        "VGG_model = tf.keras.Sequential([\n",
        "    # Block 1\n",
        "    tf.keras.layers.Conv2D(28, (3, 3), activation='relu', padding='same', input_shape=(28, 28, 3)),\n",
        "    tf.keras.layers.Conv2D(28, (3, 3), activation='relu', padding='same'),\n",
        "    tf.keras.layers.MaxPooling2D((2, 2)),\n",
        "    \n",
        "    # Block 2\n",
        "    tf.keras.layers.Conv2D(64, (3, 3), activation='relu', padding='same'),\n",
        "    tf.keras.layers.Conv2D(64, (3, 3), activation='relu', padding='same'),\n",
        "    tf.keras.layers.MaxPooling2D((2, 2)),\n",
        "    \n",
        "    # Block 3\n",
        "    tf.keras.layers.Conv2D(128, (3, 3), activation='relu', padding='same'),\n",
        "    tf.keras.layers.Conv2D(128, (3, 3), activation='relu', padding='same'),\n",
        "    tf.keras.layers.MaxPooling2D((2, 2)),\n",
        "    \n",
        "    tf.keras.layers.Flatten(),\n",
        "    tf.keras.layers.Dense(128, activation='relu'),\n",
        "    tf.keras.layers.Dense(numbers_of_shape, activation = \"softmax\"),\n",
        "    ])\n",
        "VGG_model.summary()"
      ]
    },
    {
      "cell_type": "code",
      "source": [
        "model_compiling_and_fit(VGG_model)"
      ],
      "metadata": {
        "colab": {
          "base_uri": "https://localhost:8080/"
        },
        "id": "W0G7IGXBvzxr",
        "outputId": "c8ec91de-ca0d-4a54-edee-0a83d94621d3"
      },
      "execution_count": null,
      "outputs": [
        {
          "output_type": "stream",
          "name": "stderr",
          "text": [
            "/usr/local/lib/python3.7/dist-packages/ipykernel_launcher.py:12: UserWarning: `Model.fit_generator` is deprecated and will be removed in a future version. Please use `Model.fit`, which supports generators.\n",
            "  if sys.path[0] == '':\n"
          ]
        }
      ]
    },
    {
      "cell_type": "code",
      "execution_count": null,
      "metadata": {
        "id": "42mfYf64uOKZ"
      },
      "outputs": [],
      "source": [
        "plot_learning_curve(history.history['loss'], history.history['val_loss'], \n",
        "                    history.history['categorical_accuracy'], history.history['val_categorical_accuracy'], \n",
        "                    metric_name = 'Accuracy')"
      ]
    },
    {
      "cell_type": "markdown",
      "metadata": {
        "id": "YWP58jkMhz1v"
      },
      "source": [
        "https://keras.io/guides/keras_tuner/getting_started/\n",
        "\n",
        "https://keras.io/keras_tuner/\n",
        "\n",
        "https://keras.io/guides/keras_tuner/visualize_tuning/\n",
        "\n",
        "https://www.tensorflow.org/tutorials/keras/keras_tuner\n",
        "\n",
        "Hoang check links for documentation on tuner"
      ]
    }
  ],
  "metadata": {
    "colab": {
      "collapsed_sections": [],
      "name": "Traffic_Sign_Image_Recognition.ipynb",
      "provenance": []
    },
    "kernelspec": {
      "display_name": "Python 3",
      "name": "python3"
    },
    "language_info": {
      "name": "python"
    }
  },
  "nbformat": 4,
  "nbformat_minor": 0
}