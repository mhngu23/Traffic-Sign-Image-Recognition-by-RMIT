{
  "cells": [
    {
      "cell_type": "markdown",
      "metadata": {
        "id": "view-in-github",
        "colab_type": "text"
      },
      "source": [
        "<a href=\"https://colab.research.google.com/github/mhngu23/Traffic-Sign-Image-Recognition/blob/main/Traffic_Sign_Image_Recognition.ipynb\" target=\"_parent\"><img src=\"https://colab.research.google.com/assets/colab-badge.svg\" alt=\"Open In Colab\"/></a>"
      ]
    },
    {
      "cell_type": "markdown",
      "source": [
        "---\n",
        "# <div align=\"center\"><font color='black'>  </font></div>\n",
        "# <div align=\"center\"><font color='black'> COSC 2673 | Machine Learning  </font></div>\n",
        "## <div align=\"center\"> <font color='black'> Assignment 02: S3712611_Minh Hoang Nguyen, s3828276_Ngoc Vy Le </font></div>\n",
        "---"
      ],
      "metadata": {
        "id": "6uP3ccyXHNBG"
      }
    },
    {
      "cell_type": "markdown",
      "source": [
        "# **Notebook Summary**\n",
        "\n",
        "- This notebook presents our investigation and results for the traffic sign classification task requried in Project 1.\n",
        "\n",
        "\n",
        "- The 2 dataset that was used in this notebook are the modified *Belgium Traffic Sign Recognition dataset* and the *Australian Traffic Sign dataset*, which was specifically collected for the purpose of testing models performance (the 2 dataset will be provided along with this notebook).\n",
        "\n",
        "- For convinience sake, this notebook will only contain step by step observations/actions/reasons for parameters tuning; it will only discuss briefly on testing performance. Full evaluation of these models can be found in the 5 pages report attracted with this submission. \n",
        "\n",
        "`Note: This notebook is requried to be run on Google Colab as the code was designed to fit this specific platform.`\n",
        "\n",
        "\n"
      ],
      "metadata": {
        "id": "BjYgc1PNHavU"
      }
    },
    {
      "cell_type": "markdown",
      "source": [
        "# **Importing Library**"
      ],
      "metadata": {
        "id": "8gI46NM-Lskl"
      }
    },
    {
      "cell_type": "code",
      "execution_count": null,
      "metadata": {
        "colab": {
          "base_uri": "https://localhost:8080/"
        },
        "id": "JkLYNmW6A3PV",
        "outputId": "c2c70b04-8ab6-486c-bc45-d60e9288b092"
      },
      "outputs": [
        {
          "output_type": "stream",
          "name": "stdout",
          "text": [
            "Looking in indexes: https://pypi.org/simple, https://us-python.pkg.dev/colab-wheels/public/simple/\n",
            "Requirement already satisfied: tensorflow-hub in /usr/local/lib/python3.7/dist-packages (0.12.0)\n",
            "Requirement already satisfied: numpy>=1.12.0 in /usr/local/lib/python3.7/dist-packages (from tensorflow-hub) (1.21.6)\n",
            "Requirement already satisfied: protobuf>=3.8.0 in /usr/local/lib/python3.7/dist-packages (from tensorflow-hub) (3.17.3)\n",
            "Requirement already satisfied: six>=1.9 in /usr/local/lib/python3.7/dist-packages (from protobuf>=3.8.0->tensorflow-hub) (1.15.0)\n",
            "Looking in indexes: https://pypi.org/simple, https://us-python.pkg.dev/colab-wheels/public/simple/\n",
            "Requirement already satisfied: split-folders in /usr/local/lib/python3.7/dist-packages (0.5.1)\n"
          ]
        }
      ],
      "source": [
        "!pip install -q -U keras-tuner\n",
        "!pip install tensorflow-hub\n",
        "!pip install split-folders\n"
      ]
    },
    {
      "cell_type": "code",
      "execution_count": null,
      "metadata": {
        "id": "i2HCtApQz2te"
      },
      "outputs": [],
      "source": [
        "import matplotlib.pyplot as plt\n",
        "import numpy as np\n",
        "import pandas as pd\n",
        "import random\n",
        "import tensorflow as tf\n",
        "import cv2\n",
        "\n",
        "from tensorflow import keras\n",
        "from tensorflow.keras.preprocessing.image import ImageDataGenerator, array_to_img, img_to_array, load_img\n",
        "\n",
        "from keras import layers, Input\n",
        "from keras.layers import InputLayer\n",
        "from keras.layers.core import Dense, Flatten\n",
        "from keras.models import Sequential, Model\n",
        "import tensorflow_hub as hub\n",
        "import keras_tuner as kt\n",
        "\n",
        "import matplotlib.image as mpimg\n",
        "\n",
        "from PIL import Image\n",
        "import os\n",
        "import glob\n",
        "\n",
        "\n",
        "from sklearn.preprocessing import LabelEncoder\n",
        "from sklearn.model_selection import train_test_split\n",
        "from sklearn.utils import class_weight\n",
        "from sklearn.metrics import classification_report, confusion_matrix\n",
        "from sklearn.metrics import ConfusionMatrixDisplay\n",
        "import seaborn as sns\n",
        "\n",
        "import shutil\n",
        "import splitfolders\n",
        "\n",
        "tf.__version__\n",
        "\n",
        "AUTOTUNE = tf.data.experimental.AUTOTUNE"
      ]
    },
    {
      "cell_type": "code",
      "execution_count": null,
      "metadata": {
        "colab": {
          "base_uri": "https://localhost:8080/"
        },
        "id": "Ma3YEyBbg3Jm",
        "outputId": "7b71a2a8-5dac-4fb0-d22a-33710a47897e"
      },
      "outputs": [
        {
          "output_type": "stream",
          "name": "stdout",
          "text": [
            "Drive already mounted at /content/gdrive; to attempt to forcibly remount, call drive.mount(\"/content/gdrive\", force_remount=True).\n"
          ]
        }
      ],
      "source": [
        "from google.colab import drive\n",
        "drive.mount('/content/gdrive')      # Link to google drive so later can save the model"
      ]
    },
    {
      "cell_type": "code",
      "execution_count": null,
      "metadata": {
        "colab": {
          "base_uri": "https://localhost:8080/"
        },
        "id": "uIvUi4F2gHLB",
        "outputId": "ac3cb5a7-a883-48fd-adf9-975034b6bdb9"
      },
      "outputs": [
        {
          "output_type": "stream",
          "name": "stdout",
          "text": [
            "Done\n",
            "Done\n"
          ]
        }
      ],
      "source": [
        "# Before using the data need to upload on to drive\n",
        "# This file will be deleted at the end of the session\n",
        "# Go to file on left hand side of the screen then upload file (Can upload the file to root = easier access)\n",
        "# File extracted will be saved in content folder \n",
        "from zipfile import ZipFile\n",
        "file_name = '/trafficsigns_dataset.zip'\n",
        "independent_file_name = '/independent_data.zip'\n",
        "\n",
        "with ZipFile(file_name, 'r') as zip:\n",
        "  zip.extractall()\n",
        "  print('Done')\n",
        "\n",
        "with ZipFile(independent_file_name, 'r') as zip:\n",
        "  zip.extractall()\n",
        "  print('Done')"
      ]
    },
    {
      "cell_type": "markdown",
      "metadata": {
        "id": "L7s7dIgSUv6B"
      },
      "source": [
        "# **1. Data Preparation**\n"
      ]
    },
    {
      "cell_type": "markdown",
      "metadata": {
        "id": "BbIr5vnJwgdu"
      },
      "source": [
        "## 1.1 **Image Visualization**\n"
      ]
    },
    {
      "cell_type": "code",
      "execution_count": null,
      "metadata": {
        "id": "YzK32-P6gHNq"
      },
      "outputs": [],
      "source": [
        "# Making sure that we have the correct dataset\n",
        "# Randomly visualizing 5 images from a folder\n",
        "def image_visualizer(test_folder):\n",
        "  plt.figure(figsize=(20,20))\n",
        "  for i in range(5):                                                    # Randomly loaded 5 images\n",
        "      file = random.choice(os.listdir(test_folder))\n",
        "      image_path= os.path.join(test_folder, file)\n",
        "      img=mpimg.imread(image_path)\n",
        "      ax=plt.subplot(1,5,i+1)\n",
        "      ax.title.set_text(file)\n",
        "      plt.imshow(img, cmap = 'gray')"
      ]
    },
    {
      "cell_type": "code",
      "source": [
        "folder_path=r'/content/trafficsigns_dataset/diamond/rightofway'\n",
        "image_visualizer(folder_path)\n"
      ],
      "metadata": {
        "id": "cZtZoJN_DFYC",
        "colab": {
          "base_uri": "https://localhost:8080/",
          "height": 256
        },
        "outputId": "7c58a885-0943-4d6a-cf11-5841c28823b1"
      },
      "execution_count": null,
      "outputs": [
        {
          "output_type": "display_data",
          "data": {
            "text/plain": [
              "<Figure size 1440x1440 with 5 Axes>"
            ],
            "image/png": "[encoded data removed]"
          },
          "metadata": {
            "needs_background": "light"
          }
        }
      ]
    },
    {
      "cell_type": "code",
      "source": [
        "folder_path=r'/content/trafficsigns_dataset/hex/stop'\n",
        "image_visualizer(folder_path)\n"
      ],
      "metadata": {
        "id": "USASTWGtDJT7",
        "colab": {
          "base_uri": "https://localhost:8080/",
          "height": 256
        },
        "outputId": "37351122-8232-429b-d56e-fc102dfe8b01"
      },
      "execution_count": null,
      "outputs": [
        {
          "output_type": "display_data",
          "data": {
            "text/plain": [
              "<Figure size 1440x1440 with 5 Axes>"
            ],
            "image/png": "[encoded data removed]"
          },
          "metadata": {
            "needs_background": "light"
          }
        }
      ]
    },
    {
      "cell_type": "code",
      "source": [
        "folder_path=r'/content/trafficsigns_dataset/square/continue'\n",
        "image_visualizer(folder_path)\n"
      ],
      "metadata": {
        "id": "nnhuz41yDbeV",
        "colab": {
          "base_uri": "https://localhost:8080/",
          "height": 256
        },
        "outputId": "e406bd24-e089-4b73-c641-d2d46446be82"
      },
      "execution_count": null,
      "outputs": [
        {
          "output_type": "display_data",
          "data": {
            "text/plain": [
              "<Figure size 1440x1440 with 5 Axes>"
            ],
            "image/png": "[encoded data removed]"
          },
          "metadata": {
            "needs_background": "light"
          }
        }
      ]
    },
    {
      "cell_type": "markdown",
      "metadata": {
        "id": "_RuaPJORQK2d"
      },
      "source": [
        "## 1.2 **Split data into Train, Val, Test Folder**"
      ]
    },
    {
      "cell_type": "code",
      "execution_count": null,
      "metadata": {
        "id": "mgI5-zU3QGIU"
      },
      "outputs": [],
      "source": [
        "def split_data(ratio, first_run):\n",
        "    \"\"\"\n",
        "    This function is used to create a new folder that split all entries into train, validation and test set\n",
        "    \n",
        "    \"\"\"\n",
        "    if first_run is False:\n",
        "      # Removing existing folder\n",
        "      shutil.rmtree(r'./train_test')      \n",
        "  \n",
        "    # create train test folder\n",
        "    splitfolders.ratio('trafficsigns_dataset', output=\"train_test\", ratio = ratio, seed=123)\n",
        "    \n",
        "    shapes = ['diamond', 'hex', 'round', 'square', 'triangle']\n",
        "    diamond =[\"rightofway\"]\n",
        "    hex_ = [ 'stop']\n",
        "    round_ = ['bicycle', 'limitedtraffic', 'noentry', 'noparking', 'roundabout', 'speed', 'trafficdirective', 'traveldirection']\n",
        "    square = ['continue', 'crossing', 'laneend', 'parking']\n",
        "    triangle = ['giveway', 'warning']\n",
        "    \n",
        "    # split data into train, test based on shape\n",
        "    for shape in shapes:\n",
        "        src = 'trafficsigns_dataset/' + shape\n",
        "        dest = 'split/' + shape \n",
        "        splitfolders.ratio(src, output=dest, ratio=ratio, seed=123)\n",
        "   \n",
        "    # move train, set into a new folder\n",
        "    shutil.move('./split/diamond/val/rightofway', './train_test/val/diamond/rightofway')\n",
        "    shutil.move('./split/diamond/train/rightofway', './train_test/train/diamond/rightofway')\n",
        "    shutil.move('./split/diamond/test/rightofway', './train_test/test/diamond/rightofway')\n",
        "                  \n",
        "    shutil.move('./split/hex/val/stop', './train_test/val/hex/stop')\n",
        "    shutil.move('./split/hex/train/stop', './train_test/train/hex/stop')\n",
        "    shutil.move('./split/hex/test/stop', './train_test/test/hex/stop')\n",
        "            \n",
        "           \n",
        "    for i in round_:\n",
        "        path_src = './split/round/val/' + i\n",
        "        path_dest = './train_test/val/round/' + i\n",
        "        shutil.move(path_src, path_dest)\n",
        "\n",
        "        path_src = './split/round/train/' + i\n",
        "        path_dest = './train_test/train/round/' + i\n",
        "        shutil.move(path_src, path_dest)\n",
        "        \n",
        "        path_src = './split/round/test/' + i\n",
        "        path_dest = './train_test/test/round/' + i\n",
        "        shutil.move(path_src, path_dest)\n",
        "              \n",
        "    for i in square:\n",
        "        path_src = './split/square/val/' + i\n",
        "        path_dest = './train_test/val/square/' + i\n",
        "        shutil.move(path_src,path_dest)\n",
        "\n",
        "        path_src = './split/square/train/' + i\n",
        "        path_dest = './train_test/train/square/' + i\n",
        "        shutil.move(path_src, path_dest)\n",
        "        \n",
        "        path_src = './split/square/test/' + i\n",
        "        path_dest = './train_test/test/square/' + i\n",
        "        shutil.move(path_src, path_dest)\n",
        "         \n",
        "    for i in triangle:\n",
        "        path_src = './split/triangle/val/' + i\n",
        "        path_dest = './train_test/val/triangle/' + i\n",
        "        shutil.move(path_src,path_dest)\n",
        "\n",
        "        path_src = './split/triangle/train/' + i\n",
        "        path_dest = './train_test/train/triangle/' + i\n",
        "        shutil.move(path_src, path_dest)  \n",
        "        \n",
        "        path_src = './split/triangle/test/' + i\n",
        "        path_dest = './train_test/test/triangle/' + i\n",
        "        shutil.move(path_src, path_dest)\n",
        "        \n",
        "        \n",
        "    # remove split folder since it is empty \n",
        "    shutil.rmtree(r'./split')      \n"
      ]
    },
    {
      "cell_type": "code",
      "execution_count": null,
      "metadata": {
        "colab": {
          "base_uri": "https://localhost:8080/"
        },
        "id": "kE3yzDuSoQ7c",
        "outputId": "ea77fa3f-91f9-4860-f284-f1f5c85a72cc"
      },
      "outputs": [
        {
          "output_type": "stream",
          "name": "stderr",
          "text": [
            "Copying files: 0 files [00:00, ? files/s]\n",
            "Copying files: 282 files [00:00, 2368.14 files/s]\n",
            "Copying files: 43 files [00:00, 2531.23 files/s]\n",
            "Copying files: 1760 files [00:00, 3604.18 files/s]\n",
            "Copying files: 688 files [00:00, 4351.08 files/s]\n",
            "Copying files: 926 files [00:00, 2759.51 files/s]\n"
          ]
        }
      ],
      "source": [
        "split_data(ratio = (0.6, 0.2, 0.2), first_run = False)  # Set parameter to True if it is the first time running this notebook     "
      ]
    },
    {
      "cell_type": "markdown",
      "metadata": {
        "id": "cYW7AHyNwc1B"
      },
      "source": [
        "## 1.3 **Creating Image Path Dataframe**\n",
        "\n",
        "Data will be stored in a dataframe which has image path, shape and type as columns."
      ]
    },
    {
      "cell_type": "code",
      "execution_count": null,
      "metadata": {
        "id": "TDedbPXcVIDN"
      },
      "outputs": [],
      "source": [
        "def file_path_into_dataframe(filepath):\n",
        "  image_list = []\n",
        "  if filepath == './independent_data/*/*/*.png':\n",
        "        for filepath in glob.glob(filepath, recursive=True):\n",
        "          sign_shape = filepath.split('/')[2]\n",
        "          sign_type = filepath.split('/')[3]\n",
        "          image_list.append((filepath, sign_shape, sign_type ))\n",
        "  else:\n",
        "    for filepath in glob.glob(filepath, recursive=True):\n",
        "        sign_shape = filepath.split('/')[3]\n",
        "        sign_type = filepath.split('/')[4]\n",
        "        image_list.append((filepath, sign_shape, sign_type ))\n",
        "      \n",
        "      \n",
        "  # create a dataframe\n",
        "  data = pd.DataFrame(data= image_list, columns=[\"image_path\", 'sign_shape','sign_type'])\n",
        "  # inspecting the dataframe\n",
        "  return data"
      ]
    },
    {
      "cell_type": "code",
      "execution_count": null,
      "metadata": {
        "colab": {
          "base_uri": "https://localhost:8080/",
          "height": 206
        },
        "id": "4d3CTzMTgyy0",
        "outputId": "3489ff77-bc95-4360-f24f-1d0942d7109a"
      },
      "outputs": [
        {
          "output_type": "execute_result",
          "data": {
            "text/plain": [
              "                                          image_path sign_shape   sign_type\n",
              "0  ./train_test/train/diamond/rightofway/01514_00...    diamond  rightofway\n",
              "1  ./train_test/train/diamond/rightofway/01013_00...    diamond  rightofway\n",
              "2  ./train_test/train/diamond/rightofway/01502_00...    diamond  rightofway\n",
              "3  ./train_test/train/diamond/rightofway/01957_00...    diamond  rightofway\n",
              "4  ./train_test/train/diamond/rightofway/01886_00...    diamond  rightofway"
            ],
            "text/html": [
              "\n",
              "  <div id=\"df-c39ed494-2f79-4799-b3d4-f9a4bee23a62\">\n",
              "    <div class=\"colab-df-container\">\n",
              "      <div>\n",
              "<style scoped>\n",
              "    .dataframe tbody tr th:only-of-type {\n",
              "        vertical-align: middle;\n",
              "    }\n",
              "\n",
              "    .dataframe tbody tr th {\n",
              "        vertical-align: top;\n",
              "    }\n",
              "\n",
              "    .dataframe thead th {\n",
              "        text-align: right;\n",
              "    }\n",
              "</style>\n",
              "<table border=\"1\" class=\"dataframe\">\n",
              "  <thead>\n",
              "    <tr style=\"text-align: right;\">\n",
              "      <th></th>\n",
              "      <th>image_path</th>\n",
              "      <th>sign_shape</th>\n",
              "      <th>sign_type</th>\n",
              "    </tr>\n",
              "  </thead>\n",
              "  <tbody>\n",
              "    <tr>\n",
              "      <th>0</th>\n",
              "      <td>./train_test/train/diamond/rightofway/01514_00...</td>\n",
              "      <td>diamond</td>\n",
              "      <td>rightofway</td>\n",
              "    </tr>\n",
              "    <tr>\n",
              "      <th>1</th>\n",
              "      <td>./train_test/train/diamond/rightofway/01013_00...</td>\n",
              "      <td>diamond</td>\n",
              "      <td>rightofway</td>\n",
              "    </tr>\n",
              "    <tr>\n",
              "      <th>2</th>\n",
              "      <td>./train_test/train/diamond/rightofway/01502_00...</td>\n",
              "      <td>diamond</td>\n",
              "      <td>rightofway</td>\n",
              "    </tr>\n",
              "    <tr>\n",
              "      <th>3</th>\n",
              "      <td>./train_test/train/diamond/rightofway/01957_00...</td>\n",
              "      <td>diamond</td>\n",
              "      <td>rightofway</td>\n",
              "    </tr>\n",
              "    <tr>\n",
              "      <th>4</th>\n",
              "      <td>./train_test/train/diamond/rightofway/01886_00...</td>\n",
              "      <td>diamond</td>\n",
              "      <td>rightofway</td>\n",
              "    </tr>\n",
              "  </tbody>\n",
              "</table>\n",
              "</div>\n",
              "      <button class=\"colab-df-convert\" onclick=\"convertToInteractive('df-c39ed494-2f79-4799-b3d4-f9a4bee23a62')\"\n",
              "              title=\"Convert this dataframe to an interactive table.\"\n",
              "              style=\"display:none;\">\n",
              "        \n",
              "  <svg xmlns=\"http://www.w3.org/2000/svg\" height=\"24px\"viewBox=\"0 0 24 24\"\n",
              "       width=\"24px\">\n",
              "    <path d=\"M0 0h24v24H0V0z\" fill=\"none\"/>\n",
              "    <path d=\"M18.56 5.44l.94 2.06.94-2.06 2.06-.94-2.06-.94-.94-2.06-.94 2.06-2.06.94zm-11 1L8.5 8.5l.94-2.06 2.06-.94-2.06-.94L8.5 2.5l-.94 2.06-2.06.94zm10 10l.94 2.06.94-2.06 2.06-.94-2.06-.94-.94-2.06-.94 2.06-2.06.94z\"/><path d=\"M17.41 7.96l-1.37-1.37c-.4-.4-.92-.59-1.43-.59-.52 0-1.04.2-1.43.59L10.3 9.45l-7.72 7.72c-.78.78-.78 2.05 0 2.83L4 21.41c.39.39.9.59 1.41.59.51 0 1.02-.2 1.41-.59l7.78-7.78 2.81-2.81c.8-.78.8-2.07 0-2.86zM5.41 20L4 18.59l7.72-7.72 1.47 1.35L5.41 20z\"/>\n",
              "  </svg>\n",
              "      </button>\n",
              "      \n",
              "  <style>\n",
              "    .colab-df-container {\n",
              "      display:flex;\n",
              "      flex-wrap:wrap;\n",
              "      gap: 12px;\n",
              "    }\n",
              "\n",
              "    .colab-df-convert {\n",
              "      background-color: #E8F0FE;\n",
              "      border: none;\n",
              "      border-radius: 50%;\n",
              "      cursor: pointer;\n",
              "      display: none;\n",
              "      fill: #1967D2;\n",
              "      height: 32px;\n",
              "      padding: 0 0 0 0;\n",
              "      width: 32px;\n",
              "    }\n",
              "\n",
              "    .colab-df-convert:hover {\n",
              "      background-color: #E2EBFA;\n",
              "      box-shadow: 0px 1px 2px rgba(60, 64, 67, 0.3), 0px 1px 3px 1px rgba(60, 64, 67, 0.15);\n",
              "      fill: #174EA6;\n",
              "    }\n",
              "\n",
              "    [theme=dark] .colab-df-convert {\n",
              "      background-color: #3B4455;\n",
              "      fill: #D2E3FC;\n",
              "    }\n",
              "\n",
              "    [theme=dark] .colab-df-convert:hover {\n",
              "      background-color: #434B5C;\n",
              "      box-shadow: 0px 1px 3px 1px rgba(0, 0, 0, 0.15);\n",
              "      filter: drop-shadow(0px 1px 2px rgba(0, 0, 0, 0.3));\n",
              "      fill: #FFFFFF;\n",
              "    }\n",
              "  </style>\n",
              "\n",
              "      <script>\n",
              "        const buttonEl =\n",
              "          document.querySelector('#df-c39ed494-2f79-4799-b3d4-f9a4bee23a62 button.colab-df-convert');\n",
              "        buttonEl.style.display =\n",
              "          google.colab.kernel.accessAllowed ? 'block' : 'none';\n",
              "\n",
              "        async function convertToInteractive(key) {\n",
              "          const element = document.querySelector('#df-c39ed494-2f79-4799-b3d4-f9a4bee23a62');\n",
              "          const dataTable =\n",
              "            await google.colab.kernel.invokeFunction('convertToInteractive',\n",
              "                                                     [key], {});\n",
              "          if (!dataTable) return;\n",
              "\n",
              "          const docLinkHtml = 'Like what you see? Visit the ' +\n",
              "            '<a target=\"_blank\" href=https://colab.research.google.com/notebooks/data_table.ipynb>data table notebook</a>'\n",
              "            + ' to learn more about interactive tables.';\n",
              "          element.innerHTML = '';\n",
              "          dataTable['output_type'] = 'display_data';\n",
              "          await google.colab.output.renderOutput(dataTable, element);\n",
              "          const docLink = document.createElement('div');\n",
              "          docLink.innerHTML = docLinkHtml;\n",
              "          element.appendChild(docLink);\n",
              "        }\n",
              "      </script>\n",
              "    </div>\n",
              "  </div>\n",
              "  "
            ]
          },
          "metadata": {},
          "execution_count": 12
        }
      ],
      "source": [
        "train_data = file_path_into_dataframe('./train_test/train/*/*/*.png')\n",
        "val_data = file_path_into_dataframe('./train_test/val/*/*/*.png')\n",
        "test_data = file_path_into_dataframe('./train_test/test/*/*/*.png')\n",
        "train_data.head() "
      ]
    },
    {
      "cell_type": "code",
      "execution_count": null,
      "metadata": {
        "colab": {
          "base_uri": "https://localhost:8080/"
        },
        "id": "B_wAoGZrVNro",
        "outputId": "29b92b3d-bbd4-44ad-d767-28664fb7cb19"
      },
      "outputs": [
        {
          "output_type": "stream",
          "name": "stdout",
          "text": [
            "The shape of training data is (2214, 3)\n",
            "The shape of validating data is (735, 3)\n",
            "The shape of testing data is (750, 3)\n"
          ]
        }
      ],
      "source": [
        "# data shape\n",
        "print(\"The shape of training data is\", train_data.shape)\n",
        "print(\"The shape of validating data is\", val_data.shape)\n",
        "print(\"The shape of testing data is\", test_data.shape)\n"
      ]
    },
    {
      "cell_type": "code",
      "execution_count": null,
      "metadata": {
        "colab": {
          "base_uri": "https://localhost:8080/"
        },
        "id": "AHeGow_iVeKu",
        "outputId": "227ebd40-9b5e-46f2-a815-161e265548c3"
      },
      "outputs": [
        {
          "output_type": "stream",
          "name": "stdout",
          "text": [
            "numbers of shape: 5\n"
          ]
        },
        {
          "output_type": "execute_result",
          "data": {
            "text/plain": [
              "array(['diamond', 'round', 'hex', 'square', 'triangle'], dtype=object)"
            ]
          },
          "metadata": {},
          "execution_count": 14
        }
      ],
      "source": [
        "print(\"numbers of shape:\", len(train_data.sign_shape.unique()))\n",
        "train_data.sign_shape.unique()"
      ]
    },
    {
      "cell_type": "code",
      "execution_count": null,
      "metadata": {
        "colab": {
          "base_uri": "https://localhost:8080/"
        },
        "id": "oF-b3K3SVgMx",
        "outputId": "8ebefe8c-525f-4097-8d89-8843620e4e92"
      },
      "outputs": [
        {
          "output_type": "stream",
          "name": "stdout",
          "text": [
            "numbers of type: 16\n"
          ]
        },
        {
          "output_type": "execute_result",
          "data": {
            "text/plain": [
              "array(['rightofway', 'bicycle', 'limitedtraffic', 'speed',\n",
              "       'traveldirection', 'noentry', 'noparking', 'roundabout',\n",
              "       'trafficdirective', 'stop', 'parking', 'continue', 'crossing',\n",
              "       'laneend', 'warning', 'giveway'], dtype=object)"
            ]
          },
          "metadata": {},
          "execution_count": 15
        }
      ],
      "source": [
        "print(\"numbers of type:\", len(train_data.sign_type.unique()))\n",
        "train_data.sign_type.unique()"
      ]
    },
    {
      "cell_type": "markdown",
      "metadata": {
        "id": "Ny6FEkNtV-An"
      },
      "source": [
        "## 1.4 **Data Distribution**"
      ]
    },
    {
      "cell_type": "code",
      "execution_count": null,
      "metadata": {
        "id": "IlXhzk-dWF-k"
      },
      "outputs": [],
      "source": [
        "def plot_distribution(data, dataset_column):\n",
        "  plt.figure(figsize=(20,10))\n",
        "  for i in range(1, len(data.columns)):\n",
        "      plt.subplot(2,1,i)\n",
        "      data.iloc[:, i].sort_values().astype(str).hist()\n",
        "      txt = \"distribution of \" + data.columns[i] + \" in \" + dataset_column +\" dataset\"\n",
        "      plt.title(txt)\n"
      ]
    },
    {
      "cell_type": "code",
      "execution_count": null,
      "metadata": {
        "colab": {
          "base_uri": "https://localhost:8080/",
          "height": 607
        },
        "id": "HETPfeaCc7Hm",
        "outputId": "de8cbd16-095c-4363-b2ef-d8fb6e051063"
      },
      "outputs": [
        {
          "output_type": "display_data",
          "data": {
            "text/plain": [
              "<Figure size 1440x720 with 2 Axes>"
            ],
            "image/png": "[encoded data removed]"
          },
          "metadata": {
            "needs_background": "light"
          }
        }
      ],
      "source": [
        "plot_distribution(train_data, \"train_data\")"
      ]
    },
    {
      "cell_type": "markdown",
      "metadata": {
        "id": "NQtSoCQlWI-E"
      },
      "source": [
        "**<u>Observation</u>:**\n",
        "\n",
        " * Shape data has 5 classes, while, sign data has 16 classes.\n",
        " * Class imbalance problem in both shape and type data. <br>\n",
        "\n"
      ]
    },
    {
      "cell_type": "markdown",
      "metadata": {
        "id": "2tXLw9i-Vlnn"
      },
      "source": [
        "## 1.5 **Labels encoding**\n",
        "\n",
        "Using label encoder from sklearn to transform label into integer."
      ]
    },
    {
      "cell_type": "code",
      "execution_count": null,
      "metadata": {
        "colab": {
          "base_uri": "https://localhost:8080/",
          "height": 206
        },
        "id": "sPs2Cyn6Vv72",
        "outputId": "5d04910b-0699-48c0-b4dc-fe1297bebb4b"
      },
      "outputs": [
        {
          "output_type": "execute_result",
          "data": {
            "text/plain": [
              "                                          image_path  sign_shape  sign_type\n",
              "0  ./train_test/train/diamond/rightofway/01514_00...           0          9\n",
              "1  ./train_test/train/diamond/rightofway/01013_00...           0          9\n",
              "2  ./train_test/train/diamond/rightofway/01502_00...           0          9\n",
              "3  ./train_test/train/diamond/rightofway/01957_00...           0          9\n",
              "4  ./train_test/train/diamond/rightofway/01886_00...           0          9"
            ],
            "text/html": [
              "\n",
              "  <div id=\"df-e16bccc9-2003-4645-9d44-8e932cb44ca5\">\n",
              "    <div class=\"colab-df-container\">\n",
              "      <div>\n",
              "<style scoped>\n",
              "    .dataframe tbody tr th:only-of-type {\n",
              "        vertical-align: middle;\n",
              "    }\n",
              "\n",
              "    .dataframe tbody tr th {\n",
              "        vertical-align: top;\n",
              "    }\n",
              "\n",
              "    .dataframe thead th {\n",
              "        text-align: right;\n",
              "    }\n",
              "</style>\n",
              "<table border=\"1\" class=\"dataframe\">\n",
              "  <thead>\n",
              "    <tr style=\"text-align: right;\">\n",
              "      <th></th>\n",
              "      <th>image_path</th>\n",
              "      <th>sign_shape</th>\n",
              "      <th>sign_type</th>\n",
              "    </tr>\n",
              "  </thead>\n",
              "  <tbody>\n",
              "    <tr>\n",
              "      <th>0</th>\n",
              "      <td>./train_test/train/diamond/rightofway/01514_00...</td>\n",
              "      <td>0</td>\n",
              "      <td>9</td>\n",
              "    </tr>\n",
              "    <tr>\n",
              "      <th>1</th>\n",
              "      <td>./train_test/train/diamond/rightofway/01013_00...</td>\n",
              "      <td>0</td>\n",
              "      <td>9</td>\n",
              "    </tr>\n",
              "    <tr>\n",
              "      <th>2</th>\n",
              "      <td>./train_test/train/diamond/rightofway/01502_00...</td>\n",
              "      <td>0</td>\n",
              "      <td>9</td>\n",
              "    </tr>\n",
              "    <tr>\n",
              "      <th>3</th>\n",
              "      <td>./train_test/train/diamond/rightofway/01957_00...</td>\n",
              "      <td>0</td>\n",
              "      <td>9</td>\n",
              "    </tr>\n",
              "    <tr>\n",
              "      <th>4</th>\n",
              "      <td>./train_test/train/diamond/rightofway/01886_00...</td>\n",
              "      <td>0</td>\n",
              "      <td>9</td>\n",
              "    </tr>\n",
              "  </tbody>\n",
              "</table>\n",
              "</div>\n",
              "      <button class=\"colab-df-convert\" onclick=\"convertToInteractive('df-e16bccc9-2003-4645-9d44-8e932cb44ca5')\"\n",
              "              title=\"Convert this dataframe to an interactive table.\"\n",
              "              style=\"display:none;\">\n",
              "        \n",
              "  <svg xmlns=\"http://www.w3.org/2000/svg\" height=\"24px\"viewBox=\"0 0 24 24\"\n",
              "       width=\"24px\">\n",
              "    <path d=\"M0 0h24v24H0V0z\" fill=\"none\"/>\n",
              "    <path d=\"M18.56 5.44l.94 2.06.94-2.06 2.06-.94-2.06-.94-.94-2.06-.94 2.06-2.06.94zm-11 1L8.5 8.5l.94-2.06 2.06-.94-2.06-.94L8.5 2.5l-.94 2.06-2.06.94zm10 10l.94 2.06.94-2.06 2.06-.94-2.06-.94-.94-2.06-.94 2.06-2.06.94z\"/><path d=\"M17.41 7.96l-1.37-1.37c-.4-.4-.92-.59-1.43-.59-.52 0-1.04.2-1.43.59L10.3 9.45l-7.72 7.72c-.78.78-.78 2.05 0 2.83L4 21.41c.39.39.9.59 1.41.59.51 0 1.02-.2 1.41-.59l7.78-7.78 2.81-2.81c.8-.78.8-2.07 0-2.86zM5.41 20L4 18.59l7.72-7.72 1.47 1.35L5.41 20z\"/>\n",
              "  </svg>\n",
              "      </button>\n",
              "      \n",
              "  <style>\n",
              "    .colab-df-container {\n",
              "      display:flex;\n",
              "      flex-wrap:wrap;\n",
              "      gap: 12px;\n",
              "    }\n",
              "\n",
              "    .colab-df-convert {\n",
              "      background-color: #E8F0FE;\n",
              "      border: none;\n",
              "      border-radius: 50%;\n",
              "      cursor: pointer;\n",
              "      display: none;\n",
              "      fill: #1967D2;\n",
              "      height: 32px;\n",
              "      padding: 0 0 0 0;\n",
              "      width: 32px;\n",
              "    }\n",
              "\n",
              "    .colab-df-convert:hover {\n",
              "      background-color: #E2EBFA;\n",
              "      box-shadow: 0px 1px 2px rgba(60, 64, 67, 0.3), 0px 1px 3px 1px rgba(60, 64, 67, 0.15);\n",
              "      fill: #174EA6;\n",
              "    }\n",
              "\n",
              "    [theme=dark] .colab-df-convert {\n",
              "      background-color: #3B4455;\n",
              "      fill: #D2E3FC;\n",
              "    }\n",
              "\n",
              "    [theme=dark] .colab-df-convert:hover {\n",
              "      background-color: #434B5C;\n",
              "      box-shadow: 0px 1px 3px 1px rgba(0, 0, 0, 0.15);\n",
              "      filter: drop-shadow(0px 1px 2px rgba(0, 0, 0, 0.3));\n",
              "      fill: #FFFFFF;\n",
              "    }\n",
              "  </style>\n",
              "\n",
              "      <script>\n",
              "        const buttonEl =\n",
              "          document.querySelector('#df-e16bccc9-2003-4645-9d44-8e932cb44ca5 button.colab-df-convert');\n",
              "        buttonEl.style.display =\n",
              "          google.colab.kernel.accessAllowed ? 'block' : 'none';\n",
              "\n",
              "        async function convertToInteractive(key) {\n",
              "          const element = document.querySelector('#df-e16bccc9-2003-4645-9d44-8e932cb44ca5');\n",
              "          const dataTable =\n",
              "            await google.colab.kernel.invokeFunction('convertToInteractive',\n",
              "                                                     [key], {});\n",
              "          if (!dataTable) return;\n",
              "\n",
              "          const docLinkHtml = 'Like what you see? Visit the ' +\n",
              "            '<a target=\"_blank\" href=https://colab.research.google.com/notebooks/data_table.ipynb>data table notebook</a>'\n",
              "            + ' to learn more about interactive tables.';\n",
              "          element.innerHTML = '';\n",
              "          dataTable['output_type'] = 'display_data';\n",
              "          await google.colab.output.renderOutput(dataTable, element);\n",
              "          const docLink = document.createElement('div');\n",
              "          docLink.innerHTML = docLinkHtml;\n",
              "          element.appendChild(docLink);\n",
              "        }\n",
              "      </script>\n",
              "    </div>\n",
              "  </div>\n",
              "  "
            ]
          },
          "metadata": {},
          "execution_count": 18
        }
      ],
      "source": [
        "def label_encoder(dataframe):\n",
        "  labelEncoder = LabelEncoder()\n",
        "  if \"sign_shape\" in dataframe:\n",
        "    dataframe.sign_shape = labelEncoder.fit_transform(dataframe.sign_shape)\n",
        "  if \"sign_type\" in dataframe:\n",
        "    dataframe.sign_type = labelEncoder.fit_transform(dataframe.sign_type)\n",
        "\n",
        "# inspecting the changes\n",
        "label_encoder(train_data)\n",
        "train_data.head()"
      ]
    },
    {
      "cell_type": "code",
      "execution_count": null,
      "metadata": {
        "id": "o7XBmQeBdsFL"
      },
      "outputs": [],
      "source": [
        "label_encoder(val_data)\n",
        "label_encoder(test_data)"
      ]
    },
    {
      "cell_type": "markdown",
      "metadata": {
        "id": "xttf9D4OFK61"
      },
      "source": [
        "## 1.6 **Data Augmentation**"
      ]
    },
    {
      "cell_type": "code",
      "execution_count": null,
      "metadata": {
        "id": "vZKM9xZ6FIzp"
      },
      "outputs": [],
      "source": [
        "def create_augmented_folder(first_run):\n",
        "  if first_run is False:\n",
        "  # Use these two code to remove these augmented folders if no longer need\n",
        "    shutil.rmtree(r'./augmented_shape')      \n",
        "    shutil.rmtree(r'./augmented_type') \n",
        "\n",
        "  src = '/content/train_test/train'\n",
        "\n",
        "  # create folder for shape\n",
        "  dest1 = '/content/augmented_shape/train'\n",
        "\n",
        "  # create folder for type\n",
        "  dest2 = '/content/augmented_type/train'\n",
        "\n",
        "  # copy\n",
        "  shutil.copytree(src, dest1)\n",
        "  shutil.copytree(src, dest2)\n",
        "\n"
      ]
    },
    {
      "cell_type": "code",
      "execution_count": null,
      "metadata": {
        "id": "wNBRQmkioyAB"
      },
      "outputs": [],
      "source": [
        "create_augmented_folder(first_run = False) # Set parameter to True if it is the first time running this notebook     "
      ]
    },
    {
      "cell_type": "code",
      "execution_count": null,
      "metadata": {
        "id": "dUNpUKKpFJNt"
      },
      "outputs": [],
      "source": [
        "def img_augmentation(folder_path, limit):\n",
        "    image_list = []\n",
        "    path = folder_path + '/*.png'\n",
        "    print(path)\n",
        "    \n",
        "    for image in glob.glob(path, recursive=True):\n",
        "        # read image\n",
        "        img =  mpimg.imread(image )\n",
        "        img_arr = img_to_array(img)\n",
        "        img_arr = img_arr.reshape((1,) + img_arr.shape)\n",
        "        # add to list\n",
        "        image_list.append(img_arr)\n",
        "        \n",
        "    datagen = ImageDataGenerator(\n",
        "    rotation_range = 20,\n",
        "    shear_range = 0.2,\n",
        "    zoom_range= 0.2,\n",
        "    horizontal_flip = True,\n",
        "    vertical_flip = True,\n",
        "    brightness_range = (0.5, 1.5)\n",
        "    )\n",
        "              \n",
        "    for img in image_list:\n",
        "        i = 0\n",
        "        for batch in datagen.flow(\n",
        "                                    img ,\n",
        "                                    batch_size=1,\n",
        "                                    save_to_dir= folder_path,\n",
        "                                    save_prefix = \"Augment_image\",\n",
        "                                    save_format = 'png'\n",
        "                                    ):\n",
        "            i = i+1\n",
        "            if i>limit: \n",
        "              break    "
      ]
    },
    {
      "cell_type": "markdown",
      "metadata": {
        "id": "NRoSUDKAG0Qd"
      },
      "source": [
        "### 1.6.1 Shape Data Augmentation\n"
      ]
    },
    {
      "cell_type": "code",
      "execution_count": null,
      "metadata": {
        "id": "au5UTTTxFJY-",
        "colab": {
          "base_uri": "https://localhost:8080/"
        },
        "outputId": "de21dc7f-2655-4f72-988f-30ef88aac5b9"
      },
      "outputs": [
        {
          "output_type": "stream",
          "name": "stdout",
          "text": [
            "./augmented_shape/train/diamond/rightofway/*.png\n",
            "./augmented_shape/train/hex/stop/*.png\n",
            "./augmented_shape/train/square/laneend/*.png\n",
            "./augmented_shape/train/square/parking/*.png\n",
            "./augmented_shape/train/square/continue/*.png\n",
            "./augmented_shape/train/triangle/giveway/*.png\n"
          ]
        }
      ],
      "source": [
        "# generate new image for shape\n",
        "img_augmentation('./augmented_shape/train/diamond/rightofway', 4)\n",
        "img_augmentation('./augmented_shape/train/hex/stop', 38)\n",
        "img_augmentation('./augmented_shape/train/square/laneend', 1)\n",
        "img_augmentation('./augmented_shape/train/square/parking', 1)\n",
        "img_augmentation('./augmented_shape/train/square/continue', 1)\n",
        "img_augmentation('./augmented_shape/train/triangle/giveway', 1)"
      ]
    },
    {
      "cell_type": "code",
      "execution_count": null,
      "metadata": {
        "id": "aGpdqRYOGZEE",
        "colab": {
          "base_uri": "https://localhost:8080/",
          "height": 206
        },
        "outputId": "20fed3d8-bb7d-41b7-c32b-3f734effb52f"
      },
      "outputs": [
        {
          "output_type": "execute_result",
          "data": {
            "text/plain": [
              "                                          image_path sign_shape\n",
              "0  ./augmented_shape/train/diamond/rightofway/Aug...    diamond\n",
              "1  ./augmented_shape/train/diamond/rightofway/Aug...    diamond\n",
              "2  ./augmented_shape/train/diamond/rightofway/015...    diamond\n",
              "3  ./augmented_shape/train/diamond/rightofway/010...    diamond\n",
              "4  ./augmented_shape/train/diamond/rightofway/Aug...    diamond"
            ],
            "text/html": [
              "\n",
              "  <div id=\"df-c7f54ee0-989a-456e-a616-0b69085fd01e\">\n",
              "    <div class=\"colab-df-container\">\n",
              "      <div>\n",
              "<style scoped>\n",
              "    .dataframe tbody tr th:only-of-type {\n",
              "        vertical-align: middle;\n",
              "    }\n",
              "\n",
              "    .dataframe tbody tr th {\n",
              "        vertical-align: top;\n",
              "    }\n",
              "\n",
              "    .dataframe thead th {\n",
              "        text-align: right;\n",
              "    }\n",
              "</style>\n",
              "<table border=\"1\" class=\"dataframe\">\n",
              "  <thead>\n",
              "    <tr style=\"text-align: right;\">\n",
              "      <th></th>\n",
              "      <th>image_path</th>\n",
              "      <th>sign_shape</th>\n",
              "    </tr>\n",
              "  </thead>\n",
              "  <tbody>\n",
              "    <tr>\n",
              "      <th>0</th>\n",
              "      <td>./augmented_shape/train/diamond/rightofway/Aug...</td>\n",
              "      <td>diamond</td>\n",
              "    </tr>\n",
              "    <tr>\n",
              "      <th>1</th>\n",
              "      <td>./augmented_shape/train/diamond/rightofway/Aug...</td>\n",
              "      <td>diamond</td>\n",
              "    </tr>\n",
              "    <tr>\n",
              "      <th>2</th>\n",
              "      <td>./augmented_shape/train/diamond/rightofway/015...</td>\n",
              "      <td>diamond</td>\n",
              "    </tr>\n",
              "    <tr>\n",
              "      <th>3</th>\n",
              "      <td>./augmented_shape/train/diamond/rightofway/010...</td>\n",
              "      <td>diamond</td>\n",
              "    </tr>\n",
              "    <tr>\n",
              "      <th>4</th>\n",
              "      <td>./augmented_shape/train/diamond/rightofway/Aug...</td>\n",
              "      <td>diamond</td>\n",
              "    </tr>\n",
              "  </tbody>\n",
              "</table>\n",
              "</div>\n",
              "      <button class=\"colab-df-convert\" onclick=\"convertToInteractive('df-c7f54ee0-989a-456e-a616-0b69085fd01e')\"\n",
              "              title=\"Convert this dataframe to an interactive table.\"\n",
              "              style=\"display:none;\">\n",
              "        \n",
              "  <svg xmlns=\"http://www.w3.org/2000/svg\" height=\"24px\"viewBox=\"0 0 24 24\"\n",
              "       width=\"24px\">\n",
              "    <path d=\"M0 0h24v24H0V0z\" fill=\"none\"/>\n",
              "    <path d=\"M18.56 5.44l.94 2.06.94-2.06 2.06-.94-2.06-.94-.94-2.06-.94 2.06-2.06.94zm-11 1L8.5 8.5l.94-2.06 2.06-.94-2.06-.94L8.5 2.5l-.94 2.06-2.06.94zm10 10l.94 2.06.94-2.06 2.06-.94-2.06-.94-.94-2.06-.94 2.06-2.06.94z\"/><path d=\"M17.41 7.96l-1.37-1.37c-.4-.4-.92-.59-1.43-.59-.52 0-1.04.2-1.43.59L10.3 9.45l-7.72 7.72c-.78.78-.78 2.05 0 2.83L4 21.41c.39.39.9.59 1.41.59.51 0 1.02-.2 1.41-.59l7.78-7.78 2.81-2.81c.8-.78.8-2.07 0-2.86zM5.41 20L4 18.59l7.72-7.72 1.47 1.35L5.41 20z\"/>\n",
              "  </svg>\n",
              "      </button>\n",
              "      \n",
              "  <style>\n",
              "    .colab-df-container {\n",
              "      display:flex;\n",
              "      flex-wrap:wrap;\n",
              "      gap: 12px;\n",
              "    }\n",
              "\n",
              "    .colab-df-convert {\n",
              "      background-color: #E8F0FE;\n",
              "      border: none;\n",
              "      border-radius: 50%;\n",
              "      cursor: pointer;\n",
              "      display: none;\n",
              "      fill: #1967D2;\n",
              "      height: 32px;\n",
              "      padding: 0 0 0 0;\n",
              "      width: 32px;\n",
              "    }\n",
              "\n",
              "    .colab-df-convert:hover {\n",
              "      background-color: #E2EBFA;\n",
              "      box-shadow: 0px 1px 2px rgba(60, 64, 67, 0.3), 0px 1px 3px 1px rgba(60, 64, 67, 0.15);\n",
              "      fill: #174EA6;\n",
              "    }\n",
              "\n",
              "    [theme=dark] .colab-df-convert {\n",
              "      background-color: #3B4455;\n",
              "      fill: #D2E3FC;\n",
              "    }\n",
              "\n",
              "    [theme=dark] .colab-df-convert:hover {\n",
              "      background-color: #434B5C;\n",
              "      box-shadow: 0px 1px 3px 1px rgba(0, 0, 0, 0.15);\n",
              "      filter: drop-shadow(0px 1px 2px rgba(0, 0, 0, 0.3));\n",
              "      fill: #FFFFFF;\n",
              "    }\n",
              "  </style>\n",
              "\n",
              "      <script>\n",
              "        const buttonEl =\n",
              "          document.querySelector('#df-c7f54ee0-989a-456e-a616-0b69085fd01e button.colab-df-convert');\n",
              "        buttonEl.style.display =\n",
              "          google.colab.kernel.accessAllowed ? 'block' : 'none';\n",
              "\n",
              "        async function convertToInteractive(key) {\n",
              "          const element = document.querySelector('#df-c7f54ee0-989a-456e-a616-0b69085fd01e');\n",
              "          const dataTable =\n",
              "            await google.colab.kernel.invokeFunction('convertToInteractive',\n",
              "                                                     [key], {});\n",
              "          if (!dataTable) return;\n",
              "\n",
              "          const docLinkHtml = 'Like what you see? Visit the ' +\n",
              "            '<a target=\"_blank\" href=https://colab.research.google.com/notebooks/data_table.ipynb>data table notebook</a>'\n",
              "            + ' to learn more about interactive tables.';\n",
              "          element.innerHTML = '';\n",
              "          dataTable['output_type'] = 'display_data';\n",
              "          await google.colab.output.renderOutput(dataTable, element);\n",
              "          const docLink = document.createElement('div');\n",
              "          docLink.innerHTML = docLinkHtml;\n",
              "          element.appendChild(docLink);\n",
              "        }\n",
              "      </script>\n",
              "    </div>\n",
              "  </div>\n",
              "  "
            ]
          },
          "metadata": {},
          "execution_count": 24
        }
      ],
      "source": [
        "# put in data frame, encode, plot\n",
        "augmented_data_shape = file_path_into_dataframe('./augmented_shape/train/*/*/*.png')\n",
        "del augmented_data_shape[\"sign_type\"]\n",
        "augmented_data_shape.head()"
      ]
    },
    {
      "cell_type": "code",
      "execution_count": null,
      "metadata": {
        "id": "pZVi_Kt7fPUX",
        "colab": {
          "base_uri": "https://localhost:8080/",
          "height": 311
        },
        "outputId": "98b7f6e9-2415-456b-f55c-6900123c890b"
      },
      "outputs": [
        {
          "output_type": "display_data",
          "data": {
            "text/plain": [
              "<Figure size 1440x720 with 1 Axes>"
            ],
            "image/png": "[encoded data removed]"
          },
          "metadata": {
            "needs_background": "light"
          }
        }
      ],
      "source": [
        "label_encoder(augmented_data_shape)\n",
        "plot_distribution(augmented_data_shape, \"augmented_data_shape\")"
      ]
    },
    {
      "cell_type": "markdown",
      "metadata": {
        "id": "9FZIrh2_G3qp"
      },
      "source": [
        "### 1.6.2 Type Data Augmentation"
      ]
    },
    {
      "cell_type": "code",
      "execution_count": null,
      "metadata": {
        "colab": {
          "base_uri": "https://localhost:8080/"
        },
        "id": "6cK018rcG3CV",
        "outputId": "10667430-2f74-401b-a20f-cc7dadb887ea"
      },
      "outputs": [
        {
          "output_type": "stream",
          "name": "stdout",
          "text": [
            "./augmented_type/train/square/continue/*.png\n",
            "./augmented_type/train/square/crossing/*.png\n",
            "./augmented_type/train/triangle/giveaway/*.png\n",
            "./augmented_type/train/square/laneend/*.png\n",
            "./augmented_type/train/round/limitedtraffic/*.png\n",
            "./augmented_type/train/square/parking/*.png\n",
            "./augmented_type/train/diamond/rightofway/*.png\n",
            "./augmented_type/train/round/speed/*.png\n",
            "./augmented_type/train/hex/stop/*.png\n",
            "./augmented_type/train/round/trafficdirective/*.png\n"
          ]
        }
      ],
      "source": [
        "# generate new data\n",
        "img_augmentation('./augmented_type/train/square/continue', 1)\n",
        "img_augmentation('./augmented_type/train/square/crossing', 5)\n",
        "img_augmentation('./augmented_type/train/triangle/giveaway', 9)\n",
        "img_augmentation('./augmented_type/train/square/laneend', 2)\n",
        "img_augmentation('./augmented_type/train/round/limitedtraffic', 4)\n",
        "img_augmentation('./augmented_type/train/square/parking', 1)\n",
        "img_augmentation('./augmented_type/train/diamond/rightofway', 1)\n",
        "img_augmentation('./augmented_type/train/round/speed',1)\n",
        "img_augmentation('./augmented_type/train/hex/stop', 1)\n",
        "img_augmentation('./augmented_type/train/round/trafficdirective', 1)"
      ]
    },
    {
      "cell_type": "code",
      "execution_count": null,
      "metadata": {
        "colab": {
          "base_uri": "https://localhost:8080/",
          "height": 311
        },
        "id": "q3CM1wXBHAKN",
        "outputId": "d260f40a-4ae1-461b-b2bc-0f2d381b134f"
      },
      "outputs": [
        {
          "output_type": "display_data",
          "data": {
            "text/plain": [
              "<Figure size 1440x720 with 1 Axes>"
            ],
            "image/png": "[encoded data removed]"
          },
          "metadata": {
            "needs_background": "light"
          }
        }
      ],
      "source": [
        "augmented_data_type = file_path_into_dataframe('./augmented_type/train/*/*/*.png')\n",
        "label_encoder(augmented_data_type)\n",
        "del augmented_data_type[\"sign_shape\"]\n",
        "plot_distribution(augmented_data_type, \"augmented_data_type\")"
      ]
    },
    {
      "cell_type": "markdown",
      "metadata": {
        "id": "FqEJMlMIkS5-"
      },
      "source": [
        "# **2. Model Development**\n",
        "* **Goal**: Implementing and comparing the performance of MLP and CNN model. \n",
        "* **Setup the experiment**: We will be using 80% of the original dataset as training data and 20% of the data to test (unseen data). From the 80% training data we will split again into 80% training and 20% validation data (data to evaluate the model).  \n"
      ]
    },
    {
      "cell_type": "markdown",
      "metadata": {
        "id": "kxdfs9rK3HZ9"
      },
      "source": [
        "## **2.1 Generating data**"
      ]
    },
    {
      "cell_type": "markdown",
      "metadata": {
        "id": "2-yqtLTndlyN"
      },
      "source": [
        "### **Data Generator Utils**"
      ]
    },
    {
      "cell_type": "markdown",
      "metadata": {
        "id": "Ek53KcokiGrW"
      },
      "source": [
        "All the functions that will be repeately used throughout `section 2.1` will be included in this section."
      ]
    },
    {
      "cell_type": "code",
      "execution_count": null,
      "metadata": {
        "colab": {
          "base_uri": "https://localhost:8080/"
        },
        "id": "IweCouwvzeV7",
        "outputId": "1266ee5e-0341-465a-a73d-c6dbf221b133"
      },
      "outputs": [
        {
          "output_type": "execute_result",
          "data": {
            "text/plain": [
              "((2214, 3), (735, 3))"
            ]
          },
          "metadata": {},
          "execution_count": 28
        }
      ],
      "source": [
        "# Checking the shape of train dataset and validation dataset again\n",
        "train_data.shape, val_data.shape"
      ]
    },
    {
      "cell_type": "code",
      "execution_count": null,
      "metadata": {
        "id": "KsxzaKSv2534"
      },
      "outputs": [],
      "source": [
        "def to_grayscale(image):\n",
        "    image = tf.image.rgb_to_grayscale(image)\n",
        "    return image"
      ]
    },
    {
      "cell_type": "code",
      "execution_count": null,
      "metadata": {
        "id": "0hkkv01mCvAg"
      },
      "outputs": [],
      "source": [
        "def generating_data_from_dataframe(dataframe, target, preprocessing_function = None, test = False):\n",
        "    \n",
        "    \"\"\"\n",
        "        Function to convert the refering target_column_name into string array\n",
        "        and generate actual data from file path\n",
        "    \"\"\"\n",
        "    dataframe.loc[:,target] = dataframe.loc[:,target].astype('str')\n",
        "    if preprocessing_function is None:\n",
        "      generator = ImageDataGenerator(rescale = 1./255, data_format = 'channels_last')\n",
        "    else: \n",
        "      generator = ImageDataGenerator(rescale = 1./255, data_format = 'channels_last', preprocessing_function = to_grayscale)\n",
        "    batch_size = 32\n",
        "    if test == False:\n",
        "      data_gen = generator.flow_from_dataframe(\n",
        "                                                dataframe = dataframe,\n",
        "                                                directory = './',\n",
        "                                                x_col = \"image_path\",\n",
        "                                                y_col = target,\n",
        "                                                target_size = (28, 28),\n",
        "                                                batch_size = batch_size,\n",
        "                                                class_mode = 'categorical')\n",
        "    else:\n",
        "      data_gen = generator.flow_from_dataframe(\n",
        "                                                  dataframe = dataframe,\n",
        "                                                  directory = './',\n",
        "                                                  x_col = \"image_path\",\n",
        "                                                  y_col = target,\n",
        "                                                  target_size = (28, 28),\n",
        "                                                  batch_size = batch_size,\n",
        "                                                  class_mode = 'categorical',\n",
        "                                                  shuffle = False)\n",
        "    return data_gen\n",
        "        "
      ]
    },
    {
      "cell_type": "markdown",
      "metadata": {
        "id": "kku2i_743aCE"
      },
      "source": [
        "### **2.1.1 Shape Data**"
      ]
    },
    {
      "cell_type": "code",
      "execution_count": null,
      "metadata": {
        "colab": {
          "base_uri": "https://localhost:8080/"
        },
        "id": "_8IPXlOm0_3r",
        "outputId": "e3443090-d2ee-4738-a4a3-5674145685c2"
      },
      "outputs": [
        {
          "output_type": "stream",
          "name": "stdout",
          "text": [
            "Found 2214 validated image filenames belonging to 5 classes.\n",
            "Found 735 validated image filenames belonging to 5 classes.\n"
          ]
        }
      ],
      "source": [
        "# generate data for train & validation\n",
        "train_shape = generating_data_from_dataframe(train_data, \"sign_shape\")\n",
        "validation_shape = generating_data_from_dataframe(val_data, \"sign_shape\")\n"
      ]
    },
    {
      "cell_type": "markdown",
      "metadata": {
        "id": "X68r3PFB3jxf"
      },
      "source": [
        "### **2.1.2 Type Data**"
      ]
    },
    {
      "cell_type": "code",
      "execution_count": null,
      "metadata": {
        "colab": {
          "base_uri": "https://localhost:8080/"
        },
        "id": "nJEtNcqT6ZI_",
        "outputId": "1c03cc60-4dce-4d1b-d8f8-d915290f850d"
      },
      "outputs": [
        {
          "output_type": "stream",
          "name": "stdout",
          "text": [
            "Found 2214 validated image filenames belonging to 16 classes.\n",
            "Found 735 validated image filenames belonging to 16 classes.\n"
          ]
        }
      ],
      "source": [
        "# generate data for train & validation\n",
        "train_type = generating_data_from_dataframe(train_data, \"sign_type\")\n",
        "validation_type = generating_data_from_dataframe(val_data, \"sign_type\")\n"
      ]
    },
    {
      "cell_type": "markdown",
      "metadata": {
        "id": "-AtLI_8zQV3V"
      },
      "source": [
        "### **2.1.3 Augmented Shape Data**"
      ]
    },
    {
      "cell_type": "code",
      "execution_count": null,
      "metadata": {
        "colab": {
          "base_uri": "https://localhost:8080/"
        },
        "id": "598hNN1iQkPM",
        "outputId": "9975377c-ea7b-492f-a7e6-d76bb842237c"
      },
      "outputs": [
        {
          "output_type": "stream",
          "name": "stdout",
          "text": [
            "Found 4924 validated image filenames belonging to 5 classes.\n"
          ]
        }
      ],
      "source": [
        "# generate data for augmented_shape dataset \n",
        "augmented_train_shape = generating_data_from_dataframe(augmented_data_shape, \"sign_shape\")"
      ]
    },
    {
      "cell_type": "markdown",
      "metadata": {
        "id": "VYkE2VmjQkjs"
      },
      "source": [
        "### **2.1.4 Augmented Type Data**"
      ]
    },
    {
      "cell_type": "code",
      "execution_count": null,
      "metadata": {
        "colab": {
          "base_uri": "https://localhost:8080/"
        },
        "id": "KzUOZnKVQpAH",
        "outputId": "bb1b6298-cb9e-41b1-8d35-84d28179bd24"
      },
      "outputs": [
        {
          "output_type": "stream",
          "name": "stdout",
          "text": [
            "Found 4665 validated image filenames belonging to 16 classes.\n"
          ]
        }
      ],
      "source": [
        "# generate data for augmented_type dataset\n",
        "augmented_train_type = generating_data_from_dataframe(augmented_data_type, \"sign_type\")"
      ]
    },
    {
      "cell_type": "markdown",
      "metadata": {
        "id": "q4iQEmsE0x0G"
      },
      "source": [
        "## **2.2 Model Development**"
      ]
    },
    {
      "cell_type": "markdown",
      "metadata": {
        "id": "U2GJfTEFdtqx"
      },
      "source": [
        "### **Model Development Utils**"
      ]
    },
    {
      "cell_type": "markdown",
      "metadata": {
        "id": "5DEhfSeEhyqu"
      },
      "source": [
        "All the functions that will be repeately used throughout `section 2.2` will be included in this section."
      ]
    },
    {
      "cell_type": "code",
      "execution_count": null,
      "metadata": {
        "id": "UtE6MeEA3nOH"
      },
      "outputs": [],
      "source": [
        "input_dimension = (28,28,3)\n",
        "numbers_of_shape = len(train_data.sign_shape.unique())\n",
        "numbers_of_sign = len(train_data.sign_type.unique())"
      ]
    },
    {
      "cell_type": "code",
      "execution_count": null,
      "metadata": {
        "id": "zpWK3TrHr556"
      },
      "outputs": [],
      "source": [
        "early_stopping = tf.keras.callbacks.EarlyStopping(\n",
        "                      monitor=\"val_loss\",\n",
        "                      min_delta=0.0001,\n",
        "                      patience=15,\n",
        "                      verbose=1,\n",
        "                      mode=\"auto\",\n",
        "                      baseline=None,\n",
        "                      restore_best_weights=True,\n",
        "                  )"
      ]
    },
    {
      "cell_type": "code",
      "execution_count": null,
      "metadata": {
        "id": "jSrDMtwB1X-h"
      },
      "outputs": [],
      "source": [
        "def plot_learning_curve(train_loss, val_loss, train_metric, val_metric, metric_name='Accuracy'):\n",
        "    plt.figure(figsize=(10,5))\n",
        "    \n",
        "    plt.subplot(1,2,1)\n",
        "    plt.plot(train_loss, 'r--')\n",
        "    plt.plot(val_loss, 'b--')\n",
        "    plt.xlabel(\"epochs\")\n",
        "    plt.ylabel(\"Loss\")\n",
        "    plt.legend(['train', 'val'], loc='upper left')\n",
        "\n",
        "    plt.subplot(1,2,2)\n",
        "    plt.plot(train_metric, 'r--')\n",
        "    plt.plot(val_metric, 'b--')\n",
        "    plt.xlabel(\"epochs\")\n",
        "    plt.ylabel(metric_name)\n",
        "    plt.legend(['train', 'val'], loc='upper left')\n",
        "\n",
        "    plt.show()"
      ]
    },
    {
      "cell_type": "code",
      "execution_count": null,
      "metadata": {
        "id": "eTCC5B2fmBB_"
      },
      "outputs": [],
      "source": [
        "# calculate class weights to solve the imbalance class problem\n",
        "class_weights_shape = class_weight.compute_class_weight('balanced',\n",
        "                                                 classes = train_data.sign_shape.unique(),\n",
        "                                                 y = train_data.sign_shape.to_numpy())\n",
        "# convert to dict format\n",
        "class_weight_dict_shape = dict()\n",
        "i = 0\n",
        "for w in class_weights_shape:\n",
        "    class_weight_dict_shape[i] = w\n",
        "    i= i+1\n"
      ]
    },
    {
      "cell_type": "code",
      "execution_count": null,
      "metadata": {
        "id": "ObZxjfsY78Sq"
      },
      "outputs": [],
      "source": [
        "# calculate class weights\n",
        "class_weights_sign = class_weight.compute_class_weight('balanced',\n",
        "                                                 classes = train_data.sign_type.unique(),\n",
        "                                                 y = train_data.sign_type.to_numpy())\n",
        "# convert to dict format\n",
        "class_weight_dict_sign = dict()\n",
        "i = 0\n",
        "for w in class_weights_sign:\n",
        "    class_weight_dict_sign[i] = w\n",
        "    i= i+1"
      ]
    },
    {
      "cell_type": "markdown",
      "metadata": {
        "id": "VOBWbgX3yIYa"
      },
      "source": [
        "### **2.2.1 Multilayer Perceptrons Network**"
      ]
    },
    {
      "cell_type": "markdown",
      "source": [
        "Our base model for multilayer perceptrons networks consists of 3 layers, inlcuding a flatten layer, a hidden lense layer and a output dense layer.\n",
        "\n",
        "The aim of this section would be to evaluate the performance of this architecture on the validation set and modify this architecture accordingly to observations so as to improve accuracy, convergent time as well as reducing overfit/underfit."
      ],
      "metadata": {
        "id": "BWRjLQUPMRA1"
      }
    },
    {
      "cell_type": "markdown",
      "metadata": {
        "id": "VhsFtXY04CNX"
      },
      "source": [
        "#### **2.2.1.1 Shape Classification**"
      ]
    },
    {
      "cell_type": "markdown",
      "metadata": {
        "id": "jCPmkOqGCvxZ"
      },
      "source": [
        "###### **2.2.1.1.1. Base Model**"
      ]
    },
    {
      "cell_type": "code",
      "execution_count": null,
      "metadata": {
        "colab": {
          "base_uri": "https://localhost:8080/",
          "height": 427
        },
        "id": "iejNu1SSzIEA",
        "outputId": "f10a8aab-b0ac-462d-8c85-5211b7a524ac"
      },
      "outputs": [
        {
          "output_type": "stream",
          "name": "stderr",
          "text": [
            "/usr/local/lib/python3.7/dist-packages/ipykernel_launcher.py:12: UserWarning: `Model.fit_generator` is deprecated and will be removed in a future version. Please use `Model.fit`, which supports generators.\n",
            "  if sys.path[0] == '':\n",
            "/usr/local/lib/python3.7/dist-packages/tensorflow/python/util/dispatch.py:1082: UserWarning: \"`categorical_crossentropy` received `from_logits=True`, but the `output` argument was produced by a sigmoid or softmax activation and thus does not represent logits. Was this intended?\"\n",
            "  return dispatch_target(*args, **kwargs)\n"
          ]
        },
        {
          "output_type": "display_data",
          "data": {
            "text/plain": [
              "<Figure size 720x360 with 2 Axes>"
            ],
            "image/png": "[encoded data removed]"
          },
          "metadata": {
            "needs_background": "light"
          }
        }
      ],
      "source": [
        "# build model\n",
        "base_model_mpl_shape = tf.keras.Sequential([\n",
        "    tf.keras.layers.Flatten(input_shape=input_dimension),\n",
        "    tf.keras.layers.Dense(32, activation='sigmoid'),\n",
        "    tf.keras.layers.Dense(numbers_of_shape, activation ='softmax')\n",
        "])\n",
        "# comile model\n",
        "base_model_mpl_shape.compile(optimizer='SGD',\n",
        "              loss=tf.keras.losses.CategoricalCrossentropy(from_logits=True),\n",
        "              metrics=['categorical_accuracy'])\n",
        "# train model\n",
        "history = base_model_mpl_shape.fit_generator(train_shape, validation_data = validation_shape, epochs=300, verbose=0)\n",
        "# plot \n",
        "plot_learning_curve(history.history['loss'], history.history['val_loss'], \n",
        "                    history.history['categorical_accuracy'], history.history['val_categorical_accuracy'], \n",
        "                    metric_name='Accuracy')"
      ]
    },
    {
      "cell_type": "markdown",
      "metadata": {
        "id": "tCNrdirmwJ6h"
      },
      "source": [
        "<u>Observation:</u><br>\n",
        "* The model does not need 300 epochs to converges. \n",
        "* The accuracies of train and validation are around 92% at convergent point.\n",
        "* Overfitting starts to occur after 100 epochs where performance on train set showed to be better than validation set.\n"
      ]
    },
    {
      "cell_type": "markdown",
      "metadata": {
        "id": "ytUnHvPHdUDX"
      },
      "source": [
        "<u>Actions:</u><br>\n",
        "Although the accuracy is quite good, our aim is to test whether a higher accuracy is achieveable as well as whether the model can converge faster.\n",
        "We would also need to solve the problem of overfitting.\n",
        "For this reason, we will tune certain parameters."
      ]
    },
    {
      "cell_type": "code",
      "execution_count": null,
      "metadata": {
        "colab": {
          "base_uri": "https://localhost:8080/"
        },
        "id": "eObCpxcFvJeS",
        "outputId": "8165687f-8196-4bc7-caf9-60b050a4321c"
      },
      "outputs": [
        {
          "output_type": "stream",
          "name": "stdout",
          "text": [
            "INFO:tensorflow:Assets written to: shape_based_MLP_model/assets\n"
          ]
        }
      ],
      "source": [
        "base_model_mpl_shape.save(\"shape_based_MLP_model\")     \n",
        "!cp -R ./shape_based_MLP_model /content/gdrive/'My Drive'/COSC2673_2110/     "
      ]
    },
    {
      "cell_type": "markdown",
      "metadata": {
        "id": "KlTDDshZg4yS"
      },
      "source": [
        "###### **2.2.1.1.2 Parameters Tuning Model**"
      ]
    },
    {
      "cell_type": "markdown",
      "metadata": {
        "id": "nJ8Nb_hS53uf"
      },
      "source": [
        "***Class Weight***\n",
        "\n",
        "Since we have an unbalanced dataset, we will try to include the `class_weight` parameters with the weights being the number of items available in  one class. This is one way of improving the accuracy of the model without the need to change the model architecture.\n",
        "\n"
      ]
    },
    {
      "cell_type": "code",
      "execution_count": null,
      "metadata": {
        "colab": {
          "base_uri": "https://localhost:8080/",
          "height": 429
        },
        "id": "Eoya70fA53Pr",
        "outputId": "761a8a4e-31b3-4613-de79-69fbb4c13319"
      },
      "outputs": [
        {
          "output_type": "stream",
          "name": "stderr",
          "text": [
            "/usr/local/lib/python3.7/dist-packages/ipykernel_launcher.py:12: UserWarning: `Model.fit_generator` is deprecated and will be removed in a future version. Please use `Model.fit`, which supports generators.\n",
            "  if sys.path[0] == '':\n",
            "/usr/local/lib/python3.7/dist-packages/tensorflow/python/util/dispatch.py:1082: UserWarning: \"`categorical_crossentropy` received `from_logits=True`, but the `output` argument was produced by a sigmoid or softmax activation and thus does not represent logits. Was this intended?\"\n",
            "  return dispatch_target(*args, **kwargs)\n"
          ]
        },
        {
          "output_type": "display_data",
          "data": {
            "text/plain": [
              "<Figure size 720x360 with 2 Axes>"
            ],
            "image/png": "[encoded data removed]"
          },
          "metadata": {
            "needs_background": "light"
          }
        }
      ],
      "source": [
        "# build model\n",
        "base_model_mpl_shape_with_classweight = tf.keras.Sequential([\n",
        "    tf.keras.layers.Flatten(input_shape=input_dimension),\n",
        "    tf.keras.layers.Dense(32, activation='sigmoid'),\n",
        "    tf.keras.layers.Dense(numbers_of_shape, activation ='softmax')\n",
        "])\n",
        "# comile model\n",
        "base_model_mpl_shape_with_classweight.compile(optimizer='SGD',\n",
        "              loss=tf.keras.losses.CategoricalCrossentropy(from_logits=True),\n",
        "              metrics=['categorical_accuracy'])\n",
        "# train model\n",
        "history = base_model_mpl_shape_with_classweight.fit_generator(train_shape, validation_data = validation_shape, class_weight=class_weight_dict_shape,  epochs=300, verbose=0)\n",
        "# plot \n",
        "plot_learning_curve(history.history['loss'], history.history['val_loss'], \n",
        "                    history.history['categorical_accuracy'], history.history['val_categorical_accuracy'], \n",
        "                    metric_name='Accuracy')\n"
      ]
    },
    {
      "cell_type": "markdown",
      "metadata": {
        "id": "O44KgFQ-9AUC"
      },
      "source": [
        "<u>Observation:</u><br>\n",
        "* Although `class_weight` parameter is included, the accuracy of the model is not much higher comparing to the baseline one. An explanation for this would be that class imbalance is not the factor that affecting the accuracy of the model. \n",
        "* The model converges much faster than the baseline model (Ex: the accuracy of this model after 20 epoches is about 70% while for the baseline model it is only at 50%) \n"
      ]
    },
    {
      "cell_type": "markdown",
      "metadata": {
        "id": "rb-fpiZu-CZs"
      },
      "source": [
        "<u>Actions:</u><br>\n",
        "* We would want to change the architecture and see whether the accuracy would be improved.\n",
        "* Firstly we would test whether increase the number of neurons in one hidden layer will improve the accuracy.\n"
      ]
    },
    {
      "cell_type": "markdown",
      "metadata": {
        "id": "zIgAPL7V6m0O"
      },
      "source": [
        "***Adding Neurons to Hidden Layer***"
      ]
    },
    {
      "cell_type": "code",
      "execution_count": null,
      "metadata": {
        "colab": {
          "base_uri": "https://localhost:8080/",
          "height": 390
        },
        "id": "dQGtrRaY7eLO",
        "outputId": "62217c94-4503-4188-ec1f-5f75efadc9e8"
      },
      "outputs": [
        {
          "output_type": "stream",
          "name": "stderr",
          "text": [
            "/usr/local/lib/python3.7/dist-packages/ipykernel_launcher.py:15: UserWarning: `Model.fit_generator` is deprecated and will be removed in a future version. Please use `Model.fit`, which supports generators.\n",
            "  from ipykernel import kernelapp as app\n"
          ]
        },
        {
          "output_type": "display_data",
          "data": {
            "text/plain": [
              "<Figure size 720x360 with 2 Axes>"
            ],
            "image/png": "[encoded data removed]"
          },
          "metadata": {
            "needs_background": "light"
          }
        }
      ],
      "source": [
        "# Increase the number of neurons in the 1st hidden layer\n",
        "model_mlp2_shape = tf.keras.Sequential([\n",
        "    tf.keras.layers.Flatten(input_shape=input_dimension),\n",
        "    # 1st layer\n",
        "    tf.keras.layers.Dense(128, activation = \"sigmoid\"),\n",
        "    tf.keras.layers.Dense(numbers_of_shape, activation='softmax' )\n",
        "])\n",
        "\n",
        "    # loss function\n",
        "model_mlp2_shape.compile(optimizer=keras.optimizers.SGD(),\n",
        "                 loss='CategoricalCrossentropy',\n",
        "                 metrics=['categorical_accuracy'])\n",
        "\n",
        "# feed data to model\n",
        "history = model_mlp2_shape.fit_generator(train_shape, validation_data = validation_shape, epochs=300, verbose=0,class_weight=class_weight_dict_shape)\n",
        "#plot\n",
        "plot_learning_curve(history.history['loss'], history.history['val_loss'], \n",
        "                    history.history['categorical_accuracy'], history.history['val_categorical_accuracy'], \n",
        "                    metric_name='Accuracy')\n"
      ]
    },
    {
      "cell_type": "markdown",
      "metadata": {
        "id": "FYrk307wxRql"
      },
      "source": [
        "<u>Observation:</u><br>\n",
        "* The accuracy is slightly higher (around 1%), as expected, when we increase the number of neurons in the hidden layer.\n",
        "* The 2 models converge at similar rate, however, overfit problem occurs much earlier comparing to the previous model. \n"
      ]
    },
    {
      "cell_type": "markdown",
      "metadata": {
        "id": "NrvI1N-aTExz"
      },
      "source": [
        "<u>Actions:</u><br>\n",
        "* We will test adding another hidden layer and expect the accuracy will further be\n"
      ]
    },
    {
      "cell_type": "markdown",
      "metadata": {
        "id": "uROyJjryE068"
      },
      "source": [
        "***Adding Hidden Layer***"
      ]
    },
    {
      "cell_type": "code",
      "execution_count": null,
      "metadata": {
        "colab": {
          "base_uri": "https://localhost:8080/",
          "height": 375
        },
        "id": "nmIRxbTZhNkD",
        "outputId": "1765061c-f970-4d6c-bcf6-252701386de6"
      },
      "outputs": [
        {
          "output_type": "stream",
          "name": "stderr",
          "text": [
            "/usr/local/lib/python3.7/dist-packages/ipykernel_launcher.py:17: UserWarning: `Model.fit_generator` is deprecated and will be removed in a future version. Please use `Model.fit`, which supports generators.\n"
          ]
        },
        {
          "output_type": "display_data",
          "data": {
            "text/plain": [
              "<Figure size 720x360 with 2 Axes>"
            ],
            "image/png": "[encoded data removed]"
          },
          "metadata": {
            "needs_background": "light"
          }
        }
      ],
      "source": [
        "# increase the number of hidden layers \n",
        "model_mlp3_shape = tf.keras.Sequential([\n",
        "    tf.keras.layers.Flatten(input_shape=input_dimension),\n",
        "    # 1st layer\n",
        "    tf.keras.layers.Dense(128, activation = \"sigmoid\"),\n",
        "    # 2nd layer\n",
        "    tf.keras.layers.Dense(128, activation = \"sigmoid\")  ,\n",
        "    tf.keras.layers.Dense(numbers_of_shape, activation='softmax' )\n",
        "])\n",
        "\n",
        "    # loss function\n",
        "model_mlp3_shape.compile(optimizer=keras.optimizers.SGD(),\n",
        "                 loss='CategoricalCrossentropy',\n",
        "                 metrics=['categorical_accuracy'])\n",
        "\n",
        "# feed data to model\n",
        "history = model_mlp3_shape.fit_generator(train_shape, validation_data = validation_shape, epochs=300, verbose=0,class_weight=class_weight_dict_shape)\n",
        "#plot\n",
        "plot_learning_curve(history.history['loss'], history.history['val_loss'], \n",
        "                    history.history['categorical_accuracy'], history.history['val_categorical_accuracy'], \n",
        "                    metric_name='Accuracy')\n"
      ]
    },
    {
      "cell_type": "markdown",
      "metadata": {
        "id": "SYNvViCsxNd8"
      },
      "source": [
        "<u>Observation:</u><br>\n",
        "* The model shows to be slightly overfitted (around 2%), however, the accuracy does not increase as much as before. \n"
      ]
    },
    {
      "cell_type": "markdown",
      "metadata": {
        "id": "H1EOa_sbFcjR"
      },
      "source": [
        "\n",
        "<u>Actions:</u><br>\n",
        "* It seems like using this same activation function `sigmoid` the model has already reached an saturation point where changing the model architecture no longer can improve the accuracy. For this reason we will test if we can improve the convergant rate by changing the activation to `relu`. \n"
      ]
    },
    {
      "cell_type": "markdown",
      "metadata": {
        "id": "goBvtICPFkxW"
      },
      "source": [
        "***Relu Activation***"
      ]
    },
    {
      "cell_type": "code",
      "execution_count": null,
      "metadata": {
        "colab": {
          "base_uri": "https://localhost:8080/",
          "height": 390
        },
        "id": "-9fgv5-ChObp",
        "outputId": "7e7d405f-2314-49e9-c049-e1525bca5ba4"
      },
      "outputs": [
        {
          "output_type": "stream",
          "name": "stderr",
          "text": [
            "/usr/local/lib/python3.7/dist-packages/ipykernel_launcher.py:15: UserWarning: `Model.fit_generator` is deprecated and will be removed in a future version. Please use `Model.fit`, which supports generators.\n",
            "  from ipykernel import kernelapp as app\n"
          ]
        },
        {
          "output_type": "display_data",
          "data": {
            "text/plain": [
              "<Figure size 720x360 with 2 Axes>"
            ],
            "image/png": "[encoded data removed]"
          },
          "metadata": {
            "needs_background": "light"
          }
        }
      ],
      "source": [
        "# Add normalization\n",
        "model_mlp4_shape = tf.keras.Sequential([\n",
        "    tf.keras.layers.Flatten(input_shape=input_dimension),\n",
        "    tf.keras.layers.Dense(128, activation='relu'),\n",
        "    tf.keras.layers.Dense(128, activation = \"relu\")  ,\n",
        "    tf.keras.layers.Dense(numbers_of_shape, activation='softmax' )\n",
        "])\n",
        "\n",
        "    # loss function\n",
        "model_mlp4_shape.compile(optimizer=keras.optimizers.SGD(),\n",
        "                 loss='CategoricalCrossentropy',\n",
        "                 metrics=['categorical_accuracy'])\n",
        "\n",
        "# feed data to model\n",
        "history = model_mlp4_shape.fit_generator(train_shape, validation_data = validation_shape, epochs=300, verbose=0 ,class_weight=class_weight_dict_shape)\n",
        "\n",
        "plot_learning_curve(history.history['loss'], history.history['val_loss'], \n",
        "                    history.history['categorical_accuracy'], history.history['val_categorical_accuracy'], \n",
        "                    metric_name='Accuracy')\n",
        "\n"
      ]
    },
    {
      "cell_type": "markdown",
      "metadata": {
        "id": "3ywbQ1RNxkrK"
      },
      "source": [
        "<u>Observation:</u><br>\n",
        "* Convergent rate is much faster and accuracy is still being kept at very high.  \n",
        "* When changing from `sigmoid` parameter to `relu` the model shows a similar overfit percentage (2% comparing to 1%) when training until convergent. \n",
        "* For this reason we will keep on improving the model using `relu` activation function instead of `sigmoid`. \n",
        "\n"
      ]
    },
    {
      "cell_type": "markdown",
      "metadata": {
        "id": "fbv9nhCcYtOf"
      },
      "source": [
        "<u>Actions:</u><br>\n",
        "* As overfit is oberved, we will apply certain technique trying to solve this problem. \n",
        "* Techniques that will be tested including `kernal_regulizer`, `dropout`, and `early_stopping`.  "
      ]
    },
    {
      "cell_type": "markdown",
      "metadata": {
        "id": "8NjtMSQgh-Ii"
      },
      "source": [
        "***Ridge Regularization***"
      ]
    },
    {
      "cell_type": "markdown",
      "metadata": {
        "id": "5G1OiAh0ia9c"
      },
      "source": [
        "We will test 2 different alpha value which is 0.001 and 0.01 and compare their impacts on the model"
      ]
    },
    {
      "cell_type": "code",
      "execution_count": null,
      "metadata": {
        "colab": {
          "base_uri": "https://localhost:8080/",
          "height": 390
        },
        "id": "AHWAJpUveSuw",
        "outputId": "a18b1a5a-ac3a-41ba-8428-d8ddc6729ea4"
      },
      "outputs": [
        {
          "output_type": "stream",
          "name": "stderr",
          "text": [
            "/usr/local/lib/python3.7/dist-packages/ipykernel_launcher.py:15: UserWarning: `Model.fit_generator` is deprecated and will be removed in a future version. Please use `Model.fit`, which supports generators.\n",
            "  from ipykernel import kernelapp as app\n"
          ]
        },
        {
          "output_type": "display_data",
          "data": {
            "text/plain": [
              "<Figure size 720x360 with 2 Axes>"
            ],
            "image/png": "[encoded data removed]"
          },
          "metadata": {
            "needs_background": "light"
          }
        }
      ],
      "source": [
        "# regularisation\n",
        "model_mlp5_shape = tf.keras.Sequential([\n",
        "    tf.keras.layers.Flatten(input_shape=input_dimension),\n",
        "    tf.keras.layers.Dense(128, activation = \"relu\", kernel_regularizer=tf.keras.regularizers.l2(0.0001)),\n",
        "    tf.keras.layers.Dense(128, activation = \"relu\"),\n",
        "    tf.keras.layers.Dense(numbers_of_shape, activation='softmax')\n",
        "])\n",
        "\n",
        "    # loss function\n",
        "model_mlp5_shape.compile(optimizer=keras.optimizers.SGD(),\n",
        "                 loss='CategoricalCrossentropy',\n",
        "                 metrics=['categorical_accuracy'])\n",
        "\n",
        "# feed data to model\n",
        "history = model_mlp5_shape.fit_generator(train_shape, validation_data = validation_shape, epochs=300, verbose=0,class_weight=class_weight_dict_shape)\n",
        "\n",
        "plot_learning_curve(history.history['loss'], history.history['val_loss'], \n",
        "                    history.history['categorical_accuracy'], history.history['val_categorical_accuracy'], \n",
        "                    metric_name='Accuracy')\n"
      ]
    },
    {
      "cell_type": "code",
      "execution_count": null,
      "metadata": {
        "colab": {
          "base_uri": "https://localhost:8080/",
          "height": 391
        },
        "id": "vND5u3E8x821",
        "outputId": "767c6187-7d6b-49ef-f8a1-6be45de2380a"
      },
      "outputs": [
        {
          "output_type": "stream",
          "name": "stderr",
          "text": [
            "/usr/local/lib/python3.7/dist-packages/ipykernel_launcher.py:15: UserWarning: `Model.fit_generator` is deprecated and will be removed in a future version. Please use `Model.fit`, which supports generators.\n",
            "  from ipykernel import kernelapp as app\n"
          ]
        },
        {
          "output_type": "display_data",
          "data": {
            "text/plain": [
              "<Figure size 720x360 with 2 Axes>"
            ],
            "image/png": "[encoded data removed]"
          },
          "metadata": {
            "needs_background": "light"
          }
        }
      ],
      "source": [
        "# regularisation\n",
        "model_mlp6_shape = tf.keras.Sequential([\n",
        "    tf.keras.layers.Flatten(input_shape=input_dimension),\n",
        "    tf.keras.layers.Dense(128, activation = \"relu\", kernel_regularizer=tf.keras.regularizers.l2(0.001)),\n",
        "    tf.keras.layers.Dense(128, activation = \"relu\"),\n",
        "    tf.keras.layers.Dense(numbers_of_shape, activation='softmax')\n",
        "])\n",
        "\n",
        "    # loss function\n",
        "model_mlp6_shape.compile(optimizer=keras.optimizers.SGD(),\n",
        "                 loss='CategoricalCrossentropy',\n",
        "                 metrics=['categorical_accuracy'])\n",
        "\n",
        "# feed data to model\n",
        "history = model_mlp6_shape.fit_generator(train_shape, validation_data = validation_shape, epochs=300, verbose=0,class_weight=class_weight_dict_shape)\n",
        "\n",
        "plot_learning_curve(history.history['loss'], history.history['val_loss'], \n",
        "                    history.history['categorical_accuracy'], history.history['val_categorical_accuracy'], \n",
        "                    metric_name='Accuracy')\n"
      ]
    },
    {
      "cell_type": "markdown",
      "metadata": {
        "id": "MRsQLK07i_0R"
      },
      "source": [
        "<u>Observation:</u><br>\n",
        "* Model seems to be less overfit when regularization is being used. \n",
        "* The model that used an alpha 0.001, however, shows an accuracy drops after 100 epochs. This means that an alpha of 0.001 is too large for this dataset as the higher this alpha coefficient, the higher the shrinkage.  \n",
        "\n"
      ]
    },
    {
      "cell_type": "markdown",
      "metadata": {
        "id": "GYdWeWfdkwwb"
      },
      "source": [
        "<u>Actions:</u><br>\n",
        "* We would first further test out other technique to lower the overfit. The next techniques that will be applied are `dropout`, which will disable certain neurons during training, and `early_stopping`, which will stop training when validation accuracy stop improving.\n",
        "* These two techniques do not work well together as `dropout` often reduces the accuracy of the model so it is better to have longer training epoch. For this reason, these two techniques will be used separately. \n"
      ]
    },
    {
      "cell_type": "markdown",
      "metadata": {
        "id": "xBTrFXQBzBsw"
      },
      "source": [
        "***Dropout***\n",
        "\n",
        "The technique has an effect of preventing weights from being overly dependent on each other."
      ]
    },
    {
      "cell_type": "code",
      "execution_count": null,
      "metadata": {
        "colab": {
          "base_uri": "https://localhost:8080/",
          "height": 390
        },
        "id": "V_bQ-KP7hRnv",
        "outputId": "90ba44d7-cec4-4fb3-8bc6-80810fd4995f"
      },
      "outputs": [
        {
          "output_type": "stream",
          "name": "stderr",
          "text": [
            "/usr/local/lib/python3.7/dist-packages/ipykernel_launcher.py:15: UserWarning: `Model.fit_generator` is deprecated and will be removed in a future version. Please use `Model.fit`, which supports generators.\n",
            "  from ipykernel import kernelapp as app\n"
          ]
        },
        {
          "output_type": "display_data",
          "data": {
            "text/plain": [
              "<Figure size 720x360 with 2 Axes>"
            ],
            "image/png": "[encoded data removed]"
          },
          "metadata": {
            "needs_background": "light"
          }
        }
      ],
      "source": [
        "model_mlp7_shape = tf.keras.Sequential([\n",
        "    tf.keras.layers.Flatten(input_shape=input_dimension),\n",
        "    tf.keras.layers.Dense(128, activation = \"relu\", kernel_regularizer=tf.keras.regularizers.l2(0.0001)),\n",
        "    tf.keras.layers.Dense(128, activation = \"relu\"),\n",
        "    tf.keras.layers.Dropout(.2),\n",
        "    tf.keras.layers.Dense(numbers_of_shape, activation='softmax')\n",
        "])\n",
        "\n",
        "    # loss function\n",
        "model_mlp7_shape.compile(optimizer=keras.optimizers.SGD(),\n",
        "                 loss='CategoricalCrossentropy',\n",
        "                 metrics=['categorical_accuracy'])\n",
        "\n",
        "# feed data to model\n",
        "history = model_mlp7_shape.fit_generator(train_shape, validation_data = validation_shape, epochs=300, verbose=0,class_weight=class_weight_dict_shape)\n",
        "\n",
        "plot_learning_curve(history.history['loss'], history.history['val_loss'], \n",
        "                    history.history['categorical_accuracy'], history.history['val_categorical_accuracy'], \n",
        "                    metric_name='Accuracy')\n",
        "\n"
      ]
    },
    {
      "cell_type": "markdown",
      "metadata": {
        "id": "mWjr4JrjzUtZ"
      },
      "source": [
        "***Early Stopping***\n",
        "\n"
      ]
    },
    {
      "cell_type": "code",
      "execution_count": null,
      "metadata": {
        "colab": {
          "base_uri": "https://localhost:8080/",
          "height": 430
        },
        "id": "q4UtBpdpjklW",
        "outputId": "3e12261c-6634-4710-ae6d-d2af9a7c3da4"
      },
      "outputs": [
        {
          "output_type": "stream",
          "name": "stderr",
          "text": [
            "/usr/local/lib/python3.7/dist-packages/ipykernel_launcher.py:14: UserWarning: `Model.fit_generator` is deprecated and will be removed in a future version. Please use `Model.fit`, which supports generators.\n",
            "  \n"
          ]
        },
        {
          "output_type": "stream",
          "name": "stdout",
          "text": [
            "Restoring model weights from the end of the best epoch: 53.\n",
            "Epoch 68: early stopping\n"
          ]
        },
        {
          "output_type": "display_data",
          "data": {
            "text/plain": [
              "<Figure size 720x360 with 2 Axes>"
            ],
            "image/png": "[encoded data removed]"
          },
          "metadata": {
            "needs_background": "light"
          }
        }
      ],
      "source": [
        "model_mlp8_shape = tf.keras.Sequential([\n",
        "    tf.keras.layers.Flatten(input_shape=input_dimension),\n",
        "    tf.keras.layers.Dense(128, activation = \"relu\", kernel_regularizer=tf.keras.regularizers.l2(0.0001)),\n",
        "    tf.keras.layers.Dense(128, activation = \"relu\"),\n",
        "    tf.keras.layers.Dense(numbers_of_shape, activation='softmax')\n",
        "])\n",
        "\n",
        "    # loss function\n",
        "model_mlp8_shape.compile(optimizer=keras.optimizers.SGD(),\n",
        "                 loss='CategoricalCrossentropy',\n",
        "                 metrics=['categorical_accuracy'])\n",
        "\n",
        "# feed data to model\n",
        "history = model_mlp8_shape.fit_generator(train_shape, validation_data = validation_shape, epochs=300, verbose=0,class_weight=class_weight_dict_shape, callbacks = [early_stopping])\n",
        "\n",
        "plot_learning_curve(history.history['loss'], history.history['val_loss'], \n",
        "                    history.history['categorical_accuracy'], history.history['val_categorical_accuracy'], \n",
        "                    metric_name='Accuracy')\n",
        "\n"
      ]
    },
    {
      "cell_type": "markdown",
      "metadata": {
        "id": "baLVE9L-x-mY"
      },
      "source": [
        "<u>Observation:</u><br>\n",
        "* Both models using `dropout` and `early_stopping` shows similar performance in term of accuracy and convergent. However, `early_stopping` allow the model to stop training only after 122 epoches and for this reason, this model is saved to evaluate on the test set.\n"
      ]
    },
    {
      "cell_type": "code",
      "execution_count": null,
      "metadata": {
        "colab": {
          "base_uri": "https://localhost:8080/"
        },
        "id": "c-t7_PwErdjg",
        "outputId": "242b895f-193f-48fa-a634-11cf88db67ec"
      },
      "outputs": [
        {
          "output_type": "stream",
          "name": "stdout",
          "text": [
            "INFO:tensorflow:Assets written to: shape_fine_tuned_MLP_model/assets\n"
          ]
        }
      ],
      "source": [
        "model_mlp8_shape.save(\"shape_fine_tuned_MLP_model\")     \n",
        "!cp -R ./shape_fine_tuned_MLP_model /content/gdrive/'My Drive'/COSC2673_2110/      "
      ]
    },
    {
      "cell_type": "markdown",
      "metadata": {
        "id": "Knp4XNJLT5o9"
      },
      "source": [
        "###### **2.2.1.1.3 Model for Augmented data for Shape (no class weight)**"
      ]
    },
    {
      "cell_type": "code",
      "execution_count": null,
      "metadata": {
        "colab": {
          "base_uri": "https://localhost:8080/",
          "height": 409
        },
        "id": "L63ddvsTT5_R",
        "outputId": "844a96a4-8bb2-4693-be70-98223dfdfee9"
      },
      "outputs": [
        {
          "output_type": "stream",
          "name": "stderr",
          "text": [
            "/usr/local/lib/python3.7/dist-packages/ipykernel_launcher.py:17: UserWarning: `Model.fit_generator` is deprecated and will be removed in a future version. Please use `Model.fit`, which supports generators.\n"
          ]
        },
        {
          "output_type": "stream",
          "name": "stdout",
          "text": [
            "Restoring model weights from the end of the best epoch: 56.\n",
            "Epoch 71: early stopping\n"
          ]
        },
        {
          "output_type": "display_data",
          "data": {
            "text/plain": [
              "<Figure size 720x360 with 2 Axes>"
            ],
            "image/png": "[encoded data removed]"
          },
          "metadata": {
            "needs_background": "light"
          }
        }
      ],
      "source": [
        "# regularisation\n",
        "model_mlp_shape_augmented = tf.keras.Sequential([\n",
        "    tf.keras.layers.Flatten(input_shape=input_dimension),\n",
        "    tf.keras.layers.Dense(128, activation='relu', kernel_regularizer=tf.keras.regularizers.l2(0.0001)),\n",
        "    tf.keras.layers.LayerNormalization(),\n",
        "    tf.keras.layers.Dense(128),\n",
        "    tf.keras.layers.Dropout(.5),\n",
        "    tf.keras.layers.Dense(numbers_of_shape, activation='softmax')\n",
        "])\n",
        "\n",
        "    # loss function\n",
        "model_mlp_shape_augmented.compile(optimizer=keras.optimizers.SGD(),\n",
        "                 loss='CategoricalCrossentropy',\n",
        "                 metrics=['categorical_accuracy'])\n",
        "\n",
        "# feed data to model\n",
        "history = model_mlp_shape_augmented.fit_generator(augmented_train_shape, validation_data = validation_shape, epochs=300, verbose=0,callbacks = [early_stopping])\n",
        "\n",
        "plot_learning_curve(history.history['loss'], history.history['val_loss'], \n",
        "                    history.history['categorical_accuracy'], history.history['val_categorical_accuracy'], \n",
        "                    metric_name='Accuracy')\n"
      ]
    },
    {
      "cell_type": "code",
      "execution_count": null,
      "metadata": {
        "colab": {
          "base_uri": "https://localhost:8080/"
        },
        "id": "UZgQ3dVY_Crt",
        "outputId": "a687536a-8427-47ca-a965-2f63eac91ac5"
      },
      "outputs": [
        {
          "output_type": "stream",
          "name": "stdout",
          "text": [
            "INFO:tensorflow:Assets written to: shape_model_mlp_augmented/assets\n"
          ]
        }
      ],
      "source": [
        "model_mlp_shape_augmented.save(\"shape_model_mlp_augmented\")     \n",
        "!cp -R ./shape_model_mlp_augmented /content/gdrive/'My Drive'/COSC2673_2110/    "
      ]
    },
    {
      "cell_type": "markdown",
      "metadata": {
        "id": "RuPkVPMS3A8_"
      },
      "source": [
        "#### **2.2.1.2 Type Classification**\n"
      ]
    },
    {
      "cell_type": "markdown",
      "metadata": {
        "id": "Vw_--nNINRYA"
      },
      "source": [
        "###### **2.2.1.2.1 Base Model**"
      ]
    },
    {
      "cell_type": "code",
      "execution_count": null,
      "metadata": {
        "colab": {
          "base_uri": "https://localhost:8080/",
          "height": 394
        },
        "id": "lVAsDtsoNn2q",
        "outputId": "abbeb0dc-aebc-435c-a78c-ea144e90537e"
      },
      "outputs": [
        {
          "output_type": "stream",
          "name": "stderr",
          "text": [
            "/usr/local/lib/python3.7/dist-packages/ipykernel_launcher.py:11: UserWarning: `Model.fit_generator` is deprecated and will be removed in a future version. Please use `Model.fit`, which supports generators.\n",
            "  # This is added back by InteractiveShellApp.init_path()\n"
          ]
        },
        {
          "output_type": "display_data",
          "data": {
            "text/plain": [
              "<Figure size 720x360 with 2 Axes>"
            ],
            "image/png": "[encoded data removed]"
          },
          "metadata": {
            "needs_background": "light"
          }
        }
      ],
      "source": [
        "base_model_mlp_type = tf.keras.Sequential([\n",
        "    tf.keras.layers.Flatten(input_shape=input_dimension),\n",
        "    tf.keras.layers.Dense(64, activation='sigmoid'),\n",
        "    tf.keras.layers.Dense(numbers_of_sign)\n",
        "])\n",
        "\n",
        "base_model_mlp_type.compile(optimizer='SGD',\n",
        "              loss=tf.keras.losses.CategoricalCrossentropy(from_logits=True),\n",
        "              metrics=['categorical_accuracy'])\n",
        "\n",
        "history = base_model_mlp_type.fit_generator(train_type, validation_data=validation_type, epochs=300, verbose=0, class_weight=class_weight_dict_sign)\n",
        "\n",
        "\n",
        "plot_learning_curve(history.history['loss'], history.history['val_loss'], \n",
        "                    history.history['categorical_accuracy'], history.history['val_categorical_accuracy'], \n",
        "                    metric_name='Accuracy')\n",
        "\n"
      ]
    },
    {
      "cell_type": "markdown",
      "metadata": {
        "id": "wRjMSfe95Ujz"
      },
      "source": [
        "<u>Observation:</u><br>\n",
        "* This base model performs quite well on the training set, however, perform poorly on the validation set (8% diff). This means that this model is proning to overfit. \n",
        "* We would first try to boost the model accuracy a bit further by adding more neurons and another hidden layer. Then, we will implement techniques to solve overfitting. "
      ]
    },
    {
      "cell_type": "code",
      "execution_count": null,
      "metadata": {
        "colab": {
          "base_uri": "https://localhost:8080/"
        },
        "id": "Dx70cQIT2RbQ",
        "outputId": "44b89be4-6a78-4151-8303-6945b2a1cab2"
      },
      "outputs": [
        {
          "output_type": "stream",
          "name": "stdout",
          "text": [
            "INFO:tensorflow:Assets written to: sign_base_model_mlp/assets\n"
          ]
        }
      ],
      "source": [
        "base_model_mlp_type.save(\"sign_base_model_mlp\")     \n",
        "!cp -R ./sign_base_model_mlp /content/gdrive/'My Drive'/COSC2673_2110/    "
      ]
    },
    {
      "cell_type": "markdown",
      "metadata": {
        "id": "Tw0Ih8hFQIay"
      },
      "source": [
        "\n",
        "##### **2.2.1.2.2 Parameters Tuning Model**\n",
        "\n"
      ]
    },
    {
      "cell_type": "code",
      "execution_count": null,
      "metadata": {
        "colab": {
          "base_uri": "https://localhost:8080/",
          "height": 390
        },
        "id": "FH5LG1b40jSm",
        "outputId": "73848de3-ebd0-4eef-f902-f1dae6d2e456"
      },
      "outputs": [
        {
          "output_type": "stream",
          "name": "stderr",
          "text": [
            "/usr/local/lib/python3.7/dist-packages/ipykernel_launcher.py:14: UserWarning: `Model.fit_generator` is deprecated and will be removed in a future version. Please use `Model.fit`, which supports generators.\n",
            "  \n"
          ]
        },
        {
          "output_type": "display_data",
          "data": {
            "text/plain": [
              "<Figure size 720x360 with 2 Axes>"
            ],
            "image/png": "[encoded data removed]"
          },
          "metadata": {
            "needs_background": "light"
          }
        }
      ],
      "source": [
        "model_mlp1_type = tf.keras.Sequential([\n",
        "    tf.keras.layers.Flatten(input_shape=input_dimension),\n",
        "    tf.keras.layers.Dense(128, activation = \"relu\"),\n",
        "    tf.keras.layers.Dense(128, activation = \"relu\"),\n",
        "    tf.keras.layers.Dense(numbers_of_sign, activation='softmax')\n",
        "])\n",
        "\n",
        "    # loss function\n",
        "model_mlp1_type.compile(optimizer=keras.optimizers.SGD(),\n",
        "                 loss='CategoricalCrossentropy',\n",
        "                 metrics=['categorical_accuracy'])\n",
        "\n",
        "# feed data to model\n",
        "history = model_mlp1_type.fit_generator(train_type, validation_data = validation_type, epochs=300, verbose=0,class_weight=class_weight_dict_sign)\n",
        "\n",
        "plot_learning_curve(history.history['loss'], history.history['val_loss'], \n",
        "                    history.history['categorical_accuracy'], history.history['val_categorical_accuracy'], \n",
        "                    metric_name='Accuracy')\n",
        "\n"
      ]
    },
    {
      "cell_type": "markdown",
      "metadata": {
        "id": "AkF-bQDq6M3y"
      },
      "source": [
        "<u>Observation:</u><br>\n",
        "* We can see that by increasing the number of neurons and add 1 more layers the model now has been able to increase its accuracy by 2%. \n",
        "* We still need to try to solve the problem of overfitting so a combination of techniques including `regularization` and `early_stopping` will be used."
      ]
    },
    {
      "cell_type": "code",
      "execution_count": null,
      "metadata": {
        "colab": {
          "base_uri": "https://localhost:8080/",
          "height": 390
        },
        "id": "rDeN9bvf2iHI",
        "outputId": "6a6acc62-6551-4649-b093-6d8510dd2304"
      },
      "outputs": [
        {
          "output_type": "stream",
          "name": "stderr",
          "text": [
            "/usr/local/lib/python3.7/dist-packages/ipykernel_launcher.py:14: UserWarning: `Model.fit_generator` is deprecated and will be removed in a future version. Please use `Model.fit`, which supports generators.\n",
            "  \n"
          ]
        },
        {
          "output_type": "display_data",
          "data": {
            "text/plain": [
              "<Figure size 720x360 with 2 Axes>"
            ],
            "image/png": "[encoded data removed]"
          },
          "metadata": {
            "needs_background": "light"
          }
        }
      ],
      "source": [
        "model_mlp2_type = tf.keras.Sequential([\n",
        "    tf.keras.layers.Flatten(input_shape=input_dimension),\n",
        "    tf.keras.layers.Dense(128, activation = \"relu\", kernel_regularizer=tf.keras.regularizers.l2(0.001)),\n",
        "    tf.keras.layers.Dense(128, activation = \"relu\"),\n",
        "    tf.keras.layers.Dense(numbers_of_sign, activation='softmax')\n",
        "])\n",
        "\n",
        "    # loss function\n",
        "model_mlp2_type.compile(optimizer=keras.optimizers.SGD(),\n",
        "                 loss='CategoricalCrossentropy',\n",
        "                 metrics=['categorical_accuracy'])\n",
        "\n",
        "# feed data to model\n",
        "history = model_mlp2_type.fit_generator(train_type, validation_data = validation_type, epochs=300, verbose=0,class_weight=class_weight_dict_sign)\n",
        "\n",
        "plot_learning_curve(history.history['loss'], history.history['val_loss'], \n",
        "                    history.history['categorical_accuracy'], history.history['val_categorical_accuracy'], \n",
        "                    metric_name='Accuracy')\n",
        "\n"
      ]
    },
    {
      "cell_type": "code",
      "execution_count": null,
      "metadata": {
        "colab": {
          "base_uri": "https://localhost:8080/",
          "height": 390
        },
        "id": "_dR365mH7kEe",
        "outputId": "d2424844-e7a8-4530-e2fe-ecab2965ccb0"
      },
      "outputs": [
        {
          "output_type": "stream",
          "name": "stderr",
          "text": [
            "/usr/local/lib/python3.7/dist-packages/ipykernel_launcher.py:14: UserWarning: `Model.fit_generator` is deprecated and will be removed in a future version. Please use `Model.fit`, which supports generators.\n",
            "  \n"
          ]
        },
        {
          "output_type": "display_data",
          "data": {
            "text/plain": [
              "<Figure size 720x360 with 2 Axes>"
            ],
            "image/png": "[encoded data removed]"
          },
          "metadata": {
            "needs_background": "light"
          }
        }
      ],
      "source": [
        "model_mlp3_type = tf.keras.Sequential([\n",
        "    tf.keras.layers.Flatten(input_shape=input_dimension),\n",
        "    tf.keras.layers.Dense(128, activation = \"relu\", kernel_regularizer=tf.keras.regularizers.l2(0.0001)),\n",
        "    tf.keras.layers.Dense(128, activation = \"relu\"),\n",
        "    tf.keras.layers.Dense(numbers_of_sign, activation='softmax')\n",
        "])\n",
        "\n",
        "    # loss function\n",
        "model_mlp3_type.compile(optimizer=keras.optimizers.SGD(),\n",
        "                 loss='CategoricalCrossentropy',\n",
        "                 metrics=['categorical_accuracy'])\n",
        "\n",
        "# feed data to model\n",
        "history = model_mlp3_type.fit_generator(train_type, validation_data = validation_type, epochs=300, verbose=0,class_weight=class_weight_dict_sign)\n",
        "\n",
        "plot_learning_curve(history.history['loss'], history.history['val_loss'], \n",
        "                    history.history['categorical_accuracy'], history.history['val_categorical_accuracy'], \n",
        "                    metric_name='Accuracy')\n",
        "\n"
      ]
    },
    {
      "cell_type": "markdown",
      "metadata": {
        "id": "auGE8M1N9jh2"
      },
      "source": [
        "<u>Observation:</u><br>\n",
        "* In model 2, a regularization of 0.001 is used, while in model 3, a regularization of 0.01 is used. \n",
        "* It seems like although model 3 is slightly less overfit, model 2 is much better in term of accuracy so for this reason this model 3 is saved to be test with the test set. "
      ]
    },
    {
      "cell_type": "code",
      "execution_count": null,
      "metadata": {
        "colab": {
          "base_uri": "https://localhost:8080/"
        },
        "id": "O6F1LRng9Uvo",
        "outputId": "1e044431-ab56-4d89-efc4-b465d45ab105"
      },
      "outputs": [
        {
          "output_type": "stream",
          "name": "stdout",
          "text": [
            "INFO:tensorflow:Assets written to: sign_fine_tuned_MLP_model/assets\n"
          ]
        }
      ],
      "source": [
        "model_mlp3_type.save(\"sign_fine_tuned_MLP_model\")     \n",
        "!cp -R ./sign_fine_tuned_MLP_model /content/gdrive/'My Drive'/COSC2673_2110/    "
      ]
    },
    {
      "cell_type": "markdown",
      "metadata": {
        "id": "pzNCR7MWUpm9"
      },
      "source": [
        "\n",
        "##### **2.2.1.2.3 Model for augmented data for type (no class weight)**"
      ]
    },
    {
      "cell_type": "code",
      "execution_count": null,
      "metadata": {
        "colab": {
          "base_uri": "https://localhost:8080/",
          "height": 427
        },
        "id": "PHv1YYfgU0rs",
        "outputId": "0985de30-6a0a-45c1-eddf-49ac9b7f6dd1"
      },
      "outputs": [
        {
          "output_type": "stream",
          "name": "stderr",
          "text": [
            "/usr/local/lib/python3.7/dist-packages/ipykernel_launcher.py:15: UserWarning: `Model.fit_generator` is deprecated and will be removed in a future version. Please use `Model.fit`, which supports generators.\n",
            "  from ipykernel import kernelapp as app\n"
          ]
        },
        {
          "output_type": "stream",
          "name": "stdout",
          "text": [
            "Restoring model weights from the end of the best epoch: 64.\n",
            "Epoch 79: early stopping\n"
          ]
        },
        {
          "output_type": "display_data",
          "data": {
            "text/plain": [
              "<Figure size 720x360 with 2 Axes>"
            ],
            "image/png": "[encoded data removed]"
          },
          "metadata": {
            "needs_background": "light"
          }
        }
      ],
      "source": [
        "# regularisation\n",
        "model_mpl_augmented_type= tf.keras.Sequential([\n",
        "    tf.keras.layers.Flatten(input_shape=input_dimension),\n",
        "    tf.keras.layers.Dense(128, activation = \"relu\", kernel_regularizer=tf.keras.regularizers.l2(0.0001)),\n",
        "    tf.keras.layers.Dense(128, activation = \"relu\"),\n",
        "    tf.keras.layers.Dense(numbers_of_sign, activation='softmax' )\n",
        "])\n",
        "\n",
        "    # loss function\n",
        "model_mpl_augmented_type.compile(optimizer=keras.optimizers.SGD(),\n",
        "                 loss='CategoricalCrossentropy',\n",
        "                 metrics=['categorical_accuracy'])\n",
        "\n",
        "# feed data to model\n",
        "history = model_mpl_augmented_type.fit_generator(augmented_train_type, validation_data = validation_type, epochs=300, verbose=0,callbacks = [early_stopping]   )\n",
        "\n",
        "plot_learning_curve(history.history['loss'], history.history['val_loss'], \n",
        "                    history.history['categorical_accuracy'], history.history['val_categorical_accuracy'], \n",
        "                    metric_name='Accuracy')\n",
        "\n"
      ]
    },
    {
      "cell_type": "code",
      "execution_count": null,
      "metadata": {
        "colab": {
          "base_uri": "https://localhost:8080/"
        },
        "id": "iuNBHff5-9eL",
        "outputId": "99f2b60e-4394-44e7-8656-345d9c0c5569"
      },
      "outputs": [
        {
          "output_type": "stream",
          "name": "stdout",
          "text": [
            "INFO:tensorflow:Assets written to: sign_model_mpl_augmented/assets\n"
          ]
        }
      ],
      "source": [
        "model_mpl_augmented_type.save(\"sign_model_mpl_augmented\")     \n",
        "!cp -R ./sign_model_mpl_augmented /content/gdrive/'My Drive'/COSC2673_2110/    "
      ]
    },
    {
      "cell_type": "markdown",
      "metadata": {
        "id": "6TLIHGSnl1m9"
      },
      "source": [
        "### **2.2.2 Convolution Neural Network**"
      ]
    },
    {
      "cell_type": "markdown",
      "metadata": {
        "id": "LdTloq2logYv"
      },
      "source": [
        "In this section, we will implement two popular CNN architectural namely VGG and LeNet as our baseline model. Depending on the result, we will configure the architecture so as to be able to figure out the best solution for this image classification problem."
      ]
    },
    {
      "cell_type": "markdown",
      "metadata": {
        "id": "wSRumg1Ospx9"
      },
      "source": [
        "#### **A. VGG CNN Baseline Model**\n"
      ]
    },
    {
      "cell_type": "markdown",
      "metadata": {
        "id": "3nnC9zAcplnP"
      },
      "source": [
        "The VGG architecture that was used as the baseline model for this project is the modified architecture that was provided in the lecture (**link**). \n",
        "\n",
        "This modified architecture was chosen over the original VGG architecture as the original one contains many VGG - block (convolution + activation + pooling) and it is more suitable for larger image, however, our image is only of 28 * 28, which makes the modified version preferable. "
      ]
    },
    {
      "cell_type": "code",
      "execution_count": null,
      "metadata": {
        "id": "ZI-pZ73ol0TQ"
      },
      "outputs": [],
      "source": [
        "def create_VGG_Model(output):\n",
        "  VGG_model = tf.keras.Sequential([\n",
        "      # Block 1\n",
        "      tf.keras.layers.Conv2D(28, (3, 3), activation='relu', padding='same', input_shape=input_dimension),\n",
        "      tf.keras.layers.Conv2D(28, (3, 3), activation='relu', padding='same'),\n",
        "      tf.keras.layers.MaxPooling2D((2, 2)),\n",
        "      \n",
        "      # Block 2\n",
        "      tf.keras.layers.Conv2D(64, (3, 3), activation='relu', padding='same'),\n",
        "      tf.keras.layers.Conv2D(64, (3, 3), activation='relu', padding='same'),\n",
        "      tf.keras.layers.MaxPooling2D((2, 2)),\n",
        "      \n",
        "      # Block 3\n",
        "      tf.keras.layers.Conv2D(128, (3, 3), activation='relu', padding='same'),\n",
        "      tf.keras.layers.Conv2D(128, (3, 3), activation='relu', padding='same'),\n",
        "      tf.keras.layers.MaxPooling2D((2, 2)),\n",
        "      \n",
        "      tf.keras.layers.Flatten(),\n",
        "      tf.keras.layers.Dense(128, activation='relu'),\n",
        "      tf.keras.layers.Dense(output, activation = \"softmax\"),\n",
        "      ])\n",
        "  VGG_model.summary()\n",
        "  return VGG_model"
      ]
    },
    {
      "cell_type": "markdown",
      "metadata": {
        "id": "0vidgb0zcrDP"
      },
      "source": [
        "#### **B. LeNet CNN Baseline Model**"
      ]
    },
    {
      "cell_type": "code",
      "execution_count": null,
      "metadata": {
        "id": "RptibERWenLK"
      },
      "outputs": [],
      "source": [
        "def create_LeNet_model(output):\n",
        "  reg_lambda = 0.001\n",
        "\n",
        "  LeNet_model = tf.keras.Sequential([\n",
        "      tf.keras.layers.Input(shape=input_dimension),\n",
        "      tf.keras.layers.Lambda(lambda x: tf.expand_dims(x[:,:,:,0], -1, name=None)),\n",
        "      \n",
        "      \n",
        "      tf.keras.layers.Conv2D(32, (3, 3), kernel_regularizer=tf.keras.regularizers.l2(reg_lambda)),\n",
        "      tf.keras.layers.Activation('relu'),\n",
        "      tf.keras.layers.MaxPool2D(pool_size=(2,2)),\n",
        "      \n",
        "      tf.keras.layers.Conv2D(32, (3, 3), kernel_regularizer=tf.keras.regularizers.l2(reg_lambda)),\n",
        "      tf.keras.layers.Activation('relu'),\n",
        "      \n",
        "      tf.keras.layers.Conv2D(64, (3, 3)),\n",
        "      tf.keras.layers.Activation('relu'),\n",
        "      tf.keras.layers.MaxPool2D(pool_size=(2,2)),\n",
        "      \n",
        "      tf.keras.layers.Flatten(),\n",
        "      \n",
        "      tf.keras.layers.Dense(64),\n",
        "      tf.keras.layers.Activation('relu'),\n",
        "      tf.keras.layers.Dropout(0.5),\n",
        "      tf.keras.layers.Dense(output, activation='softmax', kernel_regularizer=tf.keras.regularizers.l2(reg_lambda))\n",
        "  ])\n",
        "  return LeNet_model"
      ]
    },
    {
      "cell_type": "markdown",
      "metadata": {
        "id": "RPLs2MiMhPqG"
      },
      "source": [
        "\n",
        "\n",
        "#### **2.2.2.1 Shape Classification**"
      ]
    },
    {
      "cell_type": "markdown",
      "metadata": {
        "id": "vbeQTEAXbWzT"
      },
      "source": [
        "##### 2.2.2.1.1 VGG Base"
      ]
    },
    {
      "cell_type": "code",
      "execution_count": null,
      "metadata": {
        "colab": {
          "base_uri": "https://localhost:8080/"
        },
        "id": "P3t9VCojuCkD",
        "outputId": "044d9f46-4d2b-4479-a477-87af105e2c08"
      },
      "outputs": [
        {
          "output_type": "stream",
          "name": "stdout",
          "text": [
            "Model: \"sequential_27\"\n",
            "_________________________________________________________________\n",
            " Layer (type)                Output Shape              Param #   \n",
            "=================================================================\n",
            " conv2d (Conv2D)             (None, 28, 28, 28)        784       \n",
            "                                                                 \n",
            " conv2d_1 (Conv2D)           (None, 28, 28, 28)        7084      \n",
            "                                                                 \n",
            " max_pooling2d (MaxPooling2D  (None, 14, 14, 28)       0         \n",
            " )                                                               \n",
            "                                                                 \n",
            " conv2d_2 (Conv2D)           (None, 14, 14, 64)        16192     \n",
            "                                                                 \n",
            " conv2d_3 (Conv2D)           (None, 14, 14, 64)        36928     \n",
            "                                                                 \n",
            " max_pooling2d_1 (MaxPooling  (None, 7, 7, 64)         0         \n",
            " 2D)                                                             \n",
            "                                                                 \n",
            " conv2d_4 (Conv2D)           (None, 7, 7, 128)         73856     \n",
            "                                                                 \n",
            " conv2d_5 (Conv2D)           (None, 7, 7, 128)         147584    \n",
            "                                                                 \n",
            " max_pooling2d_2 (MaxPooling  (None, 3, 3, 128)        0         \n",
            " 2D)                                                             \n",
            "                                                                 \n",
            " flatten_27 (Flatten)        (None, 1152)              0         \n",
            "                                                                 \n",
            " dense_77 (Dense)            (None, 128)               147584    \n",
            "                                                                 \n",
            " dense_78 (Dense)            (None, 5)                 645       \n",
            "                                                                 \n",
            "=================================================================\n",
            "Total params: 430,657\n",
            "Trainable params: 430,657\n",
            "Non-trainable params: 0\n",
            "_________________________________________________________________\n"
          ]
        }
      ],
      "source": [
        "VGG_model_shape = create_VGG_Model(numbers_of_shape)"
      ]
    },
    {
      "cell_type": "code",
      "execution_count": null,
      "metadata": {
        "colab": {
          "base_uri": "https://localhost:8080/",
          "height": 390
        },
        "id": "W0G7IGXBvzxr",
        "outputId": "a95bb1ff-2195-4f70-a25e-13df0c0a09bb"
      },
      "outputs": [
        {
          "output_type": "stream",
          "name": "stderr",
          "text": [
            "/usr/local/lib/python3.7/dist-packages/ipykernel_launcher.py:12: UserWarning: `Model.fit_generator` is deprecated and will be removed in a future version. Please use `Model.fit`, which supports generators.\n",
            "  if sys.path[0] == '':\n"
          ]
        },
        {
          "output_type": "display_data",
          "data": {
            "text/plain": [
              "<Figure size 720x360 with 2 Axes>"
            ],
            "image/png": "[encoded data removed]"
          },
          "metadata": {
            "needs_background": "light"
          }
        }
      ],
      "source": [
        "VGG_model_shape.compile(\n",
        "              # Use sgd over adam as our dataset is not very large so we care more about generalized\n",
        "              # adam would be better in case we need the data to be able to converge faster\n",
        "              optimizer = 'sgd',\n",
        "              # Use categorical_crossentropy instead of sparse as we use one hot label encoder\n",
        "              loss = \"categorical_crossentropy\",     \n",
        "              metrics = ['categorical_accuracy'])\n",
        "  \n",
        "# Early stopping is included to prevent long training time\n",
        "# Training will be interupt if there is no further improvement in validation set\n",
        "# restore_best_weights arguement is used to return the model to the best model\n",
        "history = VGG_model_shape.fit_generator(train_shape, validation_data = validation_shape, epochs=150, class_weight=class_weight_dict_shape, verbose=0)\n",
        "  \n",
        "plot_learning_curve(history.history['loss'], history.history['val_loss'], \n",
        "                    history.history['categorical_accuracy'], history.history['val_categorical_accuracy'], \n",
        "                    metric_name = 'Accuracy')"
      ]
    },
    {
      "cell_type": "markdown",
      "metadata": {
        "id": "f9z6wx7tX3cR"
      },
      "source": [
        "**Observations:**\n",
        "- Although the model has high accuracy and early-stopping has been implemented to prevent long training time as well as overfitting, it seems like the model is still overfit. \n",
        "- One of the reason for this is that, in the base architecture of VGG that was used, regularization and dropout has not been implemented. In the next sections, these 2 techniques to solve overfitting will be implemented. "
      ]
    },
    {
      "cell_type": "code",
      "execution_count": null,
      "metadata": {
        "colab": {
          "base_uri": "https://localhost:8080/"
        },
        "id": "s6895vOFemrp",
        "outputId": "ac6bff3d-4aa7-4a47-8ceb-11a16f03f7a6"
      },
      "outputs": [
        {
          "output_type": "stream",
          "name": "stdout",
          "text": [
            "INFO:tensorflow:Assets written to: shape_VGG_base_model/assets\n"
          ]
        }
      ],
      "source": [
        "VGG_model_shape.save(\"shape_VGG_base_model\")     \n",
        "!cp -R ./shape_VGG_base_model /content/gdrive/'My Drive'/COSC2673_2110/        "
      ]
    },
    {
      "cell_type": "markdown",
      "metadata": {
        "id": "NFF_x78qbd3v"
      },
      "source": [
        "##### 2.2.2.1.2 LeNet Base"
      ]
    },
    {
      "cell_type": "code",
      "execution_count": null,
      "metadata": {
        "id": "hNUPhE9ZuYgj"
      },
      "outputs": [],
      "source": [
        "LeNet_model_shape = create_LeNet_model(numbers_of_shape)"
      ]
    },
    {
      "cell_type": "code",
      "execution_count": null,
      "metadata": {
        "colab": {
          "base_uri": "https://localhost:8080/",
          "height": 390
        },
        "id": "7Q5TIupTea9C",
        "outputId": "4612c69c-5276-4b61-9cb6-d3ec1d88e779"
      },
      "outputs": [
        {
          "output_type": "stream",
          "name": "stderr",
          "text": [
            "/usr/local/lib/python3.7/dist-packages/ipykernel_launcher.py:12: UserWarning: `Model.fit_generator` is deprecated and will be removed in a future version. Please use `Model.fit`, which supports generators.\n",
            "  if sys.path[0] == '':\n"
          ]
        },
        {
          "output_type": "display_data",
          "data": {
            "text/plain": [
              "<Figure size 720x360 with 2 Axes>"
            ],
            "image/png": "[encoded data removed]"
          },
          "metadata": {
            "needs_background": "light"
          }
        }
      ],
      "source": [
        "LeNet_model_shape.compile(\n",
        "              # Use sgd over adam as our dataset is not very large so we care more about generalized\n",
        "              # adam would be better in case we need the data to be able to converge faster\n",
        "              optimizer = 'sgd',\n",
        "              # Use categorical_crossentropy instead of sparse as we use one hot label encoder\n",
        "              loss = \"categorical_crossentropy\",     \n",
        "              metrics = ['categorical_accuracy'])\n",
        "  \n",
        "# Early stopping is included to prevent long training time\n",
        "# Training will be interupt if there is no further improvement in validation set\n",
        "# restore_best_weights arguement is used to return the model to the best model\n",
        "history = LeNet_model_shape.fit_generator(train_shape, validation_data = validation_shape, epochs=150, class_weight=class_weight_dict_shape, verbose=0)\n",
        "  \n",
        "plot_learning_curve(history.history['loss'], history.history['val_loss'], \n",
        "                    history.history['categorical_accuracy'], history.history['val_categorical_accuracy'], \n",
        "                    metric_name = 'Accuracy')"
      ]
    },
    {
      "cell_type": "code",
      "execution_count": null,
      "metadata": {
        "colab": {
          "base_uri": "https://localhost:8080/"
        },
        "id": "tsLYgnfaMkPN",
        "outputId": "cc4049bd-ca9f-40ff-b603-4a2fd7136b6e"
      },
      "outputs": [
        {
          "output_type": "stream",
          "name": "stdout",
          "text": [
            "INFO:tensorflow:Assets written to: shape_LeNet_base_model/assets\n"
          ]
        }
      ],
      "source": [
        "LeNet_model_shape.save(\"shape_LeNet_base_model\")\n",
        "!cp -R ./shape_LeNet_base_model /content/gdrive/'My Drive'/COSC2673_2110/"
      ]
    },
    {
      "cell_type": "markdown",
      "metadata": {
        "id": "8-kttn2deK11"
      },
      "source": [
        "##### **2.2.2.1.3 L2 Regularization (tuning regularization lambda)**"
      ]
    },
    {
      "cell_type": "code",
      "execution_count": null,
      "metadata": {
        "colab": {
          "base_uri": "https://localhost:8080/"
        },
        "id": "XJsMhvxnMkZe",
        "outputId": "03894c4e-5794-4cbf-de95-88e1694c51bf"
      },
      "outputs": [
        {
          "output_type": "execute_result",
          "data": {
            "text/plain": [
              "<keras.engine.sequential.Sequential at 0x7fd761e5dc50>"
            ]
          },
          "metadata": {},
          "execution_count": 102
        }
      ],
      "source": [
        "def parameters(reg_lambda, output):\n",
        "    VGG_model_with_regularization = tf.keras.Sequential([\n",
        "    # Block 1\n",
        "    tf.keras.layers.Conv2D(28, (3, 3), activation='relu', padding='same', \n",
        "                           kernel_regularizer = tf.keras.regularizers.L2(reg_lambda), input_shape=input_dimension),\n",
        "    tf.keras.layers.Conv2D(28, (3, 3), activation='relu', padding='same',\n",
        "                           kernel_regularizer= tf.keras.regularizers.L2(reg_lambda)),\n",
        "    tf.keras.layers.MaxPooling2D((2, 2)),\n",
        "    \n",
        "    # Block 2\n",
        "    tf.keras.layers.Conv2D(64, (3, 3), activation='relu', padding='same',\n",
        "                           kernel_regularizer=tf.keras.regularizers.L2(reg_lambda)),\n",
        "    tf.keras.layers.Conv2D(64, (3, 3), activation='relu', padding='same',\n",
        "                                  kernel_regularizer=tf.keras.regularizers.L2(reg_lambda)),\n",
        "    tf.keras.layers.MaxPooling2D((2, 2)),\n",
        "    \n",
        "    # Block 3\n",
        "    tf.keras.layers.Conv2D(128, (3, 3), activation='relu', padding='same',\n",
        "                           kernel_regularizer=tf.keras.regularizers.L2(reg_lambda)),\n",
        "    tf.keras.layers.Conv2D(128, (3, 3), activation='relu', padding='same', \n",
        "                           kernel_regularizer=tf.keras.regularizers.L2(reg_lambda)),\n",
        "    tf.keras.layers.MaxPooling2D((2, 2)),\n",
        "    \n",
        "    tf.keras.layers.Flatten(),\n",
        "    tf.keras.layers.Dense(128, activation='relu', kernel_regularizer=tf.keras.regularizers.L2(reg_lambda)),\n",
        "    tf.keras.layers.Dense(output, activation = \"softmax\"),\n",
        "    ])\n",
        "\n",
        "    VGG_model_with_regularization.compile(\n",
        "              # Use sgd over adam as our dataset is not very large so we care more about generalized\n",
        "              # adam would be better in case we need the data to be able to converge faster\n",
        "              optimizer = 'sgd',\n",
        "              # Use categorical_crossentropy instead of sparse as we use one hot label encoder\n",
        "              loss = \"categorical_crossentropy\",     \n",
        "              metrics = ['categorical_accuracy'])\n",
        "  \n",
        "    return VGG_model_with_regularization\n",
        "  \n",
        "  \n",
        "def build_model_VGG_l2_regular(hp):\n",
        "    reg_lambda = hp.Choice('reg_lambda', [0.001, 0.01, 0.1])\n",
        "    model = parameters(reg_lambda, numbers_of_shape)\n",
        "    return model\n",
        "\n",
        "build_model_VGG_l2_regular(kt.HyperParameters())"
      ]
    },
    {
      "cell_type": "code",
      "execution_count": null,
      "metadata": {
        "colab": {
          "base_uri": "https://localhost:8080/"
        },
        "id": "L4HN4ESPXejp",
        "outputId": "f5849dc4-6f65-4b74-d2e0-1bb61daf946f"
      },
      "outputs": [
        {
          "output_type": "stream",
          "name": "stdout",
          "text": [
            "Search space summary\n",
            "Default search space size: 1\n",
            "reg_lambda (Choice)\n",
            "{'default': 0.001, 'conditions': [], 'values': [0.001, 0.01, 0.1], 'ordered': True}\n"
          ]
        }
      ],
      "source": [
        "tuner_reg_l2 = kt.RandomSearch(\n",
        "    build_model_VGG_l2_regular,\n",
        "    objective='val_loss',\n",
        "    max_trials=3)\n",
        "tuner_reg_l2.search_space_summary()"
      ]
    },
    {
      "cell_type": "code",
      "execution_count": null,
      "metadata": {
        "id": "Rq8sGne-Mkei"
      },
      "outputs": [],
      "source": [
        "tuner_reg_l2.search(train_shape, epochs= 150, verbose = 0, validation_data=validation_shape, class_weight=class_weight_dict_shape)"
      ]
    },
    {
      "cell_type": "code",
      "execution_count": null,
      "metadata": {
        "id": "sfDBwROnOBqm"
      },
      "outputs": [],
      "source": [
        "tuner_reg_l2.results_summary()"
      ]
    },
    {
      "cell_type": "code",
      "execution_count": null,
      "metadata": {
        "id": "g_rVP8htOBqm"
      },
      "outputs": [],
      "source": [
        "# get best model and best hyper parameter\n",
        "best_model = tuner_reg_l2.get_best_models()[0]\n",
        "best_hp = tuner_reg_l2.get_best_hyperparameters()[0]\n",
        "best_model.summary()"
      ]
    },
    {
      "cell_type": "code",
      "execution_count": null,
      "metadata": {
        "id": "v_KNizwqYCA-"
      },
      "outputs": [],
      "source": [
        "model_VGG_best_regularization_l2 = tuner_reg_l2.hypermodel.build(best_hp)\n",
        "history = model_VGG_best_regularization_l2.fit_generator(train_shape, validation_data = validation_shape, epochs=150, verbose=0, class_weight=class_weight_dict_shape)\n",
        "  \n",
        "plot_learning_curve(history.history['loss'], history.history['val_loss'], \n",
        "                    history.history['categorical_accuracy'], history.history['val_categorical_accuracy'], \n",
        "                    metric_name = 'Accuracy')"
      ]
    },
    {
      "cell_type": "code",
      "execution_count": null,
      "metadata": {
        "id": "jceVbqkvroCc"
      },
      "outputs": [],
      "source": [
        "model_VGG_best_regularization_l2.save(\"shape_VGG_tuneL2_model\")\n",
        "!cp -R ./shape_VGG_tuneL2_model /content/gdrive/'My Drive'/COSC2673_2110/"
      ]
    },
    {
      "cell_type": "markdown",
      "metadata": {
        "id": "YntnCx8KgQvx"
      },
      "source": [
        "##### **2.2.2.1.4 Dropout regularization (tuning dropout rate)**"
      ]
    },
    {
      "cell_type": "code",
      "execution_count": null,
      "metadata": {
        "id": "QBz77fD_MkuH"
      },
      "outputs": [],
      "source": [
        "reg_lambda = 0.001\n",
        "dropout_rate = 0.5\n",
        "\n",
        "VGG_model_with_regularization_with_dropout_05 = tf.keras.Sequential([\n",
        "  # Block 1\n",
        "  tf.keras.layers.Conv2D(28, (3, 3), activation='relu', padding='same', \n",
        "                          kernel_regularizer = tf.keras.regularizers.l2(reg_lambda), input_shape=input_dimension),\n",
        "  tf.keras.layers.Conv2D(28, (3, 3), activation='relu', padding='same',\n",
        "                          kernel_regularizer=tf.keras.regularizers.l2(reg_lambda)),\n",
        "  tf.keras.layers.MaxPooling2D((2, 2)),\n",
        "  \n",
        "  # Block 2\n",
        "  tf.keras.layers.Conv2D(64, (3, 3), activation='relu', padding='same',\n",
        "                          kernel_regularizer=tf.keras.regularizers.l2(reg_lambda)),\n",
        "  tf.keras.layers.Conv2D(64, (3, 3), activation='relu', padding='same',\n",
        "                                kernel_regularizer=tf.keras.regularizers.l2(reg_lambda)),\n",
        "  tf.keras.layers.MaxPooling2D((2, 2)),\n",
        "  \n",
        "  # Block 3\n",
        "  tf.keras.layers.Conv2D(128, (3, 3), activation='relu', padding='same',\n",
        "                          kernel_regularizer=tf.keras.regularizers.l2(reg_lambda)),\n",
        "  tf.keras.layers.Conv2D(128, (3, 3), activation='relu', padding='same', \n",
        "                          kernel_regularizer=tf.keras.regularizers.l2(reg_lambda)),\n",
        "  tf.keras.layers.MaxPooling2D((2, 2)),\n",
        "  \n",
        "  tf.keras.layers.Flatten(),\n",
        "  tf.keras.layers.Dense(128, activation='relu', kernel_regularizer=tf.keras.regularizers.l2(reg_lambda)),\n",
        "  tf.keras.layers.Dropout(rate = dropout_rate),\n",
        "  tf.keras.layers.Dense(numbers_of_shape, activation = \"softmax\"),\n",
        "  ])\n",
        "\n",
        "VGG_model_with_regularization_with_dropout_05.compile(\n",
        "          # Use sgd over adam as our dataset is not very large so we care more about generalized\n",
        "          # adam would be better in case we need the data to be able to converge faster\n",
        "          optimizer = 'sgd',\n",
        "          # Use categorical_crossentropy instead of sparse as we use one hot label encoder\n",
        "          loss = \"categorical_crossentropy\",     \n",
        "          metrics = ['categorical_accuracy'])\n",
        "  \n",
        "  \n",
        "\n"
      ]
    },
    {
      "cell_type": "code",
      "execution_count": null,
      "metadata": {
        "id": "TbpDgxSFkOTz"
      },
      "outputs": [],
      "source": [
        "history = VGG_model_with_regularization_with_dropout_05.fit_generator(train_shape, validation_data = validation_shape, epochs=150, verbose=0, class_weight=class_weight_dict_shape)\n",
        "  \n",
        "plot_learning_curve(history.history['loss'], history.history['val_loss'], \n",
        "                    history.history['categorical_accuracy'], history.history['val_categorical_accuracy'], \n",
        "                    metric_name = 'Accuracy')"
      ]
    },
    {
      "cell_type": "code",
      "execution_count": null,
      "metadata": {
        "id": "Ch5hJSLMrydv"
      },
      "outputs": [],
      "source": [
        "VGG_model_with_regularization_with_dropout_05.save(\"shape_VGG_tuneL2_DropOut_model_05\")\n",
        "!cp -R ./shape_VGG_tuneL2_DropOut_model_05 /content/gdrive/'My Drive'/COSC2673_2110/"
      ]
    },
    {
      "cell_type": "code",
      "execution_count": null,
      "metadata": {
        "id": "tFv7WOg9FBTA"
      },
      "outputs": [],
      "source": [
        "reg_lambda = 0.001\n",
        "dropout_rate = 0.2\n",
        "\n",
        "VGG_model_with_regularization_with_dropout_02 = tf.keras.Sequential([\n",
        "  # Block 1\n",
        "  tf.keras.layers.Conv2D(28, (3, 3), activation='relu', padding='same', \n",
        "                          kernel_regularizer = tf.keras.regularizers.l2(reg_lambda), input_shape=input_dimension),\n",
        "  tf.keras.layers.Conv2D(28, (3, 3), activation='relu', padding='same',\n",
        "                          kernel_regularizer=tf.keras.regularizers.l2(reg_lambda)),\n",
        "  tf.keras.layers.MaxPooling2D((2, 2)),\n",
        "  \n",
        "  # Block 2\n",
        "  tf.keras.layers.Conv2D(64, (3, 3), activation='relu', padding='same',\n",
        "                          kernel_regularizer=tf.keras.regularizers.l2(reg_lambda)),\n",
        "  tf.keras.layers.Conv2D(64, (3, 3), activation='relu', padding='same',\n",
        "                                kernel_regularizer=tf.keras.regularizers.l2(reg_lambda)),\n",
        "  tf.keras.layers.MaxPooling2D((2, 2)),\n",
        "  \n",
        "  # Block 3\n",
        "  tf.keras.layers.Conv2D(128, (3, 3), activation='relu', padding='same',\n",
        "                          kernel_regularizer=tf.keras.regularizers.l2(reg_lambda)),\n",
        "  tf.keras.layers.Conv2D(128, (3, 3), activation='relu', padding='same', \n",
        "                          kernel_regularizer=tf.keras.regularizers.l2(reg_lambda)),\n",
        "  tf.keras.layers.MaxPooling2D((2, 2)),\n",
        "  \n",
        "  tf.keras.layers.Flatten(),\n",
        "  tf.keras.layers.Dense(128, activation='relu', kernel_regularizer=tf.keras.regularizers.l2(reg_lambda)),\n",
        "  tf.keras.layers.Dropout(rate = dropout_rate),\n",
        "  tf.keras.layers.Dense(numbers_of_shape, activation = \"softmax\"),\n",
        "  ])\n",
        "\n",
        "VGG_model_with_regularization_with_dropout_02.compile(\n",
        "          # Use sgd over adam as our dataset is not very large so we care more about generalized\n",
        "          # adam would be better in case we need the data to be able to converge faster\n",
        "          optimizer = 'sgd',\n",
        "          # Use categorical_crossentropy instead of sparse as we use one hot label encoder\n",
        "          loss = \"categorical_crossentropy\",     \n",
        "          metrics = ['categorical_accuracy'])\n",
        "  \n",
        "  \n",
        "\n"
      ]
    },
    {
      "cell_type": "code",
      "execution_count": null,
      "metadata": {
        "id": "nUu4d5EWFBWj"
      },
      "outputs": [],
      "source": [
        "history = VGG_model_with_regularization_with_dropout_02.fit_generator(train_shape, validation_data = validation_shape, epochs=150, verbose=0, class_weight=class_weight_dict_shape)\n",
        "  \n",
        "plot_learning_curve(history.history['loss'], history.history['val_loss'], \n",
        "                    history.history['categorical_accuracy'], history.history['val_categorical_accuracy'], \n",
        "                    metric_name = 'Accuracy')"
      ]
    },
    {
      "cell_type": "code",
      "execution_count": null,
      "metadata": {
        "id": "ZS8CT2YKFBmp"
      },
      "outputs": [],
      "source": [
        "VGG_model_with_regularization_with_dropout_02.save(\"shape_VGG_tuneL2_DropOut_model_02\")\n",
        "!cp -R ./shape_VGG_tuneL2_DropOut_model_02 /content/gdrive/'My Drive'/COSC2673_2110/"
      ]
    },
    {
      "cell_type": "markdown",
      "metadata": {
        "id": "4INOEhCa_cgo"
      },
      "source": [
        "\n",
        "\n",
        "#### **2.2.2.2 Type Classification**"
      ]
    },
    {
      "cell_type": "markdown",
      "metadata": {
        "id": "flHZyYLQa7o5"
      },
      "source": [
        "##### 2.2.2.2.1 VGG Base"
      ]
    },
    {
      "cell_type": "code",
      "execution_count": null,
      "metadata": {
        "id": "JV_sY6cJvRg2"
      },
      "outputs": [],
      "source": [
        "VGG_model_sign = create_VGG_Model(numbers_of_sign)"
      ]
    },
    {
      "cell_type": "code",
      "execution_count": null,
      "metadata": {
        "id": "vqi6N6DIr6Z4"
      },
      "outputs": [],
      "source": [
        "VGG_model_sign.compile(\n",
        "              # Use sgd over adam as our dataset is not very large so we care more about generalized\n",
        "              # adam would be better in case we need the data to be able to converge faster\n",
        "              optimizer = 'sgd',\n",
        "              # Use categorical_crossentropy instead of sparse as we use one hot label encoder\n",
        "              loss = \"categorical_crossentropy\",     \n",
        "              metrics = ['categorical_accuracy'])\n",
        "  \n",
        "# Early stopping is included to prevent long training time\n",
        "# Training will be interupt if there is no further improvement in validation set\n",
        "# restore_best_weights arguement is used to return the model to the best model\n",
        "history = VGG_model_sign.fit_generator(train_type, validation_data = validation_type, epochs=150, class_weight=class_weight_dict_sign, verbose=0)\n",
        "  \n",
        "plot_learning_curve(history.history['loss'], history.history['val_loss'], \n",
        "                    history.history['categorical_accuracy'], history.history['val_categorical_accuracy'], \n",
        "                    metric_name = 'Accuracy')"
      ]
    },
    {
      "cell_type": "code",
      "execution_count": null,
      "metadata": {
        "id": "EHwkLlSO1I0E"
      },
      "outputs": [],
      "source": [
        "VGG_model_sign.save(\"sign_VGG_base_model\")\n",
        "!cp -R ./sign_VGG_base_model /content/gdrive/'My Drive'/COSC2673_2110/"
      ]
    },
    {
      "cell_type": "markdown",
      "metadata": {
        "id": "9DdK-Gefa-e3"
      },
      "source": [
        "#####2.2.2.2.2 LeNet Base"
      ]
    },
    {
      "cell_type": "code",
      "execution_count": null,
      "metadata": {
        "id": "vTXxJonIwv2_"
      },
      "outputs": [],
      "source": [
        "LeNet_model_sign = create_LeNet_model(numbers_of_sign)"
      ]
    },
    {
      "cell_type": "code",
      "execution_count": null,
      "metadata": {
        "id": "ML7HSvE1r6cp"
      },
      "outputs": [],
      "source": [
        "LeNet_model_sign.compile(\n",
        "              # Use sgd over adam as our dataset is not very large so we care more about generalized\n",
        "              # adam would be better in case we need the data to be able to converge faster\n",
        "              optimizer = 'sgd',\n",
        "              # Use categorical_crossentropy instead of sparse as we use one hot label encoder\n",
        "              loss = \"categorical_crossentropy\",     \n",
        "              metrics = ['categorical_accuracy'])\n",
        "  \n",
        "# Early stopping is included to prevent long training time\n",
        "# Training will be interupt if there is no further improvement in validation set\n",
        "# restore_best_weights arguement is used to return the model to the best model\n",
        "history = LeNet_model_sign.fit_generator(train_type, validation_data = validation_type, epochs=150, class_weight=class_weight_dict_sign, verbose=0)\n",
        "  \n",
        "plot_learning_curve(history.history['loss'], history.history['val_loss'], \n",
        "                    history.history['categorical_accuracy'], history.history['val_categorical_accuracy'], \n",
        "                    metric_name = 'Accuracy')"
      ]
    },
    {
      "cell_type": "code",
      "execution_count": null,
      "metadata": {
        "id": "8YeicOIa1QV_"
      },
      "outputs": [],
      "source": [
        "LeNet_model_sign.save(\"sign_LeNet_base_model\")\n",
        "!cp -R ./sign_LeNet_base_model /content/gdrive/'My Drive'/COSC2673_2110/"
      ]
    },
    {
      "cell_type": "markdown",
      "metadata": {
        "id": "7DuNAL3tEPpx"
      },
      "source": [
        "##### **2.2.2.2.3 L2 Regularization (tuning regularization lambda)**"
      ]
    },
    {
      "cell_type": "code",
      "execution_count": null,
      "metadata": {
        "id": "8_y6mGqxxerQ"
      },
      "outputs": [],
      "source": [
        "def parameters(reg_lambda, output):\n",
        "    VGG_model_with_regularization = tf.keras.Sequential([\n",
        "    # Block 1\n",
        "    tf.keras.layers.Conv2D(28, (3, 3), activation='relu', padding='same', \n",
        "                           kernel_regularizer = tf.keras.regularizers.L2(reg_lambda), input_shape=input_dimension),\n",
        "    tf.keras.layers.Conv2D(28, (3, 3), activation='relu', padding='same',\n",
        "                           kernel_regularizer= tf.keras.regularizers.L2(reg_lambda)),\n",
        "    tf.keras.layers.MaxPooling2D((2, 2)),\n",
        "    \n",
        "    # Block 2\n",
        "    tf.keras.layers.Conv2D(64, (3, 3), activation='relu', padding='same',\n",
        "                           kernel_regularizer=tf.keras.regularizers.L2(reg_lambda)),\n",
        "    tf.keras.layers.Conv2D(64, (3, 3), activation='relu', padding='same',\n",
        "                                  kernel_regularizer=tf.keras.regularizers.L2(reg_lambda)),\n",
        "    tf.keras.layers.MaxPooling2D((2, 2)),\n",
        "    \n",
        "    # Block 3\n",
        "    tf.keras.layers.Conv2D(128, (3, 3), activation='relu', padding='same',\n",
        "                           kernel_regularizer=tf.keras.regularizers.L2(reg_lambda)),\n",
        "    tf.keras.layers.Conv2D(128, (3, 3), activation='relu', padding='same', \n",
        "                           kernel_regularizer=tf.keras.regularizers.L2(reg_lambda)),\n",
        "    tf.keras.layers.MaxPooling2D((2, 2)),\n",
        "    \n",
        "    tf.keras.layers.Flatten(),\n",
        "    tf.keras.layers.Dense(128, activation='relu', kernel_regularizer=tf.keras.regularizers.L2(reg_lambda)),\n",
        "    tf.keras.layers.Dense(output, activation = \"softmax\"),\n",
        "    ])\n",
        "\n",
        "    VGG_model_with_regularization.compile(\n",
        "              # Use sgd over adam as our dataset is not very large so we care more about generalized\n",
        "              # adam would be better in case we need the data to be able to converge faster\n",
        "              optimizer = 'sgd',\n",
        "              # Use categorical_crossentropy instead of sparse as we use one hot label encoder\n",
        "              loss = \"categorical_crossentropy\",     \n",
        "              metrics = ['categorical_accuracy'])\n",
        "  \n",
        "    return VGG_model_with_regularization\n",
        "    \n",
        "def build_model_VGG_l2_reg(hp):\n",
        "    reg_lambda = hp.Choice('reg_lambda', [0.001, 0.01, 0.1])\n",
        "    model = parameters(reg_lambda, numbers_of_sign)\n",
        "    return model\n",
        "\n",
        "build_model_VGG_l2_reg(kt.HyperParameters())"
      ]
    },
    {
      "cell_type": "code",
      "execution_count": null,
      "metadata": {
        "id": "2BLs4XrzxntT"
      },
      "outputs": [],
      "source": [
        "tuner_reg_l2 = kt.RandomSearch(\n",
        "    build_model_VGG_l2_reg,\n",
        "    objective='val_loss',\n",
        "    max_trials=3)\n",
        "tuner_reg_l2.search_space_summary()"
      ]
    },
    {
      "cell_type": "code",
      "execution_count": null,
      "metadata": {
        "id": "d-nEY2POr6gK"
      },
      "outputs": [],
      "source": [
        "tuner_reg_l2.search(train_type, epochs=150, verbose = 0, validation_data=validation_type, class_weight=class_weight_dict_sign)"
      ]
    },
    {
      "cell_type": "code",
      "execution_count": null,
      "metadata": {
        "id": "0BnXFKFxsKbV"
      },
      "outputs": [],
      "source": [
        "tuner_reg_l2.results_summary()"
      ]
    },
    {
      "cell_type": "code",
      "execution_count": null,
      "metadata": {
        "id": "PwZec01StIMO"
      },
      "outputs": [],
      "source": [
        "# get best model and best hyper parameter\n",
        "best_model = tuner_reg_l2.get_best_models()[0]\n",
        "best_hp = tuner_reg_l2.get_best_hyperparameters()[0]\n",
        "best_model.summary()"
      ]
    },
    {
      "cell_type": "code",
      "execution_count": null,
      "metadata": {
        "id": "F21S0v9DsBEc"
      },
      "outputs": [],
      "source": [
        "model_VGG_best_regularization = tuner_reg_l2.hypermodel.build(best_hp)\n",
        "history = model_VGG_best_regularization.fit_generator(train_type, validation_data = validation_type, epochs=150, verbose=0, class_weight=class_weight_dict_sign)\n",
        "  \n",
        "plot_learning_curve(history.history['loss'], history.history['val_loss'], \n",
        "                    history.history['categorical_accuracy'], history.history['val_categorical_accuracy'], \n",
        "                    metric_name = 'Accuracy')"
      ]
    },
    {
      "cell_type": "code",
      "execution_count": null,
      "metadata": {
        "id": "YUBWCgeTsQaP"
      },
      "outputs": [],
      "source": [
        "model_VGG_best_regularization.save(\"sign_VGG_tuneL2_model\")\n",
        "!cp -R ./sign_VGG_tuneL2_model /content/gdrive/'My Drive'/COSC2673_2110/"
      ]
    },
    {
      "cell_type": "markdown",
      "metadata": {
        "id": "E2-BEU38EV1R"
      },
      "source": [
        "##### **2.2.2.2.4 Dropout Regularization (tuning dropout rate)**"
      ]
    },
    {
      "cell_type": "code",
      "execution_count": null,
      "metadata": {
        "id": "GtRn8zTMx2ZK"
      },
      "outputs": [],
      "source": [
        "reg_lambda = 0.001\n",
        "dropout_rate = 0.5\n",
        "\n",
        "VGG_model_with_regularization_with_dropout_05 = tf.keras.Sequential([\n",
        "  # Block 1\n",
        "  tf.keras.layers.Conv2D(28, (3, 3), activation='relu', padding='same', \n",
        "                          kernel_regularizer = tf.keras.regularizers.l2(reg_lambda), input_shape=input_dimension),\n",
        "  tf.keras.layers.Conv2D(28, (3, 3), activation='relu', padding='same',\n",
        "                          kernel_regularizer=tf.keras.regularizers.l2(reg_lambda)),\n",
        "  tf.keras.layers.MaxPooling2D((2, 2)),\n",
        "  \n",
        "  # Block 2\n",
        "  tf.keras.layers.Conv2D(64, (3, 3), activation='relu', padding='same',\n",
        "                          kernel_regularizer=tf.keras.regularizers.l2(reg_lambda)),\n",
        "  tf.keras.layers.Conv2D(64, (3, 3), activation='relu', padding='same',\n",
        "                                kernel_regularizer=tf.keras.regularizers.l2(reg_lambda)),\n",
        "  tf.keras.layers.MaxPooling2D((2, 2)),\n",
        "  \n",
        "  # Block 3\n",
        "  tf.keras.layers.Conv2D(128, (3, 3), activation='relu', padding='same',\n",
        "                          kernel_regularizer=tf.keras.regularizers.l2(reg_lambda)),\n",
        "  tf.keras.layers.Conv2D(128, (3, 3), activation='relu', padding='same', \n",
        "                          kernel_regularizer=tf.keras.regularizers.l2(reg_lambda)),\n",
        "  tf.keras.layers.MaxPooling2D((2, 2)),\n",
        "  \n",
        "  tf.keras.layers.Flatten(),\n",
        "  tf.keras.layers.Dense(128, activation='relu', kernel_regularizer=tf.keras.regularizers.l2(reg_lambda)),\n",
        "  tf.keras.layers.Dropout(rate = dropout_rate),\n",
        "  tf.keras.layers.Dense(numbers_of_sign, activation = \"softmax\"),\n",
        "  ])\n",
        "\n",
        "VGG_model_with_regularization_with_dropout_05.compile(\n",
        "          # Use sgd over adam as our dataset is not very large so we care more about generalized\n",
        "          # adam would be better in case we need the data to be able to converge faster\n",
        "          optimizer = 'sgd',\n",
        "          # Use categorical_crossentropy instead of sparse as we use one hot label encoder\n",
        "          loss = \"categorical_crossentropy\",     \n",
        "          metrics = ['categorical_accuracy'])\n",
        "  \n",
        "  \n",
        "\n"
      ]
    },
    {
      "cell_type": "code",
      "execution_count": null,
      "metadata": {
        "id": "o3MZuNFGsrEA"
      },
      "outputs": [],
      "source": [
        "history = VGG_model_with_regularization_with_dropout_05.fit_generator(train_type, validation_data = validation_type, epochs=150, verbose=0, class_weight=class_weight_dict_sign)\n",
        "  \n",
        "plot_learning_curve(history.history['loss'], history.history['val_loss'], \n",
        "                    history.history['categorical_accuracy'], history.history['val_categorical_accuracy'], \n",
        "                    metric_name = 'Accuracy')"
      ]
    },
    {
      "cell_type": "code",
      "execution_count": null,
      "metadata": {
        "id": "fF15UMR3srGO"
      },
      "outputs": [],
      "source": [
        "VGG_model_with_regularization_with_dropout_05.save(\"sign_VGG_tuneL2_Dropout_model_05\")\n",
        "!cp -R ./sign_VGG_tuneL2_Dropout_model_05 /content/gdrive/'My Drive'/COSC2673_2110/"
      ]
    },
    {
      "cell_type": "code",
      "execution_count": null,
      "metadata": {
        "id": "HGhU8EegsrJw"
      },
      "outputs": [],
      "source": [
        "reg_lambda = 0.001\n",
        "dropout_rate = 0.2\n",
        "\n",
        "VGG_model_with_regularization_with_dropout_02 = tf.keras.Sequential([\n",
        "  # Block 1\n",
        "  tf.keras.layers.Conv2D(28, (3, 3), activation='relu', padding='same', \n",
        "                          kernel_regularizer = tf.keras.regularizers.l2(reg_lambda), input_shape=input_dimension),\n",
        "  tf.keras.layers.Conv2D(28, (3, 3), activation='relu', padding='same',\n",
        "                          kernel_regularizer=tf.keras.regularizers.l2(reg_lambda)),\n",
        "  tf.keras.layers.MaxPooling2D((2, 2)),\n",
        "  \n",
        "  # Block 2\n",
        "  tf.keras.layers.Conv2D(64, (3, 3), activation='relu', padding='same',\n",
        "                          kernel_regularizer=tf.keras.regularizers.l2(reg_lambda)),\n",
        "  tf.keras.layers.Conv2D(64, (3, 3), activation='relu', padding='same',\n",
        "                                kernel_regularizer=tf.keras.regularizers.l2(reg_lambda)),\n",
        "  tf.keras.layers.MaxPooling2D((2, 2)),\n",
        "  \n",
        "  # Block 3\n",
        "  tf.keras.layers.Conv2D(128, (3, 3), activation='relu', padding='same',\n",
        "                          kernel_regularizer=tf.keras.regularizers.l2(reg_lambda)),\n",
        "  tf.keras.layers.Conv2D(128, (3, 3), activation='relu', padding='same', \n",
        "                          kernel_regularizer=tf.keras.regularizers.l2(reg_lambda)),\n",
        "  tf.keras.layers.MaxPooling2D((2, 2)),\n",
        "  \n",
        "  tf.keras.layers.Flatten(),\n",
        "  tf.keras.layers.Dense(128, activation='relu', kernel_regularizer=tf.keras.regularizers.l2(reg_lambda)),\n",
        "  tf.keras.layers.Dropout(rate = dropout_rate),\n",
        "  tf.keras.layers.Dense(numbers_of_sign, activation = \"softmax\"),\n",
        "  ])\n",
        "\n",
        "VGG_model_with_regularization_with_dropout_02.compile(\n",
        "          # Use sgd over adam as our dataset is not very large so we care more about generalized\n",
        "          # adam would be better in case we need the data to be able to converge faster\n",
        "          optimizer = 'sgd',\n",
        "          # Use categorical_crossentropy instead of sparse as we use one hot label encoder\n",
        "          loss = \"categorical_crossentropy\",     \n",
        "          metrics = ['categorical_accuracy'])\n",
        "  \n",
        "  \n",
        "\n"
      ]
    },
    {
      "cell_type": "code",
      "execution_count": null,
      "metadata": {
        "id": "cVwfd5C9EkP-"
      },
      "outputs": [],
      "source": [
        "history = VGG_model_with_regularization_with_dropout_02.fit_generator(train_type, validation_data = validation_type, epochs=150, verbose=0, class_weight=class_weight_dict_sign)\n",
        "  \n",
        "plot_learning_curve(history.history['loss'], history.history['val_loss'], \n",
        "                    history.history['categorical_accuracy'], history.history['val_categorical_accuracy'], \n",
        "                    metric_name = 'Accuracy')"
      ]
    },
    {
      "cell_type": "code",
      "execution_count": null,
      "metadata": {
        "id": "0ScGEq-rEuBn"
      },
      "outputs": [],
      "source": [
        "VGG_model_with_regularization_with_dropout_02.save(\"sign_VGG_tuneL2_Dropout_model_02\")\n",
        "!cp -R ./sign_VGG_tuneL2_Dropout_model_02 /content/gdrive/'My Drive'/COSC2673_2110/"
      ]
    },
    {
      "cell_type": "markdown",
      "metadata": {
        "id": "78B6eVyMqfxJ"
      },
      "source": [
        "## **2.3. Test Set Result**"
      ]
    },
    {
      "cell_type": "code",
      "execution_count": null,
      "metadata": {
        "id": "uja_KU3EsSV7"
      },
      "outputs": [],
      "source": [
        "# Loading shape model\n",
        "shape_MLP_base = keras.models.load_model('/content/gdrive/MyDrive/COSC2673_2110/shape_based_MLP_model')\n",
        "shape_MLP_tuned = keras.models.load_model('/content/gdrive/MyDrive/COSC2673_2110/shape_fine_tuned_MLP_model')\n",
        "shape_MLP_tuned_augmented = keras.models.load_model('/content/gdrive/MyDrive/COSC2673_2110/shape_model_mlp_augmented')\n",
        "shape_LeNet_base = keras.models.load_model('/content/gdrive/MyDrive/COSC2673_2110/shape_LeNet_base_model')\n",
        "shape_VGG_base = keras.models.load_model('/content/gdrive/MyDrive/COSC2673_2110/shape_VGG_base_model')\n",
        "shape_VGG_tuneL2_DropOut02 = keras.models.load_model('/content/gdrive/MyDrive/COSC2673_2110/shape_VGG_tuneL2_DropOut_model_02')\n",
        "shape_VGG_tuneL2_DropOut05 = keras.models.load_model('/content/gdrive/MyDrive/COSC2673_2110/shape_VGG_tuneL2_DropOut_model_05')\n",
        "\n",
        "# Loading sign model\n",
        "sign_MLP_base = keras.models.load_model('/content/gdrive/MyDrive/COSC2673_2110/sign_base_model_mlp')\n",
        "sign_MLP_tuned = keras.models.load_model('/content/gdrive/MyDrive/COSC2673_2110/sign_fine_tuned_MLP_model')\n",
        "sign_MLP_tuned_augmented = keras.models.load_model('/content/gdrive/MyDrive/COSC2673_2110/sign_model_mpl_augmented')\n",
        "sign_LeNet_base = keras.models.load_model('/content/gdrive/MyDrive/COSC2673_2110/sign_LeNet_base_model')\n",
        "sign_VGG_base = keras.models.load_model('/content/gdrive/MyDrive/COSC2673_2110/sign_VGG_base_model')\n",
        "sign_VGG_tuneL2_DropOut02 = keras.models.load_model('/content/gdrive/MyDrive/COSC2673_2110/sign_VGG_tuneL2_Dropout_model_02')\n",
        "sign_VGG_tuneL2_DropOut05 = keras.models.load_model('/content/gdrive/MyDrive/COSC2673_2110/sign_VGG_tuneL2_Dropout_model_05')"
      ]
    },
    {
      "cell_type": "code",
      "execution_count": null,
      "metadata": {
        "id": "F8-5LWFd0iYJ"
      },
      "outputs": [],
      "source": [
        "def print_test_evaluation(model, y_true, target_names):\n",
        "    prediction = model.predict(y_true, workers = 1)\n",
        "    y_pred = np.argmax(prediction, axis=1)\n",
        "    cm = confusion_matrix(y_true.classes, y_pred)\n",
        "    fig, ax = plt.subplots(figsize=(6, 6))\n",
        "    sns.heatmap(cm, annot=True,  fmt=\".0f\", ax = ax, xticklabels=target_names, yticklabels= target_names)\n",
        "    ax.set(xlabel='Predicted label', ylabel='True label')\n",
        "    plt.show()\n",
        "    print(\"\\n\" + classification_report(y_true.classes, y_pred, target_names=target_names))\n",
        "\n"
      ]
    },
    {
      "cell_type": "code",
      "execution_count": null,
      "metadata": {
        "id": "zkGAOFpK1wnF"
      },
      "outputs": [],
      "source": [
        "target_names_shape = [\"diamond\", \"hex\", \"round\", \"square\", \"triangle\"]\n",
        "target_names_sign = [\"rightofway\", \"stop\", \"bicycle\", \"limitedtraffic\", \"noentry\", \"noparking\", \"roundabout\", \"speed\", \"trafficdirective\", \"traveldirection\", \"continue\", \"crossing\", \"laneend\", \"parking\", \"giveway\", \"warning\"]"
      ]
    },
    {
      "cell_type": "markdown",
      "metadata": {
        "id": "WeDa3CECzUdZ"
      },
      "source": [
        "### **2.3.1. Test Set 1**"
      ]
    },
    {
      "cell_type": "code",
      "execution_count": null,
      "metadata": {
        "id": "sq4kjvnU1YWh"
      },
      "outputs": [],
      "source": [
        "test_set_1_shape = generating_data_from_dataframe(test_data, \"sign_shape\", test = True)\n",
        "test_set_1_sign = generating_data_from_dataframe(test_data, \"sign_type\", test = True)\n"
      ]
    },
    {
      "cell_type": "markdown",
      "metadata": {
        "id": "9EZiJbGk1Rl5"
      },
      "source": [
        "#### 2.3.1.1 Shape Classification"
      ]
    },
    {
      "cell_type": "code",
      "execution_count": null,
      "metadata": {
        "id": "SPnizqvNqXnd"
      },
      "outputs": [],
      "source": [
        "print_test_evaluation(shape_MLP_base, test_set_1_shape, target_names_shape)"
      ]
    },
    {
      "cell_type": "code",
      "execution_count": null,
      "metadata": {
        "id": "NgpYr9Iod0Z-"
      },
      "outputs": [],
      "source": [
        "print_test_evaluation(shape_MLP_tuned, test_set_1_shape, target_names_shape)"
      ]
    },
    {
      "cell_type": "code",
      "execution_count": null,
      "metadata": {
        "id": "o28qmzRmenbt"
      },
      "outputs": [],
      "source": [
        "print_test_evaluation(shape_MLP_tuned_augmented, test_set_1_shape, target_names_shape)"
      ]
    },
    {
      "cell_type": "code",
      "execution_count": null,
      "metadata": {
        "id": "FtirRNebeoWG"
      },
      "outputs": [],
      "source": [
        "print_test_evaluation(shape_LeNet_base, test_set_1_shape, target_names_shape)"
      ]
    },
    {
      "cell_type": "code",
      "execution_count": null,
      "metadata": {
        "id": "g8ghq1gyeozb"
      },
      "outputs": [],
      "source": [
        "print_test_evaluation(shape_VGG_base, test_set_1_shape, target_names_shape)"
      ]
    },
    {
      "cell_type": "code",
      "execution_count": null,
      "metadata": {
        "id": "Bdg04TkK0ctg"
      },
      "outputs": [],
      "source": [
        "print_test_evaluation(shape_VGG_tuneL2_DropOut02, test_set_1_shape, target_names_shape)\n"
      ]
    },
    {
      "cell_type": "code",
      "execution_count": null,
      "metadata": {
        "id": "HwqWGIjCewr2"
      },
      "outputs": [],
      "source": [
        "print_test_evaluation(shape_VGG_tuneL2_DropOut05, test_set_1_shape, target_names_shape)"
      ]
    },
    {
      "cell_type": "markdown",
      "metadata": {
        "id": "fLC-KmAZe2yW"
      },
      "source": [
        "#### 2.3.1.2 Sign Classification"
      ]
    },
    {
      "cell_type": "code",
      "execution_count": null,
      "metadata": {
        "id": "Is22t9VVe59J"
      },
      "outputs": [],
      "source": [
        "print_test_evaluation(sign_MLP_base, test_set_1_sign, target_names_sign)"
      ]
    },
    {
      "cell_type": "code",
      "execution_count": null,
      "metadata": {
        "id": "5kBYycvze5_t"
      },
      "outputs": [],
      "source": [
        "print_test_evaluation(sign_MLP_tuned, test_set_1_sign, target_names_sign)"
      ]
    },
    {
      "cell_type": "code",
      "execution_count": null,
      "metadata": {
        "id": "f4a7Eb0ue6CL"
      },
      "outputs": [],
      "source": [
        "print_test_evaluation(sign_MLP_tuned_augmented, test_set_1_sign, target_names_sign)"
      ]
    },
    {
      "cell_type": "code",
      "execution_count": null,
      "metadata": {
        "id": "4tYq4f0Oe6Eu"
      },
      "outputs": [],
      "source": [
        "print_test_evaluation(sign_LeNet_base, test_set_1_sign, target_names_sign)"
      ]
    },
    {
      "cell_type": "code",
      "execution_count": null,
      "metadata": {
        "id": "KAZwOImCe6HL"
      },
      "outputs": [],
      "source": [
        "print_test_evaluation(sign_VGG_base, test_set_1_sign, target_names_sign)"
      ]
    },
    {
      "cell_type": "code",
      "execution_count": null,
      "metadata": {
        "id": "aIYEUu3be6J6"
      },
      "outputs": [],
      "source": [
        "print_test_evaluation(sign_VGG_tuneL2_DropOut02, test_set_1_sign, target_names_sign)"
      ]
    },
    {
      "cell_type": "code",
      "execution_count": null,
      "metadata": {
        "id": "ZPf5SBhrfP0O"
      },
      "outputs": [],
      "source": [
        "print_test_evaluation(sign_VGG_tuneL2_DropOut05, test_set_1_sign, target_names_sign)"
      ]
    },
    {
      "cell_type": "markdown",
      "metadata": {
        "id": "8pTyvkvazf9O"
      },
      "source": [
        "### **2.3.2. Test Set 2**"
      ]
    },
    {
      "cell_type": "code",
      "execution_count": null,
      "metadata": {
        "id": "wBw5XdaBqXtt"
      },
      "outputs": [],
      "source": [
        "data_independent = file_path_into_dataframe('./independent_data/*/*/*.png')\n",
        "data_independent.head()  "
      ]
    },
    {
      "cell_type": "code",
      "execution_count": null,
      "metadata": {
        "id": "KXe9_cfuvjRT"
      },
      "outputs": [],
      "source": [
        "plot_distribution(data_independent, \"data_independent\")"
      ]
    },
    {
      "cell_type": "code",
      "execution_count": null,
      "metadata": {
        "id": "vptFRZQXvOTO"
      },
      "outputs": [],
      "source": [
        "label_encoder(data_independent)\n",
        "data_independent.head()"
      ]
    },
    {
      "cell_type": "code",
      "execution_count": null,
      "metadata": {
        "id": "7nXjW2xZ8Am-"
      },
      "outputs": [],
      "source": [
        "test_set_2_shape = generating_data_from_dataframe(data_independent, \"sign_shape\", to_grayscale, test = True)\n",
        "test_set_2_sign = generating_data_from_dataframe(data_independent, \"sign_type\", to_grayscale, test = True)"
      ]
    },
    {
      "cell_type": "markdown",
      "metadata": {
        "id": "336Cq7as6Irk"
      },
      "source": [
        "#### 2.3.2.1 Shape Classification"
      ]
    },
    {
      "cell_type": "code",
      "execution_count": null,
      "metadata": {
        "id": "rMiv7IPNfX3g"
      },
      "outputs": [],
      "source": [
        "print_test_evaluation(shape_MLP_base, test_set_2_shape, target_names_shape)"
      ]
    },
    {
      "cell_type": "code",
      "execution_count": null,
      "metadata": {
        "id": "XtUf6mWwfX3h"
      },
      "outputs": [],
      "source": [
        "print_test_evaluation(shape_MLP_tuned, test_set_2_shape, target_names_shape)"
      ]
    },
    {
      "cell_type": "code",
      "execution_count": null,
      "metadata": {
        "id": "CIYDuyq9fX3h"
      },
      "outputs": [],
      "source": [
        "print_test_evaluation(shape_MLP_tuned_augmented, test_set_2_shape, target_names_shape)"
      ]
    },
    {
      "cell_type": "code",
      "execution_count": null,
      "metadata": {
        "id": "sgBPhOizfX3h"
      },
      "outputs": [],
      "source": [
        "print_test_evaluation(shape_LeNet_base, test_set_2_shape, target_names_shape)"
      ]
    },
    {
      "cell_type": "code",
      "execution_count": null,
      "metadata": {
        "id": "7OVcnxVLfX3h"
      },
      "outputs": [],
      "source": [
        "print_test_evaluation(shape_VGG_base, test_set_2_shape, target_names_shape)"
      ]
    },
    {
      "cell_type": "code",
      "execution_count": null,
      "metadata": {
        "id": "3qEO5Bj-fX3h"
      },
      "outputs": [],
      "source": [
        "print_test_evaluation(shape_VGG_tuneL2_DropOut02, test_set_2_shape, target_names_shape)\n"
      ]
    },
    {
      "cell_type": "code",
      "execution_count": null,
      "metadata": {
        "id": "vxMgpdyUhK_i"
      },
      "outputs": [],
      "source": [
        "print_test_evaluation(shape_VGG_tuneL2_DropOut05, test_set_2_shape, target_names_shape)\n"
      ]
    },
    {
      "cell_type": "markdown",
      "metadata": {
        "id": "fIijsSFTfg7d"
      },
      "source": [
        "#### 2.3.1.2 Sign Classification"
      ]
    },
    {
      "cell_type": "code",
      "execution_count": null,
      "metadata": {
        "id": "9MQLv6xDfg7d"
      },
      "outputs": [],
      "source": [
        "print_test_evaluation(sign_MLP_base, test_set_2_sign, target_names_sign)"
      ]
    },
    {
      "cell_type": "code",
      "execution_count": null,
      "metadata": {
        "id": "3BZvBVv2fg7d"
      },
      "outputs": [],
      "source": [
        "print_test_evaluation(sign_MLP_tuned, test_set_2_sign, target_names_sign)"
      ]
    },
    {
      "cell_type": "code",
      "execution_count": null,
      "metadata": {
        "id": "emzlYk8ifg7d"
      },
      "outputs": [],
      "source": [
        "print_test_evaluation(sign_MLP_tuned_augmented, test_set_2_sign, target_names_sign)"
      ]
    },
    {
      "cell_type": "code",
      "execution_count": null,
      "metadata": {
        "id": "psyEzmywfg7d"
      },
      "outputs": [],
      "source": [
        "print_test_evaluation(sign_LeNet_base, test_set_2_sign, target_names_sign)"
      ]
    },
    {
      "cell_type": "code",
      "execution_count": null,
      "metadata": {
        "id": "H5IDqsNvfg7d"
      },
      "outputs": [],
      "source": [
        "print_test_evaluation(sign_VGG_base, test_set_2_sign, target_names_sign)"
      ]
    },
    {
      "cell_type": "code",
      "execution_count": null,
      "metadata": {
        "id": "utkeUuukfg7e"
      },
      "outputs": [],
      "source": [
        "print_test_evaluation(sign_VGG_tuneL2_DropOut02, test_set_2_sign, target_names_sign)"
      ]
    },
    {
      "cell_type": "code",
      "execution_count": null,
      "metadata": {
        "id": "-rh6SDajfg7e"
      },
      "outputs": [],
      "source": [
        "print_test_evaluation(sign_VGG_tuneL2_DropOut05, test_set_2_sign, target_names_sign)"
      ]
    },
    {
      "cell_type": "markdown",
      "metadata": {
        "id": "YWP58jkMhz1v"
      },
      "source": [
        "https://keras.io/guides/keras_tuner/getting_started/\n",
        "\n",
        "https://keras.io/keras_tuner/\n",
        "\n",
        "https://keras.io/guides/keras_tuner/visualize_tuning/\n",
        "\n",
        "https://www.tensorflow.org/tutorials/keras/keras_tuner\n",
        "\n",
        "Hoang check links for documentation on tuner"
      ]
    }
  ],
  "metadata": {
    "colab": {
      "collapsed_sections": [],
      "name": "Traffic_Sign_Image_Recognition.ipynb",
      "toc_visible": true,
      "provenance": [],
      "include_colab_link": true
    },
    "kernelspec": {
      "display_name": "Python 3",
      "name": "python3"
    },
    "language_info": {
      "name": "python"
    }
  },
  "nbformat": 4,
  "nbformat_minor": 0
}