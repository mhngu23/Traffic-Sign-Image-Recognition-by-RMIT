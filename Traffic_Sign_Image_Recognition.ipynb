{
 "cells": [
  {
   "cell_type": "code",
   "execution_count": 1,
   "metadata": {
    "id": "JkLYNmW6A3PV"
   },
   "outputs": [],
   "source": [
    "!pip install -q -U keras-tuner"
   ]
  },
  {
   "cell_type": "code",
   "execution_count": 2,
   "metadata": {
    "id": "i2HCtApQz2te"
   },
   "outputs": [],
   "source": [
    "import matplotlib.pyplot as plt\n",
    "import numpy as np\n",
    "import pandas as pd\n",
    "import random\n",
    "import tensorflow as tf\n",
    "\n",
    "from tensorflow import keras\n",
    "from tensorflow.keras.preprocessing.image import ImageDataGenerator\n",
    "\n",
    "from keras import layers, Input\n",
    "from keras.layers import InputLayer\n",
    "from keras.layers.core import Dense, Flatten\n",
    "from keras.models import Sequential, Model\n",
    "import keras_tuner as kt\n",
    "\n",
    "import matplotlib.image as mpimg\n",
    "\n",
    "from PIL import Image\n",
    "import os\n",
    "import glob\n",
    "\n",
    "\n",
    "from sklearn.preprocessing import LabelEncoder\n",
    "from sklearn.model_selection import train_test_split\n",
    "from sklearn.utils import class_weight\n",
    "\n",
    "tf.__version__\n",
    "\n",
    "AUTOTUNE = tf.data.experimental.AUTOTUNE"
   ]
  },
  {
   "cell_type": "code",
   "execution_count": 3,
   "metadata": {
    "id": "uIvUi4F2gHLB"
   },
   "outputs": [],
   "source": [
    "# Before using the data need to upload on to drive\n",
    "# This file will be deleted at the end of the session\n",
    "# Go to file on left hand side of the screen then upload file (Can upload the file to root easier access)\n",
    "# File extracted will be saved in content\n",
    "# from zipfile import ZipFile\n",
    "# file_name = '/trafficsigns_dataset.zip'\n",
    "\n",
    "# with ZipFile(file_name, 'r') as zip:\n",
    "#   zip.extractall()\n",
    "#   print('Done')"
   ]
  },
  {
   "cell_type": "code",
   "execution_count": 4,
   "metadata": {
    "id": "YzK32-P6gHNq"
   },
   "outputs": [
    {
     "data": {
      "image/png": "[encoded data removed]",
      "text/plain": [
       "<Figure size 1440x1440 with 5 Axes>"
      ]
     },
     "metadata": {
      "needs_background": "light"
     },
     "output_type": "display_data"
    }
   ],
   "source": [
    "# This is just to test if image is loaded correctly\n",
    "\n",
    "\n",
    "plt.figure(figsize=(20,20))\n",
    "test_folder=r'./trafficsigns_dataset/diamond/rightofway'\n",
    "for i in range(5):                                                    # Randomly loaded 5 images\n",
    "    file = random.choice(os.listdir(test_folder))\n",
    "    image_path= os.path.join(test_folder, file)\n",
    "    img=mpimg.imread(image_path)\n",
    "    ax=plt.subplot(1,5,i+1)\n",
    "    ax.title.set_text(file)\n",
    "    plt.imshow(img, cmap = 'gray')"
   ]
  },
  {
   "cell_type": "markdown",
   "metadata": {
    "id": "L7s7dIgSUv6B"
   },
   "source": [
    "# **1. Data Preparation**\n",
    "**Importing data into a dataframe**\n",
    "\n",
    "Data will be stored in a dataframe which has image path, shape and type as columns."
   ]
  },
  {
   "cell_type": "code",
   "execution_count": 5,
   "metadata": {
    "id": "TDedbPXcVIDN"
   },
   "outputs": [],
   "source": [
    "image_list = []\n",
    "\n",
    "for filepath in glob.glob('./trafficsigns_dataset/*/*/*.png', recursive=True):\n",
    "#     print(filepath)\n",
    "    sign_shape = filepath.split('\\\\')[1]\n",
    "    sign_type = filepath.split('\\\\')[2]\n",
    "    image_list.append((filepath, sign_shape, sign_type ))\n",
    "    \n",
    "    \n",
    "# create a dataframe\n",
    "data = pd.DataFrame(data= image_list, columns=[\"image_path\", 'sign_shape','sign_type'])"
   ]
  },
  {
   "cell_type": "code",
   "execution_count": 6,
   "metadata": {
    "id": "SkDlXfUDVLXa"
   },
   "outputs": [
    {
     "data": {
      "text/html": [
       "<div>\n",
       "<style scoped>\n",
       "    .dataframe tbody tr th:only-of-type {\n",
       "        vertical-align: middle;\n",
       "    }\n",
       "\n",
       "    .dataframe tbody tr th {\n",
       "        vertical-align: top;\n",
       "    }\n",
       "\n",
       "    .dataframe thead th {\n",
       "        text-align: right;\n",
       "    }\n",
       "</style>\n",
       "<table border=\"1\" class=\"dataframe\">\n",
       "  <thead>\n",
       "    <tr style=\"text-align: right;\">\n",
       "      <th></th>\n",
       "      <th>image_path</th>\n",
       "      <th>sign_shape</th>\n",
       "      <th>sign_type</th>\n",
       "    </tr>\n",
       "  </thead>\n",
       "  <tbody>\n",
       "    <tr>\n",
       "      <th>0</th>\n",
       "      <td>./trafficsigns_dataset\\diamond\\rightofway\\0003...</td>\n",
       "      <td>diamond</td>\n",
       "      <td>rightofway</td>\n",
       "    </tr>\n",
       "    <tr>\n",
       "      <th>1</th>\n",
       "      <td>./trafficsigns_dataset\\diamond\\rightofway\\0003...</td>\n",
       "      <td>diamond</td>\n",
       "      <td>rightofway</td>\n",
       "    </tr>\n",
       "    <tr>\n",
       "      <th>2</th>\n",
       "      <td>./trafficsigns_dataset\\diamond\\rightofway\\0003...</td>\n",
       "      <td>diamond</td>\n",
       "      <td>rightofway</td>\n",
       "    </tr>\n",
       "    <tr>\n",
       "      <th>3</th>\n",
       "      <td>./trafficsigns_dataset\\diamond\\rightofway\\0003...</td>\n",
       "      <td>diamond</td>\n",
       "      <td>rightofway</td>\n",
       "    </tr>\n",
       "    <tr>\n",
       "      <th>4</th>\n",
       "      <td>./trafficsigns_dataset\\diamond\\rightofway\\0003...</td>\n",
       "      <td>diamond</td>\n",
       "      <td>rightofway</td>\n",
       "    </tr>\n",
       "  </tbody>\n",
       "</table>\n",
       "</div>"
      ],
      "text/plain": [
       "                                          image_path sign_shape   sign_type\n",
       "0  ./trafficsigns_dataset\\diamond\\rightofway\\0003...    diamond  rightofway\n",
       "1  ./trafficsigns_dataset\\diamond\\rightofway\\0003...    diamond  rightofway\n",
       "2  ./trafficsigns_dataset\\diamond\\rightofway\\0003...    diamond  rightofway\n",
       "3  ./trafficsigns_dataset\\diamond\\rightofway\\0003...    diamond  rightofway\n",
       "4  ./trafficsigns_dataset\\diamond\\rightofway\\0003...    diamond  rightofway"
      ]
     },
     "execution_count": 6,
     "metadata": {},
     "output_type": "execute_result"
    }
   ],
   "source": [
    "# inspecting the dataframe\n",
    "data.head()"
   ]
  },
  {
   "cell_type": "code",
   "execution_count": 7,
   "metadata": {
    "id": "B_wAoGZrVNro"
   },
   "outputs": [
    {
     "data": {
      "text/plain": [
       "(3699, 3)"
      ]
     },
     "execution_count": 7,
     "metadata": {},
     "output_type": "execute_result"
    }
   ],
   "source": [
    "# data shape\n",
    "data.shape"
   ]
  },
  {
   "cell_type": "code",
   "execution_count": 8,
   "metadata": {
    "id": "AHeGow_iVeKu"
   },
   "outputs": [
    {
     "name": "stdout",
     "output_type": "stream",
     "text": [
      "numbers of shape: 5\n"
     ]
    },
    {
     "data": {
      "text/plain": [
       "array(['diamond', 'hex', 'round', 'square', 'triangle'], dtype=object)"
      ]
     },
     "execution_count": 8,
     "metadata": {},
     "output_type": "execute_result"
    }
   ],
   "source": [
    "print(\"numbers of shape:\", len(data.sign_shape.unique()))\n",
    "data.sign_shape.unique()"
   ]
  },
  {
   "cell_type": "code",
   "execution_count": 9,
   "metadata": {
    "id": "oF-b3K3SVgMx"
   },
   "outputs": [
    {
     "name": "stdout",
     "output_type": "stream",
     "text": [
      "numbers of type: 16\n"
     ]
    },
    {
     "data": {
      "text/plain": [
       "array(['rightofway', 'stop', 'bicycle', 'limitedtraffic', 'noentry',\n",
       "       'noparking', 'roundabout', 'speed', 'trafficdirective',\n",
       "       'traveldirection', 'continue', 'crossing', 'laneend', 'parking',\n",
       "       'giveway', 'warning'], dtype=object)"
      ]
     },
     "execution_count": 9,
     "metadata": {},
     "output_type": "execute_result"
    }
   ],
   "source": [
    "print(\"numbers of type:\", len(data.sign_type.unique()))\n",
    "data.sign_type.unique()"
   ]
  },
  {
   "cell_type": "markdown",
   "metadata": {
    "id": "2tXLw9i-Vlnn"
   },
   "source": [
    "**Labels encoding**\n",
    "\n",
    "Using label encoder from sklearn to transform label into integer"
   ]
  },
  {
   "cell_type": "code",
   "execution_count": 10,
   "metadata": {
    "id": "sPs2Cyn6Vv72"
   },
   "outputs": [],
   "source": [
    "labelEncoder = LabelEncoder()\n",
    "data.sign_shape = labelEncoder.fit_transform(data.sign_shape)\n",
    "data.sign_type = labelEncoder.fit_transform(data.sign_type)"
   ]
  },
  {
   "cell_type": "code",
   "execution_count": 11,
   "metadata": {
    "id": "zYhZDULxVykQ"
   },
   "outputs": [
    {
     "data": {
      "text/html": [
       "<div>\n",
       "<style scoped>\n",
       "    .dataframe tbody tr th:only-of-type {\n",
       "        vertical-align: middle;\n",
       "    }\n",
       "\n",
       "    .dataframe tbody tr th {\n",
       "        vertical-align: top;\n",
       "    }\n",
       "\n",
       "    .dataframe thead th {\n",
       "        text-align: right;\n",
       "    }\n",
       "</style>\n",
       "<table border=\"1\" class=\"dataframe\">\n",
       "  <thead>\n",
       "    <tr style=\"text-align: right;\">\n",
       "      <th></th>\n",
       "      <th>image_path</th>\n",
       "      <th>sign_shape</th>\n",
       "      <th>sign_type</th>\n",
       "    </tr>\n",
       "  </thead>\n",
       "  <tbody>\n",
       "    <tr>\n",
       "      <th>0</th>\n",
       "      <td>./trafficsigns_dataset\\diamond\\rightofway\\0003...</td>\n",
       "      <td>0</td>\n",
       "      <td>9</td>\n",
       "    </tr>\n",
       "    <tr>\n",
       "      <th>1</th>\n",
       "      <td>./trafficsigns_dataset\\diamond\\rightofway\\0003...</td>\n",
       "      <td>0</td>\n",
       "      <td>9</td>\n",
       "    </tr>\n",
       "    <tr>\n",
       "      <th>2</th>\n",
       "      <td>./trafficsigns_dataset\\diamond\\rightofway\\0003...</td>\n",
       "      <td>0</td>\n",
       "      <td>9</td>\n",
       "    </tr>\n",
       "    <tr>\n",
       "      <th>3</th>\n",
       "      <td>./trafficsigns_dataset\\diamond\\rightofway\\0003...</td>\n",
       "      <td>0</td>\n",
       "      <td>9</td>\n",
       "    </tr>\n",
       "    <tr>\n",
       "      <th>4</th>\n",
       "      <td>./trafficsigns_dataset\\diamond\\rightofway\\0003...</td>\n",
       "      <td>0</td>\n",
       "      <td>9</td>\n",
       "    </tr>\n",
       "  </tbody>\n",
       "</table>\n",
       "</div>"
      ],
      "text/plain": [
       "                                          image_path  sign_shape  sign_type\n",
       "0  ./trafficsigns_dataset\\diamond\\rightofway\\0003...           0          9\n",
       "1  ./trafficsigns_dataset\\diamond\\rightofway\\0003...           0          9\n",
       "2  ./trafficsigns_dataset\\diamond\\rightofway\\0003...           0          9\n",
       "3  ./trafficsigns_dataset\\diamond\\rightofway\\0003...           0          9\n",
       "4  ./trafficsigns_dataset\\diamond\\rightofway\\0003...           0          9"
      ]
     },
     "execution_count": 11,
     "metadata": {},
     "output_type": "execute_result"
    }
   ],
   "source": [
    "# inspecting the changes\n",
    "data.head()"
   ]
  },
  {
   "cell_type": "markdown",
   "metadata": {
    "id": "Ny6FEkNtV-An"
   },
   "source": [
    "**Distributions of shape and type**"
   ]
  },
  {
   "cell_type": "code",
   "execution_count": 12,
   "metadata": {
    "id": "IlXhzk-dWF-k"
   },
   "outputs": [
    {
     "data": {
      "image/png": "[encoded data removed]",
      "text/plain": [
       "<Figure size 648x648 with 2 Axes>"
      ]
     },
     "metadata": {
      "needs_background": "light"
     },
     "output_type": "display_data"
    }
   ],
   "source": [
    "plt.figure(figsize=(9,9))\n",
    "for i in range(1,3):\n",
    "    plt.subplot(2,1,i)\n",
    "    data.iloc[:, i].sort_values().astype(str).hist()\n",
    "    txt = \"distribution of \" + data.columns[i]\n",
    "    plt.title(txt)"
   ]
  },
  {
   "cell_type": "markdown",
   "metadata": {
    "id": "NQtSoCQlWI-E"
   },
   "source": [
    "**<u>Observation</u>:**\n",
    "\n",
    " * Data has multiple classes for shape and type of the traffic sign\n",
    " * Class imbalance problem in shape and type <br>\n",
    " * performance measure : F1, log_loss and average accuracy(micro-average)<br>\n",
    "\n",
    "What is the realistic result for performance measure?"
   ]
  },
  {
   "cell_type": "markdown",
   "metadata": {
    "id": "FqEJMlMIkS5-"
   },
   "source": [
    "# **2. Model Development**\n",
    "* Goal:\n",
    "* Setup the experiment:\n",
    "* Baseline Model:\n",
    "* incremental changes:"
   ]
  },
  {
   "cell_type": "code",
   "execution_count": 13,
   "metadata": {
    "id": "RSQ7NHEW2SLh"
   },
   "outputs": [],
   "source": [
    "def plot_learning_curve(train_loss, val_loss, train_metric, val_metric, metric_name='Accuracy'):\n",
    "    plt.figure(figsize=(10,5))\n",
    "    \n",
    "    plt.subplot(1,2,1)\n",
    "    plt.plot(train_loss, 'r--')\n",
    "    plt.plot(val_loss, 'b--')\n",
    "    plt.xlabel(\"epochs\")\n",
    "    plt.ylabel(\"Loss\")\n",
    "    plt.legend(['train', 'val'], loc='upper left')\n",
    "\n",
    "    plt.subplot(1,2,2)\n",
    "    plt.plot(train_metric, 'r--')\n",
    "    plt.plot(val_metric, 'b--')\n",
    "    plt.xlabel(\"epochs\")\n",
    "    plt.ylabel(metric_name)\n",
    "    plt.legend(['train', 'val'], loc='upper left')\n",
    "\n",
    "    plt.show()"
   ]
  },
  {
   "cell_type": "markdown",
   "metadata": {
    "id": "lDA5OviDkv6c"
   },
   "source": [
    "## **2.1 Image Data Generator**"
   ]
  },
  {
   "cell_type": "markdown",
   "metadata": {
    "id": "jCPmkOqGCvxZ"
   },
   "source": [
    "### **2.1.1 Function to generate data**"
   ]
  },
  {
   "cell_type": "code",
   "execution_count": 14,
   "metadata": {
    "id": "0hkkv01mCvAg"
   },
   "outputs": [],
   "source": [
    "class dataGenerator:\n",
    "    def __init__(self, data, target_column_name):\n",
    "        self.data = data\n",
    "        self.target_column_name = target_column_name\n",
    "        # Splitting input data into train, validation set\n",
    "        self.path_train, self.path_validation = self.split_train_validation()\n",
    "        print(f\"Train data {target_column_name} : {self.path_train.shape[0]}\\nVal Data {target_column_name}: {self.path_validation.shape[0]}\")\n",
    "        # Convert the target column into string array\n",
    "        self.convert_target_column_to_String(self.path_train, self.path_validation)\n",
    "        # Generating actual data from filepath\n",
    "        self.train, self.validation = self.__generating_data_from_dataframe__()\n",
    "   \n",
    "\n",
    "    def split_train_validation(self):\n",
    "        \"\"\"\n",
    "        Function to split input data into train, validation set\n",
    "        \"\"\"\n",
    "        return train_test_split(self.data, random_state = random.randint(0, 100), test_size=0.2)\n",
    "\n",
    "    def convert_target_column_to_String(self, train, validation):\n",
    "        \"\"\"\n",
    "        Function to convert the refering target_column_name into string array\n",
    "        \"\"\"\n",
    "        train.loc[:,self.target_column_name] = train.loc[:,self.target_column_name].astype('str')\n",
    "        validation.loc[:, self.target_column_name] = validation.loc[:,self.target_column_name].astype('str')\n",
    "    \n",
    "    def __generating_data_from_dataframe__(self):\n",
    "        \"\"\"\n",
    "        Function to generate actual data from file path\n",
    "        \"\"\"\n",
    "        train_datagen = ImageDataGenerator(rescale = 1./255, data_format = 'channels_last')\n",
    "        val_datagen = ImageDataGenerator(rescale = 1./255, data_format = 'channels_last')\n",
    "        batch_size = 32\n",
    "        train = train_datagen.flow_from_dataframe(\n",
    "            dataframe = self.path_train,\n",
    "            directory = './',\n",
    "            x_col = \"image_path\",\n",
    "            y_col = self.target_column_name,\n",
    "            target_size = (28, 28),\n",
    "            batch_size = batch_size,\n",
    "            class_mode = 'categorical')\n",
    "\n",
    "        validation = val_datagen.flow_from_dataframe(\n",
    "            dataframe = self.path_validation,\n",
    "            directory = './',\n",
    "            x_col = \"image_path\",\n",
    "            y_col = self.target_column_name,\n",
    "            target_size = (28, 28),\n",
    "            batch_size = batch_size,\n",
    "            class_mode = 'categorical')\n",
    "        return train, validation\n"
   ]
  },
  {
   "cell_type": "markdown",
   "metadata": {
    "id": "JobQaCaKwAzR"
   },
   "source": [
    "### **2.1.2 Shape**"
   ]
  },
  {
   "cell_type": "markdown",
   "metadata": {
    "id": "nYgpyxJfjlJd"
   },
   "source": [
    "Split data into train and validation set"
   ]
  },
  {
   "cell_type": "code",
   "execution_count": 15,
   "metadata": {
    "id": "5OpuDU1pEkmD"
   },
   "outputs": [
    {
     "name": "stdout",
     "output_type": "stream",
     "text": [
      "Train data sign_shape : 2959\n",
      "Val Data sign_shape: 740\n"
     ]
    },
    {
     "name": "stderr",
     "output_type": "stream",
     "text": [
      "C:\\Users\\Hoang\\anaconda3\\lib\\site-packages\\pandas\\core\\indexing.py:1773: SettingWithCopyWarning: \n",
      "A value is trying to be set on a copy of a slice from a DataFrame.\n",
      "Try using .loc[row_indexer,col_indexer] = value instead\n",
      "\n",
      "See the caveats in the documentation: https://pandas.pydata.org/pandas-docs/stable/user_guide/indexing.html#returning-a-view-versus-a-copy\n",
      "  self._setitem_single_column(ilocs[0], value, pi)\n"
     ]
    },
    {
     "name": "stdout",
     "output_type": "stream",
     "text": [
      "Found 2959 validated image filenames belonging to 5 classes.\n",
      "Found 740 validated image filenames belonging to 5 classes.\n"
     ]
    }
   ],
   "source": [
    "dataShape = dataGenerator(data, \"sign_shape\")"
   ]
  },
  {
   "cell_type": "markdown",
   "metadata": {
    "id": "xkmxfgE-wNVz"
   },
   "source": [
    "### **2.1.2 Type**"
   ]
  },
  {
   "cell_type": "code",
   "execution_count": 16,
   "metadata": {
    "id": "DDL6pvYgKR7J"
   },
   "outputs": [
    {
     "name": "stdout",
     "output_type": "stream",
     "text": [
      "Train data sign_type : 2959\n",
      "Val Data sign_type: 740\n",
      "Found 2959 validated image filenames belonging to 16 classes.\n",
      "Found 740 validated image filenames belonging to 16 classes.\n"
     ]
    }
   ],
   "source": [
    "dataType = dataGenerator(data, \"sign_type\")"
   ]
  },
  {
   "cell_type": "markdown",
   "metadata": {
    "id": "jxWwUgtQyzeO"
   },
   "source": [
    "## **2.2 Build Model**"
   ]
  },
  {
   "cell_type": "code",
   "execution_count": 17,
   "metadata": {
    "id": "YdHF3EbqhrmV"
   },
   "outputs": [],
   "source": [
    "input_dimension = (28,28,3)\n",
    "numbers_of_shape = len(data.sign_shape.unique())\n",
    "numbers_of_sign = len(data.sign_type.unique())"
   ]
  },
  {
   "cell_type": "markdown",
   "metadata": {
    "id": "q4iQEmsE0x0G"
   },
   "source": [
    "### **2.2.1 Multilayer Perceptron Neural Network**"
   ]
  },
  {
   "cell_type": "markdown",
   "metadata": {
    "id": "I2GBQDv51HiU"
   },
   "source": [
    "#### 2.2.1.1 Shape"
   ]
  },
  {
   "cell_type": "markdown",
   "metadata": {
    "id": "n_27qSDKzFQY"
   },
   "source": [
    "#### A. Baseline Model"
   ]
  },
  {
   "cell_type": "code",
   "execution_count": 18,
   "metadata": {
    "id": "iejNu1SSzIEA"
   },
   "outputs": [],
   "source": [
    "import tensorflow as tf\n",
    "\n",
    "model = tf.keras.Sequential([\n",
    "    tf.keras.layers.Flatten(input_shape=input_dimension),\n",
    "    tf.keras.layers.Dense(320, activation='sigmoid'),\n",
    "    tf.keras.layers.Dense(5, 'softmax')\n",
    "])"
   ]
  },
  {
   "cell_type": "markdown",
   "metadata": {
    "id": "0UT-6i7csPlm"
   },
   "source": [
    "**Compile model**"
   ]
  },
  {
   "cell_type": "code",
   "execution_count": 19,
   "metadata": {
    "id": "IJObJ7znzPj_"
   },
   "outputs": [],
   "source": [
    "model.compile(optimizer = 'sgd',\n",
    "              # use categorical_crossentropy instead of sparse as we use one hot label encoder\n",
    "              loss = \"categorical_crossentropy\",     \n",
    "              metrics = ['categorical_accuracy'])"
   ]
  },
  {
   "cell_type": "markdown",
   "metadata": {
    "id": "TovDWF4wzUzD"
   },
   "source": [
    "**Train model**"
   ]
  },
  {
   "cell_type": "code",
   "execution_count": 20,
   "metadata": {
    "id": "lkOm-W3Uztc3"
   },
   "outputs": [
    {
     "name": "stderr",
     "output_type": "stream",
     "text": [
      "C:\\Users\\Hoang\\AppData\\Local\\Temp/ipykernel_17000/2574104595.py:1: UserWarning: `Model.fit_generator` is deprecated and will be removed in a future version. Please use `Model.fit`, which supports generators.\n",
      "  history = model.fit_generator(dataShape.train, validation_data = dataShape.validation, epochs=100, verbose=0)\n"
     ]
    }
   ],
   "source": [
    "history = model.fit_generator(dataShape.train, validation_data = dataShape.validation, epochs=100, verbose=0)"
   ]
  },
  {
   "cell_type": "code",
   "execution_count": 21,
   "metadata": {
    "id": "QZZYm-bf2rXn"
   },
   "outputs": [
    {
     "data": {
      "image/png": "[encoded data removed]",
      "text/plain": [
       "<Figure size 720x360 with 2 Axes>"
      ]
     },
     "metadata": {
      "needs_background": "light"
     },
     "output_type": "display_data"
    }
   ],
   "source": [
    "plot_learning_curve(history.history['loss'], history.history['val_loss'], \n",
    "                    history.history['categorical_accuracy'], history.history['val_categorical_accuracy'], \n",
    "                    metric_name = 'Accuracy')"
   ]
  },
  {
   "cell_type": "markdown",
   "metadata": {
    "id": "KlTDDshZg4yS"
   },
   "source": [
    "#### B. Hyperparameter Tuning Model"
   ]
  },
  {
   "cell_type": "code",
   "execution_count": 22,
   "metadata": {
    "id": "2cuS4K2Mg-c8"
   },
   "outputs": [
    {
     "data": {
      "text/plain": [
       "<keras.engine.sequential.Sequential at 0x221c0947ca0>"
      ]
     },
     "execution_count": 22,
     "metadata": {},
     "output_type": "execute_result"
    }
   ],
   "source": [
    "def parameters( layer, units, activation, dropout, lr,  numbers_of_label,  momentum):\n",
    "    \"\"\"\n",
    "    \n",
    "    \"\"\"\n",
    "    model = keras.Sequential([tf.keras.layers.Flatten(input_shape = input_dimension)])\n",
    "    # Tune the number of layers\n",
    "    for i in range(layer):\n",
    "        model.add(layers.Dense(units=units, activation = activation))\n",
    "    # tune dropout  \n",
    "    if dropout:\n",
    "        model.add(layers.Dropout(rate = 0.3))\n",
    "    # output layer\n",
    "    model.add(layers.Dense(numbers_of_label, activation = 'softmax'))\n",
    "    \n",
    "    # loss function\n",
    "    model.compile(optimizer=keras.optimizers.SGD(learning_rate = lr,  \n",
    "                                                momentum = momentum, nesterov = True),\n",
    "                                                loss = 'CategoricalCrossentropy',\n",
    "                                                metrics = ['categorical_accuracy'])\n",
    "    return model\n",
    "\n",
    "\n",
    "def build_model(hp):\n",
    "    # Declaring the number of layers to be tuned\n",
    "    layer = hp.Int(\"num_layers\", 1, 3)\n",
    "    # Declaring the number of units per layer to be tuned\n",
    "    units = hp.Int(\"units\", min_value = 16, max_value = 512, step = 16)\n",
    "    # Declaring the activaiton functionto be tuned\n",
    "    activation = hp.Choice('activation', ['relu', 'tanh', 'elu'])\n",
    "    dropout = hp.Boolean('dropout')\n",
    "    # Declaring the learning rate range to be tuned\n",
    "    lr = hp.Float('lr', min_value = 1e-4, max_value = 1e-2, sampling = 'log')\n",
    "    momentum = hp.Float('momentum', min_value = 0.1, max_value = 0.9, sampling = 'log' )\n",
    "    model = parameters( layer = layer, units = units, activation = activation, dropout = dropout,\n",
    "                    momentum = momentum, lr = lr, numbers_of_label = numbers_of_shape)    \n",
    "    return model\n",
    "\n",
    "\n",
    "build_model(kt.HyperParameters())"
   ]
  },
  {
   "cell_type": "code",
   "execution_count": 23,
   "metadata": {
    "id": "ouUUJb_AhEHh"
   },
   "outputs": [],
   "source": [
    "tuner = kt.BayesianOptimization(\n",
    "    hypermodel = build_model,\n",
    "    objective = \"val_categorical_accuracy\", \n",
    "    max_trials = 3,\n",
    "    executions_per_trial = 2,\n",
    "    overwrite = True,\n",
    "    directory = \"my_dir\",\n",
    "    project_name = \"helloworld\",\n",
    ")"
   ]
  },
  {
   "cell_type": "code",
   "execution_count": 24,
   "metadata": {
    "id": "ikhwaPm8hEwx"
   },
   "outputs": [
    {
     "name": "stdout",
     "output_type": "stream",
     "text": [
      "Search space summary\n",
      "Default search space size: 6\n",
      "num_layers (Int)\n",
      "{'default': None, 'conditions': [], 'min_value': 1, 'max_value': 3, 'step': 1, 'sampling': None}\n",
      "units (Int)\n",
      "{'default': None, 'conditions': [], 'min_value': 16, 'max_value': 512, 'step': 16, 'sampling': None}\n",
      "activation (Choice)\n",
      "{'default': 'relu', 'conditions': [], 'values': ['relu', 'tanh', 'elu'], 'ordered': False}\n",
      "dropout (Boolean)\n",
      "{'default': False, 'conditions': []}\n",
      "lr (Float)\n",
      "{'default': 0.0001, 'conditions': [], 'min_value': 0.0001, 'max_value': 0.01, 'step': None, 'sampling': 'log'}\n",
      "momentum (Float)\n",
      "{'default': 0.1, 'conditions': [], 'min_value': 0.1, 'max_value': 0.9, 'step': None, 'sampling': 'log'}\n"
     ]
    }
   ],
   "source": [
    "tuner.search_space_summary()"
   ]
  },
  {
   "cell_type": "code",
   "execution_count": 25,
   "metadata": {
    "id": "FHZq97M6lIFq"
   },
   "outputs": [],
   "source": [
    "# create weight for imbalance class\n",
    "class_weights = class_weight.compute_class_weight(class_weight = 'balanced',\n",
    "                                                 classes = data.sign_shape.unique(),\n",
    "                                                 y = data.sign_shape.to_numpy())\n",
    "\n",
    "# convert class_weights to dictionary\n",
    "class_weight_dict = dict()\n",
    "i = 0\n",
    "for w in class_weights:\n",
    "    class_weight_dict[i] = w\n",
    "    i= i+1"
   ]
  },
  {
   "cell_type": "code",
   "execution_count": 26,
   "metadata": {
    "id": "nmIRxbTZhNkD"
   },
   "outputs": [
    {
     "name": "stdout",
     "output_type": "stream",
     "text": [
      "Trial 3 Complete [00h 04m 01s]\n",
      "val_categorical_accuracy: 0.9533783793449402\n",
      "\n",
      "Best val_categorical_accuracy So Far: 0.958108127117157\n",
      "Total elapsed time: 00h 15m 51s\n",
      "INFO:tensorflow:Oracle triggered exit\n"
     ]
    }
   ],
   "source": [
    "tuner.search(dataShape.train, epochs=100, validation_data=dataShape.validation,class_weight=class_weight_dict , callbacks=[keras.callbacks.TensorBoard(\"/tmp/tb_logs\")])"
   ]
  },
  {
   "cell_type": "code",
   "execution_count": 27,
   "metadata": {
    "id": "-9fgv5-ChObp"
   },
   "outputs": [],
   "source": [
    "# get best model and best hyper parameter\n",
    "best_model = tuner.get_best_models()[0]\n",
    "best_hp = tuner.get_best_hyperparameters()[0]"
   ]
  },
  {
   "cell_type": "code",
   "execution_count": 28,
   "metadata": {
    "id": "V_bQ-KP7hRnv"
   },
   "outputs": [
    {
     "name": "stdout",
     "output_type": "stream",
     "text": [
      "Model: \"sequential\"\n",
      "_________________________________________________________________\n",
      " Layer (type)                Output Shape              Param #   \n",
      "=================================================================\n",
      " flatten (Flatten)           (None, 2352)              0         \n",
      "                                                                 \n",
      " dense (Dense)               (None, 128)               301184    \n",
      "                                                                 \n",
      " dense_1 (Dense)             (None, 128)               16512     \n",
      "                                                                 \n",
      " dropout (Dropout)           (None, 128)               0         \n",
      "                                                                 \n",
      " dense_2 (Dense)             (None, 5)                 645       \n",
      "                                                                 \n",
      "=================================================================\n",
      "Total params: 318,341\n",
      "Trainable params: 318,341\n",
      "Non-trainable params: 0\n",
      "_________________________________________________________________\n"
     ]
    }
   ],
   "source": [
    "#best_model.build()\n",
    "best_model.summary()"
   ]
  },
  {
   "cell_type": "code",
   "execution_count": 29,
   "metadata": {
    "id": "fvIa1PFusg1J"
   },
   "outputs": [
    {
     "data": {
      "text/html": [
       "\n",
       "      <iframe id=\"tensorboard-frame-cad1910b3d1b1173\" width=\"100%\" height=\"800\" frameborder=\"0\">\n",
       "      </iframe>\n",
       "      <script>\n",
       "        (function() {\n",
       "          const frame = document.getElementById(\"tensorboard-frame-cad1910b3d1b1173\");\n",
       "          const url = new URL(\"/\", window.location);\n",
       "          const port = 6006;\n",
       "          if (port) {\n",
       "            url.port = port;\n",
       "          }\n",
       "          frame.src = url;\n",
       "        })();\n",
       "      </script>\n",
       "    "
      ],
      "text/plain": [
       "<IPython.core.display.HTML object>"
      ]
     },
     "metadata": {},
     "output_type": "display_data"
    }
   ],
   "source": [
    "%load_ext tensorboard\n",
    "%tensorboard --logdir /tmp/tb_logs"
   ]
  },
  {
   "cell_type": "code",
   "execution_count": 30,
   "metadata": {
    "id": "CO5omXV0ASrW"
   },
   "outputs": [
    {
     "name": "stderr",
     "output_type": "stream",
     "text": [
      "C:\\Users\\Hoang\\AppData\\Local\\Temp/ipykernel_17000/2324079621.py:2: UserWarning: `Model.fit_generator` is deprecated and will be removed in a future version. Please use `Model.fit`, which supports generators.\n",
      "  history = model.fit_generator(dataShape.train, validation_data = dataShape.validation, epochs=100, verbose=0)\n"
     ]
    }
   ],
   "source": [
    "model = tuner.hypermodel.build(best_hp)\n",
    "history = model.fit_generator(dataShape.train, validation_data = dataShape.validation, epochs=100, verbose=0)"
   ]
  },
  {
   "cell_type": "code",
   "execution_count": 31,
   "metadata": {
    "id": "1lJEFTgOAlKW"
   },
   "outputs": [
    {
     "data": {
      "image/png": "[encoded data removed]",
      "text/plain": [
       "<Figure size 720x360 with 2 Axes>"
      ]
     },
     "metadata": {
      "needs_background": "light"
     },
     "output_type": "display_data"
    }
   ],
   "source": [
    "plot_learning_curve(history.history['loss'], history.history['val_loss'], \n",
    "                    history.history['categorical_accuracy'], history.history['val_categorical_accuracy'], \n",
    "                    metric_name = 'Accuracy')"
   ]
  },
  {
   "cell_type": "code",
   "execution_count": 32,
   "metadata": {
    "id": "d6FHFkkXAmEJ"
   },
   "outputs": [
    {
     "name": "stdout",
     "output_type": "stream",
     "text": [
      "Best epoch: 91\n"
     ]
    }
   ],
   "source": [
    "# get the best epoch\n",
    "val_acc_per_epoch = history.history['val_categorical_accuracy']\n",
    "best_epoch = val_acc_per_epoch.index(max(val_acc_per_epoch)) + 1\n",
    "print('Best epoch: %d' % (best_epoch,))"
   ]
  },
  {
   "cell_type": "code",
   "execution_count": 33,
   "metadata": {
    "id": "RfdcGex_Aou-"
   },
   "outputs": [
    {
     "name": "stderr",
     "output_type": "stream",
     "text": [
      "C:\\Users\\Hoang\\AppData\\Local\\Temp/ipykernel_17000/71869514.py:4: UserWarning: `Model.fit_generator` is deprecated and will be removed in a future version. Please use `Model.fit`, which supports generators.\n",
      "  finale_model.fit_generator(dataShape.train, validation_data = dataShape.validation, epochs=best_epoch, verbose=0)\n"
     ]
    },
    {
     "data": {
      "text/plain": [
       "<keras.callbacks.History at 0x221c51564c0>"
      ]
     },
     "execution_count": 33,
     "metadata": {},
     "output_type": "execute_result"
    }
   ],
   "source": [
    "# Retrain the model with the best epoch\n",
    "finale_model = tuner.hypermodel.build(best_hp)\n",
    "\n",
    "finale_model.fit_generator(dataShape.train, validation_data = dataShape.validation, epochs=best_epoch, verbose=0)"
   ]
  },
  {
   "cell_type": "markdown",
   "metadata": {
    "id": "RuPkVPMS3A8_"
   },
   "source": [
    "#### 2.2.1.2 Type"
   ]
  },
  {
   "cell_type": "markdown",
   "metadata": {
    "id": "6TLIHGSnl1m9"
   },
   "source": [
    "### **2.2.2 Convolution Neural Network**"
   ]
  },
  {
   "cell_type": "markdown",
   "metadata": {
    "id": "wSRumg1Ospx9"
   },
   "source": [
    "#### A. Simple CNN Model"
   ]
  },
  {
   "cell_type": "code",
   "execution_count": 34,
   "metadata": {
    "id": "ZI-pZ73ol0TQ"
   },
   "outputs": [
    {
     "name": "stdout",
     "output_type": "stream",
     "text": [
      "Model: \"sequential_3\"\n",
      "_________________________________________________________________\n",
      " Layer (type)                Output Shape              Param #   \n",
      "=================================================================\n",
      " conv2d (Conv2D)             (None, 28, 28, 28)        784       \n",
      "                                                                 \n",
      " conv2d_1 (Conv2D)           (None, 28, 28, 28)        7084      \n",
      "                                                                 \n",
      " max_pooling2d (MaxPooling2D  (None, 14, 14, 28)       0         \n",
      " )                                                               \n",
      "                                                                 \n",
      " conv2d_2 (Conv2D)           (None, 14, 14, 64)        16192     \n",
      "                                                                 \n",
      " conv2d_3 (Conv2D)           (None, 14, 14, 64)        36928     \n",
      "                                                                 \n",
      " max_pooling2d_1 (MaxPooling  (None, 7, 7, 64)         0         \n",
      " 2D)                                                             \n",
      "                                                                 \n",
      " conv2d_4 (Conv2D)           (None, 7, 7, 128)         73856     \n",
      "                                                                 \n",
      " conv2d_5 (Conv2D)           (None, 7, 7, 128)         147584    \n",
      "                                                                 \n",
      " max_pooling2d_2 (MaxPooling  (None, 3, 3, 128)        0         \n",
      " 2D)                                                             \n",
      "                                                                 \n",
      " flatten_3 (Flatten)         (None, 1152)              0         \n",
      "                                                                 \n",
      " dense_9 (Dense)             (None, 128)               147584    \n",
      "                                                                 \n",
      " dense_10 (Dense)            (None, 5)                 645       \n",
      "                                                                 \n",
      "=================================================================\n",
      "Total params: 430,657\n",
      "Trainable params: 430,657\n",
      "Non-trainable params: 0\n",
      "_________________________________________________________________\n"
     ]
    }
   ],
   "source": [
    "model = tf.keras.Sequential([\n",
    "    #VGG block 1\n",
    "    tf.keras.layers.Conv2D(28, (3, 3), activation='relu', padding='same', input_shape=(28, 28, 3)),\n",
    "    tf.keras.layers.Conv2D(28, (3, 3), activation='relu', padding='same'),\n",
    "    tf.keras.layers.MaxPooling2D((2, 2)),\n",
    "    \n",
    "    #VGG block 2\n",
    "    tf.keras.layers.Conv2D(64, (3, 3), activation='relu', padding='same'),\n",
    "    tf.keras.layers.Conv2D(64, (3, 3), activation='relu', padding='same'),\n",
    "    tf.keras.layers.MaxPooling2D((2, 2)),\n",
    "    \n",
    "    #VGG block 3\n",
    "    tf.keras.layers.Conv2D(128, (3, 3), activation='relu', padding='same'),\n",
    "    tf.keras.layers.Conv2D(128, (3, 3), activation='relu', padding='same'),\n",
    "    tf.keras.layers.MaxPooling2D((2, 2)),\n",
    "    \n",
    "    tf.keras.layers.Flatten(),\n",
    "    tf.keras.layers.Dense(128, activation='relu'),\n",
    "    tf.keras.layers.Dense(numbers_of_shape, activation = \"softmax\"),\n",
    "    ])\n",
    "model.summary()"
   ]
  },
  {
   "cell_type": "code",
   "execution_count": 35,
   "metadata": {
    "id": "N0W9WEI6l0Yr"
   },
   "outputs": [],
   "source": [
    "model.compile(optimizer = 'sgd',\n",
    "              # use categorical_crossentropy instead of sparse as we use one hot label encoder\n",
    "              loss = \"categorical_crossentropy\",     \n",
    "              metrics = ['categorical_accuracy'])"
   ]
  },
  {
   "cell_type": "code",
   "execution_count": 36,
   "metadata": {
    "colab": {
     "base_uri": "https://localhost:8080/"
    },
    "id": "m1Epyq7xl0d1",
    "outputId": "26e9aeff-6448-4bb5-b71a-640d7fe77fb2"
   },
   "outputs": [
    {
     "name": "stderr",
     "output_type": "stream",
     "text": [
      "C:\\Users\\Hoang\\AppData\\Local\\Temp/ipykernel_17000/2574104595.py:1: UserWarning: `Model.fit_generator` is deprecated and will be removed in a future version. Please use `Model.fit`, which supports generators.\n",
      "  history = model.fit_generator(dataShape.train, validation_data = dataShape.validation, epochs=100, verbose=0)\n"
     ]
    }
   ],
   "source": [
    "history = model.fit_generator(dataShape.train, validation_data = dataShape.validation, epochs=100, verbose=0)"
   ]
  },
  {
   "cell_type": "code",
   "execution_count": 37,
   "metadata": {
    "id": "42mfYf64uOKZ"
   },
   "outputs": [
    {
     "data": {
      "image/png": "[encoded data removed]",
      "text/plain": [
       "<Figure size 720x360 with 2 Axes>"
      ]
     },
     "metadata": {
      "needs_background": "light"
     },
     "output_type": "display_data"
    }
   ],
   "source": [
    "plot_learning_curve(history.history['loss'], history.history['val_loss'], \n",
    "                    history.history['categorical_accuracy'], history.history['val_categorical_accuracy'], \n",
    "                    metric_name = 'Accuracy')"
   ]
  },
  {
   "cell_type": "markdown",
   "metadata": {
    "id": "YWP58jkMhz1v"
   },
   "source": [
    "https://keras.io/guides/keras_tuner/getting_started/\n",
    "\n",
    "https://keras.io/keras_tuner/\n",
    "\n",
    "https://keras.io/guides/keras_tuner/visualize_tuning/\n",
    "\n",
    "https://www.tensorflow.org/tutorials/keras/keras_tuner\n",
    "\n",
    "Hoang check links for documentation on tuner"
   ]
  }
 ],
 "metadata": {
  "colab": {
   "collapsed_sections": [],
   "name": "Traffic_Sign_Image_Recognition.ipynb",
   "provenance": []
  },
  "kernelspec": {
   "display_name": "Python 3 (ipykernel)",
   "language": "python",
   "name": "python3"
  },
  "language_info": {
   "codemirror_mode": {
    "name": "ipython",
    "version": 3
   },
   "file_extension": ".py",
   "mimetype": "text/x-python",
   "name": "python",
   "nbconvert_exporter": "python",
   "pygments_lexer": "ipython3",
   "version": "3.9.7"
  }
 },
 "nbformat": 4,
 "nbformat_minor": 1
}
