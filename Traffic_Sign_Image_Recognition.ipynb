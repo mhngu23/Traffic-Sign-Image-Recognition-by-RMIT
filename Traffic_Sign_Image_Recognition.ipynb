{
  "cells": [
    {
      "cell_type": "code",
      "execution_count": 91,
      "metadata": {
        "id": "JkLYNmW6A3PV"
      },
      "outputs": [],
      "source": [
        "!pip install -q -U keras-tuner"
      ]
    },
    {
      "cell_type": "code",
      "execution_count": 92,
      "metadata": {
        "id": "i2HCtApQz2te"
      },
      "outputs": [],
      "source": [
        "import matplotlib.pyplot as plt\n",
        "import numpy as np\n",
        "import pandas as pd\n",
        "import random\n",
        "import tensorflow as tf\n",
        "import cv2\n",
        "\n",
        "from tensorflow import keras\n",
        "from tensorflow.keras.preprocessing.image import ImageDataGenerator\n",
        "\n",
        "from keras import layers, Input\n",
        "from keras.layers import InputLayer\n",
        "from keras.layers.core import Dense, Flatten\n",
        "from keras.models import Sequential, Model\n",
        "import keras_tuner as kt\n",
        "\n",
        "import matplotlib.image as mpimg\n",
        "\n",
        "from PIL import Image\n",
        "import os\n",
        "import glob\n",
        "\n",
        "\n",
        "from sklearn.preprocessing import LabelEncoder\n",
        "from sklearn.model_selection import train_test_split\n",
        "from sklearn.utils import class_weight\n",
        "\n",
        "tf.__version__\n",
        "\n",
        "AUTOTUNE = tf.data.experimental.AUTOTUNE"
      ]
    },
    {
      "cell_type": "code",
      "execution_count": 93,
      "metadata": {
        "id": "Ma3YEyBbg3Jm",
        "colab": {
          "base_uri": "https://localhost:8080/"
        },
        "outputId": "7c58daf5-4c4c-47d2-d75c-a0aa4c4a470f"
      },
      "outputs": [
        {
          "output_type": "stream",
          "name": "stdout",
          "text": [
            "Mounted at /content/gdrive\n"
          ]
        }
      ],
      "source": [
        "from google.colab import drive\n",
        "drive.mount('/content/gdrive')"
      ]
    },
    {
      "cell_type": "code",
      "execution_count": 198,
      "metadata": {
        "colab": {
          "base_uri": "https://localhost:8080/"
        },
        "id": "uIvUi4F2gHLB",
        "outputId": "9a410966-5eeb-408a-b413-2a7950db7357"
      },
      "outputs": [
        {
          "output_type": "stream",
          "name": "stdout",
          "text": [
            "Done\n",
            "Done\n"
          ]
        }
      ],
      "source": [
        "# Before using the data need to upload on to drive\n",
        "# This file will be deleted at the end of the session\n",
        "# Go to file on left hand side of the screen then upload file (Can upload the file to root easier access)\n",
        "# File extracted will be saved in content\n",
        "from zipfile import ZipFile\n",
        "file_name = '/trafficsigns_dataset.zip'\n",
        "independent_file_name = '/independent_data.zip'\n",
        "\n",
        "with ZipFile(file_name, 'r') as zip:\n",
        "  zip.extractall()\n",
        "  print('Done')\n",
        "\n",
        "with ZipFile(independent_file_name, 'r') as zip:\n",
        "  zip.extractall()\n",
        "  print('Done')"
      ]
    },
    {
      "cell_type": "code",
      "execution_count": 199,
      "metadata": {
        "colab": {
          "base_uri": "https://localhost:8080/",
          "height": 185
        },
        "id": "YzK32-P6gHNq",
        "outputId": "f21019ce-d5ae-4d6b-f818-e3f76c6b7362"
      },
      "outputs": [
        {
          "output_type": "display_data",
          "data": {
            "text/plain": [
              "<Figure size 1440x1440 with 5 Axes>"
            ],
            "image/png": "[encoded data removed]"
          },
          "metadata": {
            "needs_background": "light"
          }
        }
      ],
      "source": [
        "# This is just to test if image is loaded correctly\n",
        "plt.figure(figsize=(20,20))\n",
        "test_folder=r'/content/trafficsigns_dataset/diamond/rightofway'\n",
        "for i in range(5):                                                    # Randomly loaded 5 images\n",
        "    file = random.choice(os.listdir(test_folder))\n",
        "    image_path= os.path.join(test_folder, file)\n",
        "    img=mpimg.imread(image_path)\n",
        "    ax=plt.subplot(1,5,i+1)\n",
        "    ax.title.set_text(file)\n",
        "    plt.imshow(img, cmap = 'gray')"
      ]
    },
    {
      "cell_type": "markdown",
      "metadata": {
        "id": "L7s7dIgSUv6B"
      },
      "source": [
        "# **1. Data Preparation**\n",
        "**Importing data into dataframe**\n",
        "\n",
        "Data will be stored in a dataframe which has image path, shape and type as columns."
      ]
    },
    {
      "cell_type": "code",
      "execution_count": 200,
      "metadata": {
        "colab": {
          "base_uri": "https://localhost:8080/",
          "height": 206
        },
        "id": "TDedbPXcVIDN",
        "outputId": "d8e7225e-14a3-4686-9596-b4ac807a9b94"
      },
      "outputs": [
        {
          "output_type": "execute_result",
          "data": {
            "text/plain": [
              "                                          image_path sign_shape   sign_type\n",
              "0  ./trafficsigns_dataset/diamond/rightofway/0180...    diamond  rightofway\n",
              "1  ./trafficsigns_dataset/diamond/rightofway/0100...    diamond  rightofway\n",
              "2  ./trafficsigns_dataset/diamond/rightofway/0100...    diamond  rightofway\n",
              "3  ./trafficsigns_dataset/diamond/rightofway/0188...    diamond  rightofway\n",
              "4  ./trafficsigns_dataset/diamond/rightofway/0094...    diamond  rightofway"
            ],
            "text/html": [
              "\n",
              "  <div id=\"df-b8672ccc-79f1-4776-9729-5831a668b186\">\n",
              "    <div class=\"colab-df-container\">\n",
              "      <div>\n",
              "<style scoped>\n",
              "    .dataframe tbody tr th:only-of-type {\n",
              "        vertical-align: middle;\n",
              "    }\n",
              "\n",
              "    .dataframe tbody tr th {\n",
              "        vertical-align: top;\n",
              "    }\n",
              "\n",
              "    .dataframe thead th {\n",
              "        text-align: right;\n",
              "    }\n",
              "</style>\n",
              "<table border=\"1\" class=\"dataframe\">\n",
              "  <thead>\n",
              "    <tr style=\"text-align: right;\">\n",
              "      <th></th>\n",
              "      <th>image_path</th>\n",
              "      <th>sign_shape</th>\n",
              "      <th>sign_type</th>\n",
              "    </tr>\n",
              "  </thead>\n",
              "  <tbody>\n",
              "    <tr>\n",
              "      <th>0</th>\n",
              "      <td>./trafficsigns_dataset/diamond/rightofway/0180...</td>\n",
              "      <td>diamond</td>\n",
              "      <td>rightofway</td>\n",
              "    </tr>\n",
              "    <tr>\n",
              "      <th>1</th>\n",
              "      <td>./trafficsigns_dataset/diamond/rightofway/0100...</td>\n",
              "      <td>diamond</td>\n",
              "      <td>rightofway</td>\n",
              "    </tr>\n",
              "    <tr>\n",
              "      <th>2</th>\n",
              "      <td>./trafficsigns_dataset/diamond/rightofway/0100...</td>\n",
              "      <td>diamond</td>\n",
              "      <td>rightofway</td>\n",
              "    </tr>\n",
              "    <tr>\n",
              "      <th>3</th>\n",
              "      <td>./trafficsigns_dataset/diamond/rightofway/0188...</td>\n",
              "      <td>diamond</td>\n",
              "      <td>rightofway</td>\n",
              "    </tr>\n",
              "    <tr>\n",
              "      <th>4</th>\n",
              "      <td>./trafficsigns_dataset/diamond/rightofway/0094...</td>\n",
              "      <td>diamond</td>\n",
              "      <td>rightofway</td>\n",
              "    </tr>\n",
              "  </tbody>\n",
              "</table>\n",
              "</div>\n",
              "      <button class=\"colab-df-convert\" onclick=\"convertToInteractive('df-b8672ccc-79f1-4776-9729-5831a668b186')\"\n",
              "              title=\"Convert this dataframe to an interactive table.\"\n",
              "              style=\"display:none;\">\n",
              "        \n",
              "  <svg xmlns=\"http://www.w3.org/2000/svg\" height=\"24px\"viewBox=\"0 0 24 24\"\n",
              "       width=\"24px\">\n",
              "    <path d=\"M0 0h24v24H0V0z\" fill=\"none\"/>\n",
              "    <path d=\"M18.56 5.44l.94 2.06.94-2.06 2.06-.94-2.06-.94-.94-2.06-.94 2.06-2.06.94zm-11 1L8.5 8.5l.94-2.06 2.06-.94-2.06-.94L8.5 2.5l-.94 2.06-2.06.94zm10 10l.94 2.06.94-2.06 2.06-.94-2.06-.94-.94-2.06-.94 2.06-2.06.94z\"/><path d=\"M17.41 7.96l-1.37-1.37c-.4-.4-.92-.59-1.43-.59-.52 0-1.04.2-1.43.59L10.3 9.45l-7.72 7.72c-.78.78-.78 2.05 0 2.83L4 21.41c.39.39.9.59 1.41.59.51 0 1.02-.2 1.41-.59l7.78-7.78 2.81-2.81c.8-.78.8-2.07 0-2.86zM5.41 20L4 18.59l7.72-7.72 1.47 1.35L5.41 20z\"/>\n",
              "  </svg>\n",
              "      </button>\n",
              "      \n",
              "  <style>\n",
              "    .colab-df-container {\n",
              "      display:flex;\n",
              "      flex-wrap:wrap;\n",
              "      gap: 12px;\n",
              "    }\n",
              "\n",
              "    .colab-df-convert {\n",
              "      background-color: #E8F0FE;\n",
              "      border: none;\n",
              "      border-radius: 50%;\n",
              "      cursor: pointer;\n",
              "      display: none;\n",
              "      fill: #1967D2;\n",
              "      height: 32px;\n",
              "      padding: 0 0 0 0;\n",
              "      width: 32px;\n",
              "    }\n",
              "\n",
              "    .colab-df-convert:hover {\n",
              "      background-color: #E2EBFA;\n",
              "      box-shadow: 0px 1px 2px rgba(60, 64, 67, 0.3), 0px 1px 3px 1px rgba(60, 64, 67, 0.15);\n",
              "      fill: #174EA6;\n",
              "    }\n",
              "\n",
              "    [theme=dark] .colab-df-convert {\n",
              "      background-color: #3B4455;\n",
              "      fill: #D2E3FC;\n",
              "    }\n",
              "\n",
              "    [theme=dark] .colab-df-convert:hover {\n",
              "      background-color: #434B5C;\n",
              "      box-shadow: 0px 1px 3px 1px rgba(0, 0, 0, 0.15);\n",
              "      filter: drop-shadow(0px 1px 2px rgba(0, 0, 0, 0.3));\n",
              "      fill: #FFFFFF;\n",
              "    }\n",
              "  </style>\n",
              "\n",
              "      <script>\n",
              "        const buttonEl =\n",
              "          document.querySelector('#df-b8672ccc-79f1-4776-9729-5831a668b186 button.colab-df-convert');\n",
              "        buttonEl.style.display =\n",
              "          google.colab.kernel.accessAllowed ? 'block' : 'none';\n",
              "\n",
              "        async function convertToInteractive(key) {\n",
              "          const element = document.querySelector('#df-b8672ccc-79f1-4776-9729-5831a668b186');\n",
              "          const dataTable =\n",
              "            await google.colab.kernel.invokeFunction('convertToInteractive',\n",
              "                                                     [key], {});\n",
              "          if (!dataTable) return;\n",
              "\n",
              "          const docLinkHtml = 'Like what you see? Visit the ' +\n",
              "            '<a target=\"_blank\" href=https://colab.research.google.com/notebooks/data_table.ipynb>data table notebook</a>'\n",
              "            + ' to learn more about interactive tables.';\n",
              "          element.innerHTML = '';\n",
              "          dataTable['output_type'] = 'display_data';\n",
              "          await google.colab.output.renderOutput(dataTable, element);\n",
              "          const docLink = document.createElement('div');\n",
              "          docLink.innerHTML = docLinkHtml;\n",
              "          element.appendChild(docLink);\n",
              "        }\n",
              "      </script>\n",
              "    </div>\n",
              "  </div>\n",
              "  "
            ]
          },
          "metadata": {},
          "execution_count": 200
        }
      ],
      "source": [
        "def file_path_into_dataframe(filepath):\n",
        "  image_list = []\n",
        "\n",
        "  for filepath in glob.glob(filepath, recursive=True):\n",
        "      sign_shape = filepath.split('/')[2]\n",
        "      sign_type = filepath.split('/')[3]\n",
        "      image_list.append((filepath, sign_shape, sign_type ))\n",
        "      \n",
        "      \n",
        "  # create a dataframe\n",
        "  data = pd.DataFrame(data= image_list, columns=[\"image_path\", 'sign_shape','sign_type'])\n",
        "  # inspecting the dataframe\n",
        "  return data\n",
        "\n",
        "data = file_path_into_dataframe('./trafficsigns_dataset/*/*/*.png')\n",
        "data.head()   "
      ]
    },
    {
      "cell_type": "code",
      "execution_count": 201,
      "metadata": {
        "colab": {
          "base_uri": "https://localhost:8080/"
        },
        "id": "B_wAoGZrVNro",
        "outputId": "f3e0591c-565f-4f1a-dd52-71cb1a9c1f97"
      },
      "outputs": [
        {
          "output_type": "execute_result",
          "data": {
            "text/plain": [
              "(3699, 3)"
            ]
          },
          "metadata": {},
          "execution_count": 201
        }
      ],
      "source": [
        "# data shape\n",
        "data.shape"
      ]
    },
    {
      "cell_type": "code",
      "execution_count": 202,
      "metadata": {
        "colab": {
          "base_uri": "https://localhost:8080/"
        },
        "id": "AHeGow_iVeKu",
        "outputId": "5a7c8e0b-f218-4a35-a494-d221c0629448"
      },
      "outputs": [
        {
          "output_type": "stream",
          "name": "stdout",
          "text": [
            "numbers of shape: 5\n"
          ]
        },
        {
          "output_type": "execute_result",
          "data": {
            "text/plain": [
              "array(['diamond', 'triangle', 'square', 'hex', 'round'], dtype=object)"
            ]
          },
          "metadata": {},
          "execution_count": 202
        }
      ],
      "source": [
        "print(\"numbers of shape:\", len(data.sign_shape.unique()))\n",
        "data.sign_shape.unique()"
      ]
    },
    {
      "cell_type": "code",
      "execution_count": 203,
      "metadata": {
        "colab": {
          "base_uri": "https://localhost:8080/"
        },
        "id": "oF-b3K3SVgMx",
        "outputId": "4b35d0da-32b4-4387-b7de-d78f9b516b95"
      },
      "outputs": [
        {
          "output_type": "stream",
          "name": "stdout",
          "text": [
            "numbers of type: 16\n"
          ]
        },
        {
          "output_type": "execute_result",
          "data": {
            "text/plain": [
              "array(['rightofway', 'giveway', 'warning', 'laneend', 'crossing',\n",
              "       'parking', 'continue', 'stop', 'roundabout', 'limitedtraffic',\n",
              "       'traveldirection', 'trafficdirective', 'noparking', 'bicycle',\n",
              "       'noentry', 'speed'], dtype=object)"
            ]
          },
          "metadata": {},
          "execution_count": 203
        }
      ],
      "source": [
        "print(\"numbers of type:\", len(data.sign_type.unique()))\n",
        "data.sign_type.unique()"
      ]
    },
    {
      "cell_type": "markdown",
      "metadata": {
        "id": "2tXLw9i-Vlnn"
      },
      "source": [
        "**Labels encoding**\n",
        "\n",
        "Using label encoder from sklearn to transform label into integer."
      ]
    },
    {
      "cell_type": "code",
      "execution_count": 204,
      "metadata": {
        "colab": {
          "base_uri": "https://localhost:8080/",
          "height": 206
        },
        "id": "sPs2Cyn6Vv72",
        "outputId": "fd4ad4d8-9cb1-430c-e086-f64c6f691984"
      },
      "outputs": [
        {
          "output_type": "execute_result",
          "data": {
            "text/plain": [
              "                                          image_path  sign_shape  sign_type\n",
              "0  ./trafficsigns_dataset/diamond/rightofway/0180...           0          9\n",
              "1  ./trafficsigns_dataset/diamond/rightofway/0100...           0          9\n",
              "2  ./trafficsigns_dataset/diamond/rightofway/0100...           0          9\n",
              "3  ./trafficsigns_dataset/diamond/rightofway/0188...           0          9\n",
              "4  ./trafficsigns_dataset/diamond/rightofway/0094...           0          9"
            ],
            "text/html": [
              "\n",
              "  <div id=\"df-8c3ae5fa-9bac-4ee2-a25e-0d29ec445110\">\n",
              "    <div class=\"colab-df-container\">\n",
              "      <div>\n",
              "<style scoped>\n",
              "    .dataframe tbody tr th:only-of-type {\n",
              "        vertical-align: middle;\n",
              "    }\n",
              "\n",
              "    .dataframe tbody tr th {\n",
              "        vertical-align: top;\n",
              "    }\n",
              "\n",
              "    .dataframe thead th {\n",
              "        text-align: right;\n",
              "    }\n",
              "</style>\n",
              "<table border=\"1\" class=\"dataframe\">\n",
              "  <thead>\n",
              "    <tr style=\"text-align: right;\">\n",
              "      <th></th>\n",
              "      <th>image_path</th>\n",
              "      <th>sign_shape</th>\n",
              "      <th>sign_type</th>\n",
              "    </tr>\n",
              "  </thead>\n",
              "  <tbody>\n",
              "    <tr>\n",
              "      <th>0</th>\n",
              "      <td>./trafficsigns_dataset/diamond/rightofway/0180...</td>\n",
              "      <td>0</td>\n",
              "      <td>9</td>\n",
              "    </tr>\n",
              "    <tr>\n",
              "      <th>1</th>\n",
              "      <td>./trafficsigns_dataset/diamond/rightofway/0100...</td>\n",
              "      <td>0</td>\n",
              "      <td>9</td>\n",
              "    </tr>\n",
              "    <tr>\n",
              "      <th>2</th>\n",
              "      <td>./trafficsigns_dataset/diamond/rightofway/0100...</td>\n",
              "      <td>0</td>\n",
              "      <td>9</td>\n",
              "    </tr>\n",
              "    <tr>\n",
              "      <th>3</th>\n",
              "      <td>./trafficsigns_dataset/diamond/rightofway/0188...</td>\n",
              "      <td>0</td>\n",
              "      <td>9</td>\n",
              "    </tr>\n",
              "    <tr>\n",
              "      <th>4</th>\n",
              "      <td>./trafficsigns_dataset/diamond/rightofway/0094...</td>\n",
              "      <td>0</td>\n",
              "      <td>9</td>\n",
              "    </tr>\n",
              "  </tbody>\n",
              "</table>\n",
              "</div>\n",
              "      <button class=\"colab-df-convert\" onclick=\"convertToInteractive('df-8c3ae5fa-9bac-4ee2-a25e-0d29ec445110')\"\n",
              "              title=\"Convert this dataframe to an interactive table.\"\n",
              "              style=\"display:none;\">\n",
              "        \n",
              "  <svg xmlns=\"http://www.w3.org/2000/svg\" height=\"24px\"viewBox=\"0 0 24 24\"\n",
              "       width=\"24px\">\n",
              "    <path d=\"M0 0h24v24H0V0z\" fill=\"none\"/>\n",
              "    <path d=\"M18.56 5.44l.94 2.06.94-2.06 2.06-.94-2.06-.94-.94-2.06-.94 2.06-2.06.94zm-11 1L8.5 8.5l.94-2.06 2.06-.94-2.06-.94L8.5 2.5l-.94 2.06-2.06.94zm10 10l.94 2.06.94-2.06 2.06-.94-2.06-.94-.94-2.06-.94 2.06-2.06.94z\"/><path d=\"M17.41 7.96l-1.37-1.37c-.4-.4-.92-.59-1.43-.59-.52 0-1.04.2-1.43.59L10.3 9.45l-7.72 7.72c-.78.78-.78 2.05 0 2.83L4 21.41c.39.39.9.59 1.41.59.51 0 1.02-.2 1.41-.59l7.78-7.78 2.81-2.81c.8-.78.8-2.07 0-2.86zM5.41 20L4 18.59l7.72-7.72 1.47 1.35L5.41 20z\"/>\n",
              "  </svg>\n",
              "      </button>\n",
              "      \n",
              "  <style>\n",
              "    .colab-df-container {\n",
              "      display:flex;\n",
              "      flex-wrap:wrap;\n",
              "      gap: 12px;\n",
              "    }\n",
              "\n",
              "    .colab-df-convert {\n",
              "      background-color: #E8F0FE;\n",
              "      border: none;\n",
              "      border-radius: 50%;\n",
              "      cursor: pointer;\n",
              "      display: none;\n",
              "      fill: #1967D2;\n",
              "      height: 32px;\n",
              "      padding: 0 0 0 0;\n",
              "      width: 32px;\n",
              "    }\n",
              "\n",
              "    .colab-df-convert:hover {\n",
              "      background-color: #E2EBFA;\n",
              "      box-shadow: 0px 1px 2px rgba(60, 64, 67, 0.3), 0px 1px 3px 1px rgba(60, 64, 67, 0.15);\n",
              "      fill: #174EA6;\n",
              "    }\n",
              "\n",
              "    [theme=dark] .colab-df-convert {\n",
              "      background-color: #3B4455;\n",
              "      fill: #D2E3FC;\n",
              "    }\n",
              "\n",
              "    [theme=dark] .colab-df-convert:hover {\n",
              "      background-color: #434B5C;\n",
              "      box-shadow: 0px 1px 3px 1px rgba(0, 0, 0, 0.15);\n",
              "      filter: drop-shadow(0px 1px 2px rgba(0, 0, 0, 0.3));\n",
              "      fill: #FFFFFF;\n",
              "    }\n",
              "  </style>\n",
              "\n",
              "      <script>\n",
              "        const buttonEl =\n",
              "          document.querySelector('#df-8c3ae5fa-9bac-4ee2-a25e-0d29ec445110 button.colab-df-convert');\n",
              "        buttonEl.style.display =\n",
              "          google.colab.kernel.accessAllowed ? 'block' : 'none';\n",
              "\n",
              "        async function convertToInteractive(key) {\n",
              "          const element = document.querySelector('#df-8c3ae5fa-9bac-4ee2-a25e-0d29ec445110');\n",
              "          const dataTable =\n",
              "            await google.colab.kernel.invokeFunction('convertToInteractive',\n",
              "                                                     [key], {});\n",
              "          if (!dataTable) return;\n",
              "\n",
              "          const docLinkHtml = 'Like what you see? Visit the ' +\n",
              "            '<a target=\"_blank\" href=https://colab.research.google.com/notebooks/data_table.ipynb>data table notebook</a>'\n",
              "            + ' to learn more about interactive tables.';\n",
              "          element.innerHTML = '';\n",
              "          dataTable['output_type'] = 'display_data';\n",
              "          await google.colab.output.renderOutput(dataTable, element);\n",
              "          const docLink = document.createElement('div');\n",
              "          docLink.innerHTML = docLinkHtml;\n",
              "          element.appendChild(docLink);\n",
              "        }\n",
              "      </script>\n",
              "    </div>\n",
              "  </div>\n",
              "  "
            ]
          },
          "metadata": {},
          "execution_count": 204
        }
      ],
      "source": [
        "labelEncoder = LabelEncoder()\n",
        "data.sign_shape = labelEncoder.fit_transform(data.sign_shape)\n",
        "data.sign_type = labelEncoder.fit_transform(data.sign_type)\n",
        "# inspecting the changes\n",
        "data.head()"
      ]
    },
    {
      "cell_type": "markdown",
      "metadata": {
        "id": "Ny6FEkNtV-An"
      },
      "source": [
        "**Data Distribution**"
      ]
    },
    {
      "cell_type": "code",
      "execution_count": 205,
      "metadata": {
        "colab": {
          "base_uri": "https://localhost:8080/",
          "height": 553
        },
        "id": "IlXhzk-dWF-k",
        "outputId": "cd2c9c99-dd25-4c62-9ec0-711a90618d63"
      },
      "outputs": [
        {
          "output_type": "display_data",
          "data": {
            "text/plain": [
              "<Figure size 648x648 with 2 Axes>"
            ],
            "image/png": "[encoded data removed]"
          },
          "metadata": {
            "needs_background": "light"
          }
        }
      ],
      "source": [
        "def plot_distribution(data):\n",
        "  plt.figure(figsize=(9,9))\n",
        "  for i in range(1,3):\n",
        "      plt.subplot(2,1,i)\n",
        "      data.iloc[:, i].sort_values().astype(str).hist()\n",
        "      txt = \"distribution of \" + data.columns[i]\n",
        "      plt.title(txt)\n",
        "plot_distribution(data)"
      ]
    },
    {
      "cell_type": "markdown",
      "metadata": {
        "id": "NQtSoCQlWI-E"
      },
      "source": [
        "**<u>Observation</u>:**\n",
        "\n",
        " * Data has multiple classes for shape and type of the traffic sign\n",
        " * Class imbalance problem in both shape and type data <br>\n",
        " * performance measure : F1, log_loss and average accuracy(micro-average)<br>\n",
        "\n",
        "What is the realistic result for performance measure?"
      ]
    },
    {
      "cell_type": "markdown",
      "metadata": {
        "id": "FqEJMlMIkS5-"
      },
      "source": [
        "# **2. Model Development**\n",
        "* **Goal**: Implementing and comparing the performance of MLP and CNN model. \n",
        "* **Setup the experiment**: We will be using 80% of the original dataset as training data and 20% of the data to test (unseen data). From the 80% training data we will split again into 80% training and 20% validation data (data to evaluate the model).  \n",
        "* Baseline Model:\n",
        "* incremental changes:"
      ]
    },
    {
      "cell_type": "markdown",
      "metadata": {
        "id": "kxdfs9rK3HZ9"
      },
      "source": [
        "## **2.1 Generating data**"
      ]
    },
    {
      "cell_type": "markdown",
      "metadata": {
        "id": "2-yqtLTndlyN"
      },
      "source": [
        "### **Data Generator Utils**"
      ]
    },
    {
      "cell_type": "markdown",
      "metadata": {
        "id": "Ek53KcokiGrW"
      },
      "source": [
        "All the functions that will be repeately used throughout `section 2.1` will be included in this section."
      ]
    },
    {
      "cell_type": "code",
      "execution_count": null,
      "metadata": {
        "colab": {
          "base_uri": "https://localhost:8080/"
        },
        "id": "Q2554vqqwXeI",
        "outputId": "4be1aaeb-636b-4d99-aeeb-4f0f82f836fa"
      },
      "outputs": [
        {
          "output_type": "execute_result",
          "data": {
            "text/plain": [
              "((2959, 3), (740, 3))"
            ]
          },
          "metadata": {},
          "execution_count": 39
        }
      ],
      "source": [
        "# split data into train and test\n",
        "train_data, test_data = train_test_split(data, random_state = random.randint(0, 100), test_size=0.2 )\n",
        "train_data.shape, test_data.shape"
      ]
    },
    {
      "cell_type": "code",
      "source": [
        "def to_grayscale(image):\n",
        "    image = tf.image.rgb_to_grayscale(image)\n",
        "    return image"
      ],
      "metadata": {
        "id": "KsxzaKSv2534"
      },
      "execution_count": 143,
      "outputs": []
    },
    {
      "cell_type": "code",
      "execution_count": 144,
      "metadata": {
        "id": "0hkkv01mCvAg"
      },
      "outputs": [],
      "source": [
        "class dataGenerator:  \n",
        "    def __init__(self, data, target):\n",
        "        self.data = data\n",
        "        self.target = target\n",
        "        # split data into train and val\n",
        "        self.train , self.val = self.split_data()\n",
        "        \n",
        "        \n",
        "    def split_data(self):\n",
        "        \"\"\"\n",
        "          Function to split input data into train, validation set\n",
        "        \"\"\"\n",
        "        return train_test_split(self.data, random_state = random.randint(0, 100), test_size=0.2 )\n",
        "    \n",
        "    def generating_data_from_dataframe(self, dataframe, preprocessing_function = None):\n",
        "        \n",
        "        \"\"\"\n",
        "            Function to convert the refering target_column_name into string array\n",
        "            and generate actual data from file path\n",
        "        \"\"\"\n",
        "        dataframe.loc[:,self.target] = dataframe.loc[:,self.target].astype('str')\n",
        "        if preprocessing_function is None:\n",
        "          generator = ImageDataGenerator(rescale = 1./255, data_format = 'channels_last')\n",
        "        else: \n",
        "          generator = ImageDataGenerator(rescale = 1./255, data_format = 'channels_last', preprocessing_function = to_grayscale)\n",
        "        batch_size = 32\n",
        "        data_gen = generator.flow_from_dataframe(\n",
        "                                                    dataframe = dataframe,\n",
        "                                                    directory = './',\n",
        "                                                    x_col = \"image_path\",\n",
        "                                                    y_col = self.target,\n",
        "                                                    target_size = (28, 28),\n",
        "                                                    batch_size = batch_size,\n",
        "                                                    class_mode = 'categorical')\n",
        "        return data_gen\n",
        "        "
      ]
    },
    {
      "cell_type": "markdown",
      "metadata": {
        "id": "kku2i_743aCE"
      },
      "source": [
        "### **2.1.1 Shape Data**"
      ]
    },
    {
      "cell_type": "code",
      "execution_count": null,
      "metadata": {
        "colab": {
          "base_uri": "https://localhost:8080/"
        },
        "id": "_8IPXlOm0_3r",
        "outputId": "84376804-559b-4b4f-d031-595b4441f904"
      },
      "outputs": [
        {
          "output_type": "stream",
          "name": "stdout",
          "text": [
            "Found 2367 validated image filenames belonging to 5 classes.\n",
            "Found 592 validated image filenames belonging to 5 classes.\n",
            "Found 740 validated image filenames belonging to 5 classes.\n"
          ]
        }
      ],
      "source": [
        "# generate data for train & validation\n",
        "dataShape = dataGenerator(train_data, \"sign_shape\")\n",
        "train_shape = dataShape.generating_data_from_dataframe(dataShape.train)\n",
        "validation_shape = dataShape.generating_data_from_dataframe(dataShape.val)\n",
        "\n",
        "# generate test data\n",
        "test_shape = dataGenerator(test_data, \"sign_shape\")\n",
        "test_shape = test_shape.generating_data_from_dataframe(test_shape.data, None)"
      ]
    },
    {
      "cell_type": "markdown",
      "metadata": {
        "id": "X68r3PFB3jxf"
      },
      "source": [
        "### **2.1.2 Type Data**"
      ]
    },
    {
      "cell_type": "code",
      "execution_count": null,
      "metadata": {
        "colab": {
          "base_uri": "https://localhost:8080/"
        },
        "id": "nJEtNcqT6ZI_",
        "outputId": "067091db-27ae-4c6a-bfd8-ce5a5c983b19"
      },
      "outputs": [
        {
          "output_type": "stream",
          "name": "stdout",
          "text": [
            "Found 2367 validated image filenames belonging to 16 classes.\n",
            "Found 592 validated image filenames belonging to 16 classes.\n",
            "Found 740 validated image filenames belonging to 16 classes.\n"
          ]
        }
      ],
      "source": [
        "# generate data for train & validation\n",
        "dataType = dataGenerator(train_data, 'sign_type')\n",
        "\n",
        "train_type = dataType.generating_data_from_dataframe(dataType.train)\n",
        "validation_type = dataType.generating_data_from_dataframe(dataType.val)\n",
        "\n",
        "# generate test data\n",
        "test_type = dataGenerator(test_data, \"sign_type\")\n",
        "test_type = test_type.generating_data_from_dataframe(test_type.data)"
      ]
    },
    {
      "cell_type": "markdown",
      "metadata": {
        "id": "q4iQEmsE0x0G"
      },
      "source": [
        "## **2.2 Model Development**"
      ]
    },
    {
      "cell_type": "markdown",
      "metadata": {
        "id": "U2GJfTEFdtqx"
      },
      "source": [
        "### **Model Development Utils**"
      ]
    },
    {
      "cell_type": "markdown",
      "metadata": {
        "id": "5DEhfSeEhyqu"
      },
      "source": [
        "All the functions that will be repeately used throughout `section 2.2` will be included in this section."
      ]
    },
    {
      "cell_type": "code",
      "execution_count": null,
      "metadata": {
        "id": "UtE6MeEA3nOH"
      },
      "outputs": [],
      "source": [
        "input_dimension = (28,28,3)\n",
        "numbers_of_shape = len(data.sign_shape.unique())\n",
        "numbers_of_sign = len(data.sign_type.unique())"
      ]
    },
    {
      "cell_type": "code",
      "execution_count": null,
      "metadata": {
        "id": "zpWK3TrHr556"
      },
      "outputs": [],
      "source": [
        "early_stopping = tf.keras.callbacks.EarlyStopping(\n",
        "                      monitor=\"val_loss\",\n",
        "                      min_delta=0.0001,\n",
        "                      patience=5,\n",
        "                      verbose=1,\n",
        "                      mode=\"auto\",\n",
        "                      baseline=None,\n",
        "                      restore_best_weights=True,\n",
        "                  )"
      ]
    },
    {
      "cell_type": "code",
      "execution_count": null,
      "metadata": {
        "id": "jSrDMtwB1X-h"
      },
      "outputs": [],
      "source": [
        "def plot_learning_curve(train_loss, val_loss, train_metric, val_metric, metric_name='Accuracy'):\n",
        "    plt.figure(figsize=(10,5))\n",
        "    \n",
        "    plt.subplot(1,2,1)\n",
        "    plt.plot(train_loss, 'r--')\n",
        "    plt.plot(val_loss, 'b--')\n",
        "    plt.xlabel(\"epochs\")\n",
        "    plt.ylabel(\"Loss\")\n",
        "    plt.legend(['train', 'val'], loc='upper left')\n",
        "\n",
        "    plt.subplot(1,2,2)\n",
        "    plt.plot(train_metric, 'r--')\n",
        "    plt.plot(val_metric, 'b--')\n",
        "    plt.xlabel(\"epochs\")\n",
        "    plt.ylabel(metric_name)\n",
        "    plt.legend(['train', 'val'], loc='upper left')\n",
        "\n",
        "    plt.show()"
      ]
    },
    {
      "cell_type": "code",
      "source": [
        "# calculate class weights to solve the imbalance class problem\n",
        "class_weights_shape = class_weight.compute_class_weight('balanced',\n",
        "                                                 classes = dataShape.train.sign_shape.unique(),\n",
        "                                                 y = dataShape.train.sign_shape.to_numpy())\n",
        "# convert to dict format\n",
        "class_weight_dict_shape = dict()\n",
        "i = 0\n",
        "for w in class_weights_shape:\n",
        "    class_weight_dict_shape[i] = w\n",
        "    i= i+1"
      ],
      "metadata": {
        "id": "eTCC5B2fmBB_"
      },
      "execution_count": null,
      "outputs": []
    },
    {
      "cell_type": "markdown",
      "metadata": {
        "id": "VOBWbgX3yIYa"
      },
      "source": [
        "### **2.2.1 Multilayer Perceptrons Network**"
      ]
    },
    {
      "cell_type": "markdown",
      "metadata": {
        "id": "VhsFtXY04CNX"
      },
      "source": [
        "#### **2.2.1.1 Shape Classification**"
      ]
    },
    {
      "cell_type": "markdown",
      "metadata": {
        "id": "jCPmkOqGCvxZ"
      },
      "source": [
        "###### **2.2.1.1.1. Base Model**"
      ]
    },
    {
      "cell_type": "code",
      "execution_count": null,
      "metadata": {
        "id": "iejNu1SSzIEA"
      },
      "outputs": [],
      "source": [
        "model = tf.keras.Sequential([\n",
        "    tf.keras.layers.Flatten(input_shape=input_dimension),\n",
        "    tf.keras.layers.Dense(320, activation='sigmoid'),\n",
        "    tf.keras.layers.Dense(5, 'softmax')\n",
        "])"
      ]
    },
    {
      "cell_type": "code",
      "execution_count": null,
      "metadata": {
        "id": "yKZYn7Is-xUs"
      },
      "outputs": [],
      "source": [
        "compile_and_fit_model(model, train_shape, validation_shape)"
      ]
    },
    {
      "cell_type": "markdown",
      "metadata": {
        "id": "KlTDDshZg4yS"
      },
      "source": [
        "###### **2.2.1.1.2 Hyperparameter Tuning Model**"
      ]
    },
    {
      "cell_type": "code",
      "execution_count": null,
      "metadata": {
        "colab": {
          "base_uri": "https://localhost:8080/"
        },
        "id": "2cuS4K2Mg-c8",
        "outputId": "334825f6-dfdf-4dbe-a648-c7ce8c9d3b04"
      },
      "outputs": [
        {
          "data": {
            "text/plain": [
              "<keras.engine.sequential.Sequential at 0x7f13ca186710>"
            ]
          },
          "execution_count": 23,
          "metadata": {},
          "output_type": "execute_result"
        }
      ],
      "source": [
        "\n",
        "  \n",
        "def parameters( layer, units, activation, dropout, lr,  numbers_of_label,  momentum):\n",
        "\n",
        "  model = keras.Sequential([tf.keras.layers.Flatten(input_shape=INPUT_DM)])\n",
        "  # Tune the number of layers\n",
        "  for i in range(layer):\n",
        "      model.add(layers.Dense(units=units, activation=activation))\n",
        "  # tune dropout  \n",
        "  if dropout:\n",
        "      model.add(layers.Dropout(rate=0.5))\n",
        "  # output layer\n",
        "  model.add(layers.Dense(numbers_of_label, activation='softmax'))\n",
        "\n",
        "  # loss function\n",
        "  model.compile(optimizer=keras.optimizers.SGD(learning_rate=lr,  momentum=momentum, nesterov=True),\n",
        "                loss='CategoricalCrossentropy',\n",
        "                metrics=['categorical_accuracy'])\n",
        "  return model\n",
        "  \n",
        "\n",
        "  \n",
        "  \n",
        "def build_model(hp):\n",
        "    # Declaring the number of layers to be tuned\n",
        "    layer = hp.Int(\"num_layers\", 1, 3)\n",
        "    # Declaring the number of units per layer to be tuned\n",
        "    units = hp.Int(\"units\", min_value = 16, max_value = 512, step = 16)\n",
        "    # Declaring the activaiton functionto be tuned\n",
        "    activation = hp.Choice('activation', ['relu', 'tanh', 'elu','sigmoid'])\n",
        "    dropout = hp.Boolean('dropout')\n",
        "    # Declaring the learning rate range to be tuned\n",
        "    lr = hp.Float('lr', min_value = 1e-4, max_value = 1e-2, sampling = 'log')\n",
        "    momentum = hp.Float('momentum', min_value = 0.1, max_value = 0.9, sampling = 'log' )\n",
        "    model = parameters( layer = layer, units = units, activation = activation, dropout = dropout,\n",
        "    momentum = momentum, lr = lr, numbers_of_label =  numbers_of_shape )    \n",
        "    return model\n",
        "\n",
        "build_model(kt.HyperParameters())\n",
        "\n"
      ]
    },
    {
      "cell_type": "code",
      "execution_count": null,
      "metadata": {
        "colab": {
          "base_uri": "https://localhost:8080/"
        },
        "id": "ikhwaPm8hEwx",
        "outputId": "b0abd0a5-90ab-401f-98e3-04a62ed2290d"
      },
      "outputs": [
        {
          "name": "stdout",
          "output_type": "stream",
          "text": [
            "Search space summary\n",
            "Default search space size: 6\n",
            "num_layers (Int)\n",
            "{'default': None, 'conditions': [], 'min_value': 1, 'max_value': 3, 'step': 1, 'sampling': None}\n",
            "units (Int)\n",
            "{'default': None, 'conditions': [], 'min_value': 16, 'max_value': 512, 'step': 16, 'sampling': None}\n",
            "activation (Choice)\n",
            "{'default': 'relu', 'conditions': [], 'values': ['relu', 'tanh', 'elu'], 'ordered': False}\n",
            "dropout (Boolean)\n",
            "{'default': False, 'conditions': []}\n",
            "lr (Float)\n",
            "{'default': 0.0001, 'conditions': [], 'min_value': 0.0001, 'max_value': 0.01, 'step': None, 'sampling': 'log'}\n",
            "momentum (Float)\n",
            "{'default': 0.1, 'conditions': [], 'min_value': 0.1, 'max_value': 0.9, 'step': None, 'sampling': 'log'}\n"
          ]
        }
      ],
      "source": [
        "tuner.search_space_summary()"
      ]
    },
    {
      "cell_type": "code",
      "execution_count": null,
      "metadata": {
        "colab": {
          "base_uri": "https://localhost:8080/"
        },
        "id": "nmIRxbTZhNkD",
        "outputId": "dab8f3ef-8953-4b75-f066-337af989570e"
      },
      "outputs": [
        {
          "name": "stdout",
          "output_type": "stream",
          "text": [
            "Trial 2 Complete [00h 06m 33s]\n",
            "val_categorical_accuracy: 0.9472972750663757\n",
            "\n",
            "Best val_categorical_accuracy So Far: 0.9608108103275299\n",
            "Total elapsed time: 00h 14m 44s\n",
            "\n",
            "Search: Running Trial #3\n",
            "\n",
            "Value             |Best Value So Far |Hyperparameter\n",
            "3                 |2                 |num_layers\n",
            "512               |480               |units\n",
            "elu               |tanh              |activation\n",
            "False             |True              |dropout\n",
            "0.01              |0.0053453         |lr\n",
            "0.1               |0.19864           |momentum\n",
            "\n",
            "Epoch 1/100\n",
            "93/93 [==============================] - 3s 28ms/step - loss: 2.1817 - categorical_accuracy: 0.3015 - val_loss: 2.2693 - val_categorical_accuracy: 0.2378\n",
            "Epoch 2/100\n",
            "93/93 [==============================] - 3s 30ms/step - loss: 0.9540 - categorical_accuracy: 0.6127 - val_loss: 0.5915 - val_categorical_accuracy: 0.7676\n",
            "Epoch 3/100\n",
            "93/93 [==============================] - 3s 30ms/step - loss: 1.3112 - categorical_accuracy: 0.5955 - val_loss: 0.6706 - val_categorical_accuracy: 0.7189\n",
            "Epoch 4/100\n",
            "93/93 [==============================] - 3s 30ms/step - loss: 0.6076 - categorical_accuracy: 0.7648 - val_loss: 0.4076 - val_categorical_accuracy: 0.8581\n",
            "Epoch 5/100\n",
            "93/93 [==============================] - 3s 30ms/step - loss: 0.4649 - categorical_accuracy: 0.8253 - val_loss: 0.4736 - val_categorical_accuracy: 0.8284\n",
            "Epoch 6/100\n",
            "93/93 [==============================] - 3s 30ms/step - loss: 0.4289 - categorical_accuracy: 0.8472 - val_loss: 0.2749 - val_categorical_accuracy: 0.9203\n",
            "Epoch 7/100\n",
            "93/93 [==============================] - 2s 26ms/step - loss: 0.3318 - categorical_accuracy: 0.8800 - val_loss: 0.2699 - val_categorical_accuracy: 0.9230\n",
            "Epoch 8/100\n",
            "93/93 [==============================] - 2s 26ms/step - loss: 0.2404 - categorical_accuracy: 0.9027 - val_loss: 0.2206 - val_categorical_accuracy: 0.9351\n",
            "Epoch 9/100\n",
            "93/93 [==============================] - 3s 31ms/step - loss: 0.2381 - categorical_accuracy: 0.9033 - val_loss: 0.3167 - val_categorical_accuracy: 0.9014\n",
            "Epoch 10/100\n",
            "93/93 [==============================] - 3s 27ms/step - loss: 0.2055 - categorical_accuracy: 0.9199 - val_loss: 0.3608 - val_categorical_accuracy: 0.8892\n",
            "Epoch 11/100\n",
            "93/93 [==============================] - 3s 27ms/step - loss: 0.1823 - categorical_accuracy: 0.9297 - val_loss: 0.2393 - val_categorical_accuracy: 0.9270\n",
            "Epoch 12/100\n",
            "93/93 [==============================] - 2s 26ms/step - loss: 0.1689 - categorical_accuracy: 0.9344 - val_loss: 0.2305 - val_categorical_accuracy: 0.9365\n",
            "Epoch 13/100\n",
            "93/93 [==============================] - 2s 25ms/step - loss: 0.9794 - categorical_accuracy: 0.8344 - val_loss: 0.5539 - val_categorical_accuracy: 0.8149\n",
            "Epoch 14/100\n",
            "93/93 [==============================] - 2s 26ms/step - loss: 0.2657 - categorical_accuracy: 0.9104 - val_loss: 0.4277 - val_categorical_accuracy: 0.8770\n",
            "Epoch 15/100\n",
            "93/93 [==============================] - 3s 27ms/step - loss: 0.1853 - categorical_accuracy: 0.9263 - val_loss: 0.2011 - val_categorical_accuracy: 0.9432\n",
            "Epoch 16/100\n",
            "93/93 [==============================] - 3s 31ms/step - loss: 0.2906 - categorical_accuracy: 0.9219 - val_loss: 0.2447 - val_categorical_accuracy: 0.9216\n",
            "Epoch 17/100\n",
            "93/93 [==============================] - 2s 26ms/step - loss: 0.2848 - categorical_accuracy: 0.9304 - val_loss: 0.2005 - val_categorical_accuracy: 0.9432\n",
            "Epoch 18/100\n",
            "93/93 [==============================] - 3s 29ms/step - loss: 0.1176 - categorical_accuracy: 0.9493 - val_loss: 0.1873 - val_categorical_accuracy: 0.9378\n",
            "Epoch 19/100\n",
            "93/93 [==============================] - 3s 30ms/step - loss: 0.0973 - categorical_accuracy: 0.9605 - val_loss: 0.1865 - val_categorical_accuracy: 0.9392\n",
            "Epoch 20/100\n",
            "93/93 [==============================] - 3s 31ms/step - loss: 0.0946 - categorical_accuracy: 0.9594 - val_loss: 0.1909 - val_categorical_accuracy: 0.9459\n",
            "Epoch 21/100\n",
            "93/93 [==============================] - 3s 27ms/step - loss: 0.0766 - categorical_accuracy: 0.9686 - val_loss: 0.1585 - val_categorical_accuracy: 0.9514\n",
            "Epoch 22/100\n",
            "93/93 [==============================] - 3s 30ms/step - loss: 0.0770 - categorical_accuracy: 0.9645 - val_loss: 0.1592 - val_categorical_accuracy: 0.9568\n",
            "Epoch 23/100\n",
            "93/93 [==============================] - 3s 29ms/step - loss: 0.0610 - categorical_accuracy: 0.9747 - val_loss: 0.1751 - val_categorical_accuracy: 0.9405\n",
            "Epoch 24/100\n",
            "93/93 [==============================] - 3s 30ms/step - loss: 0.0597 - categorical_accuracy: 0.9767 - val_loss: 0.1667 - val_categorical_accuracy: 0.9446\n",
            "Epoch 25/100\n",
            "93/93 [==============================] - 3s 31ms/step - loss: 0.0562 - categorical_accuracy: 0.9777 - val_loss: 0.1544 - val_categorical_accuracy: 0.9500\n",
            "Epoch 26/100\n",
            "93/93 [==============================] - 3s 32ms/step - loss: 0.0503 - categorical_accuracy: 0.9801 - val_loss: 0.1641 - val_categorical_accuracy: 0.9486\n",
            "Epoch 27/100\n",
            "93/93 [==============================] - 3s 27ms/step - loss: 0.0500 - categorical_accuracy: 0.9807 - val_loss: 0.1677 - val_categorical_accuracy: 0.9446\n",
            "Epoch 28/100\n",
            "93/93 [==============================] - 2s 26ms/step - loss: 0.0516 - categorical_accuracy: 0.9811 - val_loss: 0.1558 - val_categorical_accuracy: 0.9541\n",
            "Epoch 29/100\n",
            "93/93 [==============================] - 3s 29ms/step - loss: 0.0411 - categorical_accuracy: 0.9855 - val_loss: 0.1542 - val_categorical_accuracy: 0.9541\n",
            "Epoch 30/100\n",
            "93/93 [==============================] - 3s 27ms/step - loss: 0.0399 - categorical_accuracy: 0.9848 - val_loss: 0.2468 - val_categorical_accuracy: 0.9243\n",
            "Epoch 31/100\n",
            "93/93 [==============================] - 3s 29ms/step - loss: 0.0434 - categorical_accuracy: 0.9845 - val_loss: 0.1424 - val_categorical_accuracy: 0.9527\n",
            "Epoch 32/100\n",
            "93/93 [==============================] - 3s 29ms/step - loss: 0.0362 - categorical_accuracy: 0.9875 - val_loss: 0.1560 - val_categorical_accuracy: 0.9527\n",
            "Epoch 33/100\n",
            "93/93 [==============================] - 3s 30ms/step - loss: 0.0348 - categorical_accuracy: 0.9872 - val_loss: 0.1643 - val_categorical_accuracy: 0.9459\n",
            "Epoch 34/100\n",
            "93/93 [==============================] - 3s 27ms/step - loss: 0.0378 - categorical_accuracy: 0.9865 - val_loss: 0.1843 - val_categorical_accuracy: 0.9459\n",
            "Epoch 35/100\n",
            "93/93 [==============================] - 3s 30ms/step - loss: 0.0309 - categorical_accuracy: 0.9885 - val_loss: 0.1611 - val_categorical_accuracy: 0.9486\n",
            "Epoch 36/100\n",
            "93/93 [==============================] - 3s 32ms/step - loss: 0.0285 - categorical_accuracy: 0.9902 - val_loss: 0.1409 - val_categorical_accuracy: 0.9568\n",
            "Epoch 37/100\n",
            "93/93 [==============================] - 3s 32ms/step - loss: 0.0283 - categorical_accuracy: 0.9892 - val_loss: 0.1398 - val_categorical_accuracy: 0.9581\n",
            "Epoch 38/100\n",
            "93/93 [==============================] - 3s 28ms/step - loss: 0.0255 - categorical_accuracy: 0.9912 - val_loss: 0.1371 - val_categorical_accuracy: 0.9581\n",
            "Epoch 39/100\n",
            "93/93 [==============================] - 2s 26ms/step - loss: 0.0237 - categorical_accuracy: 0.9932 - val_loss: 0.1342 - val_categorical_accuracy: 0.9568\n",
            "Epoch 40/100\n",
            "93/93 [==============================] - 3s 30ms/step - loss: 0.0246 - categorical_accuracy: 0.9916 - val_loss: 0.1398 - val_categorical_accuracy: 0.9554\n",
            "Epoch 41/100\n",
            "93/93 [==============================] - 3s 27ms/step - loss: 0.0236 - categorical_accuracy: 0.9899 - val_loss: 0.1305 - val_categorical_accuracy: 0.9595\n",
            "Epoch 42/100\n",
            "93/93 [==============================] - 3s 27ms/step - loss: 0.0230 - categorical_accuracy: 0.9912 - val_loss: 0.1413 - val_categorical_accuracy: 0.9554\n",
            "Epoch 43/100\n",
            "93/93 [==============================] - 3s 29ms/step - loss: 0.0213 - categorical_accuracy: 0.9943 - val_loss: 0.1343 - val_categorical_accuracy: 0.9568\n",
            "Epoch 44/100\n",
            "93/93 [==============================] - 3s 31ms/step - loss: 0.0234 - categorical_accuracy: 0.9939 - val_loss: 0.1320 - val_categorical_accuracy: 0.9568\n",
            "Epoch 45/100\n",
            "93/93 [==============================] - 2s 26ms/step - loss: 0.0200 - categorical_accuracy: 0.9939 - val_loss: 0.1591 - val_categorical_accuracy: 0.9514\n",
            "Epoch 46/100\n",
            "93/93 [==============================] - 3s 30ms/step - loss: 0.0179 - categorical_accuracy: 0.9943 - val_loss: 0.1297 - val_categorical_accuracy: 0.9568\n",
            "Epoch 47/100\n",
            "93/93 [==============================] - 3s 27ms/step - loss: 0.0174 - categorical_accuracy: 0.9953 - val_loss: 0.1271 - val_categorical_accuracy: 0.9635\n",
            "Epoch 48/100\n",
            "93/93 [==============================] - 2s 27ms/step - loss: 0.0161 - categorical_accuracy: 0.9953 - val_loss: 0.1253 - val_categorical_accuracy: 0.9622\n",
            "Epoch 49/100\n",
            "93/93 [==============================] - 3s 31ms/step - loss: 0.0162 - categorical_accuracy: 0.9953 - val_loss: 0.1270 - val_categorical_accuracy: 0.9608\n",
            "Epoch 50/100\n",
            "93/93 [==============================] - 2s 26ms/step - loss: 0.0164 - categorical_accuracy: 0.9953 - val_loss: 0.1271 - val_categorical_accuracy: 0.9581\n",
            "Epoch 51/100\n",
            "93/93 [==============================] - 3s 30ms/step - loss: 0.0162 - categorical_accuracy: 0.9939 - val_loss: 0.1206 - val_categorical_accuracy: 0.9622\n",
            "Epoch 52/100\n",
            "93/93 [==============================] - 3s 30ms/step - loss: 0.0158 - categorical_accuracy: 0.9953 - val_loss: 0.1241 - val_categorical_accuracy: 0.9635\n",
            "Epoch 53/100\n",
            "93/93 [==============================] - 3s 31ms/step - loss: 0.0142 - categorical_accuracy: 0.9949 - val_loss: 0.1462 - val_categorical_accuracy: 0.9554\n",
            "Epoch 54/100\n",
            "93/93 [==============================] - 3s 31ms/step - loss: 0.0144 - categorical_accuracy: 0.9956 - val_loss: 0.1240 - val_categorical_accuracy: 0.9622\n",
            "Epoch 55/100\n",
            "93/93 [==============================] - 3s 27ms/step - loss: 0.0127 - categorical_accuracy: 0.9973 - val_loss: 0.1217 - val_categorical_accuracy: 0.9622\n",
            "Epoch 56/100\n",
            "93/93 [==============================] - 2s 26ms/step - loss: 0.0114 - categorical_accuracy: 0.9963 - val_loss: 0.1459 - val_categorical_accuracy: 0.9541\n",
            "Epoch 57/100\n",
            "93/93 [==============================] - 3s 30ms/step - loss: 0.0116 - categorical_accuracy: 0.9966 - val_loss: 0.1236 - val_categorical_accuracy: 0.9622\n",
            "Epoch 58/100\n",
            "93/93 [==============================] - 2s 26ms/step - loss: 0.0115 - categorical_accuracy: 0.9973 - val_loss: 0.1444 - val_categorical_accuracy: 0.9554\n",
            "Epoch 59/100\n",
            "93/93 [==============================] - 3s 29ms/step - loss: 0.0112 - categorical_accuracy: 0.9959 - val_loss: 0.1375 - val_categorical_accuracy: 0.9514\n",
            "Epoch 60/100\n",
            "93/93 [==============================] - 3s 28ms/step - loss: 0.0101 - categorical_accuracy: 0.9973 - val_loss: 0.1239 - val_categorical_accuracy: 0.9649\n",
            "Epoch 61/100\n",
            "93/93 [==============================] - 3s 31ms/step - loss: 0.0096 - categorical_accuracy: 0.9980 - val_loss: 0.1262 - val_categorical_accuracy: 0.9622\n",
            "Epoch 62/100\n",
            "93/93 [==============================] - 2s 26ms/step - loss: 0.0093 - categorical_accuracy: 0.9976 - val_loss: 0.1287 - val_categorical_accuracy: 0.9649\n",
            "Epoch 63/100\n",
            "93/93 [==============================] - 2s 26ms/step - loss: 0.0093 - categorical_accuracy: 0.9983 - val_loss: 0.1244 - val_categorical_accuracy: 0.9635\n",
            "Epoch 64/100\n",
            "93/93 [==============================] - 2s 26ms/step - loss: 0.0089 - categorical_accuracy: 0.9973 - val_loss: 0.1243 - val_categorical_accuracy: 0.9622\n",
            "Epoch 65/100\n",
            "93/93 [==============================] - 3s 31ms/step - loss: 0.0084 - categorical_accuracy: 0.9983 - val_loss: 0.1260 - val_categorical_accuracy: 0.9649\n",
            "Epoch 66/100\n",
            "93/93 [==============================] - 3s 32ms/step - loss: 0.0083 - categorical_accuracy: 0.9983 - val_loss: 0.1276 - val_categorical_accuracy: 0.9622\n",
            "Epoch 67/100\n",
            "93/93 [==============================] - 2s 26ms/step - loss: 0.0080 - categorical_accuracy: 0.9990 - val_loss: 0.1255 - val_categorical_accuracy: 0.9649\n",
            "Epoch 68/100\n",
            "93/93 [==============================] - 3s 29ms/step - loss: 0.0075 - categorical_accuracy: 0.9986 - val_loss: 0.1265 - val_categorical_accuracy: 0.9649\n",
            "Epoch 69/100\n",
            "93/93 [==============================] - 2s 26ms/step - loss: 0.0072 - categorical_accuracy: 0.9986 - val_loss: 0.1273 - val_categorical_accuracy: 0.9649\n",
            "Epoch 70/100\n",
            "93/93 [==============================] - 3s 30ms/step - loss: 0.0073 - categorical_accuracy: 0.9993 - val_loss: 0.1265 - val_categorical_accuracy: 0.9608\n",
            "Epoch 71/100\n",
            "93/93 [==============================] - 3s 31ms/step - loss: 0.0071 - categorical_accuracy: 0.9990 - val_loss: 0.1283 - val_categorical_accuracy: 0.9635\n",
            "Epoch 72/100\n",
            "93/93 [==============================] - 3s 27ms/step - loss: 0.0068 - categorical_accuracy: 0.9990 - val_loss: 0.1240 - val_categorical_accuracy: 0.9649\n",
            "Epoch 73/100\n",
            "93/93 [==============================] - 3s 27ms/step - loss: 0.0070 - categorical_accuracy: 0.9980 - val_loss: 0.1295 - val_categorical_accuracy: 0.9662\n",
            "Epoch 74/100\n",
            "93/93 [==============================] - 2s 27ms/step - loss: 0.0063 - categorical_accuracy: 0.9997 - val_loss: 0.1279 - val_categorical_accuracy: 0.9662\n",
            "Epoch 75/100\n",
            "93/93 [==============================] - 3s 28ms/step - loss: 0.0063 - categorical_accuracy: 0.9990 - val_loss: 0.1256 - val_categorical_accuracy: 0.9649\n",
            "Epoch 76/100\n",
            "93/93 [==============================] - 3s 27ms/step - loss: 0.0057 - categorical_accuracy: 0.9997 - val_loss: 0.1292 - val_categorical_accuracy: 0.9662\n",
            "Epoch 77/100\n",
            "93/93 [==============================] - 3s 29ms/step - loss: 0.0057 - categorical_accuracy: 0.9990 - val_loss: 0.1303 - val_categorical_accuracy: 0.9662\n",
            "Epoch 78/100\n",
            "93/93 [==============================] - 3s 30ms/step - loss: 0.0058 - categorical_accuracy: 0.9993 - val_loss: 0.1262 - val_categorical_accuracy: 0.9635\n",
            "Epoch 79/100\n",
            "93/93 [==============================] - 2s 26ms/step - loss: 0.0056 - categorical_accuracy: 0.9993 - val_loss: 0.1497 - val_categorical_accuracy: 0.9595\n",
            "Epoch 80/100\n",
            "93/93 [==============================] - 3s 30ms/step - loss: 0.0053 - categorical_accuracy: 0.9997 - val_loss: 0.1332 - val_categorical_accuracy: 0.9662\n",
            "Epoch 81/100\n",
            "93/93 [==============================] - 3s 31ms/step - loss: 0.0051 - categorical_accuracy: 0.9997 - val_loss: 0.1342 - val_categorical_accuracy: 0.9649\n",
            "Epoch 82/100\n",
            "93/93 [==============================] - 3s 27ms/step - loss: 0.0051 - categorical_accuracy: 0.9993 - val_loss: 0.1318 - val_categorical_accuracy: 0.9676\n",
            "Epoch 83/100\n",
            "93/93 [==============================] - 3s 30ms/step - loss: 0.0054 - categorical_accuracy: 0.9993 - val_loss: 0.1327 - val_categorical_accuracy: 0.9676\n",
            "Epoch 84/100\n",
            "93/93 [==============================] - 3s 31ms/step - loss: 0.0048 - categorical_accuracy: 0.9997 - val_loss: 0.1288 - val_categorical_accuracy: 0.9662\n",
            "Epoch 85/100\n",
            "93/93 [==============================] - 3s 31ms/step - loss: 0.0045 - categorical_accuracy: 1.0000 - val_loss: 0.1315 - val_categorical_accuracy: 0.9676\n",
            "Epoch 86/100\n",
            "93/93 [==============================] - 2s 26ms/step - loss: 0.0046 - categorical_accuracy: 0.9997 - val_loss: 0.1372 - val_categorical_accuracy: 0.9676\n",
            "Epoch 87/100\n",
            "93/93 [==============================] - 3s 29ms/step - loss: 0.0045 - categorical_accuracy: 0.9997 - val_loss: 0.1304 - val_categorical_accuracy: 0.9676\n",
            "Epoch 88/100\n",
            "93/93 [==============================] - 3s 27ms/step - loss: 0.0043 - categorical_accuracy: 0.9997 - val_loss: 0.1309 - val_categorical_accuracy: 0.9662\n",
            "Epoch 89/100\n",
            "93/93 [==============================] - 3s 28ms/step - loss: 0.0043 - categorical_accuracy: 0.9997 - val_loss: 0.1321 - val_categorical_accuracy: 0.9676\n",
            "Epoch 90/100\n",
            "93/93 [==============================] - 3s 31ms/step - loss: 0.0040 - categorical_accuracy: 1.0000 - val_loss: 0.1423 - val_categorical_accuracy: 0.9608\n",
            "Epoch 91/100\n",
            "93/93 [==============================] - 2s 26ms/step - loss: 0.0042 - categorical_accuracy: 0.9997 - val_loss: 0.1312 - val_categorical_accuracy: 0.9662\n",
            "Epoch 92/100\n",
            "93/93 [==============================] - 2s 26ms/step - loss: 0.0039 - categorical_accuracy: 0.9997 - val_loss: 0.1341 - val_categorical_accuracy: 0.9676\n",
            "Epoch 93/100\n",
            "93/93 [==============================] - 3s 29ms/step - loss: 0.0040 - categorical_accuracy: 0.9997 - val_loss: 0.1329 - val_categorical_accuracy: 0.9662\n",
            "Epoch 94/100\n",
            "93/93 [==============================] - 3s 31ms/step - loss: 0.0038 - categorical_accuracy: 0.9997 - val_loss: 0.1358 - val_categorical_accuracy: 0.9662\n",
            "Epoch 95/100\n",
            "93/93 [==============================] - 3s 28ms/step - loss: 0.0038 - categorical_accuracy: 1.0000 - val_loss: 0.1332 - val_categorical_accuracy: 0.9662\n",
            "Epoch 96/100\n",
            "93/93 [==============================] - 3s 30ms/step - loss: 0.0037 - categorical_accuracy: 0.9997 - val_loss: 0.1326 - val_categorical_accuracy: 0.9676\n",
            "Epoch 97/100\n",
            "93/93 [==============================] - 2s 25ms/step - loss: 0.0035 - categorical_accuracy: 1.0000 - val_loss: 0.1395 - val_categorical_accuracy: 0.9662\n",
            "Epoch 98/100\n",
            "93/93 [==============================] - 2s 26ms/step - loss: 0.0035 - categorical_accuracy: 0.9997 - val_loss: 0.1357 - val_categorical_accuracy: 0.9676\n",
            "Epoch 99/100\n",
            "93/93 [==============================] - 2s 26ms/step - loss: 0.0035 - categorical_accuracy: 1.0000 - val_loss: 0.1373 - val_categorical_accuracy: 0.9662\n",
            "Epoch 100/100\n",
            "93/93 [==============================] - 2s 26ms/step - loss: 0.0034 - categorical_accuracy: 1.0000 - val_loss: 0.1346 - val_categorical_accuracy: 0.9689\n",
            "Epoch 1/100\n",
            "93/93 [==============================] - 3s 31ms/step - loss: 2.1459 - categorical_accuracy: 0.2920 - val_loss: 1.7935 - val_categorical_accuracy: 0.3419\n",
            "Epoch 2/100\n",
            "93/93 [==============================] - 3s 28ms/step - loss: 1.1619 - categorical_accuracy: 0.5617 - val_loss: 0.6168 - val_categorical_accuracy: 0.7338\n",
            "Epoch 3/100\n",
            "93/93 [==============================] - 3s 30ms/step - loss: 0.7151 - categorical_accuracy: 0.7256 - val_loss: 0.9396 - val_categorical_accuracy: 0.7189\n",
            "Epoch 4/100\n",
            "93/93 [==============================] - 3s 29ms/step - loss: 0.5646 - categorical_accuracy: 0.7925 - val_loss: 1.5890 - val_categorical_accuracy: 0.5095\n",
            "Epoch 5/100\n",
            "93/93 [==============================] - 2s 26ms/step - loss: 0.4819 - categorical_accuracy: 0.8253 - val_loss: 0.4199 - val_categorical_accuracy: 0.8514\n",
            "Epoch 6/100\n",
            "93/93 [==============================] - 2s 26ms/step - loss: 0.4041 - categorical_accuracy: 0.8520 - val_loss: 0.4512 - val_categorical_accuracy: 0.8459\n",
            "Epoch 7/100\n",
            "93/93 [==============================] - 3s 30ms/step - loss: 0.3076 - categorical_accuracy: 0.8915 - val_loss: 0.4390 - val_categorical_accuracy: 0.8554\n",
            "Epoch 8/100\n",
            "93/93 [==============================] - 3s 32ms/step - loss: 0.3013 - categorical_accuracy: 0.8814 - val_loss: 0.3904 - val_categorical_accuracy: 0.8757\n",
            "Epoch 9/100\n",
            "93/93 [==============================] - 3s 33ms/step - loss: 0.2784 - categorical_accuracy: 0.8973 - val_loss: 0.7644 - val_categorical_accuracy: 0.7811\n",
            "Epoch 10/100\n",
            "93/93 [==============================] - 3s 27ms/step - loss: 0.5016 - categorical_accuracy: 0.8672 - val_loss: 0.2746 - val_categorical_accuracy: 0.9162\n",
            "Epoch 11/100\n",
            "93/93 [==============================] - 3s 30ms/step - loss: 0.2071 - categorical_accuracy: 0.9209 - val_loss: 0.2229 - val_categorical_accuracy: 0.9392\n",
            "Epoch 12/100\n",
            "93/93 [==============================] - 3s 31ms/step - loss: 0.1433 - categorical_accuracy: 0.9446 - val_loss: 0.2201 - val_categorical_accuracy: 0.9419\n",
            "Epoch 13/100\n",
            "93/93 [==============================] - 3s 31ms/step - loss: 0.1512 - categorical_accuracy: 0.9385 - val_loss: 0.2009 - val_categorical_accuracy: 0.9432\n",
            "Epoch 14/100\n",
            "93/93 [==============================] - 3s 32ms/step - loss: 0.1357 - categorical_accuracy: 0.9446 - val_loss: 0.2281 - val_categorical_accuracy: 0.9324\n",
            "Epoch 15/100\n",
            "93/93 [==============================] - 2s 27ms/step - loss: 0.1543 - categorical_accuracy: 0.9412 - val_loss: 0.1979 - val_categorical_accuracy: 0.9419\n",
            "Epoch 16/100\n",
            "93/93 [==============================] - 2s 26ms/step - loss: 0.0971 - categorical_accuracy: 0.9601 - val_loss: 0.2335 - val_categorical_accuracy: 0.9378\n",
            "Epoch 17/100\n",
            "93/93 [==============================] - 3s 30ms/step - loss: 0.0829 - categorical_accuracy: 0.9689 - val_loss: 0.2061 - val_categorical_accuracy: 0.9432\n",
            "Epoch 18/100\n",
            "93/93 [==============================] - 3s 30ms/step - loss: 0.0882 - categorical_accuracy: 0.9645 - val_loss: 0.1871 - val_categorical_accuracy: 0.9514\n",
            "Epoch 19/100\n",
            "93/93 [==============================] - 3s 32ms/step - loss: 0.3383 - categorical_accuracy: 0.9284 - val_loss: 0.2130 - val_categorical_accuracy: 0.9351\n",
            "Epoch 20/100\n",
            "93/93 [==============================] - 3s 30ms/step - loss: 0.0843 - categorical_accuracy: 0.9682 - val_loss: 0.2184 - val_categorical_accuracy: 0.9378\n",
            "Epoch 21/100\n",
            "93/93 [==============================] - 3s 27ms/step - loss: 0.0747 - categorical_accuracy: 0.9743 - val_loss: 0.1868 - val_categorical_accuracy: 0.9459\n",
            "Epoch 22/100\n",
            "93/93 [==============================] - 3s 30ms/step - loss: 0.0617 - categorical_accuracy: 0.9787 - val_loss: 0.2086 - val_categorical_accuracy: 0.9378\n",
            "Epoch 23/100\n",
            "93/93 [==============================] - 2s 26ms/step - loss: 0.0564 - categorical_accuracy: 0.9818 - val_loss: 0.1928 - val_categorical_accuracy: 0.9419\n",
            "Epoch 24/100\n",
            "93/93 [==============================] - 2s 26ms/step - loss: 0.0587 - categorical_accuracy: 0.9777 - val_loss: 0.1778 - val_categorical_accuracy: 0.9514\n",
            "Epoch 25/100\n",
            "93/93 [==============================] - 2s 26ms/step - loss: 0.0543 - categorical_accuracy: 0.9784 - val_loss: 0.1932 - val_categorical_accuracy: 0.9514\n",
            "Epoch 26/100\n",
            "93/93 [==============================] - 2s 26ms/step - loss: 0.0508 - categorical_accuracy: 0.9838 - val_loss: 0.1749 - val_categorical_accuracy: 0.9500\n",
            "Epoch 27/100\n",
            "93/93 [==============================] - 2s 27ms/step - loss: 0.0442 - categorical_accuracy: 0.9841 - val_loss: 0.1746 - val_categorical_accuracy: 0.9486\n",
            "Epoch 28/100\n",
            "93/93 [==============================] - 2s 26ms/step - loss: 0.0539 - categorical_accuracy: 0.9814 - val_loss: 0.1811 - val_categorical_accuracy: 0.9514\n",
            "Epoch 29/100\n",
            "93/93 [==============================] - 2s 25ms/step - loss: 0.0408 - categorical_accuracy: 0.9875 - val_loss: 0.1874 - val_categorical_accuracy: 0.9459\n",
            "Epoch 30/100\n",
            "93/93 [==============================] - 2s 26ms/step - loss: 0.0360 - categorical_accuracy: 0.9878 - val_loss: 0.1652 - val_categorical_accuracy: 0.9473\n",
            "Epoch 31/100\n",
            "93/93 [==============================] - 3s 29ms/step - loss: 0.0360 - categorical_accuracy: 0.9899 - val_loss: 0.1795 - val_categorical_accuracy: 0.9486\n",
            "Epoch 32/100\n",
            "93/93 [==============================] - 2s 26ms/step - loss: 0.0327 - categorical_accuracy: 0.9905 - val_loss: 0.1718 - val_categorical_accuracy: 0.9500\n",
            "Epoch 33/100\n",
            "93/93 [==============================] - 3s 27ms/step - loss: 0.0306 - categorical_accuracy: 0.9895 - val_loss: 0.1709 - val_categorical_accuracy: 0.9486\n",
            "Epoch 34/100\n",
            "93/93 [==============================] - 3s 28ms/step - loss: 0.0298 - categorical_accuracy: 0.9912 - val_loss: 0.1658 - val_categorical_accuracy: 0.9541\n",
            "Epoch 35/100\n",
            "93/93 [==============================] - 2s 26ms/step - loss: 0.0270 - categorical_accuracy: 0.9929 - val_loss: 0.1601 - val_categorical_accuracy: 0.9541\n",
            "Epoch 36/100\n",
            "93/93 [==============================] - 2s 26ms/step - loss: 0.0275 - categorical_accuracy: 0.9926 - val_loss: 0.1661 - val_categorical_accuracy: 0.9527\n",
            "Epoch 37/100\n",
            "93/93 [==============================] - 3s 29ms/step - loss: 0.0257 - categorical_accuracy: 0.9922 - val_loss: 0.1576 - val_categorical_accuracy: 0.9527\n",
            "Epoch 38/100\n",
            "93/93 [==============================] - 2s 26ms/step - loss: 0.0243 - categorical_accuracy: 0.9922 - val_loss: 0.1959 - val_categorical_accuracy: 0.9392\n",
            "Epoch 39/100\n",
            "93/93 [==============================] - 3s 30ms/step - loss: 0.0255 - categorical_accuracy: 0.9919 - val_loss: 0.1633 - val_categorical_accuracy: 0.9554\n",
            "Epoch 40/100\n",
            "93/93 [==============================] - 3s 31ms/step - loss: 0.0230 - categorical_accuracy: 0.9909 - val_loss: 0.1528 - val_categorical_accuracy: 0.9514\n",
            "Epoch 41/100\n",
            "93/93 [==============================] - 2s 26ms/step - loss: 0.0222 - categorical_accuracy: 0.9926 - val_loss: 0.1678 - val_categorical_accuracy: 0.9527\n",
            "Epoch 42/100\n",
            "93/93 [==============================] - 2s 26ms/step - loss: 0.0198 - categorical_accuracy: 0.9949 - val_loss: 0.1520 - val_categorical_accuracy: 0.9514\n",
            "Epoch 43/100\n",
            "93/93 [==============================] - 3s 27ms/step - loss: 0.0189 - categorical_accuracy: 0.9939 - val_loss: 0.1504 - val_categorical_accuracy: 0.9568\n",
            "Epoch 44/100\n",
            "93/93 [==============================] - 3s 30ms/step - loss: 0.0190 - categorical_accuracy: 0.9932 - val_loss: 0.1822 - val_categorical_accuracy: 0.9486\n",
            "Epoch 45/100\n",
            "93/93 [==============================] - 3s 27ms/step - loss: 0.0188 - categorical_accuracy: 0.9943 - val_loss: 0.1474 - val_categorical_accuracy: 0.9581\n",
            "Epoch 46/100\n",
            "93/93 [==============================] - 3s 27ms/step - loss: 0.0178 - categorical_accuracy: 0.9949 - val_loss: 0.1647 - val_categorical_accuracy: 0.9554\n",
            "Epoch 47/100\n",
            "93/93 [==============================] - 2s 26ms/step - loss: 0.0184 - categorical_accuracy: 0.9946 - val_loss: 0.1455 - val_categorical_accuracy: 0.9554\n",
            "Epoch 48/100\n",
            "93/93 [==============================] - 3s 29ms/step - loss: 0.0175 - categorical_accuracy: 0.9943 - val_loss: 0.1472 - val_categorical_accuracy: 0.9568\n",
            "Epoch 49/100\n",
            "93/93 [==============================] - 2s 25ms/step - loss: 0.0165 - categorical_accuracy: 0.9939 - val_loss: 0.1566 - val_categorical_accuracy: 0.9554\n",
            "Epoch 50/100\n",
            "93/93 [==============================] - 2s 26ms/step - loss: 0.0156 - categorical_accuracy: 0.9959 - val_loss: 0.1509 - val_categorical_accuracy: 0.9581\n",
            "Epoch 51/100\n",
            "93/93 [==============================] - 3s 30ms/step - loss: 0.0151 - categorical_accuracy: 0.9953 - val_loss: 0.1565 - val_categorical_accuracy: 0.9554\n",
            "Epoch 52/100\n",
            "93/93 [==============================] - 3s 31ms/step - loss: 0.0135 - categorical_accuracy: 0.9959 - val_loss: 0.2168 - val_categorical_accuracy: 0.9365\n",
            "Epoch 53/100\n",
            "93/93 [==============================] - 3s 30ms/step - loss: 0.0134 - categorical_accuracy: 0.9956 - val_loss: 0.1458 - val_categorical_accuracy: 0.9568\n",
            "Epoch 54/100\n",
            "93/93 [==============================] - 2s 26ms/step - loss: 0.0124 - categorical_accuracy: 0.9963 - val_loss: 0.1441 - val_categorical_accuracy: 0.9568\n",
            "Epoch 55/100\n",
            "93/93 [==============================] - 2s 26ms/step - loss: 0.0118 - categorical_accuracy: 0.9970 - val_loss: 0.1413 - val_categorical_accuracy: 0.9541\n",
            "Epoch 56/100\n",
            "93/93 [==============================] - 3s 31ms/step - loss: 0.0119 - categorical_accuracy: 0.9973 - val_loss: 0.1599 - val_categorical_accuracy: 0.9500\n",
            "Epoch 57/100\n",
            "93/93 [==============================] - 3s 31ms/step - loss: 0.0108 - categorical_accuracy: 0.9973 - val_loss: 0.1463 - val_categorical_accuracy: 0.9514\n",
            "Epoch 58/100\n",
            "93/93 [==============================] - 3s 28ms/step - loss: 0.0108 - categorical_accuracy: 0.9963 - val_loss: 0.1508 - val_categorical_accuracy: 0.9554\n",
            "Epoch 59/100\n",
            "93/93 [==============================] - 2s 26ms/step - loss: 0.0105 - categorical_accuracy: 0.9970 - val_loss: 0.1429 - val_categorical_accuracy: 0.9554\n",
            "Epoch 60/100\n",
            "93/93 [==============================] - 2s 26ms/step - loss: 0.0096 - categorical_accuracy: 0.9980 - val_loss: 0.1465 - val_categorical_accuracy: 0.9581\n",
            "Epoch 61/100\n",
            "93/93 [==============================] - 3s 30ms/step - loss: 0.0090 - categorical_accuracy: 0.9976 - val_loss: 0.1437 - val_categorical_accuracy: 0.9595\n",
            "Epoch 62/100\n",
            "93/93 [==============================] - 3s 28ms/step - loss: 0.0092 - categorical_accuracy: 0.9976 - val_loss: 0.1472 - val_categorical_accuracy: 0.9541\n",
            "Epoch 63/100\n",
            "93/93 [==============================] - 3s 31ms/step - loss: 0.0088 - categorical_accuracy: 0.9976 - val_loss: 0.1461 - val_categorical_accuracy: 0.9595\n",
            "Epoch 64/100\n",
            "93/93 [==============================] - 3s 28ms/step - loss: 0.0083 - categorical_accuracy: 0.9986 - val_loss: 0.1608 - val_categorical_accuracy: 0.9500\n",
            "Epoch 65/100\n",
            "93/93 [==============================] - 3s 31ms/step - loss: 0.0087 - categorical_accuracy: 0.9980 - val_loss: 0.1470 - val_categorical_accuracy: 0.9595\n",
            "Epoch 66/100\n",
            "93/93 [==============================] - 2s 26ms/step - loss: 0.0079 - categorical_accuracy: 0.9990 - val_loss: 0.1493 - val_categorical_accuracy: 0.9568\n",
            "Epoch 67/100\n",
            "93/93 [==============================] - 2s 27ms/step - loss: 0.0073 - categorical_accuracy: 0.9993 - val_loss: 0.1497 - val_categorical_accuracy: 0.9581\n",
            "Epoch 68/100\n",
            "93/93 [==============================] - 3s 28ms/step - loss: 0.0075 - categorical_accuracy: 0.9983 - val_loss: 0.1521 - val_categorical_accuracy: 0.9595\n",
            "Epoch 69/100\n",
            "93/93 [==============================] - 3s 31ms/step - loss: 0.0071 - categorical_accuracy: 0.9980 - val_loss: 0.1497 - val_categorical_accuracy: 0.9608\n",
            "Epoch 70/100\n",
            "93/93 [==============================] - 3s 32ms/step - loss: 0.0070 - categorical_accuracy: 0.9997 - val_loss: 0.1522 - val_categorical_accuracy: 0.9595\n",
            "Epoch 71/100\n",
            "93/93 [==============================] - 3s 29ms/step - loss: 0.0070 - categorical_accuracy: 0.9990 - val_loss: 0.1466 - val_categorical_accuracy: 0.9568\n",
            "Epoch 72/100\n",
            "93/93 [==============================] - 2s 26ms/step - loss: 0.0064 - categorical_accuracy: 0.9990 - val_loss: 0.1557 - val_categorical_accuracy: 0.9608\n",
            "Epoch 73/100\n",
            "93/93 [==============================] - 2s 26ms/step - loss: 0.0064 - categorical_accuracy: 0.9990 - val_loss: 0.1566 - val_categorical_accuracy: 0.9595\n",
            "Epoch 74/100\n",
            "93/93 [==============================] - 3s 28ms/step - loss: 0.0063 - categorical_accuracy: 0.9997 - val_loss: 0.1542 - val_categorical_accuracy: 0.9595\n",
            "Epoch 75/100\n",
            "93/93 [==============================] - 3s 28ms/step - loss: 0.0062 - categorical_accuracy: 0.9993 - val_loss: 0.1487 - val_categorical_accuracy: 0.9608\n",
            "Epoch 76/100\n",
            "93/93 [==============================] - 3s 27ms/step - loss: 0.0058 - categorical_accuracy: 0.9997 - val_loss: 0.1522 - val_categorical_accuracy: 0.9595\n",
            "Epoch 77/100\n",
            "93/93 [==============================] - 3s 27ms/step - loss: 0.0061 - categorical_accuracy: 0.9990 - val_loss: 0.1518 - val_categorical_accuracy: 0.9581\n",
            "Epoch 78/100\n",
            "93/93 [==============================] - 3s 32ms/step - loss: 0.0057 - categorical_accuracy: 0.9990 - val_loss: 0.1572 - val_categorical_accuracy: 0.9581\n",
            "Epoch 79/100\n",
            "93/93 [==============================] - 3s 31ms/step - loss: 0.0056 - categorical_accuracy: 0.9997 - val_loss: 0.1497 - val_categorical_accuracy: 0.9581\n",
            "Epoch 80/100\n",
            "93/93 [==============================] - 3s 28ms/step - loss: 0.0049 - categorical_accuracy: 0.9997 - val_loss: 0.1586 - val_categorical_accuracy: 0.9595\n",
            "Epoch 81/100\n",
            "93/93 [==============================] - 3s 30ms/step - loss: 0.0052 - categorical_accuracy: 0.9997 - val_loss: 0.1537 - val_categorical_accuracy: 0.9581\n",
            "Epoch 82/100\n",
            "93/93 [==============================] - 2s 27ms/step - loss: 0.0051 - categorical_accuracy: 0.9993 - val_loss: 0.1577 - val_categorical_accuracy: 0.9608\n",
            "Epoch 83/100\n",
            "93/93 [==============================] - 3s 31ms/step - loss: 0.0048 - categorical_accuracy: 1.0000 - val_loss: 0.1567 - val_categorical_accuracy: 0.9608\n"
          ]
        }
      ],
      "source": [
        "tuner.search(train_shape, epochs=300, validation_data=validation_shape,class_weight=class_weight_dict_shape , callbacks=[keras.callbacks.TensorBoard(\"/tmp/tb_logs\")])"
      ]
    },
    {
      "cell_type": "code",
      "execution_count": null,
      "metadata": {
        "id": "dQGtrRaY7eLO"
      },
      "outputs": [],
      "source": [
        "tuner.results_summary()"
      ]
    },
    {
      "cell_type": "code",
      "execution_count": null,
      "metadata": {
        "id": "-9fgv5-ChObp"
      },
      "outputs": [],
      "source": [
        "# get best model and best hyper parameter\n",
        "best_model = tuner.get_best_models()[0]\n",
        "best_hp = tuner.get_best_hyperparameters()[0]"
      ]
    },
    {
      "cell_type": "code",
      "execution_count": null,
      "metadata": {
        "id": "V_bQ-KP7hRnv"
      },
      "outputs": [],
      "source": [
        "#best_model.build()\n",
        "best_model.summary()"
      ]
    },
    {
      "cell_type": "code",
      "execution_count": null,
      "metadata": {
        "id": "fvIa1PFusg1J"
      },
      "outputs": [],
      "source": [
        "%load_ext tensorboard\n",
        "%tensorboard --logdir /tmp/tb_logs"
      ]
    },
    {
      "cell_type": "markdown",
      "metadata": {
        "id": "kdEVTskZ7zit"
      },
      "source": [
        "Retrain model with the best hyper parameters and plot the learing curve"
      ]
    },
    {
      "cell_type": "code",
      "execution_count": null,
      "metadata": {
        "id": "rveT9tTY7ou5"
      },
      "outputs": [],
      "source": [
        "model = tuner.hypermodel.build(best_hp)\n",
        "history = model.fit_generator(train_shape, validation_data = validation_shape, epochs=300, verbose=0, class_weight=class_weight_dict)\n",
        "plot_learning_curve(history.history['loss'], history.history['val_loss'], \n",
        "                    history.history['categorical_accuracy'], history.history['val_categorical_accuracy'], \n",
        "                    metric_name='Accuracy')"
      ]
    },
    {
      "cell_type": "markdown",
      "metadata": {
        "id": "pRDwTpD48J3v"
      },
      "source": [
        "According to the above graphs, the best epoch is 70"
      ]
    },
    {
      "cell_type": "code",
      "execution_count": null,
      "metadata": {
        "id": "2MTWfvVl7qVC"
      },
      "outputs": [],
      "source": [
        "# Retrain the model with the best epoch\n",
        "shape_model = tuner.hypermodel.build(best_hp)\n",
        "shape_model.fit_generator(train_shape, validation_data = validation_shape, epochs=70, verbose=0)"
      ]
    },
    {
      "cell_type": "markdown",
      "metadata": {
        "id": "lWeFMmDR8XLd"
      },
      "source": [
        "Evaluating the model with test data"
      ]
    },
    {
      "cell_type": "code",
      "execution_count": null,
      "metadata": {
        "id": "ak7Jr8e-8VP_"
      },
      "outputs": [],
      "source": [
        "shape_model = model.evaluate(test_shape)"
      ]
    },
    {
      "cell_type": "markdown",
      "metadata": {
        "id": "RuPkVPMS3A8_"
      },
      "source": [
        "#### **2.2.1.2 Type Classification**\n"
      ]
    },
    {
      "cell_type": "markdown",
      "metadata": {
        "id": "Vw_--nNINRYA"
      },
      "source": [
        "###### **2.2.1.2.1 Base Model**"
      ]
    },
    {
      "cell_type": "markdown",
      "metadata": {
        "id": "VHgJA6zBPp7m"
      },
      "source": [
        "Build model"
      ]
    },
    {
      "cell_type": "code",
      "execution_count": null,
      "metadata": {
        "id": "lVAsDtsoNn2q"
      },
      "outputs": [],
      "source": [
        "model = tf.keras.Sequential([\n",
        "    tf.keras.layers.Flatten(input_shape=input_dimension),\n",
        "    tf.keras.layers.Dense(320, activation='sigmoid'),\n",
        "    tf.keras.layers.Dense(numbers_of_sign, 'softmax')\n",
        "])\n",
        "\n",
        "model.compile(optimizer='SGD',\n",
        "              loss=tf.keras.losses.CategoricalCrossentropy(from_logits=True),\n",
        "              metrics=['categorical_accuracy'])\n",
        "\n",
        "model.summary()"
      ]
    },
    {
      "cell_type": "markdown",
      "metadata": {
        "id": "AldUpRSjPsUB"
      },
      "source": [
        "Train Model"
      ]
    },
    {
      "cell_type": "code",
      "execution_count": null,
      "metadata": {
        "id": "n076G06BPmgP"
      },
      "outputs": [],
      "source": [
        "history = model.fit_generator(train_type, validation_data=validation_type, epochs=50, verbose=0,)"
      ]
    },
    {
      "cell_type": "code",
      "execution_count": null,
      "metadata": {
        "id": "8_krUYhNPxsW"
      },
      "outputs": [],
      "source": [
        "plot_learning_curve(history.history['loss'], history.history['val_loss'], \n",
        "                    history.history['categorical_accuracy'], history.history['val_categorical_accuracy'], \n",
        "                    metric_name='Accuracy')"
      ]
    },
    {
      "cell_type": "markdown",
      "metadata": {
        "id": "Pqa7LT9kP9He"
      },
      "source": [
        "Evaluate Model"
      ]
    },
    {
      "cell_type": "code",
      "execution_count": null,
      "metadata": {
        "id": "2euQW0glQHUK"
      },
      "outputs": [],
      "source": [
        "model.evaluate(test_type)"
      ]
    },
    {
      "cell_type": "markdown",
      "metadata": {
        "id": "Tw0Ih8hFQIay"
      },
      "source": [
        "\n",
        "##### **2.2.1.2.2 Hyperparameter Tuning Model**\n",
        "\n"
      ]
    },
    {
      "cell_type": "code",
      "execution_count": null,
      "metadata": {
        "id": "IBI6UTj5QTJy"
      },
      "outputs": [],
      "source": [
        "def parameters( layer, units, activation, dropout, lr,  numbers_of_label,  momentum):\n",
        "\n",
        "    model = keras.Sequential([tf.keras.layers.Flatten(input_shape=INPUT_DM)])\n",
        "    # Tune the number of layers\n",
        "    for i in range(layer):\n",
        "        model.add(layers.Dense(units=units, activation=activation))\n",
        "    # tune dropout  \n",
        "    if dropout:\n",
        "        model.add(layers.Dropout(rate=0.5))\n",
        "    # output layer\n",
        "    model.add(layers.Dense(numbers_of_label, activation='softmax'))\n",
        "\n",
        "    # loss function\n",
        "    model.compile(optimizer=keras.optimizers.SGD(learning_rate=lr,  momentum=momentum, nesterov=True),\n",
        "                 loss='CategoricalCrossentropy',\n",
        "                 metrics=['categorical_accuracy'])\n",
        "    return model\n",
        "    \n",
        "\n",
        "  \n",
        "  \n",
        "def build_model(hp):\n",
        "    # Declaring the number of layers to be tuned\n",
        "    layer = hp.Int(\"num_layers\", 1, 3)\n",
        "    # Declaring the number of units per layer to be tuned\n",
        "    units = hp.Int(\"units\", min_value = 16, max_value = 512, step = 16)\n",
        "    # Declaring the activaiton functionto be tuned\n",
        "    activation = hp.Choice('activation', ['relu', 'tanh', 'elu'])\n",
        "    dropout = hp.Boolean('dropout')\n",
        "    # Declaring the learning rate range to be tuned\n",
        "    lr = hp.Float('lr', min_value = 1e-4, max_value = 1e-2, sampling = 'log')\n",
        "    momentum = hp.Float('momentum', min_value = 0.1, max_value = 0.9, sampling = 'log' )\n",
        "    model = parameters(layer = layer, units = units, activation = activation, dropout = dropout,\n",
        "    momentum = momentum, lr = lr, numbers_of_label =  NUMBERS_OF_SHAPE)    \n",
        "    return model\n",
        "\n",
        "build_model(kt.HyperParameters())\n"
      ]
    },
    {
      "cell_type": "code",
      "execution_count": null,
      "metadata": {
        "id": "BLYCSyWVgHzN"
      },
      "outputs": [],
      "source": [
        "# grid search\n",
        "tuner = kt.BayesianOptimization(\n",
        "    hypermodel=build_model,\n",
        "    objective=  \"val_categorical_accuracy\",\n",
        "    max_trials=2,\n",
        "    executions_per_trial=2,\n",
        "    overwrite=True,\n",
        "    directory=\"my_dir\",\n",
        "    project_name=\"helloworld\",\n",
        ")"
      ]
    },
    {
      "cell_type": "code",
      "execution_count": null,
      "metadata": {
        "id": "REb1zr62gOWk"
      },
      "outputs": [],
      "source": [
        "# calculate class weights\n",
        "class_weights = class_weight.compute_class_weight('balanced',\n",
        "                                                 dataType.train.sign_type.unique(),\n",
        "                                                 dataType.train.sign_type.to_numpy())\n",
        "# convert to dict format\n",
        "class_weight_dict = dict()\n",
        "i = 0\n",
        "for w in class_weights:\n",
        "    class_weight_dict[i] = w\n",
        "    i= i+1"
      ]
    },
    {
      "cell_type": "code",
      "execution_count": null,
      "metadata": {
        "id": "IX0ms3G2gQsQ"
      },
      "outputs": [],
      "source": [
        "tuner.search(train_type, epochs=200, validation_data=validation_type, class_weight=class_weight_dict) #, callbacks=[stop_early]"
      ]
    },
    {
      "cell_type": "code",
      "execution_count": null,
      "metadata": {
        "id": "5c2w0pLzgTYP"
      },
      "outputs": [],
      "source": [
        "tuner.results_summary()"
      ]
    },
    {
      "cell_type": "code",
      "execution_count": null,
      "metadata": {
        "id": "ciTUC-1tgWYb"
      },
      "outputs": [],
      "source": [
        "best_model = tuner.get_best_models()[0]\n",
        "best_hp = tuner.get_best_hyperparameters()[0]\n",
        "best_model.summary()"
      ]
    },
    {
      "cell_type": "code",
      "execution_count": null,
      "metadata": {
        "id": "1NbRfgAFgZjw"
      },
      "outputs": [],
      "source": [
        "model = tuner.hypermodel.build(best_hp)\n",
        "history = model.fit_generator(train_type, validation_data = validation_type, epochs=200, verbose=0, class_weight=class_weight_dict)"
      ]
    },
    {
      "cell_type": "code",
      "execution_count": null,
      "metadata": {
        "id": "VNqHp-A2gdUw"
      },
      "outputs": [],
      "source": [
        "plot_learning_curve(history.history['loss'], history.history['val_loss'], \n",
        "                    history.history['categorical_accuracy'], history.history['val_categorical_accuracy'], \n",
        "                    metric_name='Accuracy')"
      ]
    },
    {
      "cell_type": "code",
      "execution_count": null,
      "metadata": {
        "id": "fRYvvPqfi53N"
      },
      "outputs": [],
      "source": [
        "type_model = tuner.hypermodel.build(best_hp)\n",
        "type_model.fit_generator(train_type, validation_data = validation_type, epochs=250, verbose=0)\n",
        "\n",
        "type_model.evaluate(test_type)"
      ]
    },
    {
      "cell_type": "markdown",
      "metadata": {
        "id": "6TLIHGSnl1m9"
      },
      "source": [
        "### **2.2.2 Convolution Neural Network**"
      ]
    },
    {
      "cell_type": "markdown",
      "metadata": {
        "id": "LdTloq2logYv"
      },
      "source": [
        "In this section, we will implement two popular CNN architectural namely VGG and LeNet as our baseline model. Depending on the result, we will configure the architecture so as to be able to figure out the best solution for this image classification problem."
      ]
    },
    {
      "cell_type": "markdown",
      "metadata": {
        "id": "wSRumg1Ospx9"
      },
      "source": [
        "#### **A. VGG CNN Baseline Model**\n"
      ]
    },
    {
      "cell_type": "markdown",
      "metadata": {
        "id": "3nnC9zAcplnP"
      },
      "source": [
        "The VGG architecture that was used as the baseline model for this project is the modified architecture that was provided in the lecture (**link**). \n",
        "\n",
        "This modified architecture was chosen over the original VGG architecture as the original one contains many VGG - block (convolution + activation + pooling) and it is more suitable for larger image, however, our image is only of 28 * 28, which makes the modified version preferable. "
      ]
    },
    {
      "cell_type": "code",
      "execution_count": null,
      "metadata": {
        "colab": {
          "base_uri": "https://localhost:8080/"
        },
        "id": "ZI-pZ73ol0TQ",
        "outputId": "336f72ad-6014-46bc-b3d5-fa26547a3cee"
      },
      "outputs": [
        {
          "output_type": "stream",
          "name": "stdout",
          "text": [
            "Model: \"sequential_1\"\n",
            "_________________________________________________________________\n",
            " Layer (type)                Output Shape              Param #   \n",
            "=================================================================\n",
            " conv2d_6 (Conv2D)           (None, 28, 28, 28)        784       \n",
            "                                                                 \n",
            " conv2d_7 (Conv2D)           (None, 28, 28, 28)        7084      \n",
            "                                                                 \n",
            " max_pooling2d_3 (MaxPooling  (None, 14, 14, 28)       0         \n",
            " 2D)                                                             \n",
            "                                                                 \n",
            " conv2d_8 (Conv2D)           (None, 14, 14, 64)        16192     \n",
            "                                                                 \n",
            " conv2d_9 (Conv2D)           (None, 14, 14, 64)        36928     \n",
            "                                                                 \n",
            " max_pooling2d_4 (MaxPooling  (None, 7, 7, 64)         0         \n",
            " 2D)                                                             \n",
            "                                                                 \n",
            " conv2d_10 (Conv2D)          (None, 7, 7, 128)         73856     \n",
            "                                                                 \n",
            " conv2d_11 (Conv2D)          (None, 7, 7, 128)         147584    \n",
            "                                                                 \n",
            " max_pooling2d_5 (MaxPooling  (None, 3, 3, 128)        0         \n",
            " 2D)                                                             \n",
            "                                                                 \n",
            " flatten_1 (Flatten)         (None, 1152)              0         \n",
            "                                                                 \n",
            " dense_2 (Dense)             (None, 128)               147584    \n",
            "                                                                 \n",
            " dense_3 (Dense)             (None, 5)                 645       \n",
            "                                                                 \n",
            "=================================================================\n",
            "Total params: 430,657\n",
            "Trainable params: 430,657\n",
            "Non-trainable params: 0\n",
            "_________________________________________________________________\n"
          ]
        }
      ],
      "source": [
        "VGG_model = tf.keras.Sequential([\n",
        "    # Block 1\n",
        "    tf.keras.layers.Conv2D(28, (3, 3), activation='relu', padding='same', input_shape=input_dimension),\n",
        "    tf.keras.layers.Conv2D(28, (3, 3), activation='relu', padding='same'),\n",
        "    tf.keras.layers.MaxPooling2D((2, 2)),\n",
        "    \n",
        "    # Block 2\n",
        "    tf.keras.layers.Conv2D(64, (3, 3), activation='relu', padding='same'),\n",
        "    tf.keras.layers.Conv2D(64, (3, 3), activation='relu', padding='same'),\n",
        "    tf.keras.layers.MaxPooling2D((2, 2)),\n",
        "    \n",
        "    # Block 3\n",
        "    tf.keras.layers.Conv2D(128, (3, 3), activation='relu', padding='same'),\n",
        "    tf.keras.layers.Conv2D(128, (3, 3), activation='relu', padding='same'),\n",
        "    tf.keras.layers.MaxPooling2D((2, 2)),\n",
        "    \n",
        "    tf.keras.layers.Flatten(),\n",
        "    tf.keras.layers.Dense(128, activation='relu'),\n",
        "    tf.keras.layers.Dense(numbers_of_shape, activation = \"softmax\"),\n",
        "    ])\n",
        "VGG_model.summary()"
      ]
    },
    {
      "cell_type": "markdown",
      "metadata": {
        "id": "0vidgb0zcrDP"
      },
      "source": [
        "#### **B. LeNet CNN Baseline Model**"
      ]
    },
    {
      "cell_type": "code",
      "execution_count": 94,
      "metadata": {
        "id": "RptibERWenLK"
      },
      "outputs": [],
      "source": [
        "reg_lambda = 0.001\n",
        "\n",
        "LeNet_model = tf.keras.Sequential([\n",
        "    tf.keras.layers.Input(shape=input_dimension),\n",
        "    tf.keras.layers.Lambda(lambda x: tf.expand_dims(x[:,:,:,0], -1, name=None)),\n",
        "    \n",
        "    \n",
        "    tf.keras.layers.Conv2D(32, (3, 3), kernel_regularizer=tf.keras.regularizers.l2(reg_lambda)),\n",
        "    tf.keras.layers.Activation('relu'),\n",
        "    tf.keras.layers.MaxPool2D(pool_size=(2,2)),\n",
        "    \n",
        "    tf.keras.layers.Conv2D(32, (3, 3), kernel_regularizer=tf.keras.regularizers.l2(reg_lambda)),\n",
        "    tf.keras.layers.Activation('relu'),\n",
        "    \n",
        "    tf.keras.layers.Conv2D(64, (3, 3)),\n",
        "    tf.keras.layers.Activation('relu'),\n",
        "    tf.keras.layers.MaxPool2D(pool_size=(2,2)),\n",
        "    \n",
        "    tf.keras.layers.Flatten(),\n",
        "    \n",
        "    tf.keras.layers.Dense(64),\n",
        "    tf.keras.layers.Activation('relu'),\n",
        "    tf.keras.layers.Dropout(0.5),\n",
        "    tf.keras.layers.Dense(numbers_of_shape, activation='softmax', kernel_regularizer=tf.keras.regularizers.l2(reg_lambda))\n",
        "])"
      ]
    },
    {
      "cell_type": "markdown",
      "metadata": {
        "id": "RPLs2MiMhPqG"
      },
      "source": [
        "\n",
        "\n",
        "#### **2.2.2.1 Shape Classification**"
      ]
    },
    {
      "cell_type": "code",
      "execution_count": null,
      "metadata": {
        "colab": {
          "base_uri": "https://localhost:8080/",
          "height": 1000
        },
        "id": "W0G7IGXBvzxr",
        "outputId": "5bc06d1a-48be-4167-bb1d-34f6c3be2ccb"
      },
      "outputs": [
        {
          "output_type": "stream",
          "name": "stdout",
          "text": [
            "Epoch 1/100\n"
          ]
        },
        {
          "output_type": "stream",
          "name": "stderr",
          "text": [
            "/usr/local/lib/python3.7/dist-packages/ipykernel_launcher.py:12: UserWarning: `Model.fit_generator` is deprecated and will be removed in a future version. Please use `Model.fit`, which supports generators.\n",
            "  if sys.path[0] == '':\n"
          ]
        },
        {
          "output_type": "stream",
          "name": "stdout",
          "text": [
            "74/74 [==============================] - 18s 232ms/step - loss: 1.4192 - categorical_accuracy: 0.4702 - val_loss: 1.2594 - val_categorical_accuracy: 0.4696\n",
            "Epoch 2/100\n",
            "74/74 [==============================] - 17s 230ms/step - loss: 1.2442 - categorical_accuracy: 0.4825 - val_loss: 1.1835 - val_categorical_accuracy: 0.5084\n",
            "Epoch 3/100\n",
            "74/74 [==============================] - 17s 228ms/step - loss: 1.1981 - categorical_accuracy: 0.5158 - val_loss: 1.1007 - val_categorical_accuracy: 0.5811\n",
            "Epoch 4/100\n",
            "74/74 [==============================] - 16s 221ms/step - loss: 1.1185 - categorical_accuracy: 0.5564 - val_loss: 1.0061 - val_categorical_accuracy: 0.6419\n",
            "Epoch 5/100\n",
            "74/74 [==============================] - 19s 255ms/step - loss: 0.9849 - categorical_accuracy: 0.6451 - val_loss: 0.8702 - val_categorical_accuracy: 0.7179\n",
            "Epoch 6/100\n",
            "74/74 [==============================] - 17s 226ms/step - loss: 0.7731 - categorical_accuracy: 0.7414 - val_loss: 0.6320 - val_categorical_accuracy: 0.8108\n",
            "Epoch 7/100\n",
            "74/74 [==============================] - 17s 225ms/step - loss: 0.5444 - categorical_accuracy: 0.8221 - val_loss: 0.4493 - val_categorical_accuracy: 0.8699\n",
            "Epoch 8/100\n",
            "74/74 [==============================] - 16s 223ms/step - loss: 0.4151 - categorical_accuracy: 0.8703 - val_loss: 0.3771 - val_categorical_accuracy: 0.8970\n",
            "Epoch 9/100\n",
            "74/74 [==============================] - 17s 224ms/step - loss: 0.2804 - categorical_accuracy: 0.9134 - val_loss: 0.2758 - val_categorical_accuracy: 0.9088\n",
            "Epoch 10/100\n",
            "74/74 [==============================] - 16s 222ms/step - loss: 0.1956 - categorical_accuracy: 0.9371 - val_loss: 0.2513 - val_categorical_accuracy: 0.9139\n",
            "Epoch 11/100\n",
            "74/74 [==============================] - 17s 224ms/step - loss: 0.1594 - categorical_accuracy: 0.9523 - val_loss: 0.2805 - val_categorical_accuracy: 0.9122\n",
            "Epoch 12/100\n",
            "74/74 [==============================] - 16s 222ms/step - loss: 0.1153 - categorical_accuracy: 0.9662 - val_loss: 0.1960 - val_categorical_accuracy: 0.9375\n",
            "Epoch 13/100\n",
            "74/74 [==============================] - 16s 221ms/step - loss: 0.0977 - categorical_accuracy: 0.9717 - val_loss: 0.1599 - val_categorical_accuracy: 0.9426\n",
            "Epoch 14/100\n",
            "74/74 [==============================] - 16s 218ms/step - loss: 0.0724 - categorical_accuracy: 0.9806 - val_loss: 0.1480 - val_categorical_accuracy: 0.9611\n",
            "Epoch 15/100\n",
            "74/74 [==============================] - 16s 219ms/step - loss: 0.0633 - categorical_accuracy: 0.9827 - val_loss: 0.1555 - val_categorical_accuracy: 0.9611\n",
            "Epoch 16/100\n",
            "74/74 [==============================] - 17s 224ms/step - loss: 0.0445 - categorical_accuracy: 0.9869 - val_loss: 0.1191 - val_categorical_accuracy: 0.9662\n",
            "Epoch 17/100\n",
            "74/74 [==============================] - 16s 220ms/step - loss: 0.0254 - categorical_accuracy: 0.9945 - val_loss: 0.1181 - val_categorical_accuracy: 0.9595\n",
            "Epoch 18/100\n",
            "74/74 [==============================] - 16s 218ms/step - loss: 0.0164 - categorical_accuracy: 0.9979 - val_loss: 0.1242 - val_categorical_accuracy: 0.9645\n",
            "Epoch 19/100\n",
            "74/74 [==============================] - 16s 223ms/step - loss: 0.0203 - categorical_accuracy: 0.9958 - val_loss: 0.1290 - val_categorical_accuracy: 0.9645\n",
            "Epoch 20/100\n",
            "74/74 [==============================] - 17s 225ms/step - loss: 0.0094 - categorical_accuracy: 0.9996 - val_loss: 0.1352 - val_categorical_accuracy: 0.9662\n",
            "Epoch 21/100\n",
            "74/74 [==============================] - 16s 212ms/step - loss: 0.0069 - categorical_accuracy: 0.9996 - val_loss: 0.1292 - val_categorical_accuracy: 0.9679\n",
            "Epoch 22/100\n",
            "74/74 [==============================] - ETA: 0s - loss: 0.0056 - categorical_accuracy: 1.0000Restoring model weights from the end of the best epoch: 17.\n",
            "74/74 [==============================] - 16s 221ms/step - loss: 0.0056 - categorical_accuracy: 1.0000 - val_loss: 0.1444 - val_categorical_accuracy: 0.9645\n",
            "Epoch 22: early stopping\n"
          ]
        },
        {
          "output_type": "display_data",
          "data": {
            "text/plain": [
              "<Figure size 720x360 with 2 Axes>"
            ],
            "image/png": "[encoded data removed]"
          },
          "metadata": {
            "needs_background": "light"
          }
        }
      ],
      "source": [
        "VGG_model.compile(\n",
        "              # Use sgd over adam as our dataset is not very large so we care more about generalized\n",
        "              # adam would be better in case we need the data to be able to converge faster\n",
        "              optimizer = 'sgd',\n",
        "              # Use categorical_crossentropy instead of sparse as we use one hot label encoder\n",
        "              loss = \"categorical_crossentropy\",     \n",
        "              metrics = ['categorical_accuracy'])\n",
        "  \n",
        "# Early stopping is included to prevent long training time\n",
        "# Training will be interupt if there is no further improvement in validation set\n",
        "# restore_best_weights arguement is used to return the model to the best model\n",
        "history = VGG_model.fit_generator(train_shape, validation_data = validation_shape, epochs=100, class_weight=class_weight_dict_shape, verbose=1,  callbacks = [early_stopping])\n",
        "  \n",
        "plot_learning_curve(history.history['loss'], history.history['val_loss'], \n",
        "                    history.history['categorical_accuracy'], history.history['val_categorical_accuracy'], \n",
        "                    metric_name = 'Accuracy')"
      ]
    },
    {
      "cell_type": "code",
      "execution_count": null,
      "metadata": {
        "id": "s6895vOFemrp"
      },
      "outputs": [],
      "source": [
        "# VGG_model.save(\"VGG_model\")             "
      ]
    },
    {
      "cell_type": "code",
      "execution_count": null,
      "metadata": {
        "id": "gYPp-lc0fOjN"
      },
      "outputs": [],
      "source": [
        "# !cp -R ./VGG_model /content/gdrive/'My Drive'/COSC2673_2110/"
      ]
    },
    {
      "cell_type": "code",
      "execution_count": null,
      "metadata": {
        "colab": {
          "base_uri": "https://localhost:8080/"
        },
        "id": "7Q5TIupTea9C",
        "outputId": "3855a6e3-e919-4058-932b-d6c0e53516a5"
      },
      "outputs": [
        {
          "output_type": "stream",
          "name": "stdout",
          "text": [
            "Epoch 1/100\n"
          ]
        },
        {
          "output_type": "stream",
          "name": "stderr",
          "text": [
            "/usr/local/lib/python3.7/dist-packages/ipykernel_launcher.py:12: UserWarning: `Model.fit_generator` is deprecated and will be removed in a future version. Please use `Model.fit`, which supports generators.\n",
            "  if sys.path[0] == '':\n"
          ]
        },
        {
          "output_type": "stream",
          "name": "stdout",
          "text": [
            "74/74 [==============================] - 4s 53ms/step - loss: 1.4172 - categorical_accuracy: 0.4428 - val_loss: 1.2912 - val_categorical_accuracy: 0.4696\n",
            "Epoch 2/100\n",
            "74/74 [==============================] - 4s 49ms/step - loss: 1.3296 - categorical_accuracy: 0.4728 - val_loss: 1.2691 - val_categorical_accuracy: 0.4696\n",
            "Epoch 3/100\n",
            "74/74 [==============================] - 4s 49ms/step - loss: 1.3051 - categorical_accuracy: 0.4875 - val_loss: 1.2278 - val_categorical_accuracy: 0.4696\n",
            "Epoch 4/100\n",
            "74/74 [==============================] - 4s 50ms/step - loss: 1.2542 - categorical_accuracy: 0.5078 - val_loss: 1.1732 - val_categorical_accuracy: 0.5541\n",
            "Epoch 5/100\n",
            "74/74 [==============================] - 4s 49ms/step - loss: 1.2107 - categorical_accuracy: 0.5450 - val_loss: 1.1148 - val_categorical_accuracy: 0.6757\n",
            "Epoch 6/100\n",
            "74/74 [==============================] - 4s 50ms/step - loss: 1.1437 - categorical_accuracy: 0.5982 - val_loss: 1.0230 - val_categorical_accuracy: 0.6757\n",
            "Epoch 7/100\n",
            "74/74 [==============================] - 4s 50ms/step - loss: 1.0561 - categorical_accuracy: 0.6333 - val_loss: 0.9932 - val_categorical_accuracy: 0.6605\n",
            "Epoch 8/100\n",
            "74/74 [==============================] - 4s 50ms/step - loss: 0.9747 - categorical_accuracy: 0.6578 - val_loss: 0.8616 - val_categorical_accuracy: 0.7297\n",
            "Epoch 9/100\n",
            "74/74 [==============================] - 4s 49ms/step - loss: 0.8891 - categorical_accuracy: 0.7043 - val_loss: 0.7879 - val_categorical_accuracy: 0.7787\n",
            "Epoch 10/100\n",
            "74/74 [==============================] - 4s 49ms/step - loss: 0.8342 - categorical_accuracy: 0.7317 - val_loss: 0.7038 - val_categorical_accuracy: 0.8007\n",
            "Epoch 11/100\n",
            "74/74 [==============================] - 4s 50ms/step - loss: 0.7718 - categorical_accuracy: 0.7550 - val_loss: 0.6620 - val_categorical_accuracy: 0.8142\n",
            "Epoch 12/100\n",
            "74/74 [==============================] - 4s 50ms/step - loss: 0.7009 - categorical_accuracy: 0.7909 - val_loss: 0.6101 - val_categorical_accuracy: 0.8243\n",
            "Epoch 13/100\n",
            "74/74 [==============================] - 4s 49ms/step - loss: 0.6552 - categorical_accuracy: 0.8023 - val_loss: 0.5447 - val_categorical_accuracy: 0.8615\n",
            "Epoch 14/100\n",
            "74/74 [==============================] - 4s 49ms/step - loss: 0.5953 - categorical_accuracy: 0.8281 - val_loss: 0.4983 - val_categorical_accuracy: 0.8497\n",
            "Epoch 15/100\n",
            "74/74 [==============================] - 4s 50ms/step - loss: 0.5594 - categorical_accuracy: 0.8331 - val_loss: 0.4509 - val_categorical_accuracy: 0.8733\n",
            "Epoch 16/100\n",
            "74/74 [==============================] - 4s 49ms/step - loss: 0.4949 - categorical_accuracy: 0.8635 - val_loss: 0.4138 - val_categorical_accuracy: 0.8868\n",
            "Epoch 17/100\n",
            "74/74 [==============================] - 4s 49ms/step - loss: 0.4727 - categorical_accuracy: 0.8648 - val_loss: 0.3849 - val_categorical_accuracy: 0.8986\n",
            "Epoch 18/100\n",
            "74/74 [==============================] - 4s 49ms/step - loss: 0.4261 - categorical_accuracy: 0.8749 - val_loss: 0.3501 - val_categorical_accuracy: 0.9071\n",
            "Epoch 19/100\n",
            "74/74 [==============================] - 4s 48ms/step - loss: 0.4025 - categorical_accuracy: 0.8868 - val_loss: 0.3425 - val_categorical_accuracy: 0.9105\n",
            "Epoch 20/100\n",
            "74/74 [==============================] - 4s 50ms/step - loss: 0.3681 - categorical_accuracy: 0.8969 - val_loss: 0.3161 - val_categorical_accuracy: 0.9155\n",
            "Epoch 21/100\n",
            "74/74 [==============================] - 4s 51ms/step - loss: 0.3533 - categorical_accuracy: 0.9079 - val_loss: 0.2891 - val_categorical_accuracy: 0.9291\n",
            "Epoch 22/100\n",
            "74/74 [==============================] - 4s 51ms/step - loss: 0.3256 - categorical_accuracy: 0.9138 - val_loss: 0.2688 - val_categorical_accuracy: 0.9274\n",
            "Epoch 23/100\n",
            "74/74 [==============================] - 4s 50ms/step - loss: 0.3153 - categorical_accuracy: 0.9134 - val_loss: 0.2640 - val_categorical_accuracy: 0.9392\n",
            "Epoch 24/100\n",
            "74/74 [==============================] - 4s 49ms/step - loss: 0.2990 - categorical_accuracy: 0.9206 - val_loss: 0.2377 - val_categorical_accuracy: 0.9443\n",
            "Epoch 25/100\n",
            "74/74 [==============================] - 4s 49ms/step - loss: 0.2914 - categorical_accuracy: 0.9202 - val_loss: 0.2397 - val_categorical_accuracy: 0.9409\n",
            "Epoch 26/100\n",
            "74/74 [==============================] - 4s 48ms/step - loss: 0.2722 - categorical_accuracy: 0.9316 - val_loss: 0.2339 - val_categorical_accuracy: 0.9341\n",
            "Epoch 27/100\n",
            "74/74 [==============================] - 4s 48ms/step - loss: 0.2544 - categorical_accuracy: 0.9375 - val_loss: 0.2175 - val_categorical_accuracy: 0.9527\n",
            "Epoch 28/100\n",
            "74/74 [==============================] - 4s 49ms/step - loss: 0.2364 - categorical_accuracy: 0.9434 - val_loss: 0.2127 - val_categorical_accuracy: 0.9493\n",
            "Epoch 29/100\n",
            "74/74 [==============================] - 4s 49ms/step - loss: 0.2423 - categorical_accuracy: 0.9447 - val_loss: 0.1983 - val_categorical_accuracy: 0.9476\n",
            "Epoch 30/100\n",
            "74/74 [==============================] - 4s 49ms/step - loss: 0.2200 - categorical_accuracy: 0.9497 - val_loss: 0.1898 - val_categorical_accuracy: 0.9561\n",
            "Epoch 31/100\n",
            "74/74 [==============================] - 4s 48ms/step - loss: 0.2217 - categorical_accuracy: 0.9421 - val_loss: 0.1799 - val_categorical_accuracy: 0.9561\n",
            "Epoch 32/100\n",
            "74/74 [==============================] - 4s 48ms/step - loss: 0.2141 - categorical_accuracy: 0.9518 - val_loss: 0.1824 - val_categorical_accuracy: 0.9628\n",
            "Epoch 33/100\n",
            "74/74 [==============================] - 4s 49ms/step - loss: 0.2049 - categorical_accuracy: 0.9565 - val_loss: 0.1668 - val_categorical_accuracy: 0.9662\n",
            "Epoch 34/100\n",
            "74/74 [==============================] - 4s 48ms/step - loss: 0.1976 - categorical_accuracy: 0.9561 - val_loss: 0.1706 - val_categorical_accuracy: 0.9628\n",
            "Epoch 35/100\n",
            "74/74 [==============================] - 4s 49ms/step - loss: 0.1831 - categorical_accuracy: 0.9607 - val_loss: 0.1632 - val_categorical_accuracy: 0.9645\n",
            "Epoch 36/100\n",
            "74/74 [==============================] - 4s 49ms/step - loss: 0.1753 - categorical_accuracy: 0.9641 - val_loss: 0.1561 - val_categorical_accuracy: 0.9679\n",
            "Epoch 37/100\n",
            "74/74 [==============================] - 4s 49ms/step - loss: 0.1661 - categorical_accuracy: 0.9658 - val_loss: 0.1586 - val_categorical_accuracy: 0.9679\n",
            "Epoch 38/100\n",
            "74/74 [==============================] - 4s 49ms/step - loss: 0.1745 - categorical_accuracy: 0.9641 - val_loss: 0.1604 - val_categorical_accuracy: 0.9662\n",
            "Epoch 39/100\n",
            "74/74 [==============================] - 4s 50ms/step - loss: 0.1722 - categorical_accuracy: 0.9654 - val_loss: 0.1488 - val_categorical_accuracy: 0.9713\n",
            "Epoch 40/100\n",
            "74/74 [==============================] - 4s 50ms/step - loss: 0.1626 - categorical_accuracy: 0.9675 - val_loss: 0.1489 - val_categorical_accuracy: 0.9679\n",
            "Epoch 41/100\n",
            "74/74 [==============================] - 4s 50ms/step - loss: 0.1554 - categorical_accuracy: 0.9734 - val_loss: 0.1521 - val_categorical_accuracy: 0.9679\n",
            "Epoch 42/100\n",
            "74/74 [==============================] - 4s 50ms/step - loss: 0.1505 - categorical_accuracy: 0.9713 - val_loss: 0.1430 - val_categorical_accuracy: 0.9730\n",
            "Epoch 43/100\n",
            "74/74 [==============================] - 4s 50ms/step - loss: 0.1584 - categorical_accuracy: 0.9658 - val_loss: 0.1394 - val_categorical_accuracy: 0.9730\n",
            "Epoch 44/100\n",
            "74/74 [==============================] - 4s 49ms/step - loss: 0.1509 - categorical_accuracy: 0.9725 - val_loss: 0.1395 - val_categorical_accuracy: 0.9713\n",
            "Epoch 45/100\n",
            "74/74 [==============================] - 4s 48ms/step - loss: 0.1409 - categorical_accuracy: 0.9708 - val_loss: 0.1441 - val_categorical_accuracy: 0.9696\n",
            "Epoch 46/100\n",
            "74/74 [==============================] - 4s 48ms/step - loss: 0.1483 - categorical_accuracy: 0.9700 - val_loss: 0.1442 - val_categorical_accuracy: 0.9662\n",
            "Epoch 47/100\n",
            "74/74 [==============================] - 4s 48ms/step - loss: 0.1456 - categorical_accuracy: 0.9725 - val_loss: 0.1314 - val_categorical_accuracy: 0.9713\n",
            "Epoch 48/100\n",
            "74/74 [==============================] - 4s 49ms/step - loss: 0.1419 - categorical_accuracy: 0.9725 - val_loss: 0.1369 - val_categorical_accuracy: 0.9662\n",
            "Epoch 49/100\n",
            "74/74 [==============================] - 4s 49ms/step - loss: 0.1336 - categorical_accuracy: 0.9797 - val_loss: 0.1273 - val_categorical_accuracy: 0.9747\n",
            "Epoch 50/100\n",
            "74/74 [==============================] - 4s 49ms/step - loss: 0.1351 - categorical_accuracy: 0.9751 - val_loss: 0.1240 - val_categorical_accuracy: 0.9730\n",
            "Epoch 51/100\n",
            "74/74 [==============================] - 4s 50ms/step - loss: 0.1335 - categorical_accuracy: 0.9717 - val_loss: 0.1227 - val_categorical_accuracy: 0.9764\n",
            "Epoch 52/100\n",
            "74/74 [==============================] - 4s 50ms/step - loss: 0.1214 - categorical_accuracy: 0.9797 - val_loss: 0.1289 - val_categorical_accuracy: 0.9747\n",
            "Epoch 53/100\n",
            "74/74 [==============================] - 4s 49ms/step - loss: 0.1212 - categorical_accuracy: 0.9793 - val_loss: 0.1144 - val_categorical_accuracy: 0.9780\n",
            "Epoch 54/100\n",
            "74/74 [==============================] - 4s 49ms/step - loss: 0.1288 - categorical_accuracy: 0.9772 - val_loss: 0.1218 - val_categorical_accuracy: 0.9780\n",
            "Epoch 55/100\n",
            "74/74 [==============================] - 4s 49ms/step - loss: 0.1156 - categorical_accuracy: 0.9814 - val_loss: 0.1204 - val_categorical_accuracy: 0.9730\n",
            "Epoch 56/100\n",
            "74/74 [==============================] - 4s 49ms/step - loss: 0.1132 - categorical_accuracy: 0.9810 - val_loss: 0.1307 - val_categorical_accuracy: 0.9645\n",
            "Epoch 57/100\n",
            "74/74 [==============================] - 4s 48ms/step - loss: 0.1128 - categorical_accuracy: 0.9844 - val_loss: 0.1184 - val_categorical_accuracy: 0.9797\n",
            "Epoch 58/100\n",
            "74/74 [==============================] - ETA: 0s - loss: 0.1163 - categorical_accuracy: 0.9818Restoring model weights from the end of the best epoch: 53.\n",
            "74/74 [==============================] - 4s 49ms/step - loss: 0.1163 - categorical_accuracy: 0.9818 - val_loss: 0.1553 - val_categorical_accuracy: 0.9628\n",
            "Epoch 58: early stopping\n"
          ]
        },
        {
          "output_type": "display_data",
          "data": {
            "text/plain": [
              "<Figure size 720x360 with 2 Axes>"
            ],
            "image/png": "[encoded data removed]"
          },
          "metadata": {
            "needs_background": "light"
          }
        }
      ],
      "source": [
        "LeNet_model.compile(\n",
        "              # Use sgd over adam as our dataset is not very large so we care more about generalized\n",
        "              # adam would be better in case we need the data to be able to converge faster\n",
        "              optimizer = 'sgd',\n",
        "              # Use categorical_crossentropy instead of sparse as we use one hot label encoder\n",
        "              loss = \"categorical_crossentropy\",     \n",
        "              metrics = ['categorical_accuracy'])\n",
        "  \n",
        "# Early stopping is included to prevent long training time\n",
        "# Training will be interupt if there is no further improvement in validation set\n",
        "# restore_best_weights arguement is used to return the model to the best model\n",
        "history = LeNet_model.fit_generator(train_shape, validation_data = validation_shape, epochs=100, class_weight=class_weight_dict_shape, verbose=1, callbacks = [early_stopping])\n",
        "  \n",
        "plot_learning_curve(history.history['loss'], history.history['val_loss'], \n",
        "                    history.history['categorical_accuracy'], history.history['val_categorical_accuracy'], \n",
        "                    metric_name = 'Accuracy')"
      ]
    },
    {
      "cell_type": "markdown",
      "metadata": {
        "id": "f9z6wx7tX3cR"
      },
      "source": [
        "**Observations:**\n",
        "- Although the model has high accuracy and early-stopping has been implemented to prevent long training time as well as overfitting, it seems like the model is still overfit. \n",
        "- One of the reason for this is that in the base architecture of VGG that was used regularization and dropout has not been implemented. In the next sections, these 2 techniques to solve overfitting will be implemented. "
      ]
    },
    {
      "cell_type": "code",
      "execution_count": null,
      "metadata": {
        "colab": {
          "base_uri": "https://localhost:8080/"
        },
        "id": "tsLYgnfaMkPN",
        "outputId": "9df655a2-816c-4b32-b9f5-8c70827ed560"
      },
      "outputs": [
        {
          "name": "stdout",
          "output_type": "stream",
          "text": [
            "INFO:tensorflow:Assets written to: LeNet_model/assets\n"
          ]
        }
      ],
      "source": [
        "# LeNet_model.save(\"LeNet_model\")"
      ]
    },
    {
      "cell_type": "code",
      "execution_count": null,
      "metadata": {
        "id": "zx5B9v9TMkUg"
      },
      "outputs": [],
      "source": [
        "# !cp -R ./LeNet_model /content/gdrive/'My Drive'/COSC2673_2110/"
      ]
    },
    {
      "cell_type": "markdown",
      "source": [
        "##### **2.2.2.1.1 L2 Regularization (tuning regularization lambda)**"
      ],
      "metadata": {
        "id": "8-kttn2deK11"
      }
    },
    {
      "cell_type": "code",
      "execution_count": null,
      "metadata": {
        "colab": {
          "base_uri": "https://localhost:8080/"
        },
        "id": "XJsMhvxnMkZe",
        "outputId": "aae19ec3-cfdc-4798-f5a8-1472c097d304"
      },
      "outputs": [
        {
          "output_type": "execute_result",
          "data": {
            "text/plain": [
              "<keras.engine.sequential.Sequential at 0x7fe0123b9350>"
            ]
          },
          "metadata": {},
          "execution_count": 47
        }
      ],
      "source": [
        "def parameters(reg_lambda):\n",
        "    VGG_model_with_regularization = tf.keras.Sequential([\n",
        "    # Block 1\n",
        "    tf.keras.layers.Conv2D(28, (3, 3), activation='relu', padding='same', \n",
        "                           kernel_regularizer = tf.keras.regularizers.L2(reg_lambda), input_shape=input_dimension),\n",
        "    tf.keras.layers.Conv2D(28, (3, 3), activation='relu', padding='same',\n",
        "                           kernel_regularizer= tf.keras.regularizers.L2(reg_lambda)),\n",
        "    tf.keras.layers.MaxPooling2D((2, 2)),\n",
        "    \n",
        "    # Block 2\n",
        "    tf.keras.layers.Conv2D(64, (3, 3), activation='relu', padding='same',\n",
        "                           kernel_regularizer=tf.keras.regularizers.L2(reg_lambda)),\n",
        "    tf.keras.layers.Conv2D(64, (3, 3), activation='relu', padding='same',\n",
        "                                  kernel_regularizer=tf.keras.regularizers.L2(reg_lambda)),\n",
        "    tf.keras.layers.MaxPooling2D((2, 2)),\n",
        "    \n",
        "    # Block 3\n",
        "    tf.keras.layers.Conv2D(128, (3, 3), activation='relu', padding='same',\n",
        "                           kernel_regularizer=tf.keras.regularizers.L2(reg_lambda)),\n",
        "    tf.keras.layers.Conv2D(128, (3, 3), activation='relu', padding='same', \n",
        "                           kernel_regularizer=tf.keras.regularizers.L2(reg_lambda)),\n",
        "    tf.keras.layers.MaxPooling2D((2, 2)),\n",
        "    \n",
        "    tf.keras.layers.Flatten(),\n",
        "    tf.keras.layers.Dense(128, activation='relu', kernel_regularizer=tf.keras.regularizers.L2(reg_lambda)),\n",
        "    tf.keras.layers.Dense(numbers_of_shape, activation = \"softmax\"),\n",
        "    ])\n",
        "\n",
        "    VGG_model_with_regularization.compile(\n",
        "              # Use sgd over adam as our dataset is not very large so we care more about generalized\n",
        "              # adam would be better in case we need the data to be able to converge faster\n",
        "              optimizer = 'sgd',\n",
        "              # Use categorical_crossentropy instead of sparse as we use one hot label encoder\n",
        "              loss = \"categorical_crossentropy\",     \n",
        "              metrics = ['categorical_accuracy'])\n",
        "  \n",
        "    return VGG_model_with_regularization\n",
        "  \n",
        "  \n",
        "def build_model_VGG_l2_reg(hp):\n",
        "    reg_lambda = hp.Choice('reg_lambda', [0.001, 0.01, 0.1, 1.0])\n",
        "    model = parameters( reg_lambda = reg_lambda)\n",
        "    return model\n",
        "\n",
        "build_model_VGG_l2_reg(kt.HyperParameters())"
      ]
    },
    {
      "cell_type": "code",
      "execution_count": null,
      "metadata": {
        "colab": {
          "base_uri": "https://localhost:8080/"
        },
        "id": "YIJ84UAZMkcP",
        "outputId": "77bd6bee-8d8d-4473-db28-7a57dba903fb"
      },
      "outputs": [
        {
          "output_type": "stream",
          "name": "stdout",
          "text": [
            "INFO:tensorflow:Reloading Oracle from existing project ./untitled_project/oracle.json\n",
            "Search space summary\n",
            "Default search space size: 1\n",
            "reg_lambda (Choice)\n",
            "{'default': 0.001, 'conditions': [], 'values': [0.001, 0.01, 0.1, 1.0], 'ordered': True}\n"
          ]
        }
      ],
      "source": [
        "tuner = kt.RandomSearch(\n",
        "    build_model_VGG_l2_reg,\n",
        "    objective='val_loss',\n",
        "    max_trials=3)\n",
        "tuner.search_space_summary()"
      ]
    },
    {
      "cell_type": "code",
      "execution_count": null,
      "metadata": {
        "colab": {
          "base_uri": "https://localhost:8080/",
          "height": 1000
        },
        "id": "Rq8sGne-Mkei",
        "outputId": "0ea5e39f-17b5-424a-8a4f-22026c0a2139"
      },
      "outputs": [
        {
          "output_type": "stream",
          "name": "stdout",
          "text": [
            "\n",
            "Search: Running Trial #1\n",
            "\n",
            "Value             |Best Value So Far |Hyperparameter\n",
            "0.01              |?                 |reg_lambda\n",
            "\n",
            "Epoch 1/100\n",
            "74/74 [==============================] - 23s 299ms/step - loss: 8.6545 - categorical_accuracy: 0.2455 - val_loss: 8.6573 - val_categorical_accuracy: 0.2534\n",
            "Epoch 2/100\n",
            "74/74 [==============================] - 16s 216ms/step - loss: 7.9691 - categorical_accuracy: 0.2476 - val_loss: 7.2634 - val_categorical_accuracy: 0.2534\n",
            "Epoch 3/100\n",
            "74/74 [==============================] - 16s 215ms/step - loss: 7.6224 - categorical_accuracy: 0.2497 - val_loss: 7.1899 - val_categorical_accuracy: 0.2551\n",
            "Epoch 4/100\n",
            "74/74 [==============================] - 16s 217ms/step - loss: 7.1457 - categorical_accuracy: 0.3431 - val_loss: 6.6967 - val_categorical_accuracy: 0.2551\n",
            "Epoch 5/100\n",
            "74/74 [==============================] - 18s 239ms/step - loss: 6.3845 - categorical_accuracy: 0.5615 - val_loss: 5.9216 - val_categorical_accuracy: 0.7264\n",
            "Epoch 6/100\n",
            "74/74 [==============================] - 17s 224ms/step - loss: 6.0057 - categorical_accuracy: 0.7153 - val_loss: 5.8264 - val_categorical_accuracy: 0.7230\n",
            "Epoch 7/100\n",
            "74/74 [==============================] - 16s 222ms/step - loss: 5.5080 - categorical_accuracy: 0.8150 - val_loss: 5.3023 - val_categorical_accuracy: 0.8446\n",
            "Epoch 8/100\n",
            "74/74 [==============================] - 16s 221ms/step - loss: 5.1619 - categorical_accuracy: 0.8855 - val_loss: 5.1484 - val_categorical_accuracy: 0.8547\n",
            "Epoch 9/100\n",
            "74/74 [==============================] - 16s 221ms/step - loss: 5.0534 - categorical_accuracy: 0.9113 - val_loss: 5.0569 - val_categorical_accuracy: 0.8277\n",
            "Epoch 10/100\n",
            "74/74 [==============================] - 16s 217ms/step - loss: 4.7409 - categorical_accuracy: 0.9341 - val_loss: 4.7222 - val_categorical_accuracy: 0.9274\n",
            "Epoch 11/100\n",
            "74/74 [==============================] - 16s 217ms/step - loss: 4.5547 - categorical_accuracy: 0.9624 - val_loss: 4.5979 - val_categorical_accuracy: 0.9206\n",
            "Epoch 12/100\n",
            "74/74 [==============================] - 16s 215ms/step - loss: 4.4033 - categorical_accuracy: 0.9708 - val_loss: 4.5257 - val_categorical_accuracy: 0.9105\n",
            "Epoch 13/100\n",
            "74/74 [==============================] - 16s 218ms/step - loss: 4.2622 - categorical_accuracy: 0.9776 - val_loss: 4.3141 - val_categorical_accuracy: 0.9375\n",
            "Epoch 14/100\n",
            "74/74 [==============================] - 16s 217ms/step - loss: 4.1346 - categorical_accuracy: 0.9848 - val_loss: 4.1840 - val_categorical_accuracy: 0.9443\n",
            "Epoch 15/100\n",
            "74/74 [==============================] - 16s 216ms/step - loss: 4.0164 - categorical_accuracy: 0.9848 - val_loss: 4.0583 - val_categorical_accuracy: 0.9510\n",
            "Epoch 16/100\n",
            "74/74 [==============================] - 16s 217ms/step - loss: 3.9002 - categorical_accuracy: 0.9877 - val_loss: 3.9426 - val_categorical_accuracy: 0.9459\n",
            "Epoch 17/100\n",
            "74/74 [==============================] - 16s 215ms/step - loss: 3.7889 - categorical_accuracy: 0.9899 - val_loss: 3.8342 - val_categorical_accuracy: 0.9510\n",
            "Epoch 18/100\n",
            "74/74 [==============================] - 16s 212ms/step - loss: 3.6863 - categorical_accuracy: 0.9856 - val_loss: 3.7222 - val_categorical_accuracy: 0.9561\n",
            "Epoch 19/100\n",
            "74/74 [==============================] - 16s 215ms/step - loss: 3.5817 - categorical_accuracy: 0.9882 - val_loss: 3.6357 - val_categorical_accuracy: 0.9493\n",
            "Epoch 20/100\n",
            "74/74 [==============================] - 16s 215ms/step - loss: 3.4789 - categorical_accuracy: 0.9890 - val_loss: 3.5456 - val_categorical_accuracy: 0.9527\n",
            "Epoch 21/100\n",
            "74/74 [==============================] - 16s 215ms/step - loss: 3.3861 - categorical_accuracy: 0.9899 - val_loss: 3.4445 - val_categorical_accuracy: 0.9544\n",
            "Epoch 22/100\n",
            "74/74 [==============================] - 16s 213ms/step - loss: 3.2885 - categorical_accuracy: 0.9937 - val_loss: 3.3389 - val_categorical_accuracy: 0.9561\n",
            "Epoch 23/100\n",
            "74/74 [==============================] - 16s 214ms/step - loss: 3.2287 - categorical_accuracy: 0.9835 - val_loss: 3.2893 - val_categorical_accuracy: 0.9324\n",
            "Epoch 24/100\n",
            "74/74 [==============================] - 16s 214ms/step - loss: 3.1251 - categorical_accuracy: 0.9882 - val_loss: 3.1758 - val_categorical_accuracy: 0.9510\n",
            "Epoch 25/100\n",
            "74/74 [==============================] - 16s 217ms/step - loss: 3.0289 - categorical_accuracy: 0.9924 - val_loss: 3.0765 - val_categorical_accuracy: 0.9645\n",
            "Epoch 26/100\n",
            "74/74 [==============================] - 16s 219ms/step - loss: 2.9467 - categorical_accuracy: 0.9949 - val_loss: 3.0070 - val_categorical_accuracy: 0.9578\n",
            "Epoch 27/100\n",
            "74/74 [==============================] - 17s 234ms/step - loss: 2.8646 - categorical_accuracy: 0.9945 - val_loss: 2.9147 - val_categorical_accuracy: 0.9662\n",
            "Epoch 28/100\n",
            "74/74 [==============================] - 17s 223ms/step - loss: 2.7846 - categorical_accuracy: 0.9945 - val_loss: 2.8457 - val_categorical_accuracy: 0.9578\n",
            "Epoch 29/100\n",
            "74/74 [==============================] - 16s 220ms/step - loss: 2.7112 - categorical_accuracy: 0.9945 - val_loss: 2.7770 - val_categorical_accuracy: 0.9595\n",
            "Epoch 30/100\n",
            "74/74 [==============================] - 16s 220ms/step - loss: 2.6355 - categorical_accuracy: 0.9954 - val_loss: 2.7318 - val_categorical_accuracy: 0.9443\n",
            "Epoch 31/100\n",
            "74/74 [==============================] - 16s 220ms/step - loss: 2.5632 - categorical_accuracy: 0.9962 - val_loss: 2.6305 - val_categorical_accuracy: 0.9611\n",
            "Epoch 32/100\n",
            "74/74 [==============================] - 16s 217ms/step - loss: 2.4993 - categorical_accuracy: 0.9928 - val_loss: 2.5667 - val_categorical_accuracy: 0.9611\n",
            "Epoch 33/100\n",
            "74/74 [==============================] - 17s 224ms/step - loss: 2.4293 - categorical_accuracy: 0.9962 - val_loss: 2.4963 - val_categorical_accuracy: 0.9611\n",
            "Epoch 34/100\n",
            "74/74 [==============================] - 17s 223ms/step - loss: 2.3624 - categorical_accuracy: 0.9970 - val_loss: 2.4408 - val_categorical_accuracy: 0.9578\n",
            "Epoch 35/100\n",
            "74/74 [==============================] - 16s 218ms/step - loss: 2.3003 - categorical_accuracy: 0.9962 - val_loss: 2.3744 - val_categorical_accuracy: 0.9595\n",
            "Epoch 36/100\n",
            "74/74 [==============================] - 16s 218ms/step - loss: 2.2377 - categorical_accuracy: 0.9962 - val_loss: 2.3078 - val_categorical_accuracy: 0.9628\n",
            "Epoch 37/100\n",
            "74/74 [==============================] - 16s 219ms/step - loss: 2.1943 - categorical_accuracy: 0.9890 - val_loss: 2.2685 - val_categorical_accuracy: 0.9459\n",
            "Epoch 38/100\n",
            "74/74 [==============================] - 16s 217ms/step - loss: 2.1228 - categorical_accuracy: 0.9966 - val_loss: 2.1926 - val_categorical_accuracy: 0.9595\n",
            "Epoch 39/100\n",
            "74/74 [==============================] - 20s 271ms/step - loss: 2.0804 - categorical_accuracy: 0.9924 - val_loss: 2.1573 - val_categorical_accuracy: 0.9578\n",
            "Epoch 40/100\n",
            "74/74 [==============================] - 16s 220ms/step - loss: 2.4809 - categorical_accuracy: 0.9349 - val_loss: 3.9253 - val_categorical_accuracy: 0.2551\n",
            "Epoch 41/100\n",
            "74/74 [==============================] - 16s 221ms/step - loss: 2.7023 - categorical_accuracy: 0.7605 - val_loss: 2.3278 - val_categorical_accuracy: 0.8649\n",
            "Epoch 42/100\n",
            "74/74 [==============================] - 16s 219ms/step - loss: 2.1935 - categorical_accuracy: 0.9282 - val_loss: 2.2241 - val_categorical_accuracy: 0.8919\n",
            "Epoch 43/100\n",
            "74/74 [==============================] - 18s 239ms/step - loss: 2.0249 - categorical_accuracy: 0.9632 - val_loss: 2.1322 - val_categorical_accuracy: 0.9071\n",
            "Epoch 44/100\n",
            "74/74 [==============================] - 16s 217ms/step - loss: 1.9616 - categorical_accuracy: 0.9687 - val_loss: 2.0423 - val_categorical_accuracy: 0.9409\n",
            "Epoch 45/100\n",
            "74/74 [==============================] - 16s 218ms/step - loss: 1.8650 - categorical_accuracy: 0.9839 - val_loss: 1.9393 - val_categorical_accuracy: 0.9561\n",
            "Epoch 46/100\n",
            "74/74 [==============================] - 16s 218ms/step - loss: 1.8102 - categorical_accuracy: 0.9882 - val_loss: 1.8961 - val_categorical_accuracy: 0.9561\n",
            "Epoch 47/100\n",
            "68/74 [==========================>...] - ETA: 1s - loss: 1.7638 - categorical_accuracy: 0.9857"
          ]
        },
        {
          "output_type": "error",
          "ename": "KeyboardInterrupt",
          "evalue": "ignored",
          "traceback": [
            "\u001b[0;31m---------------------------------------------------------------------------\u001b[0m",
            "\u001b[0;31mKeyboardInterrupt\u001b[0m                         Traceback (most recent call last)",
            "\u001b[0;32m<ipython-input-49-20764d5c5410>\u001b[0m in \u001b[0;36m<module>\u001b[0;34m()\u001b[0m\n\u001b[0;32m----> 1\u001b[0;31m \u001b[0mtuner\u001b[0m\u001b[0;34m.\u001b[0m\u001b[0msearch\u001b[0m\u001b[0;34m(\u001b[0m\u001b[0mtrain_shape\u001b[0m\u001b[0;34m,\u001b[0m \u001b[0mepochs\u001b[0m\u001b[0;34m=\u001b[0m\u001b[0;36m100\u001b[0m\u001b[0;34m,\u001b[0m \u001b[0mverbose\u001b[0m \u001b[0;34m=\u001b[0m \u001b[0;36m1\u001b[0m\u001b[0;34m,\u001b[0m \u001b[0mvalidation_data\u001b[0m\u001b[0;34m=\u001b[0m\u001b[0mvalidation_shape\u001b[0m\u001b[0;34m,\u001b[0m \u001b[0mclass_weight\u001b[0m\u001b[0;34m=\u001b[0m\u001b[0mclass_weight_dict_shape\u001b[0m\u001b[0;34m,\u001b[0m  \u001b[0mcallbacks\u001b[0m \u001b[0;34m=\u001b[0m \u001b[0;34m[\u001b[0m\u001b[0mearly_stopping\u001b[0m\u001b[0;34m]\u001b[0m\u001b[0;34m)\u001b[0m\u001b[0;34m\u001b[0m\u001b[0;34m\u001b[0m\u001b[0m\n\u001b[0m",
            "\u001b[0;32m/usr/local/lib/python3.7/dist-packages/keras_tuner/engine/base_tuner.py\u001b[0m in \u001b[0;36msearch\u001b[0;34m(self, *fit_args, **fit_kwargs)\u001b[0m\n\u001b[1;32m    177\u001b[0m \u001b[0;34m\u001b[0m\u001b[0m\n\u001b[1;32m    178\u001b[0m             \u001b[0mself\u001b[0m\u001b[0;34m.\u001b[0m\u001b[0mon_trial_begin\u001b[0m\u001b[0;34m(\u001b[0m\u001b[0mtrial\u001b[0m\u001b[0;34m)\u001b[0m\u001b[0;34m\u001b[0m\u001b[0;34m\u001b[0m\u001b[0m\n\u001b[0;32m--> 179\u001b[0;31m             \u001b[0mresults\u001b[0m \u001b[0;34m=\u001b[0m \u001b[0mself\u001b[0m\u001b[0;34m.\u001b[0m\u001b[0mrun_trial\u001b[0m\u001b[0;34m(\u001b[0m\u001b[0mtrial\u001b[0m\u001b[0;34m,\u001b[0m \u001b[0;34m*\u001b[0m\u001b[0mfit_args\u001b[0m\u001b[0;34m,\u001b[0m \u001b[0;34m**\u001b[0m\u001b[0mfit_kwargs\u001b[0m\u001b[0;34m)\u001b[0m\u001b[0;34m\u001b[0m\u001b[0;34m\u001b[0m\u001b[0m\n\u001b[0m\u001b[1;32m    180\u001b[0m             \u001b[0;31m# `results` is None indicates user updated oracle in `run_trial()`.\u001b[0m\u001b[0;34m\u001b[0m\u001b[0;34m\u001b[0m\u001b[0;34m\u001b[0m\u001b[0m\n\u001b[1;32m    181\u001b[0m             \u001b[0;32mif\u001b[0m \u001b[0mresults\u001b[0m \u001b[0;32mis\u001b[0m \u001b[0;32mNone\u001b[0m\u001b[0;34m:\u001b[0m\u001b[0;34m\u001b[0m\u001b[0;34m\u001b[0m\u001b[0m\n",
            "\u001b[0;32m/usr/local/lib/python3.7/dist-packages/keras_tuner/engine/tuner.py\u001b[0m in \u001b[0;36mrun_trial\u001b[0;34m(self, trial, *args, **kwargs)\u001b[0m\n\u001b[1;32m    292\u001b[0m             \u001b[0mcallbacks\u001b[0m\u001b[0;34m.\u001b[0m\u001b[0mappend\u001b[0m\u001b[0;34m(\u001b[0m\u001b[0mmodel_checkpoint\u001b[0m\u001b[0;34m)\u001b[0m\u001b[0;34m\u001b[0m\u001b[0;34m\u001b[0m\u001b[0m\n\u001b[1;32m    293\u001b[0m             \u001b[0mcopied_kwargs\u001b[0m\u001b[0;34m[\u001b[0m\u001b[0;34m\"callbacks\"\u001b[0m\u001b[0;34m]\u001b[0m \u001b[0;34m=\u001b[0m \u001b[0mcallbacks\u001b[0m\u001b[0;34m\u001b[0m\u001b[0;34m\u001b[0m\u001b[0m\n\u001b[0;32m--> 294\u001b[0;31m             \u001b[0mobj_value\u001b[0m \u001b[0;34m=\u001b[0m \u001b[0mself\u001b[0m\u001b[0;34m.\u001b[0m\u001b[0m_build_and_fit_model\u001b[0m\u001b[0;34m(\u001b[0m\u001b[0mtrial\u001b[0m\u001b[0;34m,\u001b[0m \u001b[0;34m*\u001b[0m\u001b[0margs\u001b[0m\u001b[0;34m,\u001b[0m \u001b[0;34m**\u001b[0m\u001b[0mcopied_kwargs\u001b[0m\u001b[0;34m)\u001b[0m\u001b[0;34m\u001b[0m\u001b[0;34m\u001b[0m\u001b[0m\n\u001b[0m\u001b[1;32m    295\u001b[0m \u001b[0;34m\u001b[0m\u001b[0m\n\u001b[1;32m    296\u001b[0m             \u001b[0mhistories\u001b[0m\u001b[0;34m.\u001b[0m\u001b[0mappend\u001b[0m\u001b[0;34m(\u001b[0m\u001b[0mobj_value\u001b[0m\u001b[0;34m)\u001b[0m\u001b[0;34m\u001b[0m\u001b[0;34m\u001b[0m\u001b[0m\n",
            "\u001b[0;32m/usr/local/lib/python3.7/dist-packages/keras_tuner/engine/tuner.py\u001b[0m in \u001b[0;36m_build_and_fit_model\u001b[0;34m(self, trial, *args, **kwargs)\u001b[0m\n\u001b[1;32m    220\u001b[0m         \u001b[0mhp\u001b[0m \u001b[0;34m=\u001b[0m \u001b[0mtrial\u001b[0m\u001b[0;34m.\u001b[0m\u001b[0mhyperparameters\u001b[0m\u001b[0;34m\u001b[0m\u001b[0;34m\u001b[0m\u001b[0m\n\u001b[1;32m    221\u001b[0m         \u001b[0mmodel\u001b[0m \u001b[0;34m=\u001b[0m \u001b[0mself\u001b[0m\u001b[0;34m.\u001b[0m\u001b[0m_try_build\u001b[0m\u001b[0;34m(\u001b[0m\u001b[0mhp\u001b[0m\u001b[0;34m)\u001b[0m\u001b[0;34m\u001b[0m\u001b[0;34m\u001b[0m\u001b[0m\n\u001b[0;32m--> 222\u001b[0;31m         \u001b[0mresults\u001b[0m \u001b[0;34m=\u001b[0m \u001b[0mself\u001b[0m\u001b[0;34m.\u001b[0m\u001b[0mhypermodel\u001b[0m\u001b[0;34m.\u001b[0m\u001b[0mfit\u001b[0m\u001b[0;34m(\u001b[0m\u001b[0mhp\u001b[0m\u001b[0;34m,\u001b[0m \u001b[0mmodel\u001b[0m\u001b[0;34m,\u001b[0m \u001b[0;34m*\u001b[0m\u001b[0margs\u001b[0m\u001b[0;34m,\u001b[0m \u001b[0;34m**\u001b[0m\u001b[0mkwargs\u001b[0m\u001b[0;34m)\u001b[0m\u001b[0;34m\u001b[0m\u001b[0;34m\u001b[0m\u001b[0m\n\u001b[0m\u001b[1;32m    223\u001b[0m         return tuner_utils.convert_to_metrics_dict(\n\u001b[1;32m    224\u001b[0m             \u001b[0mresults\u001b[0m\u001b[0;34m,\u001b[0m \u001b[0mself\u001b[0m\u001b[0;34m.\u001b[0m\u001b[0moracle\u001b[0m\u001b[0;34m.\u001b[0m\u001b[0mobjective\u001b[0m\u001b[0;34m,\u001b[0m \u001b[0;34m\"HyperModel.fit()\"\u001b[0m\u001b[0;34m\u001b[0m\u001b[0;34m\u001b[0m\u001b[0m\n",
            "\u001b[0;32m/usr/local/lib/python3.7/dist-packages/keras_tuner/engine/hypermodel.py\u001b[0m in \u001b[0;36mfit\u001b[0;34m(self, hp, model, *args, **kwargs)\u001b[0m\n\u001b[1;32m    135\u001b[0m             \u001b[0mIf\u001b[0m \u001b[0;32mreturn\u001b[0m \u001b[0ma\u001b[0m \u001b[0mfloat\u001b[0m\u001b[0;34m,\u001b[0m \u001b[0mit\u001b[0m \u001b[0mshould\u001b[0m \u001b[0mbe\u001b[0m \u001b[0mthe\u001b[0m\u001b[0;31m \u001b[0m\u001b[0;31m`\u001b[0m\u001b[0mobjective\u001b[0m\u001b[0;31m`\u001b[0m \u001b[0mvalue\u001b[0m\u001b[0;34m.\u001b[0m\u001b[0;34m\u001b[0m\u001b[0;34m\u001b[0m\u001b[0m\n\u001b[1;32m    136\u001b[0m         \"\"\"\n\u001b[0;32m--> 137\u001b[0;31m         \u001b[0;32mreturn\u001b[0m \u001b[0mmodel\u001b[0m\u001b[0;34m.\u001b[0m\u001b[0mfit\u001b[0m\u001b[0;34m(\u001b[0m\u001b[0;34m*\u001b[0m\u001b[0margs\u001b[0m\u001b[0;34m,\u001b[0m \u001b[0;34m**\u001b[0m\u001b[0mkwargs\u001b[0m\u001b[0;34m)\u001b[0m\u001b[0;34m\u001b[0m\u001b[0;34m\u001b[0m\u001b[0m\n\u001b[0m\u001b[1;32m    138\u001b[0m \u001b[0;34m\u001b[0m\u001b[0m\n\u001b[1;32m    139\u001b[0m \u001b[0;34m\u001b[0m\u001b[0m\n",
            "\u001b[0;32m/usr/local/lib/python3.7/dist-packages/keras/utils/traceback_utils.py\u001b[0m in \u001b[0;36merror_handler\u001b[0;34m(*args, **kwargs)\u001b[0m\n\u001b[1;32m     62\u001b[0m     \u001b[0mfiltered_tb\u001b[0m \u001b[0;34m=\u001b[0m \u001b[0;32mNone\u001b[0m\u001b[0;34m\u001b[0m\u001b[0;34m\u001b[0m\u001b[0m\n\u001b[1;32m     63\u001b[0m     \u001b[0;32mtry\u001b[0m\u001b[0;34m:\u001b[0m\u001b[0;34m\u001b[0m\u001b[0;34m\u001b[0m\u001b[0m\n\u001b[0;32m---> 64\u001b[0;31m       \u001b[0;32mreturn\u001b[0m \u001b[0mfn\u001b[0m\u001b[0;34m(\u001b[0m\u001b[0;34m*\u001b[0m\u001b[0margs\u001b[0m\u001b[0;34m,\u001b[0m \u001b[0;34m**\u001b[0m\u001b[0mkwargs\u001b[0m\u001b[0;34m)\u001b[0m\u001b[0;34m\u001b[0m\u001b[0;34m\u001b[0m\u001b[0m\n\u001b[0m\u001b[1;32m     65\u001b[0m     \u001b[0;32mexcept\u001b[0m \u001b[0mException\u001b[0m \u001b[0;32mas\u001b[0m \u001b[0me\u001b[0m\u001b[0;34m:\u001b[0m  \u001b[0;31m# pylint: disable=broad-except\u001b[0m\u001b[0;34m\u001b[0m\u001b[0;34m\u001b[0m\u001b[0m\n\u001b[1;32m     66\u001b[0m       \u001b[0mfiltered_tb\u001b[0m \u001b[0;34m=\u001b[0m \u001b[0m_process_traceback_frames\u001b[0m\u001b[0;34m(\u001b[0m\u001b[0me\u001b[0m\u001b[0;34m.\u001b[0m\u001b[0m__traceback__\u001b[0m\u001b[0;34m)\u001b[0m\u001b[0;34m\u001b[0m\u001b[0;34m\u001b[0m\u001b[0m\n",
            "\u001b[0;32m/usr/local/lib/python3.7/dist-packages/keras/engine/training.py\u001b[0m in \u001b[0;36mfit\u001b[0;34m(self, x, y, batch_size, epochs, verbose, callbacks, validation_split, validation_data, shuffle, class_weight, sample_weight, initial_epoch, steps_per_epoch, validation_steps, validation_batch_size, validation_freq, max_queue_size, workers, use_multiprocessing)\u001b[0m\n\u001b[1;32m   1382\u001b[0m                 _r=1):\n\u001b[1;32m   1383\u001b[0m               \u001b[0mcallbacks\u001b[0m\u001b[0;34m.\u001b[0m\u001b[0mon_train_batch_begin\u001b[0m\u001b[0;34m(\u001b[0m\u001b[0mstep\u001b[0m\u001b[0;34m)\u001b[0m\u001b[0;34m\u001b[0m\u001b[0;34m\u001b[0m\u001b[0m\n\u001b[0;32m-> 1384\u001b[0;31m               \u001b[0mtmp_logs\u001b[0m \u001b[0;34m=\u001b[0m \u001b[0mself\u001b[0m\u001b[0;34m.\u001b[0m\u001b[0mtrain_function\u001b[0m\u001b[0;34m(\u001b[0m\u001b[0miterator\u001b[0m\u001b[0;34m)\u001b[0m\u001b[0;34m\u001b[0m\u001b[0;34m\u001b[0m\u001b[0m\n\u001b[0m\u001b[1;32m   1385\u001b[0m               \u001b[0;32mif\u001b[0m \u001b[0mdata_handler\u001b[0m\u001b[0;34m.\u001b[0m\u001b[0mshould_sync\u001b[0m\u001b[0;34m:\u001b[0m\u001b[0;34m\u001b[0m\u001b[0;34m\u001b[0m\u001b[0m\n\u001b[1;32m   1386\u001b[0m                 \u001b[0mcontext\u001b[0m\u001b[0;34m.\u001b[0m\u001b[0masync_wait\u001b[0m\u001b[0;34m(\u001b[0m\u001b[0;34m)\u001b[0m\u001b[0;34m\u001b[0m\u001b[0;34m\u001b[0m\u001b[0m\n",
            "\u001b[0;32m/usr/local/lib/python3.7/dist-packages/tensorflow/python/util/traceback_utils.py\u001b[0m in \u001b[0;36merror_handler\u001b[0;34m(*args, **kwargs)\u001b[0m\n\u001b[1;32m    148\u001b[0m     \u001b[0mfiltered_tb\u001b[0m \u001b[0;34m=\u001b[0m \u001b[0;32mNone\u001b[0m\u001b[0;34m\u001b[0m\u001b[0;34m\u001b[0m\u001b[0m\n\u001b[1;32m    149\u001b[0m     \u001b[0;32mtry\u001b[0m\u001b[0;34m:\u001b[0m\u001b[0;34m\u001b[0m\u001b[0;34m\u001b[0m\u001b[0m\n\u001b[0;32m--> 150\u001b[0;31m       \u001b[0;32mreturn\u001b[0m \u001b[0mfn\u001b[0m\u001b[0;34m(\u001b[0m\u001b[0;34m*\u001b[0m\u001b[0margs\u001b[0m\u001b[0;34m,\u001b[0m \u001b[0;34m**\u001b[0m\u001b[0mkwargs\u001b[0m\u001b[0;34m)\u001b[0m\u001b[0;34m\u001b[0m\u001b[0;34m\u001b[0m\u001b[0m\n\u001b[0m\u001b[1;32m    151\u001b[0m     \u001b[0;32mexcept\u001b[0m \u001b[0mException\u001b[0m \u001b[0;32mas\u001b[0m \u001b[0me\u001b[0m\u001b[0;34m:\u001b[0m\u001b[0;34m\u001b[0m\u001b[0;34m\u001b[0m\u001b[0m\n\u001b[1;32m    152\u001b[0m       \u001b[0mfiltered_tb\u001b[0m \u001b[0;34m=\u001b[0m \u001b[0m_process_traceback_frames\u001b[0m\u001b[0;34m(\u001b[0m\u001b[0me\u001b[0m\u001b[0;34m.\u001b[0m\u001b[0m__traceback__\u001b[0m\u001b[0;34m)\u001b[0m\u001b[0;34m\u001b[0m\u001b[0;34m\u001b[0m\u001b[0m\n",
            "\u001b[0;32m/usr/local/lib/python3.7/dist-packages/tensorflow/python/eager/def_function.py\u001b[0m in \u001b[0;36m__call__\u001b[0;34m(self, *args, **kwds)\u001b[0m\n\u001b[1;32m    913\u001b[0m \u001b[0;34m\u001b[0m\u001b[0m\n\u001b[1;32m    914\u001b[0m       \u001b[0;32mwith\u001b[0m \u001b[0mOptionalXlaContext\u001b[0m\u001b[0;34m(\u001b[0m\u001b[0mself\u001b[0m\u001b[0;34m.\u001b[0m\u001b[0m_jit_compile\u001b[0m\u001b[0;34m)\u001b[0m\u001b[0;34m:\u001b[0m\u001b[0;34m\u001b[0m\u001b[0;34m\u001b[0m\u001b[0m\n\u001b[0;32m--> 915\u001b[0;31m         \u001b[0mresult\u001b[0m \u001b[0;34m=\u001b[0m \u001b[0mself\u001b[0m\u001b[0;34m.\u001b[0m\u001b[0m_call\u001b[0m\u001b[0;34m(\u001b[0m\u001b[0;34m*\u001b[0m\u001b[0margs\u001b[0m\u001b[0;34m,\u001b[0m \u001b[0;34m**\u001b[0m\u001b[0mkwds\u001b[0m\u001b[0;34m)\u001b[0m\u001b[0;34m\u001b[0m\u001b[0;34m\u001b[0m\u001b[0m\n\u001b[0m\u001b[1;32m    916\u001b[0m \u001b[0;34m\u001b[0m\u001b[0m\n\u001b[1;32m    917\u001b[0m       \u001b[0mnew_tracing_count\u001b[0m \u001b[0;34m=\u001b[0m \u001b[0mself\u001b[0m\u001b[0;34m.\u001b[0m\u001b[0mexperimental_get_tracing_count\u001b[0m\u001b[0;34m(\u001b[0m\u001b[0;34m)\u001b[0m\u001b[0;34m\u001b[0m\u001b[0;34m\u001b[0m\u001b[0m\n",
            "\u001b[0;32m/usr/local/lib/python3.7/dist-packages/tensorflow/python/eager/def_function.py\u001b[0m in \u001b[0;36m_call\u001b[0;34m(self, *args, **kwds)\u001b[0m\n\u001b[1;32m    945\u001b[0m       \u001b[0;31m# In this case we have created variables on the first call, so we run the\u001b[0m\u001b[0;34m\u001b[0m\u001b[0;34m\u001b[0m\u001b[0;34m\u001b[0m\u001b[0m\n\u001b[1;32m    946\u001b[0m       \u001b[0;31m# defunned version which is guaranteed to never create variables.\u001b[0m\u001b[0;34m\u001b[0m\u001b[0;34m\u001b[0m\u001b[0;34m\u001b[0m\u001b[0m\n\u001b[0;32m--> 947\u001b[0;31m       \u001b[0;32mreturn\u001b[0m \u001b[0mself\u001b[0m\u001b[0;34m.\u001b[0m\u001b[0m_stateless_fn\u001b[0m\u001b[0;34m(\u001b[0m\u001b[0;34m*\u001b[0m\u001b[0margs\u001b[0m\u001b[0;34m,\u001b[0m \u001b[0;34m**\u001b[0m\u001b[0mkwds\u001b[0m\u001b[0;34m)\u001b[0m  \u001b[0;31m# pylint: disable=not-callable\u001b[0m\u001b[0;34m\u001b[0m\u001b[0;34m\u001b[0m\u001b[0m\n\u001b[0m\u001b[1;32m    948\u001b[0m     \u001b[0;32melif\u001b[0m \u001b[0mself\u001b[0m\u001b[0;34m.\u001b[0m\u001b[0m_stateful_fn\u001b[0m \u001b[0;32mis\u001b[0m \u001b[0;32mnot\u001b[0m \u001b[0;32mNone\u001b[0m\u001b[0;34m:\u001b[0m\u001b[0;34m\u001b[0m\u001b[0;34m\u001b[0m\u001b[0m\n\u001b[1;32m    949\u001b[0m       \u001b[0;31m# Release the lock early so that multiple threads can perform the call\u001b[0m\u001b[0;34m\u001b[0m\u001b[0;34m\u001b[0m\u001b[0;34m\u001b[0m\u001b[0m\n",
            "\u001b[0;32m/usr/local/lib/python3.7/dist-packages/tensorflow/python/eager/function.py\u001b[0m in \u001b[0;36m__call__\u001b[0;34m(self, *args, **kwargs)\u001b[0m\n\u001b[1;32m   2955\u001b[0m        filtered_flat_args) = self._maybe_define_function(args, kwargs)\n\u001b[1;32m   2956\u001b[0m     return graph_function._call_flat(\n\u001b[0;32m-> 2957\u001b[0;31m         filtered_flat_args, captured_inputs=graph_function.captured_inputs)  # pylint: disable=protected-access\n\u001b[0m\u001b[1;32m   2958\u001b[0m \u001b[0;34m\u001b[0m\u001b[0m\n\u001b[1;32m   2959\u001b[0m   \u001b[0;34m@\u001b[0m\u001b[0mproperty\u001b[0m\u001b[0;34m\u001b[0m\u001b[0;34m\u001b[0m\u001b[0m\n",
            "\u001b[0;32m/usr/local/lib/python3.7/dist-packages/tensorflow/python/eager/function.py\u001b[0m in \u001b[0;36m_call_flat\u001b[0;34m(self, args, captured_inputs, cancellation_manager)\u001b[0m\n\u001b[1;32m   1852\u001b[0m       \u001b[0;31m# No tape is watching; skip to running the function.\u001b[0m\u001b[0;34m\u001b[0m\u001b[0;34m\u001b[0m\u001b[0;34m\u001b[0m\u001b[0m\n\u001b[1;32m   1853\u001b[0m       return self._build_call_outputs(self._inference_function.call(\n\u001b[0;32m-> 1854\u001b[0;31m           ctx, args, cancellation_manager=cancellation_manager))\n\u001b[0m\u001b[1;32m   1855\u001b[0m     forward_backward = self._select_forward_and_backward_functions(\n\u001b[1;32m   1856\u001b[0m         \u001b[0margs\u001b[0m\u001b[0;34m,\u001b[0m\u001b[0;34m\u001b[0m\u001b[0;34m\u001b[0m\u001b[0m\n",
            "\u001b[0;32m/usr/local/lib/python3.7/dist-packages/tensorflow/python/eager/function.py\u001b[0m in \u001b[0;36mcall\u001b[0;34m(self, ctx, args, cancellation_manager)\u001b[0m\n\u001b[1;32m    502\u001b[0m               \u001b[0minputs\u001b[0m\u001b[0;34m=\u001b[0m\u001b[0margs\u001b[0m\u001b[0;34m,\u001b[0m\u001b[0;34m\u001b[0m\u001b[0;34m\u001b[0m\u001b[0m\n\u001b[1;32m    503\u001b[0m               \u001b[0mattrs\u001b[0m\u001b[0;34m=\u001b[0m\u001b[0mattrs\u001b[0m\u001b[0;34m,\u001b[0m\u001b[0;34m\u001b[0m\u001b[0;34m\u001b[0m\u001b[0m\n\u001b[0;32m--> 504\u001b[0;31m               ctx=ctx)\n\u001b[0m\u001b[1;32m    505\u001b[0m         \u001b[0;32melse\u001b[0m\u001b[0;34m:\u001b[0m\u001b[0;34m\u001b[0m\u001b[0;34m\u001b[0m\u001b[0m\n\u001b[1;32m    506\u001b[0m           outputs = execute.execute_with_cancellation(\n",
            "\u001b[0;32m/usr/local/lib/python3.7/dist-packages/tensorflow/python/eager/execute.py\u001b[0m in \u001b[0;36mquick_execute\u001b[0;34m(op_name, num_outputs, inputs, attrs, ctx, name)\u001b[0m\n\u001b[1;32m     53\u001b[0m     \u001b[0mctx\u001b[0m\u001b[0;34m.\u001b[0m\u001b[0mensure_initialized\u001b[0m\u001b[0;34m(\u001b[0m\u001b[0;34m)\u001b[0m\u001b[0;34m\u001b[0m\u001b[0;34m\u001b[0m\u001b[0m\n\u001b[1;32m     54\u001b[0m     tensors = pywrap_tfe.TFE_Py_Execute(ctx._handle, device_name, op_name,\n\u001b[0;32m---> 55\u001b[0;31m                                         inputs, attrs, num_outputs)\n\u001b[0m\u001b[1;32m     56\u001b[0m   \u001b[0;32mexcept\u001b[0m \u001b[0mcore\u001b[0m\u001b[0;34m.\u001b[0m\u001b[0m_NotOkStatusException\u001b[0m \u001b[0;32mas\u001b[0m \u001b[0me\u001b[0m\u001b[0;34m:\u001b[0m\u001b[0;34m\u001b[0m\u001b[0;34m\u001b[0m\u001b[0m\n\u001b[1;32m     57\u001b[0m     \u001b[0;32mif\u001b[0m \u001b[0mname\u001b[0m \u001b[0;32mis\u001b[0m \u001b[0;32mnot\u001b[0m \u001b[0;32mNone\u001b[0m\u001b[0;34m:\u001b[0m\u001b[0;34m\u001b[0m\u001b[0;34m\u001b[0m\u001b[0m\n",
            "\u001b[0;31mKeyboardInterrupt\u001b[0m: "
          ]
        }
      ],
      "source": [
        "tuner.search(train_shape, epochs=100, verbose = 1, validation_data=validation_shape, class_weight=class_weight_dict_shape,  callbacks = [early_stopping])"
      ]
    },
    {
      "cell_type": "code",
      "execution_count": null,
      "metadata": {
        "id": "sfDBwROnOBqm"
      },
      "outputs": [],
      "source": [
        "tuner.results_summary()"
      ]
    },
    {
      "cell_type": "code",
      "execution_count": null,
      "metadata": {
        "id": "g_rVP8htOBqm"
      },
      "outputs": [],
      "source": [
        "# get best model and best hyper parameter\n",
        "best_model = tuner.get_best_models()[0]\n",
        "best_hp = tuner.get_best_hyperparameters()[0]\n",
        "best_model.summary()"
      ]
    },
    {
      "cell_type": "code",
      "source": [
        "model_VGG_best_regularization = tuner.hypermodel.build(best_hp)\n",
        "history = model_VGG_best_regularization.fit_generator(train_shape, validation_data = validation_shape, epochs=100, verbose=1, class_weight=class_weight_dict_shape, callbacks = [early_stopping])\n",
        "  \n",
        "plot_learning_curve(history.history['loss'], history.history['val_loss'], \n",
        "                    history.history['categorical_accuracy'], history.history['val_categorical_accuracy'], \n",
        "                    metric_name = 'Accuracy')"
      ],
      "metadata": {
        "id": "v_KNizwqYCA-"
      },
      "execution_count": null,
      "outputs": []
    },
    {
      "cell_type": "markdown",
      "source": [
        "##### **2.2.2.1.2 Dropout regularization (tuning dropout rate)**"
      ],
      "metadata": {
        "id": "YntnCx8KgQvx"
      }
    },
    {
      "cell_type": "code",
      "execution_count": null,
      "metadata": {
        "id": "QBz77fD_MkuH"
      },
      "outputs": [],
      "source": [
        "def parameters(reg_lambda, dropout_rate):\n",
        "    VGG_model_with_regularization = tf.keras.Sequential([\n",
        "    # Block 1\n",
        "    tf.keras.layers.Conv2D(28, (3, 3), activation='relu', padding='same', \n",
        "                           kernel_regularizer = tf.keras.regularizers.l2(reg_lambda), input_shape=input_dimension),\n",
        "    tf.keras.layers.Conv2D(28, (3, 3), activation='relu', padding='same',\n",
        "                           kernel_regularizer=tf.keras.regularizers.l2(reg_lambda)),\n",
        "    tf.keras.layers.MaxPooling2D((2, 2)),\n",
        "    \n",
        "    # Block 2\n",
        "    tf.keras.layers.Conv2D(64, (3, 3), activation='relu', padding='same',\n",
        "                           kernel_regularizer=tf.keras.regularizers.l2(reg_lambda)),\n",
        "    tf.keras.layers.Conv2D(64, (3, 3), activation='relu', padding='same',\n",
        "                                  kernel_regularizer=tf.keras.regularizers.l2(reg_lambda)),\n",
        "    tf.keras.layers.MaxPooling2D((2, 2)),\n",
        "    \n",
        "    # Block 3\n",
        "    tf.keras.layers.Conv2D(128, (3, 3), activation='relu', padding='same',\n",
        "                           kernel_regularizer=tf.keras.regularizers.l2(reg_lambda)),\n",
        "    tf.keras.layers.Conv2D(128, (3, 3), activation='relu', padding='same', \n",
        "                           kernel_regularizer=tf.keras.regularizers.l2(reg_lambda)),\n",
        "    tf.keras.layers.MaxPooling2D((2, 2)),\n",
        "    \n",
        "    tf.keras.layers.Flatten(),\n",
        "    tf.keras.layers.Dense(128, activation='relu', kernel_regularizer=tf.keras.regularizers.l2(reg_lambda)),\n",
        "    tf.keras.layers.Dropout(rate = dropout_rate),\n",
        "    tf.keras.layers.Dense(numbers_of_shape, activation = \"softmax\"),\n",
        "    ])\n",
        "\n",
        "    VGG_model_with_regularization.compile(\n",
        "              # Use sgd over adam as our dataset is not very large so we care more about generalized\n",
        "              # adam would be better in case we need the data to be able to converge faster\n",
        "              optimizer = 'sgd',\n",
        "              # Use categorical_crossentropy instead of sparse as we use one hot label encoder\n",
        "              loss = \"categorical_crossentropy\",     \n",
        "              metrics = ['categorical_accuracy'])\n",
        "  \n",
        "    return VGG_model_with_regularization\n",
        "  \n",
        "\n",
        "  \n",
        "def build_model_VGG_dropout(hp):\n",
        "    dropout_rate = hp.Choice('reg_lambda', [0.1, 0.2, 0.3, 0.4, 0.5])\n",
        "    # Dropout rate is typically chosen between 10% to 50%. RNN usually use 20 - 30% while CNN normally use 40 - 50%\n",
        "    model = parameters(reg_lambda = 0.001, dropout_rate = dropout_rate)\n",
        "    return model\n",
        "\n",
        "build_model_VGG_dropout(kt.HyperParameters())"
      ]
    },
    {
      "cell_type": "code",
      "source": [
        "tuner = kt.RandomSearch(\n",
        "    build_model_VGG_dropout,\n",
        "    objective='val_loss',\n",
        "    max_trials=3)\n",
        "tuner.search_space_summary()"
      ],
      "metadata": {
        "id": "30vUrb8UjzG-"
      },
      "execution_count": null,
      "outputs": []
    },
    {
      "cell_type": "code",
      "source": [
        "tuner.search(train_shape, epochs=100, verbose = 1, validation_data=validation_shape, class_weight=class_weight_dict_shape,  callbacks = [early_stopping])"
      ],
      "metadata": {
        "id": "LBnJvB7DjznH"
      },
      "execution_count": null,
      "outputs": []
    },
    {
      "cell_type": "code",
      "source": [
        "tuner.results_summary()"
      ],
      "metadata": {
        "id": "s_EzcrPqjzpT"
      },
      "execution_count": null,
      "outputs": []
    },
    {
      "cell_type": "code",
      "source": [
        "# get best model and best hyper parameter\n",
        "best_model = tuner.get_best_models()[0]\n",
        "best_hp = tuner.get_best_hyperparameters()[0]\n",
        "best_model.summary()"
      ],
      "metadata": {
        "id": "_T32tmGajzre"
      },
      "execution_count": null,
      "outputs": []
    },
    {
      "cell_type": "code",
      "source": [
        "model_VGG_best_regularization = tuner.hypermodel.build(best_hp)\n",
        "history = model_VGG_best_regularization.fit_generator(train_shape, validation_data = validation_shape, epochs=100, verbose=1, class_weight=class_weight_dict_shape, callbacks = [early_stopping])\n",
        "  \n",
        "plot_learning_curve(history.history['loss'], history.history['val_loss'], \n",
        "                    history.history['categorical_accuracy'], history.history['val_categorical_accuracy'], \n",
        "                    metric_name = 'Accuracy')"
      ],
      "metadata": {
        "id": "TbpDgxSFkOTz"
      },
      "execution_count": null,
      "outputs": []
    },
    {
      "cell_type": "markdown",
      "source": [
        "## **2.3. Test Set Evaluation**"
      ],
      "metadata": {
        "id": "78B6eVyMqfxJ"
      }
    },
    {
      "cell_type": "markdown",
      "source": [
        "### **2.3.1. Test Set 1**"
      ],
      "metadata": {
        "id": "WeDa3CECzUdZ"
      }
    },
    {
      "cell_type": "code",
      "source": [
        "test_set_1_shape = test_shape\n",
        "test_set_1_type = test_type"
      ],
      "metadata": {
        "id": "SPnizqvNqXnd"
      },
      "execution_count": 99,
      "outputs": []
    },
    {
      "cell_type": "markdown",
      "source": [
        "### **2.3.2. Test Set 2**"
      ],
      "metadata": {
        "id": "8pTyvkvazf9O"
      }
    },
    {
      "cell_type": "code",
      "source": [
        "data_independent = file_path_into_dataframe('./independent_data/*/*/*.png')\n",
        "data_independent.head()  "
      ],
      "metadata": {
        "colab": {
          "base_uri": "https://localhost:8080/",
          "height": 206
        },
        "id": "wBw5XdaBqXtt",
        "outputId": "bcbb9f3a-12e1-4230-c573-862c3bfdb6d0"
      },
      "execution_count": 100,
      "outputs": [
        {
          "output_type": "execute_result",
          "data": {
            "text/plain": [
              "                                      image_path sign_shape   sign_type\n",
              "0   ./independent_data/diamond/laneend/02333.png    diamond     laneend\n",
              "1    ./independent_data/diamond/laneend/1111.png    diamond     laneend\n",
              "2    ./independent_data/diamond/laneend/1232.png    diamond     laneend\n",
              "3  ./independent_data/diamond/rightofway/005.png    diamond  rightofway\n",
              "4  ./independent_data/diamond/rightofway/007.png    diamond  rightofway"
            ],
            "text/html": [
              "\n",
              "  <div id=\"df-e8560f41-c5c0-4da3-99c9-55fd3bb913c6\">\n",
              "    <div class=\"colab-df-container\">\n",
              "      <div>\n",
              "<style scoped>\n",
              "    .dataframe tbody tr th:only-of-type {\n",
              "        vertical-align: middle;\n",
              "    }\n",
              "\n",
              "    .dataframe tbody tr th {\n",
              "        vertical-align: top;\n",
              "    }\n",
              "\n",
              "    .dataframe thead th {\n",
              "        text-align: right;\n",
              "    }\n",
              "</style>\n",
              "<table border=\"1\" class=\"dataframe\">\n",
              "  <thead>\n",
              "    <tr style=\"text-align: right;\">\n",
              "      <th></th>\n",
              "      <th>image_path</th>\n",
              "      <th>sign_shape</th>\n",
              "      <th>sign_type</th>\n",
              "    </tr>\n",
              "  </thead>\n",
              "  <tbody>\n",
              "    <tr>\n",
              "      <th>0</th>\n",
              "      <td>./independent_data/diamond/laneend/02333.png</td>\n",
              "      <td>diamond</td>\n",
              "      <td>laneend</td>\n",
              "    </tr>\n",
              "    <tr>\n",
              "      <th>1</th>\n",
              "      <td>./independent_data/diamond/laneend/1111.png</td>\n",
              "      <td>diamond</td>\n",
              "      <td>laneend</td>\n",
              "    </tr>\n",
              "    <tr>\n",
              "      <th>2</th>\n",
              "      <td>./independent_data/diamond/laneend/1232.png</td>\n",
              "      <td>diamond</td>\n",
              "      <td>laneend</td>\n",
              "    </tr>\n",
              "    <tr>\n",
              "      <th>3</th>\n",
              "      <td>./independent_data/diamond/rightofway/005.png</td>\n",
              "      <td>diamond</td>\n",
              "      <td>rightofway</td>\n",
              "    </tr>\n",
              "    <tr>\n",
              "      <th>4</th>\n",
              "      <td>./independent_data/diamond/rightofway/007.png</td>\n",
              "      <td>diamond</td>\n",
              "      <td>rightofway</td>\n",
              "    </tr>\n",
              "  </tbody>\n",
              "</table>\n",
              "</div>\n",
              "      <button class=\"colab-df-convert\" onclick=\"convertToInteractive('df-e8560f41-c5c0-4da3-99c9-55fd3bb913c6')\"\n",
              "              title=\"Convert this dataframe to an interactive table.\"\n",
              "              style=\"display:none;\">\n",
              "        \n",
              "  <svg xmlns=\"http://www.w3.org/2000/svg\" height=\"24px\"viewBox=\"0 0 24 24\"\n",
              "       width=\"24px\">\n",
              "    <path d=\"M0 0h24v24H0V0z\" fill=\"none\"/>\n",
              "    <path d=\"M18.56 5.44l.94 2.06.94-2.06 2.06-.94-2.06-.94-.94-2.06-.94 2.06-2.06.94zm-11 1L8.5 8.5l.94-2.06 2.06-.94-2.06-.94L8.5 2.5l-.94 2.06-2.06.94zm10 10l.94 2.06.94-2.06 2.06-.94-2.06-.94-.94-2.06-.94 2.06-2.06.94z\"/><path d=\"M17.41 7.96l-1.37-1.37c-.4-.4-.92-.59-1.43-.59-.52 0-1.04.2-1.43.59L10.3 9.45l-7.72 7.72c-.78.78-.78 2.05 0 2.83L4 21.41c.39.39.9.59 1.41.59.51 0 1.02-.2 1.41-.59l7.78-7.78 2.81-2.81c.8-.78.8-2.07 0-2.86zM5.41 20L4 18.59l7.72-7.72 1.47 1.35L5.41 20z\"/>\n",
              "  </svg>\n",
              "      </button>\n",
              "      \n",
              "  <style>\n",
              "    .colab-df-container {\n",
              "      display:flex;\n",
              "      flex-wrap:wrap;\n",
              "      gap: 12px;\n",
              "    }\n",
              "\n",
              "    .colab-df-convert {\n",
              "      background-color: #E8F0FE;\n",
              "      border: none;\n",
              "      border-radius: 50%;\n",
              "      cursor: pointer;\n",
              "      display: none;\n",
              "      fill: #1967D2;\n",
              "      height: 32px;\n",
              "      padding: 0 0 0 0;\n",
              "      width: 32px;\n",
              "    }\n",
              "\n",
              "    .colab-df-convert:hover {\n",
              "      background-color: #E2EBFA;\n",
              "      box-shadow: 0px 1px 2px rgba(60, 64, 67, 0.3), 0px 1px 3px 1px rgba(60, 64, 67, 0.15);\n",
              "      fill: #174EA6;\n",
              "    }\n",
              "\n",
              "    [theme=dark] .colab-df-convert {\n",
              "      background-color: #3B4455;\n",
              "      fill: #D2E3FC;\n",
              "    }\n",
              "\n",
              "    [theme=dark] .colab-df-convert:hover {\n",
              "      background-color: #434B5C;\n",
              "      box-shadow: 0px 1px 3px 1px rgba(0, 0, 0, 0.15);\n",
              "      filter: drop-shadow(0px 1px 2px rgba(0, 0, 0, 0.3));\n",
              "      fill: #FFFFFF;\n",
              "    }\n",
              "  </style>\n",
              "\n",
              "      <script>\n",
              "        const buttonEl =\n",
              "          document.querySelector('#df-e8560f41-c5c0-4da3-99c9-55fd3bb913c6 button.colab-df-convert');\n",
              "        buttonEl.style.display =\n",
              "          google.colab.kernel.accessAllowed ? 'block' : 'none';\n",
              "\n",
              "        async function convertToInteractive(key) {\n",
              "          const element = document.querySelector('#df-e8560f41-c5c0-4da3-99c9-55fd3bb913c6');\n",
              "          const dataTable =\n",
              "            await google.colab.kernel.invokeFunction('convertToInteractive',\n",
              "                                                     [key], {});\n",
              "          if (!dataTable) return;\n",
              "\n",
              "          const docLinkHtml = 'Like what you see? Visit the ' +\n",
              "            '<a target=\"_blank\" href=https://colab.research.google.com/notebooks/data_table.ipynb>data table notebook</a>'\n",
              "            + ' to learn more about interactive tables.';\n",
              "          element.innerHTML = '';\n",
              "          dataTable['output_type'] = 'display_data';\n",
              "          await google.colab.output.renderOutput(dataTable, element);\n",
              "          const docLink = document.createElement('div');\n",
              "          docLink.innerHTML = docLinkHtml;\n",
              "          element.appendChild(docLink);\n",
              "        }\n",
              "      </script>\n",
              "    </div>\n",
              "  </div>\n",
              "  "
            ]
          },
          "metadata": {},
          "execution_count": 100
        }
      ]
    },
    {
      "cell_type": "code",
      "source": [
        "data_independent.sign_shape = labelEncoder.fit_transform(data_independent.sign_shape)\n",
        "data_independent.sign_type = labelEncoder.fit_transform(data_independent.sign_type)\n",
        "data_independent.head()"
      ],
      "metadata": {
        "colab": {
          "base_uri": "https://localhost:8080/",
          "height": 206
        },
        "id": "vptFRZQXvOTO",
        "outputId": "5df5f148-21dd-4c1e-9010-7acdc934025f"
      },
      "execution_count": 101,
      "outputs": [
        {
          "output_type": "execute_result",
          "data": {
            "text/plain": [
              "                                      image_path  sign_shape  sign_type\n",
              "0   ./independent_data/diamond/laneend/02333.png           0          4\n",
              "1    ./independent_data/diamond/laneend/1111.png           0          4\n",
              "2    ./independent_data/diamond/laneend/1232.png           0          4\n",
              "3  ./independent_data/diamond/rightofway/005.png           0          9\n",
              "4  ./independent_data/diamond/rightofway/007.png           0          9"
            ],
            "text/html": [
              "\n",
              "  <div id=\"df-ec5f7680-96b4-4d08-ae0a-e0907baf77db\">\n",
              "    <div class=\"colab-df-container\">\n",
              "      <div>\n",
              "<style scoped>\n",
              "    .dataframe tbody tr th:only-of-type {\n",
              "        vertical-align: middle;\n",
              "    }\n",
              "\n",
              "    .dataframe tbody tr th {\n",
              "        vertical-align: top;\n",
              "    }\n",
              "\n",
              "    .dataframe thead th {\n",
              "        text-align: right;\n",
              "    }\n",
              "</style>\n",
              "<table border=\"1\" class=\"dataframe\">\n",
              "  <thead>\n",
              "    <tr style=\"text-align: right;\">\n",
              "      <th></th>\n",
              "      <th>image_path</th>\n",
              "      <th>sign_shape</th>\n",
              "      <th>sign_type</th>\n",
              "    </tr>\n",
              "  </thead>\n",
              "  <tbody>\n",
              "    <tr>\n",
              "      <th>0</th>\n",
              "      <td>./independent_data/diamond/laneend/02333.png</td>\n",
              "      <td>0</td>\n",
              "      <td>4</td>\n",
              "    </tr>\n",
              "    <tr>\n",
              "      <th>1</th>\n",
              "      <td>./independent_data/diamond/laneend/1111.png</td>\n",
              "      <td>0</td>\n",
              "      <td>4</td>\n",
              "    </tr>\n",
              "    <tr>\n",
              "      <th>2</th>\n",
              "      <td>./independent_data/diamond/laneend/1232.png</td>\n",
              "      <td>0</td>\n",
              "      <td>4</td>\n",
              "    </tr>\n",
              "    <tr>\n",
              "      <th>3</th>\n",
              "      <td>./independent_data/diamond/rightofway/005.png</td>\n",
              "      <td>0</td>\n",
              "      <td>9</td>\n",
              "    </tr>\n",
              "    <tr>\n",
              "      <th>4</th>\n",
              "      <td>./independent_data/diamond/rightofway/007.png</td>\n",
              "      <td>0</td>\n",
              "      <td>9</td>\n",
              "    </tr>\n",
              "  </tbody>\n",
              "</table>\n",
              "</div>\n",
              "      <button class=\"colab-df-convert\" onclick=\"convertToInteractive('df-ec5f7680-96b4-4d08-ae0a-e0907baf77db')\"\n",
              "              title=\"Convert this dataframe to an interactive table.\"\n",
              "              style=\"display:none;\">\n",
              "        \n",
              "  <svg xmlns=\"http://www.w3.org/2000/svg\" height=\"24px\"viewBox=\"0 0 24 24\"\n",
              "       width=\"24px\">\n",
              "    <path d=\"M0 0h24v24H0V0z\" fill=\"none\"/>\n",
              "    <path d=\"M18.56 5.44l.94 2.06.94-2.06 2.06-.94-2.06-.94-.94-2.06-.94 2.06-2.06.94zm-11 1L8.5 8.5l.94-2.06 2.06-.94-2.06-.94L8.5 2.5l-.94 2.06-2.06.94zm10 10l.94 2.06.94-2.06 2.06-.94-2.06-.94-.94-2.06-.94 2.06-2.06.94z\"/><path d=\"M17.41 7.96l-1.37-1.37c-.4-.4-.92-.59-1.43-.59-.52 0-1.04.2-1.43.59L10.3 9.45l-7.72 7.72c-.78.78-.78 2.05 0 2.83L4 21.41c.39.39.9.59 1.41.59.51 0 1.02-.2 1.41-.59l7.78-7.78 2.81-2.81c.8-.78.8-2.07 0-2.86zM5.41 20L4 18.59l7.72-7.72 1.47 1.35L5.41 20z\"/>\n",
              "  </svg>\n",
              "      </button>\n",
              "      \n",
              "  <style>\n",
              "    .colab-df-container {\n",
              "      display:flex;\n",
              "      flex-wrap:wrap;\n",
              "      gap: 12px;\n",
              "    }\n",
              "\n",
              "    .colab-df-convert {\n",
              "      background-color: #E8F0FE;\n",
              "      border: none;\n",
              "      border-radius: 50%;\n",
              "      cursor: pointer;\n",
              "      display: none;\n",
              "      fill: #1967D2;\n",
              "      height: 32px;\n",
              "      padding: 0 0 0 0;\n",
              "      width: 32px;\n",
              "    }\n",
              "\n",
              "    .colab-df-convert:hover {\n",
              "      background-color: #E2EBFA;\n",
              "      box-shadow: 0px 1px 2px rgba(60, 64, 67, 0.3), 0px 1px 3px 1px rgba(60, 64, 67, 0.15);\n",
              "      fill: #174EA6;\n",
              "    }\n",
              "\n",
              "    [theme=dark] .colab-df-convert {\n",
              "      background-color: #3B4455;\n",
              "      fill: #D2E3FC;\n",
              "    }\n",
              "\n",
              "    [theme=dark] .colab-df-convert:hover {\n",
              "      background-color: #434B5C;\n",
              "      box-shadow: 0px 1px 3px 1px rgba(0, 0, 0, 0.15);\n",
              "      filter: drop-shadow(0px 1px 2px rgba(0, 0, 0, 0.3));\n",
              "      fill: #FFFFFF;\n",
              "    }\n",
              "  </style>\n",
              "\n",
              "      <script>\n",
              "        const buttonEl =\n",
              "          document.querySelector('#df-ec5f7680-96b4-4d08-ae0a-e0907baf77db button.colab-df-convert');\n",
              "        buttonEl.style.display =\n",
              "          google.colab.kernel.accessAllowed ? 'block' : 'none';\n",
              "\n",
              "        async function convertToInteractive(key) {\n",
              "          const element = document.querySelector('#df-ec5f7680-96b4-4d08-ae0a-e0907baf77db');\n",
              "          const dataTable =\n",
              "            await google.colab.kernel.invokeFunction('convertToInteractive',\n",
              "                                                     [key], {});\n",
              "          if (!dataTable) return;\n",
              "\n",
              "          const docLinkHtml = 'Like what you see? Visit the ' +\n",
              "            '<a target=\"_blank\" href=https://colab.research.google.com/notebooks/data_table.ipynb>data table notebook</a>'\n",
              "            + ' to learn more about interactive tables.';\n",
              "          element.innerHTML = '';\n",
              "          dataTable['output_type'] = 'display_data';\n",
              "          await google.colab.output.renderOutput(dataTable, element);\n",
              "          const docLink = document.createElement('div');\n",
              "          docLink.innerHTML = docLinkHtml;\n",
              "          element.appendChild(docLink);\n",
              "        }\n",
              "      </script>\n",
              "    </div>\n",
              "  </div>\n",
              "  "
            ]
          },
          "metadata": {},
          "execution_count": 101
        }
      ]
    },
    {
      "cell_type": "code",
      "source": [
        "plot_distribution(data_independent)"
      ],
      "metadata": {
        "colab": {
          "base_uri": "https://localhost:8080/",
          "height": 553
        },
        "id": "KXe9_cfuvjRT",
        "outputId": "5262a5e4-3167-4627-9e65-c994a16e650e"
      },
      "execution_count": 102,
      "outputs": [
        {
          "output_type": "display_data",
          "data": {
            "text/plain": [
              "<Figure size 648x648 with 2 Axes>"
            ],
            "image/png": "[encoded data removed]"
          },
          "metadata": {
            "needs_background": "light"
          }
        }
      ]
    },
    {
      "cell_type": "code",
      "source": [
        "test_set_2_shape = dataGenerator(data_independent, \"sign_shape\")\n",
        "test_set_2_shape = test_set_2_shape.generating_data_from_dataframe(test_set_2_shape.data, to_grayscale)"
      ],
      "metadata": {
        "colab": {
          "base_uri": "https://localhost:8080/"
        },
        "id": "XgFmbOJPwEPG",
        "outputId": "56c07840-2a08-4a30-f813-73c4de6eac60"
      },
      "execution_count": 159,
      "outputs": [
        {
          "output_type": "stream",
          "name": "stdout",
          "text": [
            "Found 135 validated image filenames belonging to 5 classes.\n"
          ]
        }
      ]
    },
    {
      "cell_type": "code",
      "source": [
        "test_set_2_type = dataGenerator(data_independent, \"sign_type\")\n",
        "test_set_2_type = test_set_2_type.generating_data_from_dataframe(test_set_2_type.data, to_grayscale)"
      ],
      "metadata": {
        "colab": {
          "base_uri": "https://localhost:8080/"
        },
        "id": "O9Pp66oqxBzo",
        "outputId": "f8e2f37f-0f27-4818-ebb1-b615ffcd7416"
      },
      "execution_count": 160,
      "outputs": [
        {
          "output_type": "stream",
          "name": "stdout",
          "text": [
            "Found 135 validated image filenames belonging to 16 classes.\n"
          ]
        }
      ]
    },
    {
      "cell_type": "code",
      "source": [
        "LeNet_Model = keras.models.load_model('/content/gdrive/MyDrive/COSC2673_2110/LeNet_model')"
      ],
      "metadata": {
        "id": "yO0vOiAu1rpA"
      },
      "execution_count": 162,
      "outputs": []
    },
    {
      "cell_type": "code",
      "source": [
        "prediction = LeNet_Model.predict(test_set_2_shape)\n",
        "predict_class = []\n",
        "for item in np.round(prediction):\n",
        "    predict_class.append(list(item).index(max(item)))\n",
        "true_class = [int(f) for f in list(data_independent.sign_shape)]"
      ],
      "metadata": {
        "colab": {
          "base_uri": "https://localhost:8080/"
        },
        "id": "b6SwnWtE2VxT",
        "outputId": "246bd40a-3226-414a-ad6d-4787cdf36689"
      },
      "execution_count": 188,
      "outputs": [
        {
          "output_type": "stream",
          "name": "stdout",
          "text": [
            "[0, 2, 3, 3, 4, 2, 2, 2, 0, 2, 3, 2, 2, 4, 2, 2, 3, 2, 2, 3, 2, 4, 0, 3, 0, 2, 2, 0, 1, 0, 4, 2, 4, 4, 2, 2, 2, 2, 2, 2, 1, 0, 4, 2, 2, 3, 2, 0, 1, 2, 2, 4, 2, 2, 0, 2, 0, 2, 2, 2, 3, 1, 3, 3, 0, 2, 2, 2, 2, 0, 3, 2, 3, 2, 4, 0, 0, 2, 0, 2, 0, 3, 0, 0, 4, 1, 2, 4, 2, 2, 4, 4, 2, 1, 0, 2, 2, 2, 0, 3, 2, 2, 2, 3, 2, 2, 3, 2, 2, 2, 2, 2, 2, 2, 2, 3, 2, 2, 1, 2, 2, 3, 2, 4, 0, 2, 0, 2, 2, 4, 2, 2, 2, 2, 2]\n"
          ]
        }
      ]
    },
    {
      "cell_type": "code",
      "source": [
        ""
      ],
      "metadata": {
        "colab": {
          "base_uri": "https://localhost:8080/"
        },
        "id": "hmjExDZb8Nqj",
        "outputId": "21c5ebd9-011a-4a06-9548-eb3538f762f6"
      },
      "execution_count": 181,
      "outputs": [
        {
          "output_type": "stream",
          "name": "stdout",
          "text": [
            "[0, 0, 0, 0, 0, 0, 0, 0, 0, 0, 0, 0, 0, 0, 0, 0, 0, 0, 0, 0, 0, 0, 0, 0, 0, 0, 0, 0, 0, 0, 4, 4, 4, 4, 4, 4, 4, 4, 4, 4, 4, 4, 4, 3, 3, 3, 3, 3, 3, 3, 3, 3, 3, 3, 3, 3, 1, 1, 1, 1, 1, 1, 1, 1, 1, 1, 1, 1, 1, 1, 1, 2, 2, 2, 2, 2, 2, 2, 2, 2, 2, 2, 2, 2, 2, 2, 2, 2, 2, 2, 2, 2, 2, 2, 2, 2, 2, 2, 2, 2, 2, 2, 2, 2, 2, 2, 2, 2, 2, 2, 2, 2, 2, 2, 2, 2, 2, 2, 2, 2, 2, 2, 2, 2, 2, 2, 2, 2, 2, 2, 2, 2, 2, 2, 2]\n"
          ]
        }
      ]
    },
    {
      "cell_type": "code",
      "source": [
        "from sklearn.metrics import confusion_matrix\n",
        "import seaborn as sns\n",
        "\n",
        "cm = confusion_matrix(true_class, predict_class)\n",
        "\n",
        "cm_df = pd.DataFrame(cm,\n",
        "                     index = ['diamond','hex','round', 'square', 'triangle'], \n",
        "                     columns = ['diamond','hex','round', 'square', 'triangle'])\n",
        "\n",
        "#Plotting the confusion matrix\n",
        "plt.figure(figsize=(6,6))\n",
        "sns.heatmap(cm_df, annot=True)\n",
        "plt.title('Confusion Matrix')\n",
        "plt.ylabel('Actal Values')\n",
        "plt.xlabel('Predicted Values')\n",
        "plt.show()\n"
      ],
      "metadata": {
        "colab": {
          "base_uri": "https://localhost:8080/",
          "height": 404
        },
        "id": "lfG1pdvQ_xKg",
        "outputId": "891b6a47-d6fc-4f86-fab5-16597fedf804"
      },
      "execution_count": 197,
      "outputs": [
        {
          "output_type": "display_data",
          "data": {
            "text/plain": [
              "<Figure size 432x432 with 2 Axes>"
            ],
            "image/png": "[encoded data removed]"
          },
          "metadata": {
            "needs_background": "light"
          }
        }
      ]
    },
    {
      "cell_type": "markdown",
      "metadata": {
        "id": "YWP58jkMhz1v"
      },
      "source": [
        "https://keras.io/guides/keras_tuner/getting_started/\n",
        "\n",
        "https://keras.io/keras_tuner/\n",
        "\n",
        "https://keras.io/guides/keras_tuner/visualize_tuning/\n",
        "\n",
        "https://www.tensorflow.org/tutorials/keras/keras_tuner\n",
        "\n",
        "Hoang check links for documentation on tuner"
      ]
    }
  ],
  "metadata": {
    "colab": {
      "collapsed_sections": [
        "2-yqtLTndlyN",
        "kku2i_743aCE",
        "X68r3PFB3jxf",
        "q4iQEmsE0x0G",
        "U2GJfTEFdtqx",
        "VOBWbgX3yIYa",
        "VhsFtXY04CNX",
        "jCPmkOqGCvxZ",
        "wSRumg1Ospx9",
        "WeDa3CECzUdZ"
      ],
      "name": "Traffic_Sign_Image_Recognition.ipynb",
      "provenance": [],
      "toc_visible": true
    },
    "kernelspec": {
      "display_name": "Python 3",
      "name": "python3"
    },
    "language_info": {
      "name": "python"
    }
  },
  "nbformat": 4,
  "nbformat_minor": 0
}