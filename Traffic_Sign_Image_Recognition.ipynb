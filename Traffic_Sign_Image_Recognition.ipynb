{
  "nbformat": 4,
  "nbformat_minor": 0,
  "metadata": {
    "colab": {
      "name": "Traffic_Sign_Image_Recognition.ipynb",
      "provenance": [],
      "collapsed_sections": []
    },
    "kernelspec": {
      "name": "python3",
      "display_name": "Python 3"
    },
    "language_info": {
      "name": "python"
    }
  },
  "cells": [
    {
      "cell_type": "code",
      "execution_count": null,
      "metadata": {
        "id": "i2HCtApQz2te",
        "colab": {
          "base_uri": "https://localhost:8080/",
          "height": 373
        },
        "outputId": "c7cde7db-6f1f-4a9f-af31-780333a276bc"
      },
      "outputs": [
        {
          "output_type": "error",
          "ename": "ModuleNotFoundError",
          "evalue": "ignored",
          "traceback": [
            "\u001b[0;31m---------------------------------------------------------------------------\u001b[0m",
            "\u001b[0;31mModuleNotFoundError\u001b[0m                       Traceback (most recent call last)",
            "\u001b[0;32m<ipython-input-3-8691bc4e92ca>\u001b[0m in \u001b[0;36m<module>\u001b[0;34m()\u001b[0m\n\u001b[1;32m     14\u001b[0m \u001b[0;32mfrom\u001b[0m \u001b[0mkeras\u001b[0m\u001b[0;34m.\u001b[0m\u001b[0mlayers\u001b[0m\u001b[0;34m.\u001b[0m\u001b[0mcore\u001b[0m \u001b[0;32mimport\u001b[0m \u001b[0mDense\u001b[0m\u001b[0;34m,\u001b[0m \u001b[0mFlatten\u001b[0m\u001b[0;34m\u001b[0m\u001b[0;34m\u001b[0m\u001b[0m\n\u001b[1;32m     15\u001b[0m \u001b[0;32mfrom\u001b[0m \u001b[0mkeras\u001b[0m\u001b[0;34m.\u001b[0m\u001b[0mmodels\u001b[0m \u001b[0;32mimport\u001b[0m \u001b[0mSequential\u001b[0m\u001b[0;34m,\u001b[0m \u001b[0mModel\u001b[0m\u001b[0;34m\u001b[0m\u001b[0;34m\u001b[0m\u001b[0m\n\u001b[0;32m---> 16\u001b[0;31m \u001b[0;32mimport\u001b[0m \u001b[0mkeras_tuner\u001b[0m \u001b[0;32mas\u001b[0m \u001b[0mkt\u001b[0m\u001b[0;34m\u001b[0m\u001b[0;34m\u001b[0m\u001b[0m\n\u001b[0m\u001b[1;32m     17\u001b[0m \u001b[0;34m\u001b[0m\u001b[0m\n\u001b[1;32m     18\u001b[0m \u001b[0;32mfrom\u001b[0m \u001b[0msklearn\u001b[0m\u001b[0;34m.\u001b[0m\u001b[0mpreprocessing\u001b[0m \u001b[0;32mimport\u001b[0m \u001b[0mLabelEncoder\u001b[0m\u001b[0;34m\u001b[0m\u001b[0;34m\u001b[0m\u001b[0m\n",
            "\u001b[0;31mModuleNotFoundError\u001b[0m: No module named 'keras_tuner'",
            "",
            "\u001b[0;31m---------------------------------------------------------------------------\u001b[0;32m\nNOTE: If your import is failing due to a missing package, you can\nmanually install dependencies using either !pip or !apt.\n\nTo view examples of installing some common dependencies, click the\n\"Open Examples\" button below.\n\u001b[0;31m---------------------------------------------------------------------------\u001b[0m\n"
          ],
          "errorDetails": {
            "actions": [
              {
                "action": "open_url",
                "actionText": "Open Examples",
                "url": "/notebooks/snippets/importing_libraries.ipynb"
              }
            ]
          }
        }
      ],
      "source": [
        "import matplotlib.pyplot as plt\n",
        "import numpy as np\n",
        "import pandas as pd\n",
        "import tensorflow as tf\n",
        "from tensorflow import keras\n",
        "from tensorflow.keras.preprocessing.image import ImageDataGenerator\n",
        "\n",
        "AUTOTUNE = tf.data.experimental.AUTOTUNE\n",
        "from PIL import Image\n",
        "import os\n",
        "import glob\n",
        "from keras import layers, Input\n",
        "from keras.layers import InputLayer\n",
        "from keras.layers.core import Dense, Flatten\n",
        "from keras.models import Sequential, Model\n",
        "import keras_tuner as kt\n",
        "\n",
        "from sklearn.preprocessing import LabelEncoder\n",
        "from sklearn.model_selection import train_test_split\n",
        "\n",
        "tf.__version__"
      ]
    },
    {
      "cell_type": "code",
      "source": [
        "# Before using the data need to upload on to drive\n",
        "# This file will be deleted at the end of the session\n",
        "# Go to file on left hand side of the screen then upload file (Can upload the file to root easier access)\n",
        "# File extracted will be saved in content\n",
        "from zipfile import ZipFile\n",
        "file_name = '/trafficsigns_dataset.zip'\n",
        "\n",
        "with ZipFile(file_name, 'r') as zip:\n",
        "  zip.extractall()\n",
        "  print('Done')"
      ],
      "metadata": {
        "colab": {
          "base_uri": "https://localhost:8080/"
        },
        "id": "uIvUi4F2gHLB",
        "outputId": "b3d6745a-06d1-4147-b763-d372a17a0910"
      },
      "execution_count": null,
      "outputs": [
        {
          "output_type": "stream",
          "name": "stdout",
          "text": [
            "Done\n"
          ]
        }
      ]
    },
    {
      "cell_type": "code",
      "source": [
        "# This is just to test if image is loaded correctly\n",
        "import random\n",
        "\n",
        "import matplotlib.image as mpimg\n",
        "\n",
        "plt.figure(figsize=(20,20))\n",
        "test_folder=r'/content/trafficsigns_dataset/diamond/rightofway'\n",
        "for i in range(5):                                                    # Randomly loaded 5 images\n",
        "    file = random.choice(os.listdir(test_folder))\n",
        "    image_path= os.path.join(test_folder, file)\n",
        "    img=mpimg.imread(image_path)\n",
        "    ax=plt.subplot(1,5,i+1)\n",
        "    ax.title.set_text(file)\n",
        "    plt.imshow(img, cmap = 'gray')"
      ],
      "metadata": {
        "id": "YzK32-P6gHNq",
        "colab": {
          "base_uri": "https://localhost:8080/",
          "height": 248
        },
        "outputId": "88a24609-0eae-47ad-def0-c12681550230"
      },
      "execution_count": null,
      "outputs": [
        {
          "output_type": "display_data",
          "data": {
            "text/plain": [
              "<Figure size 1440x1440 with 5 Axes>"
            ],
            "image/png": "[encoded data removed]"
          },
          "metadata": {
            "needs_background": "light"
          }
        }
      ]
    },
    {
      "cell_type": "code",
      "source": [
        "# class DatasetReader:\n",
        "#     def __init__(self, image_folder):\n",
        "#         self.image_folder = image_folder\n",
        "#         self.shapeImageFeatures = []                          # Features of the shape image\n",
        "#         self.shapeClassName = []                              # Shape class name \n",
        "#         self.shapeClassNameEncoderDictionary = []             # Shape class name dictionary \n",
        "#         self.signImageFeatures = []                           # Features of the sign image\n",
        "#         self.signClassName = []                               # Sign class name \n",
        "#         self.signClassNameEncoderDictionary = []              # Sign class name dictionary\n",
        "\n",
        "#     def create_shape_dataset(self):\n",
        "#         for dir1 in os.listdir(self.image_folder):\n",
        "#             if not (dir1.startswith('.') or dir1.endswith('.txt')):\n",
        "#                 for dir2 in os.listdir(os.path.join(self.image_folder, dir1)):            # Each of the directory has a sub directory\n",
        "#                     if not (dir2.startswith('.') or dir2.endswith('.txt')):\n",
        "#                         for file in os.listdir(os.path.join(self.image_folder, dir1, dir2)):\n",
        "#                             if not file.startswith('.'):\n",
        "#                                 image_path = os.path.join(self.image_folder, dir1, dir2, file)\n",
        "#                                 image = keras.preprocessing.image.load_img(image_path)\n",
        "#                                 image = keras.preprocessing.image.img_to_array(image)\n",
        "#                                 image = image.astype('float32')\n",
        "#                                 # image /= 28\n",
        "#                                 self.shapeImageFeatures.append(image)\n",
        "#                                 self.shapeClassName.append(dir1)\n",
        "#                                 self.signImageFeatures.append(image)\n",
        "#                                 self.signClassName.append(dir2)\n",
        "    \n",
        "#     def label_encoder(self):\n",
        "#       self.shapeClassNameEncoderDictionary = {k: v for v, k in enumerate(np.unique(self.shapeClassName))}\n",
        "#       self.signClassNameEncoderDictionary = {k: v for v, k in enumerate(np.unique(self.signClassName))}\n",
        "#       self.shapeClassName = [self.shapeClassNameEncoderDictionary[self.shapeClassName[i]] for i in range(len(self.shapeClassName))]\n",
        "#       self.signClassName = [self.signClassNameEncoderDictionary[self.signClassName[i]] for i in range(len(self.signClassName))]\n",
        "\n",
        "    \n"
      ],
      "metadata": {
        "id": "-AoosKyQgHQJ"
      },
      "execution_count": null,
      "outputs": []
    },
    {
      "cell_type": "code",
      "source": [
        "# imageDataReader = DatasetReader(\"/content/trafficsigns_dataset\")\n",
        "# imageDataReader.create_shape_dataset()\n",
        "# imageDataReader.label_encoder()\n",
        "# print(f\"This is the number shape features: {len(imageDataReader.shapeImageFeatures)}\")\n",
        "# print(f\"This is the number shape label: {len(imageDataReader.shapeClassName)}\")\n",
        "# print(f\"This is the number sign features:  {len(imageDataReader.signClassName)}\")\n",
        "# print(f\"This is the number sign label:  {len(imageDataReader.signClassName)}\")"
      ],
      "metadata": {
        "id": "5K8cvE4mgHSl",
        "colab": {
          "base_uri": "https://localhost:8080/"
        },
        "outputId": "457d4ae2-2447-47d6-9818-5ec68efba3fd"
      },
      "execution_count": null,
      "outputs": [
        {
          "output_type": "stream",
          "name": "stdout",
          "text": [
            "This is the number shape features: 3699\n",
            "This is the number shape label: 3699\n",
            "This is the number sign features:  3699\n",
            "This is the number sign label:  3699\n"
          ]
        }
      ]
    },
    {
      "cell_type": "markdown",
      "source": [
        "# **1. Data Preparation**\n",
        "**Labeling data by its shape ans type**\n",
        "\n",
        "Data will be stored in a dataframe which has image path, shape and type as columns"
      ],
      "metadata": {
        "id": "L7s7dIgSUv6B"
      }
    },
    {
      "cell_type": "code",
      "source": [
        "image_list = []\n",
        "\n",
        "for filepath in glob.glob('./trafficsigns_dataset/*/*/*.png', recursive=True):\n",
        "    sign_shape = filepath.split('\\\\')[1]\n",
        "    sign_type = filepath.split('\\\\')[2]\n",
        "    image_list.append((filepath, sign_shape, sign_type ))\n",
        "    \n",
        "    \n",
        "# create a dataframe\n",
        "data = pd.DataFrame(data= image_list, columns=[\"image_path\", 'sign_shape','sign_type'])\n",
        "    "
      ],
      "metadata": {
        "id": "TDedbPXcVIDN"
      },
      "execution_count": null,
      "outputs": []
    },
    {
      "cell_type": "code",
      "source": [
        "# inspecting the dataframe\n",
        "data.head()"
      ],
      "metadata": {
        "id": "SkDlXfUDVLXa"
      },
      "execution_count": null,
      "outputs": []
    },
    {
      "cell_type": "code",
      "source": [
        "# data shape\n",
        "data.shape"
      ],
      "metadata": {
        "id": "B_wAoGZrVNro"
      },
      "execution_count": null,
      "outputs": []
    },
    {
      "cell_type": "code",
      "source": [
        "print(\"numbers of shape:\", len(data.sign_shape.unique()))\n",
        "data.sign_shape.unique()"
      ],
      "metadata": {
        "id": "AHeGow_iVeKu"
      },
      "execution_count": null,
      "outputs": []
    },
    {
      "cell_type": "code",
      "source": [
        "print(\"numbers of type:\", len(data.sign_type.unique()))\n",
        "data.sign_type.unique()"
      ],
      "metadata": {
        "id": "oF-b3K3SVgMx"
      },
      "execution_count": null,
      "outputs": []
    },
    {
      "cell_type": "markdown",
      "source": [
        "**Labels encoding**\n",
        "\n",
        "Using label encoder from sklearn to transform label into integer"
      ],
      "metadata": {
        "id": "2tXLw9i-Vlnn"
      }
    },
    {
      "cell_type": "code",
      "source": [
        "labelEncoder = LabelEncoder()\n",
        "data.sign_shape = labelEncoder.fit_transform(data.sign_shape)\n",
        "data.sign_type = labelEncoder.fit_transform(data.sign_type)"
      ],
      "metadata": {
        "id": "sPs2Cyn6Vv72"
      },
      "execution_count": null,
      "outputs": []
    },
    {
      "cell_type": "code",
      "source": [
        "# inspecting the changes\n",
        "data.head()"
      ],
      "metadata": {
        "id": "zYhZDULxVykQ"
      },
      "execution_count": null,
      "outputs": []
    },
    {
      "cell_type": "markdown",
      "source": [
        "**Distributions of shape and type**"
      ],
      "metadata": {
        "id": "Ny6FEkNtV-An"
      }
    },
    {
      "cell_type": "code",
      "source": [
        "plt.figure(figsize=(9,9))\n",
        "for i in range(1,3):\n",
        "    plt.subplot(2,1,i)\n",
        "    data.iloc[:, i].sort_values().astype(str).hist()\n",
        "    txt = \"distribution of \" + data.columns[i]\n",
        "    plt.title(txt)"
      ],
      "metadata": {
        "id": "IlXhzk-dWF-k"
      },
      "execution_count": null,
      "outputs": []
    },
    {
      "cell_type": "markdown",
      "source": [
        "**<u>Observation</u>:**\n",
        "\n",
        " * Data has multiple classes for shape and type of the traffic sign\n",
        " * Class imbalance problem in shape and type <br>\n",
        " * performance measure : F1, log_loss and average accuracy(micro-average)<br>\n",
        "\n",
        "What is the realistic result for performance measure?"
      ],
      "metadata": {
        "id": "NQtSoCQlWI-E"
      }
    },
    {
      "cell_type": "code",
      "source": [
        ""
      ],
      "metadata": {
        "id": "33-GK9EZWUPe"
      },
      "execution_count": null,
      "outputs": []
    },
    {
      "cell_type": "markdown",
      "source": [
        "# **2. Model Development**\n",
        "* Goal:\n",
        "* Setup the experiment:\n",
        "* Baseline Model:\n",
        "* incremental changes:"
      ],
      "metadata": {
        "id": "FqEJMlMIkS5-"
      }
    },
    {
      "cell_type": "code",
      "source": [
        "def plot_learning_curve(train_loss, val_loss, train_metric, val_metric, metric_name='Accuracy'):\n",
        "    plt.figure(figsize=(10,5))\n",
        "    \n",
        "    plt.subplot(1,2,1)\n",
        "    plt.plot(train_loss, 'r--')\n",
        "    plt.plot(val_loss, 'b--')\n",
        "    plt.xlabel(\"epochs\")\n",
        "    plt.ylabel(\"Loss\")\n",
        "    plt.legend(['train', 'val'], loc='upper left')\n",
        "\n",
        "    plt.subplot(1,2,2)\n",
        "    plt.plot(train_metric, 'r--')\n",
        "    plt.plot(val_metric, 'b--')\n",
        "    plt.xlabel(\"epochs\")\n",
        "    plt.ylabel(metric_name)\n",
        "    plt.legend(['train', 'val'], loc='upper left')\n",
        "\n",
        "    plt.show()"
      ],
      "metadata": {
        "id": "RSQ7NHEW2SLh"
      },
      "execution_count": null,
      "outputs": []
    },
    {
      "cell_type": "markdown",
      "source": [
        "## **2.1 Image Data Generator**"
      ],
      "metadata": {
        "id": "lDA5OviDkv6c"
      }
    },
    {
      "cell_type": "markdown",
      "source": [
        "### **2.1.2 Shape**"
      ],
      "metadata": {
        "id": "JobQaCaKwAzR"
      }
    },
    {
      "cell_type": "markdown",
      "source": [
        "Split data into train and validation set"
      ],
      "metadata": {
        "id": "nYgpyxJfjlJd"
      }
    },
    {
      "cell_type": "code",
      "source": [
        "train, validation = train_test_split(data, random_state = 0, test_size=0.2)\n",
        "print(\"Train data : {}\\nVal Data: {}\".format(train.shape[0], validation.shape[0]))"
      ],
      "metadata": {
        "id": "3OAWqJqWjpYD"
      },
      "execution_count": null,
      "outputs": []
    },
    {
      "cell_type": "code",
      "source": [
        "train.loc[:,'sign_shape'] = train.loc[:,'sign_shape'].astype('str')\n",
        "validation.loc[:, 'sign_shape'] = validation.loc[:,'sign_shape'].astype('str')"
      ],
      "metadata": {
        "id": "FRDPpfkbp9Bd"
      },
      "execution_count": null,
      "outputs": []
    },
    {
      "cell_type": "code",
      "source": [
        "\n",
        "train_datagen = ImageDataGenerator(rescale=1./255, data_format='channels_last')\n",
        "val_datagen = ImageDataGenerator(rescale=1./255, data_format='channels_last')\n",
        "batch_size = 32\n",
        "\n",
        "train_shape_generator = train_datagen.flow_from_dataframe(\n",
        "        dataframe=train,\n",
        "        directory='./',\n",
        "        x_col=\"image_path\",\n",
        "        y_col=\"sign_shape\",\n",
        "        target_size=(28, 28),\n",
        "        batch_size=batch_size,\n",
        "        class_mode='categorical')\n",
        "\n",
        "validation_shape_generator = val_datagen.flow_from_dataframe(\n",
        "        dataframe=validation,\n",
        "        directory='./',\n",
        "        x_col=\"image_path\",\n",
        "        y_col=\"sign_shape\",\n",
        "        target_size=(28, 28),\n",
        "        batch_size=batch_size,\n",
        "        class_mode='categorical')"
      ],
      "metadata": {
        "id": "uKC8snUcqAlL"
      },
      "execution_count": null,
      "outputs": []
    },
    {
      "cell_type": "markdown",
      "source": [
        "### **2.1.2 Type**"
      ],
      "metadata": {
        "id": "xkmxfgE-wNVz"
      }
    },
    {
      "cell_type": "code",
      "source": [
        "train, validation = train_test_split(data, random_state = 42, test_size=0.2)\n",
        "print(\"Train data : {}\\nVal Data: {}\".format(train.shape[0], validation.shape[0]))"
      ],
      "metadata": {
        "id": "bzj-NRzzwZNp"
      },
      "execution_count": null,
      "outputs": []
    },
    {
      "cell_type": "code",
      "source": [
        "train.loc[:,'sign_type'] = train.loc[:,'sign_type'].astype('str')\n",
        "validation.loc[:, 'sign_type'] = validation.loc[:,'sign_type'].astype('str')"
      ],
      "metadata": {
        "id": "Wzv7IT81weBq"
      },
      "execution_count": null,
      "outputs": []
    },
    {
      "cell_type": "code",
      "source": [
        "\n",
        "train_datagen = ImageDataGenerator(rescale=1./255, data_format='channels_last')\n",
        "val_datagen = ImageDataGenerator(rescale=1./255, data_format='channels_last')\n",
        "batch_size = 32\n",
        "\n",
        "train_type_generator = train_datagen.flow_from_dataframe(\n",
        "        dataframe=train,\n",
        "        directory='./',\n",
        "        x_col=\"image_path\",\n",
        "        y_col=\"sign_type\",\n",
        "        target_size=(28, 28),\n",
        "        batch_size=batch_size,\n",
        "        class_mode='categorical')\n",
        "\n",
        "validation_type_generator = val_datagen.flow_from_dataframe(\n",
        "        dataframe=validation,\n",
        "        directory='./',\n",
        "        x_col=\"image_path\",\n",
        "        y_col=\"sign_type\",\n",
        "        target_size=(28, 28),\n",
        "        batch_size=batch_size,\n",
        "        class_mode='categorical')"
      ],
      "metadata": {
        "id": "i149tFLqxFN_"
      },
      "execution_count": null,
      "outputs": []
    },
    {
      "cell_type": "markdown",
      "source": [
        "## **2.2 Build Model**"
      ],
      "metadata": {
        "id": "jxWwUgtQyzeO"
      }
    },
    {
      "cell_type": "markdown",
      "source": [
        "### **2.2.1 Neutral Network**"
      ],
      "metadata": {
        "id": "q4iQEmsE0x0G"
      }
    },
    {
      "cell_type": "markdown",
      "source": [
        "Sequential API"
      ],
      "metadata": {
        "id": "qHqTsgKSy-zx"
      }
    },
    {
      "cell_type": "code",
      "source": [
        "INPUT_DM = (28,28,3)\n",
        "NUMBERS_OF_SHAPE = len(data.sign_shape.unique())\n",
        "NUMBERS_OF_SIGN = len(data.sign_type.unique())"
      ],
      "metadata": {
        "id": "YdHF3EbqhrmV"
      },
      "execution_count": null,
      "outputs": []
    },
    {
      "cell_type": "markdown",
      "source": [
        "#### 2.2.1.1 Shape"
      ],
      "metadata": {
        "id": "I2GBQDv51HiU"
      }
    },
    {
      "cell_type": "markdown",
      "source": [
        "#### A. Baseline Model"
      ],
      "metadata": {
        "id": "n_27qSDKzFQY"
      }
    },
    {
      "cell_type": "markdown",
      "source": [
        "**Build Model**"
      ],
      "metadata": {
        "id": "9jsexH6azfgv"
      }
    },
    {
      "cell_type": "code",
      "source": [
        "model = tf.keras.Sequential([\n",
        "    tf.keras.layers.Flatten(input_shape=(28,28,3)),\n",
        "    tf.keras.layers.Dense(32, activation='sigmoid'),\n",
        "    tf.keras.layers.Dense(5)\n",
        "])\n",
        "model.summary()"
      ],
      "metadata": {
        "id": "iejNu1SSzIEA"
      },
      "execution_count": null,
      "outputs": []
    },
    {
      "cell_type": "code",
      "source": [
        "model.compile(optimizer='SGD',\n",
        "              loss=tf.keras.losses.CategoricalCrossentropy(from_logits=True),\n",
        "              metrics=['categorical_accuracy'])"
      ],
      "metadata": {
        "id": "IJObJ7znzPj_"
      },
      "execution_count": null,
      "outputs": []
    },
    {
      "cell_type": "markdown",
      "source": [
        "**Train model**"
      ],
      "metadata": {
        "id": "TovDWF4wzUzD"
      }
    },
    {
      "cell_type": "code",
      "source": [
        "history = model.fit_generator(train_shape_generator, validation_data = validation_shape_generator, epochs=50, verbose=0)"
      ],
      "metadata": {
        "id": "lkOm-W3Uztc3"
      },
      "execution_count": null,
      "outputs": []
    },
    {
      "cell_type": "code",
      "source": [
        "plot_learning_curve(history.history['loss'], history.history['val_loss'], \n",
        "                    history.history['categorical_accuracy'], history.history['val_categorical_accuracy'], \n",
        "                    metric_name='Accuracy')"
      ],
      "metadata": {
        "id": "QZZYm-bf2rXn"
      },
      "execution_count": null,
      "outputs": []
    },
    {
      "cell_type": "markdown",
      "source": [
        "#### A. Baseline Model"
      ],
      "metadata": {
        "id": "KlTDDshZg4yS"
      }
    },
    {
      "cell_type": "code",
      "source": [
        "def parameters( layer, units, activation, dropout, learningRate, numbers_of_label):\n",
        "    model = keras.Sequential([tf.keras.layers.Flatten(input_shape=INPUT_DM)])\n",
        "    # Tune the number of layers\n",
        "    for i in range(layer):\n",
        "        model.add(layers.Dense(units=units, activation=activation))\n",
        "    # tune dropout  \n",
        "    if dropout:\n",
        "        model.add(layers.Dropout(rate=0.3))\n",
        "    # output layer\n",
        "    model.add(layers.Dense(numbers_of_label, activation='softmax'))\n",
        "    # loss function $ learning rate\n",
        "    model.compile(optimizer=keras.optimizers.Adam(learning_rate=learningRate),\n",
        "                 loss='CategoricalCrossentropy',\n",
        "                 metrics=['categorical_accuracy'])\n",
        "    return model\n",
        "\n",
        "# pass through arguments\n",
        "def build_model(hp):\n",
        "    layer = hp.Int(\"num_layers\", 1, 3)\n",
        "    units = hp.Int(\"units\", min_value=16, max_value=512, step=15)\n",
        "    activation = hp.Choice('activation', ['relu', 'tanh', 'elu', 'sigmoid'])\n",
        "    dropout = hp.Boolean('dropout')\n",
        "    learningRate = hp.Float('lr', min_value=1e-4, max_value=1e-2, sampling='log')\n",
        "    numbers_of_label=NUMBERS_OF_SHAPE\n",
        "    model = parameters( layer=layer, units= units, activation=activation,dropout=dropout,\n",
        "                      learningRate=learningRate, numbers_of_label=numbers_of_label)   \n",
        "    return model\n",
        "\n",
        "\n",
        "build_model(kt.HyperParameters())"
      ],
      "metadata": {
        "id": "2cuS4K2Mg-c8"
      },
      "execution_count": null,
      "outputs": []
    },
    {
      "cell_type": "markdown",
      "source": [
        "Search for"
      ],
      "metadata": {
        "id": "AwzApt0MpmLV"
      }
    },
    {
      "cell_type": "code",
      "source": [
        "tuner = kt.BayesianOptimization(\n",
        "    hypermodel=build_model,\n",
        "    objective=\"val_categorical_accuracy\",\n",
        "    max_trials=4,\n",
        "    executions_per_trial=3,\n",
        "    overwrite=True,\n",
        "    directory=\"my_dir\",\n",
        "    project_name=\"helloworld\",\n",
        ")"
      ],
      "metadata": {
        "id": "ouUUJb_AhEHh"
      },
      "execution_count": null,
      "outputs": []
    },
    {
      "cell_type": "code",
      "source": [
        "tuner.search_space_summary()"
      ],
      "metadata": {
        "id": "ikhwaPm8hEwx"
      },
      "execution_count": null,
      "outputs": []
    },
    {
      "cell_type": "code",
      "source": [
        "tuner.search(train_shape_generator, epochs=2, validation_data=validation_shape_generator)"
      ],
      "metadata": {
        "id": "nmIRxbTZhNkD"
      },
      "execution_count": null,
      "outputs": []
    },
    {
      "cell_type": "code",
      "source": [
        "best_model = tuner.get_best_models()[0]\n",
        "best_hp = tuner.get_best_hyperparameters()[0]"
      ],
      "metadata": {
        "id": "-9fgv5-ChObp"
      },
      "execution_count": null,
      "outputs": []
    },
    {
      "cell_type": "code",
      "source": [
        "best_model.build(input_shape=(None, 28, 28))\n",
        "best_model.summary()"
      ],
      "metadata": {
        "id": "V_bQ-KP7hRnv"
      },
      "execution_count": null,
      "outputs": []
    },
    {
      "cell_type": "markdown",
      "source": [
        "#### 2.2.1.1 Type"
      ],
      "metadata": {
        "id": "RuPkVPMS3A8_"
      }
    },
    {
      "cell_type": "markdown",
      "source": [
        "https://keras.io/guides/keras_tuner/getting_started/\n",
        "\n",
        "https://keras.io/keras_tuner/\n",
        "\n",
        "Hoang check links for documentation on tuner"
      ],
      "metadata": {
        "id": "YWP58jkMhz1v"
      }
    }
  ]
}